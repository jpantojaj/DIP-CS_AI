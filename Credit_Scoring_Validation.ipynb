{
  "nbformat": 4,
  "nbformat_minor": 0,
  "metadata": {
    "colab": {
      "provenance": [],
      "authorship_tag": "ABX9TyNnaULATlR1FRwq1IdcwNGL",
      "include_colab_link": true
    },
    "kernelspec": {
      "name": "python3",
      "display_name": "Python 3"
    },
    "language_info": {
      "name": "python"
    }
  },
  "cells": [
    {
      "cell_type": "markdown",
      "metadata": {
        "id": "view-in-github",
        "colab_type": "text"
      },
      "source": [
        "<a href=\"https://colab.research.google.com/github/jpantojaj/DIP-CS_AI/blob/main/Credit_Scoring_Validation.ipynb\" target=\"_parent\"><img src=\"https://colab.research.google.com/assets/colab-badge.svg\" alt=\"Open In Colab\"/></a>"
      ]
    },
    {
      "cell_type": "markdown",
      "source": [
        "## **1. Carga Inicial de Librerías**"
      ],
      "metadata": {
        "id": "zI3iXigKpwZb"
      }
    },
    {
      "cell_type": "code",
      "source": [
        "import pandas as pd\n",
        "import numpy as np\n",
        "import sklearn\n",
        "import seaborn as sns\n",
        "import matplotlib.pyplot as plt\n",
        "import math\n",
        "from scipy import stats\n",
        "import warnings\n",
        "warnings.filterwarnings('ignore')\n",
        "\n",
        "from sklearn.pipeline import Pipeline"
      ],
      "metadata": {
        "id": "NFsketvJp-QH"
      },
      "execution_count": 1,
      "outputs": []
    },
    {
      "cell_type": "markdown",
      "source": [
        "## **2. Carga y Análisis inicial de datos**"
      ],
      "metadata": {
        "id": "XbZVo-lUqEh_"
      }
    },
    {
      "cell_type": "code",
      "source": [
        "df_val = pd.read_csv('Base_SolicitudesCreditoEfectivo_Val.csv', sep = \",\")\n",
        "df_val.head()"
      ],
      "metadata": {
        "colab": {
          "base_uri": "https://localhost:8080/",
          "height": 290
        },
        "id": "iAu9hUrUqAyC",
        "outputId": "049e5afd-77a3-4d2e-92cf-da6009fbfe5b"
      },
      "execution_count": 2,
      "outputs": [
        {
          "output_type": "execute_result",
          "data": {
            "text/plain": [
              "   CODMES  CODSOLICITUD        DEUDA  PLAZO_CREDITO  FLG_GARANTIA  \\\n",
              "0  201504         27073  2532.525833             48             0   \n",
              "1  201311          8037  3044.511917             12             0   \n",
              "2  201404           841  1347.129167             36             0   \n",
              "3  201406         14861  4437.308561             36             0   \n",
              "4  201406         13694  2691.641667             36             0   \n",
              "\n",
              "   MIN_MES_DE_DEFAULT           SEGMENTOCLIENTE  TARJETA_RELACIONADA  \\\n",
              "0                 NaN              CLIENTES ORO                    0   \n",
              "1                 NaN  CLIENTES PLATINUM SEGM 2                    1   \n",
              "2                 NaN              CLIENTES ORO                    1   \n",
              "3                 NaN              CLIENTES ORO                    0   \n",
              "4                 NaN              CLIENTES ORO                    0   \n",
              "\n",
              "   VEHICULAR_RELACIONADA  HIPOTECARIO_RELACIONADA  ...       PROFESION  \\\n",
              "0                      0                        0  ...        CONTADOR   \n",
              "1                      0                        0  ...  OTROS MEDICINA   \n",
              "2                      0                        0  ...         TECNICO   \n",
              "3                      0                        0  ...         TECNICO   \n",
              "4                      0                        0  ...         TECNICO   \n",
              "\n",
              "   ZONA_DEL_DESEMBOLSO  ESTADO_CIVIL  EDAD_T        CUOTA  LINEA_DE_TC  \\\n",
              "0           SAN_MARTIN           SOL    30.0     0.000000       6133.0   \n",
              "1         LIMA_MODERNA           VIU    68.0  1791.355242      84120.0   \n",
              "2               ANCASH           SOL    42.0   270.484368      13300.0   \n",
              "3               ANCASH           SOL    35.0   418.320693       9015.0   \n",
              "4                JUNIN           CON    28.0     0.000000       2651.0   \n",
              "\n",
              "   MONTO_TC_MEMBRESIA  FLG_TC_VISA  FLG_TC_MC  FLG_DEFAULT_12M  \n",
              "0               114.0          1.0        1.0                0  \n",
              "1               350.0          0.0        0.0                0  \n",
              "2                80.0          0.0        0.0                0  \n",
              "3               102.0          1.0        1.0                0  \n",
              "4               105.0          1.0        1.0                0  \n",
              "\n",
              "[5 rows x 31 columns]"
            ],
            "text/html": [
              "\n",
              "  <div id=\"df-ccd24401-a1e3-412f-9710-8626a846c1f0\" class=\"colab-df-container\">\n",
              "    <div>\n",
              "<style scoped>\n",
              "    .dataframe tbody tr th:only-of-type {\n",
              "        vertical-align: middle;\n",
              "    }\n",
              "\n",
              "    .dataframe tbody tr th {\n",
              "        vertical-align: top;\n",
              "    }\n",
              "\n",
              "    .dataframe thead th {\n",
              "        text-align: right;\n",
              "    }\n",
              "</style>\n",
              "<table border=\"1\" class=\"dataframe\">\n",
              "  <thead>\n",
              "    <tr style=\"text-align: right;\">\n",
              "      <th></th>\n",
              "      <th>CODMES</th>\n",
              "      <th>CODSOLICITUD</th>\n",
              "      <th>DEUDA</th>\n",
              "      <th>PLAZO_CREDITO</th>\n",
              "      <th>FLG_GARANTIA</th>\n",
              "      <th>MIN_MES_DE_DEFAULT</th>\n",
              "      <th>SEGMENTOCLIENTE</th>\n",
              "      <th>TARJETA_RELACIONADA</th>\n",
              "      <th>VEHICULAR_RELACIONADA</th>\n",
              "      <th>HIPOTECARIO_RELACIONADA</th>\n",
              "      <th>...</th>\n",
              "      <th>PROFESION</th>\n",
              "      <th>ZONA_DEL_DESEMBOLSO</th>\n",
              "      <th>ESTADO_CIVIL</th>\n",
              "      <th>EDAD_T</th>\n",
              "      <th>CUOTA</th>\n",
              "      <th>LINEA_DE_TC</th>\n",
              "      <th>MONTO_TC_MEMBRESIA</th>\n",
              "      <th>FLG_TC_VISA</th>\n",
              "      <th>FLG_TC_MC</th>\n",
              "      <th>FLG_DEFAULT_12M</th>\n",
              "    </tr>\n",
              "  </thead>\n",
              "  <tbody>\n",
              "    <tr>\n",
              "      <th>0</th>\n",
              "      <td>201504</td>\n",
              "      <td>27073</td>\n",
              "      <td>2532.525833</td>\n",
              "      <td>48</td>\n",
              "      <td>0</td>\n",
              "      <td>NaN</td>\n",
              "      <td>CLIENTES ORO</td>\n",
              "      <td>0</td>\n",
              "      <td>0</td>\n",
              "      <td>0</td>\n",
              "      <td>...</td>\n",
              "      <td>CONTADOR</td>\n",
              "      <td>SAN_MARTIN</td>\n",
              "      <td>SOL</td>\n",
              "      <td>30.0</td>\n",
              "      <td>0.000000</td>\n",
              "      <td>6133.0</td>\n",
              "      <td>114.0</td>\n",
              "      <td>1.0</td>\n",
              "      <td>1.0</td>\n",
              "      <td>0</td>\n",
              "    </tr>\n",
              "    <tr>\n",
              "      <th>1</th>\n",
              "      <td>201311</td>\n",
              "      <td>8037</td>\n",
              "      <td>3044.511917</td>\n",
              "      <td>12</td>\n",
              "      <td>0</td>\n",
              "      <td>NaN</td>\n",
              "      <td>CLIENTES PLATINUM SEGM 2</td>\n",
              "      <td>1</td>\n",
              "      <td>0</td>\n",
              "      <td>0</td>\n",
              "      <td>...</td>\n",
              "      <td>OTROS MEDICINA</td>\n",
              "      <td>LIMA_MODERNA</td>\n",
              "      <td>VIU</td>\n",
              "      <td>68.0</td>\n",
              "      <td>1791.355242</td>\n",
              "      <td>84120.0</td>\n",
              "      <td>350.0</td>\n",
              "      <td>0.0</td>\n",
              "      <td>0.0</td>\n",
              "      <td>0</td>\n",
              "    </tr>\n",
              "    <tr>\n",
              "      <th>2</th>\n",
              "      <td>201404</td>\n",
              "      <td>841</td>\n",
              "      <td>1347.129167</td>\n",
              "      <td>36</td>\n",
              "      <td>0</td>\n",
              "      <td>NaN</td>\n",
              "      <td>CLIENTES ORO</td>\n",
              "      <td>1</td>\n",
              "      <td>0</td>\n",
              "      <td>0</td>\n",
              "      <td>...</td>\n",
              "      <td>TECNICO</td>\n",
              "      <td>ANCASH</td>\n",
              "      <td>SOL</td>\n",
              "      <td>42.0</td>\n",
              "      <td>270.484368</td>\n",
              "      <td>13300.0</td>\n",
              "      <td>80.0</td>\n",
              "      <td>0.0</td>\n",
              "      <td>0.0</td>\n",
              "      <td>0</td>\n",
              "    </tr>\n",
              "    <tr>\n",
              "      <th>3</th>\n",
              "      <td>201406</td>\n",
              "      <td>14861</td>\n",
              "      <td>4437.308561</td>\n",
              "      <td>36</td>\n",
              "      <td>0</td>\n",
              "      <td>NaN</td>\n",
              "      <td>CLIENTES ORO</td>\n",
              "      <td>0</td>\n",
              "      <td>0</td>\n",
              "      <td>0</td>\n",
              "      <td>...</td>\n",
              "      <td>TECNICO</td>\n",
              "      <td>ANCASH</td>\n",
              "      <td>SOL</td>\n",
              "      <td>35.0</td>\n",
              "      <td>418.320693</td>\n",
              "      <td>9015.0</td>\n",
              "      <td>102.0</td>\n",
              "      <td>1.0</td>\n",
              "      <td>1.0</td>\n",
              "      <td>0</td>\n",
              "    </tr>\n",
              "    <tr>\n",
              "      <th>4</th>\n",
              "      <td>201406</td>\n",
              "      <td>13694</td>\n",
              "      <td>2691.641667</td>\n",
              "      <td>36</td>\n",
              "      <td>0</td>\n",
              "      <td>NaN</td>\n",
              "      <td>CLIENTES ORO</td>\n",
              "      <td>0</td>\n",
              "      <td>0</td>\n",
              "      <td>0</td>\n",
              "      <td>...</td>\n",
              "      <td>TECNICO</td>\n",
              "      <td>JUNIN</td>\n",
              "      <td>CON</td>\n",
              "      <td>28.0</td>\n",
              "      <td>0.000000</td>\n",
              "      <td>2651.0</td>\n",
              "      <td>105.0</td>\n",
              "      <td>1.0</td>\n",
              "      <td>1.0</td>\n",
              "      <td>0</td>\n",
              "    </tr>\n",
              "  </tbody>\n",
              "</table>\n",
              "<p>5 rows × 31 columns</p>\n",
              "</div>\n",
              "    <div class=\"colab-df-buttons\">\n",
              "\n",
              "  <div class=\"colab-df-container\">\n",
              "    <button class=\"colab-df-convert\" onclick=\"convertToInteractive('df-ccd24401-a1e3-412f-9710-8626a846c1f0')\"\n",
              "            title=\"Convert this dataframe to an interactive table.\"\n",
              "            style=\"display:none;\">\n",
              "\n",
              "  <svg xmlns=\"http://www.w3.org/2000/svg\" height=\"24px\" viewBox=\"0 -960 960 960\">\n",
              "    <path d=\"M120-120v-720h720v720H120Zm60-500h600v-160H180v160Zm220 220h160v-160H400v160Zm0 220h160v-160H400v160ZM180-400h160v-160H180v160Zm440 0h160v-160H620v160ZM180-180h160v-160H180v160Zm440 0h160v-160H620v160Z\"/>\n",
              "  </svg>\n",
              "    </button>\n",
              "\n",
              "  <style>\n",
              "    .colab-df-container {\n",
              "      display:flex;\n",
              "      gap: 12px;\n",
              "    }\n",
              "\n",
              "    .colab-df-convert {\n",
              "      background-color: #E8F0FE;\n",
              "      border: none;\n",
              "      border-radius: 50%;\n",
              "      cursor: pointer;\n",
              "      display: none;\n",
              "      fill: #1967D2;\n",
              "      height: 32px;\n",
              "      padding: 0 0 0 0;\n",
              "      width: 32px;\n",
              "    }\n",
              "\n",
              "    .colab-df-convert:hover {\n",
              "      background-color: #E2EBFA;\n",
              "      box-shadow: 0px 1px 2px rgba(60, 64, 67, 0.3), 0px 1px 3px 1px rgba(60, 64, 67, 0.15);\n",
              "      fill: #174EA6;\n",
              "    }\n",
              "\n",
              "    .colab-df-buttons div {\n",
              "      margin-bottom: 4px;\n",
              "    }\n",
              "\n",
              "    [theme=dark] .colab-df-convert {\n",
              "      background-color: #3B4455;\n",
              "      fill: #D2E3FC;\n",
              "    }\n",
              "\n",
              "    [theme=dark] .colab-df-convert:hover {\n",
              "      background-color: #434B5C;\n",
              "      box-shadow: 0px 1px 3px 1px rgba(0, 0, 0, 0.15);\n",
              "      filter: drop-shadow(0px 1px 2px rgba(0, 0, 0, 0.3));\n",
              "      fill: #FFFFFF;\n",
              "    }\n",
              "  </style>\n",
              "\n",
              "    <script>\n",
              "      const buttonEl =\n",
              "        document.querySelector('#df-ccd24401-a1e3-412f-9710-8626a846c1f0 button.colab-df-convert');\n",
              "      buttonEl.style.display =\n",
              "        google.colab.kernel.accessAllowed ? 'block' : 'none';\n",
              "\n",
              "      async function convertToInteractive(key) {\n",
              "        const element = document.querySelector('#df-ccd24401-a1e3-412f-9710-8626a846c1f0');\n",
              "        const dataTable =\n",
              "          await google.colab.kernel.invokeFunction('convertToInteractive',\n",
              "                                                    [key], {});\n",
              "        if (!dataTable) return;\n",
              "\n",
              "        const docLinkHtml = 'Like what you see? Visit the ' +\n",
              "          '<a target=\"_blank\" href=https://colab.research.google.com/notebooks/data_table.ipynb>data table notebook</a>'\n",
              "          + ' to learn more about interactive tables.';\n",
              "        element.innerHTML = '';\n",
              "        dataTable['output_type'] = 'display_data';\n",
              "        await google.colab.output.renderOutput(dataTable, element);\n",
              "        const docLink = document.createElement('div');\n",
              "        docLink.innerHTML = docLinkHtml;\n",
              "        element.appendChild(docLink);\n",
              "      }\n",
              "    </script>\n",
              "  </div>\n",
              "\n",
              "\n",
              "    <div id=\"df-fdb23705-89fe-4df2-94cd-4ec43145b495\">\n",
              "      <button class=\"colab-df-quickchart\" onclick=\"quickchart('df-fdb23705-89fe-4df2-94cd-4ec43145b495')\"\n",
              "                title=\"Suggest charts\"\n",
              "                style=\"display:none;\">\n",
              "\n",
              "<svg xmlns=\"http://www.w3.org/2000/svg\" height=\"24px\"viewBox=\"0 0 24 24\"\n",
              "     width=\"24px\">\n",
              "    <g>\n",
              "        <path d=\"M19 3H5c-1.1 0-2 .9-2 2v14c0 1.1.9 2 2 2h14c1.1 0 2-.9 2-2V5c0-1.1-.9-2-2-2zM9 17H7v-7h2v7zm4 0h-2V7h2v10zm4 0h-2v-4h2v4z\"/>\n",
              "    </g>\n",
              "</svg>\n",
              "      </button>\n",
              "\n",
              "<style>\n",
              "  .colab-df-quickchart {\n",
              "      --bg-color: #E8F0FE;\n",
              "      --fill-color: #1967D2;\n",
              "      --hover-bg-color: #E2EBFA;\n",
              "      --hover-fill-color: #174EA6;\n",
              "      --disabled-fill-color: #AAA;\n",
              "      --disabled-bg-color: #DDD;\n",
              "  }\n",
              "\n",
              "  [theme=dark] .colab-df-quickchart {\n",
              "      --bg-color: #3B4455;\n",
              "      --fill-color: #D2E3FC;\n",
              "      --hover-bg-color: #434B5C;\n",
              "      --hover-fill-color: #FFFFFF;\n",
              "      --disabled-bg-color: #3B4455;\n",
              "      --disabled-fill-color: #666;\n",
              "  }\n",
              "\n",
              "  .colab-df-quickchart {\n",
              "    background-color: var(--bg-color);\n",
              "    border: none;\n",
              "    border-radius: 50%;\n",
              "    cursor: pointer;\n",
              "    display: none;\n",
              "    fill: var(--fill-color);\n",
              "    height: 32px;\n",
              "    padding: 0;\n",
              "    width: 32px;\n",
              "  }\n",
              "\n",
              "  .colab-df-quickchart:hover {\n",
              "    background-color: var(--hover-bg-color);\n",
              "    box-shadow: 0 1px 2px rgba(60, 64, 67, 0.3), 0 1px 3px 1px rgba(60, 64, 67, 0.15);\n",
              "    fill: var(--button-hover-fill-color);\n",
              "  }\n",
              "\n",
              "  .colab-df-quickchart-complete:disabled,\n",
              "  .colab-df-quickchart-complete:disabled:hover {\n",
              "    background-color: var(--disabled-bg-color);\n",
              "    fill: var(--disabled-fill-color);\n",
              "    box-shadow: none;\n",
              "  }\n",
              "\n",
              "  .colab-df-spinner {\n",
              "    border: 2px solid var(--fill-color);\n",
              "    border-color: transparent;\n",
              "    border-bottom-color: var(--fill-color);\n",
              "    animation:\n",
              "      spin 1s steps(1) infinite;\n",
              "  }\n",
              "\n",
              "  @keyframes spin {\n",
              "    0% {\n",
              "      border-color: transparent;\n",
              "      border-bottom-color: var(--fill-color);\n",
              "      border-left-color: var(--fill-color);\n",
              "    }\n",
              "    20% {\n",
              "      border-color: transparent;\n",
              "      border-left-color: var(--fill-color);\n",
              "      border-top-color: var(--fill-color);\n",
              "    }\n",
              "    30% {\n",
              "      border-color: transparent;\n",
              "      border-left-color: var(--fill-color);\n",
              "      border-top-color: var(--fill-color);\n",
              "      border-right-color: var(--fill-color);\n",
              "    }\n",
              "    40% {\n",
              "      border-color: transparent;\n",
              "      border-right-color: var(--fill-color);\n",
              "      border-top-color: var(--fill-color);\n",
              "    }\n",
              "    60% {\n",
              "      border-color: transparent;\n",
              "      border-right-color: var(--fill-color);\n",
              "    }\n",
              "    80% {\n",
              "      border-color: transparent;\n",
              "      border-right-color: var(--fill-color);\n",
              "      border-bottom-color: var(--fill-color);\n",
              "    }\n",
              "    90% {\n",
              "      border-color: transparent;\n",
              "      border-bottom-color: var(--fill-color);\n",
              "    }\n",
              "  }\n",
              "</style>\n",
              "\n",
              "      <script>\n",
              "        async function quickchart(key) {\n",
              "          const quickchartButtonEl =\n",
              "            document.querySelector('#' + key + ' button');\n",
              "          quickchartButtonEl.disabled = true;  // To prevent multiple clicks.\n",
              "          quickchartButtonEl.classList.add('colab-df-spinner');\n",
              "          try {\n",
              "            const charts = await google.colab.kernel.invokeFunction(\n",
              "                'suggestCharts', [key], {});\n",
              "          } catch (error) {\n",
              "            console.error('Error during call to suggestCharts:', error);\n",
              "          }\n",
              "          quickchartButtonEl.classList.remove('colab-df-spinner');\n",
              "          quickchartButtonEl.classList.add('colab-df-quickchart-complete');\n",
              "        }\n",
              "        (() => {\n",
              "          let quickchartButtonEl =\n",
              "            document.querySelector('#df-fdb23705-89fe-4df2-94cd-4ec43145b495 button');\n",
              "          quickchartButtonEl.style.display =\n",
              "            google.colab.kernel.accessAllowed ? 'block' : 'none';\n",
              "        })();\n",
              "      </script>\n",
              "    </div>\n",
              "\n",
              "    </div>\n",
              "  </div>\n"
            ],
            "application/vnd.google.colaboratory.intrinsic+json": {
              "type": "dataframe",
              "variable_name": "df_val"
            }
          },
          "metadata": {},
          "execution_count": 2
        }
      ]
    },
    {
      "cell_type": "code",
      "source": [
        "df_val['CODMES']=df_val['CODMES'].astype(str)\n",
        "df_val['CODSOLICITUD']=df_val['CODSOLICITUD'].astype(str)\n",
        "df_val['MIN_MES_DE_DEFAULT']=df_val['MIN_MES_DE_DEFAULT'].astype(str)\n",
        "df_val['FLG_GARANTIA']=df_val['FLG_GARANTIA'].astype(str)\n",
        "df_val['TARJETA_RELACIONADA']=df_val['TARJETA_RELACIONADA'].astype(str)\n",
        "df_val['VEHICULAR_RELACIONADA']=df_val['VEHICULAR_RELACIONADA'].astype(str)\n",
        "df_val['HIPOTECARIO_RELACIONADA']=df_val['HIPOTECARIO_RELACIONADA'].astype(str)\n",
        "df_val['CLASIF_SISTEMA_ULT_12M']=df_val['CLASIF_SISTEMA_ULT_12M'].astype(str)\n",
        "df_val['FLG_PDH']=df_val['FLG_PDH'].astype(str)\n",
        "df_val['FLG_TC_VISA']=df_val['FLG_TC_VISA'].astype(str)\n",
        "df_val['FLG_TC_MC']=df_val['FLG_TC_MC'].astype(str)"
      ],
      "metadata": {
        "id": "SKc1-ZY6quzb"
      },
      "execution_count": 3,
      "outputs": []
    },
    {
      "cell_type": "code",
      "source": [
        "sns.countplot(data = df_val, x = \"FLG_DEFAULT_12M\")\n",
        "target_count = df_val.FLG_DEFAULT_12M.value_counts()\n",
        "print('# Buen_Pagador:', target_count[0])\n",
        "print('# 1 Mora_12M:', target_count[1])\n",
        "print('Bad rate:', target_count[1]/(target_count[0]+target_count[1]))"
      ],
      "metadata": {
        "colab": {
          "base_uri": "https://localhost:8080/",
          "height": 501
        },
        "id": "ZcQ6hQ-YsO0S",
        "outputId": "9dbd89e5-7f8c-4a9d-d513-728901763eac"
      },
      "execution_count": 4,
      "outputs": [
        {
          "output_type": "stream",
          "name": "stdout",
          "text": [
            "# Buen_Pagador: 4486\n",
            "# 1 Mora_12M: 306\n",
            "Bad rate: 0.06385642737896494\n"
          ]
        },
        {
          "output_type": "display_data",
          "data": {
            "text/plain": [
              "<Figure size 640x480 with 1 Axes>"
            ],
            "image/png": "[encoded data removed]"
          },
          "metadata": {}
        }
      ]
    },
    {
      "cell_type": "code",
      "source": [
        "a2=df_val.pivot_table(values=\"FLG_DEFAULT_12M\", index=\"CODMES\", aggfunc=\"mean\", sort=True)\n",
        "a2.plot(alpha = 0.4, figsize=(9,4), ylim=(0.0,0.15))"
      ],
      "metadata": {
        "colab": {
          "base_uri": "https://localhost:8080/",
          "height": 405
        },
        "id": "2AfYIgK-sOxi",
        "outputId": "78b6e301-fa0b-4230-dac4-a2ae3cd97d07"
      },
      "execution_count": 7,
      "outputs": [
        {
          "output_type": "execute_result",
          "data": {
            "text/plain": [
              "<Axes: xlabel='CODMES'>"
            ]
          },
          "metadata": {},
          "execution_count": 7
        },
        {
          "output_type": "display_data",
          "data": {
            "text/plain": [
              "<Figure size 900x400 with 1 Axes>"
            ],
            "image/png": "[encoded data removed]"
          },
          "metadata": {}
        }
      ]
    },
    {
      "cell_type": "markdown",
      "source": [
        "## **3. Carga de los artefactos desarrollados en el entrenamiento**"
      ],
      "metadata": {
        "id": "HHFrMoBssuaf"
      }
    },
    {
      "cell_type": "code",
      "source": [
        "import pickle"
      ],
      "metadata": {
        "id": "tIeXdtqGstxu"
      },
      "execution_count": 8,
      "outputs": []
    },
    {
      "cell_type": "code",
      "source": [
        "pip install feature_engine"
      ],
      "metadata": {
        "colab": {
          "base_uri": "https://localhost:8080/"
        },
        "id": "69ksmspts0GG",
        "outputId": "180547ef-1c37-4ec1-a361-52775aa17b45"
      },
      "execution_count": 9,
      "outputs": [
        {
          "output_type": "stream",
          "name": "stdout",
          "text": [
            "Collecting feature_engine\n",
            "  Downloading feature_engine-1.8.3-py2.py3-none-any.whl.metadata (9.9 kB)\n",
            "Requirement already satisfied: numpy>=1.18.2 in /usr/local/lib/python3.11/dist-packages (from feature_engine) (2.0.2)\n",
            "Requirement already satisfied: pandas>=2.2.0 in /usr/local/lib/python3.11/dist-packages (from feature_engine) (2.2.2)\n",
            "Requirement already satisfied: scikit-learn>=1.4.0 in /usr/local/lib/python3.11/dist-packages (from feature_engine) (1.6.1)\n",
            "Requirement already satisfied: scipy>=1.4.1 in /usr/local/lib/python3.11/dist-packages (from feature_engine) (1.16.1)\n",
            "Requirement already satisfied: statsmodels>=0.11.1 in /usr/local/lib/python3.11/dist-packages (from feature_engine) (0.14.5)\n",
            "Requirement already satisfied: python-dateutil>=2.8.2 in /usr/local/lib/python3.11/dist-packages (from pandas>=2.2.0->feature_engine) (2.9.0.post0)\n",
            "Requirement already satisfied: pytz>=2020.1 in /usr/local/lib/python3.11/dist-packages (from pandas>=2.2.0->feature_engine) (2025.2)\n",
            "Requirement already satisfied: tzdata>=2022.7 in /usr/local/lib/python3.11/dist-packages (from pandas>=2.2.0->feature_engine) (2025.2)\n",
            "Requirement already satisfied: joblib>=1.2.0 in /usr/local/lib/python3.11/dist-packages (from scikit-learn>=1.4.0->feature_engine) (1.5.1)\n",
            "Requirement already satisfied: threadpoolctl>=3.1.0 in /usr/local/lib/python3.11/dist-packages (from scikit-learn>=1.4.0->feature_engine) (3.6.0)\n",
            "Requirement already satisfied: patsy>=0.5.6 in /usr/local/lib/python3.11/dist-packages (from statsmodels>=0.11.1->feature_engine) (1.0.1)\n",
            "Requirement already satisfied: packaging>=21.3 in /usr/local/lib/python3.11/dist-packages (from statsmodels>=0.11.1->feature_engine) (25.0)\n",
            "Requirement already satisfied: six>=1.5 in /usr/local/lib/python3.11/dist-packages (from python-dateutil>=2.8.2->pandas>=2.2.0->feature_engine) (1.17.0)\n",
            "Downloading feature_engine-1.8.3-py2.py3-none-any.whl (378 kB)\n",
            "\u001b[2K   \u001b[90m━━━━━━━━━━━━━━━━━━━━━━━━━━━━━━━━━━━━━━━━\u001b[0m \u001b[32m378.6/378.6 kB\u001b[0m \u001b[31m9.0 MB/s\u001b[0m eta \u001b[36m0:00:00\u001b[0m\n",
            "\u001b[?25hInstalling collected packages: feature_engine\n",
            "Successfully installed feature_engine-1.8.3\n"
          ]
        }
      ]
    },
    {
      "cell_type": "code",
      "source": [
        "# Cargar el pipeline del feature engineering\n",
        "with open('fe_pipeline.pkl','rb') as fe_data_file:\n",
        "     fe_final = pickle.load(fe_data_file)"
      ],
      "metadata": {
        "id": "cyn96emRs0Df"
      },
      "execution_count": 10,
      "outputs": []
    },
    {
      "cell_type": "code",
      "source": [
        "# Cargar el modelo\n",
        "with open('final_model.pkl','rb') as modelFile:\n",
        "     modelo_final = pickle.load(modelFile)"
      ],
      "metadata": {
        "id": "34yxIQlus0Au"
      },
      "execution_count": 11,
      "outputs": []
    },
    {
      "cell_type": "code",
      "source": [
        "#Probemos el pipeline\n",
        "df_val_xt=fe_final.transform(df_val.drop(['FLG_DEFAULT_12M'],axis=1))\n",
        "df_val_y=df_val['FLG_DEFAULT_12M']"
      ],
      "metadata": {
        "id": "4PQLMXY1s6QO"
      },
      "execution_count": 12,
      "outputs": []
    },
    {
      "cell_type": "code",
      "source": [
        "tot_df_val_xt=pd.concat([df_val_xt, df_val_y],axis=1)"
      ],
      "metadata": {
        "id": "D3Pj1SsKs6NW"
      },
      "execution_count": 13,
      "outputs": []
    },
    {
      "cell_type": "markdown",
      "source": [
        "## **2. Pruebas de Validación**"
      ],
      "metadata": {
        "id": "wBc-E2zcjyEB"
      }
    },
    {
      "cell_type": "markdown",
      "source": [
        "### **Boostrapping**"
      ],
      "metadata": {
        "id": "aXFyo-6LkQCs"
      }
    },
    {
      "cell_type": "code",
      "execution_count": 14,
      "metadata": {
        "id": "HaFdP8K8jhj_"
      },
      "outputs": [],
      "source": [
        "from sklearn.model_selection  import KFold, StratifiedKFold, cross_val_score\n",
        "from sklearn.utils import resample\n",
        "from sklearn.metrics import roc_auc_score"
      ]
    },
    {
      "cell_type": "code",
      "source": [
        "bootstrap_iter = 50"
      ],
      "metadata": {
        "id": "Rsrbx0r-j7Ep"
      },
      "execution_count": 15,
      "outputs": []
    },
    {
      "cell_type": "code",
      "source": [
        "roc_auc = []"
      ],
      "metadata": {
        "id": "JzmflTGMj6-7"
      },
      "execution_count": 16,
      "outputs": []
    },
    {
      "cell_type": "code",
      "source": [
        "for i in range(bootstrap_iter):\n",
        "    X_, y_ = resample(df_val_xt, df_val_y)\n",
        "    #gbc.fit(X_, y_)\n",
        "    y_pred = modelo_final.predict_proba(X_)\n",
        "    acc = roc_auc_score(y_,y_pred[:,1])\n",
        "    roc_auc.append(acc)"
      ],
      "metadata": {
        "id": "cWsDptELj68C"
      },
      "execution_count": 22,
      "outputs": []
    },
    {
      "cell_type": "code",
      "source": [
        "roc_auc_final = np.array(roc_auc)"
      ],
      "metadata": {
        "id": "Yf1kNzdEj65P"
      },
      "execution_count": 23,
      "outputs": []
    },
    {
      "cell_type": "code",
      "source": [
        "gini_final=2*roc_auc_final-1"
      ],
      "metadata": {
        "id": "trU3zrMgkGGv"
      },
      "execution_count": 24,
      "outputs": []
    },
    {
      "cell_type": "code",
      "source": [
        "print('Gini')\n",
        "print('Average: ', gini_final.mean())\n",
        "print('Standard deviation: ', gini_final.std())"
      ],
      "metadata": {
        "colab": {
          "base_uri": "https://localhost:8080/"
        },
        "id": "EIMTelWmkGDn",
        "outputId": "f068b28d-d9a8-4333-8f58-5d4182222ee8"
      },
      "execution_count": 25,
      "outputs": [
        {
          "output_type": "stream",
          "name": "stdout",
          "text": [
            "Gini\n",
            "Average:  0.4770336994067012\n",
            "Standard deviation:  0.020347455587086886\n"
          ]
        }
      ]
    },
    {
      "cell_type": "code",
      "source": [
        "sns.kdeplot(gini_final, shade=True, color='blue')\n",
        "plt.title('Gráfico de Gini')\n",
        "plt.xlabel('Valor')\n",
        "plt.ylabel('Densidad')\n",
        "plt.grid(True)\n",
        "plt.show()"
      ],
      "metadata": {
        "colab": {
          "base_uri": "https://localhost:8080/",
          "height": 472
        },
        "id": "dZdZ0oDhkGAw",
        "outputId": "0df597d2-c242-4284-d78f-a396c0c3aa31"
      },
      "execution_count": 26,
      "outputs": [
        {
          "output_type": "display_data",
          "data": {
            "text/plain": [
              "<Figure size 640x480 with 1 Axes>"
            ],
            "image/png": "[encoded data removed]"
          },
          "metadata": {}
        }
      ]
    },
    {
      "cell_type": "markdown",
      "source": [
        "### **K-Folds Cross Validation**"
      ],
      "metadata": {
        "id": "YlKZDsIGkVA-"
      }
    },
    {
      "cell_type": "code",
      "source": [
        "k = 50"
      ],
      "metadata": {
        "id": "UqvZAgcEkZmD"
      },
      "execution_count": 27,
      "outputs": []
    },
    {
      "cell_type": "code",
      "source": [
        "kfold = KFold(n_splits = k, random_state = 777, shuffle=True)"
      ],
      "metadata": {
        "id": "f3KNFDIkkZjM"
      },
      "execution_count": 28,
      "outputs": []
    },
    {
      "cell_type": "code",
      "source": [
        "results = cross_val_score(modelo_final, df_val_xt, df_val_y, cv = kfold, scoring='roc_auc')"
      ],
      "metadata": {
        "id": "Zuahaos4j62P"
      },
      "execution_count": 29,
      "outputs": []
    },
    {
      "cell_type": "code",
      "source": [
        "gini_final=2*results-1"
      ],
      "metadata": {
        "id": "K-jzqhwmFW-6"
      },
      "execution_count": 32,
      "outputs": []
    },
    {
      "cell_type": "code",
      "source": [
        "print('Gini')\n",
        "print('Average: ', gini_final.mean())\n",
        "print('Standard deviation: ', gini_final.std())"
      ],
      "metadata": {
        "colab": {
          "base_uri": "https://localhost:8080/"
        },
        "id": "DXCQ12Xvj6zZ",
        "outputId": "a23d6bee-9bb4-4a8e-f556-dd4741b3fe1f"
      },
      "execution_count": 33,
      "outputs": [
        {
          "output_type": "stream",
          "name": "stdout",
          "text": [
            "Gini\n",
            "Average:  0.4339001336864715\n",
            "Standard deviation:  0.08263034505527421\n"
          ]
        }
      ]
    },
    {
      "cell_type": "code",
      "source": [
        "sns.kdeplot(gini_final, shade=True, color='blue')\n",
        "plt.title('Gráfico de Gini')\n",
        "plt.xlabel('Valor')\n",
        "plt.ylabel('Densidad')\n",
        "plt.grid(True)\n",
        "plt.show()"
      ],
      "metadata": {
        "colab": {
          "base_uri": "https://localhost:8080/",
          "height": 472
        },
        "id": "MRk2LYWLj6wX",
        "outputId": "98144d72-69bd-4650-fc25-75936becc07e"
      },
      "execution_count": 34,
      "outputs": [
        {
          "output_type": "display_data",
          "data": {
            "text/plain": [
              "<Figure size 640x480 with 1 Axes>"
            ],
            "image/png": "[encoded data removed]"
          },
          "metadata": {}
        }
      ]
    }
  ]
}