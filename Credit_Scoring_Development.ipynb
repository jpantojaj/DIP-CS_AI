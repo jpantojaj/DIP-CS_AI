{
  "cells": [
    {
      "cell_type": "markdown",
      "metadata": {
        "id": "view-in-github",
        "colab_type": "text"
      },
      "source": [
        "<a href=\"https://colab.research.google.com/github/jpantojaj/DIP-CS_AI/blob/main/Credit_Scoring_Development.ipynb\" target=\"_parent\"><img src=\"https://colab.research.google.com/assets/colab-badge.svg\" alt=\"Open In Colab\"/></a>"
      ]
    },
    {
      "cell_type": "markdown",
      "metadata": {
        "id": "kb9GMvxs8XyX"
      },
      "source": [
        "#**Desarrollo de un Modelo de Credit Scoring**"
      ]
    },
    {
      "cell_type": "markdown",
      "metadata": {
        "id": "qaTDbaE0EB0t"
      },
      "source": [
        "### **1. Carga Inicial de Librerías**"
      ]
    },
    {
      "cell_type": "code",
      "execution_count": 1,
      "metadata": {
        "id": "KU-3utxt_UlG"
      },
      "outputs": [],
      "source": [
        "import pandas as pd\n",
        "import numpy as np\n",
        "import sklearn\n",
        "import seaborn as sns\n",
        "import matplotlib.pyplot as plt\n",
        "\n",
        "from scipy import stats\n",
        "import warnings\n",
        "warnings.filterwarnings('ignore')"
      ]
    },
    {
      "cell_type": "markdown",
      "metadata": {
        "id": "BW354ETwEH4t"
      },
      "source": [
        "### **2. Entendimiento y Analisis Exploratorio de datos**"
      ]
    },
    {
      "cell_type": "code",
      "execution_count": 2,
      "metadata": {
        "colab": {
          "base_uri": "https://localhost:8080/",
          "height": 307
        },
        "id": "BPdgJZ0B_vwO",
        "outputId": "f8410a2f-5c0f-4b6b-e28a-2cc6dfb288e6"
      },
      "outputs": [
        {
          "output_type": "execute_result",
          "data": {
            "text/plain": [
              "   CODMES  CODSOLICITUD         DEUDA  PLAZO_CREDITO  FLG_GARANTIA  \\\n",
              "0  201402             1   7116.681318             48             0   \n",
              "1  201404             2   1616.555000             60             0   \n",
              "2  201403             3   8082.775000             48             0   \n",
              "3  201307             4  10186.990760             48             0   \n",
              "4  201401             5  10777.033330             48             0   \n",
              "\n",
              "   MIN_MES_DE_DEFAULT  FLG_DEFAULT_12M           SEGMENTOCLIENTE  \\\n",
              "0                 NaN                0              CLIENTES ORO   \n",
              "1                 NaN                0              CLIENTES ORO   \n",
              "2                 NaN                0              CLIENTES ORO   \n",
              "3            201403.0                1              CLIENTES ORO   \n",
              "4                 NaN                0  CLIENTES PLATINUM SEGM 2   \n",
              "\n",
              "   TARJETA_RELACIONADA  VEHICULAR_RELACIONADA  ...  INGRESO_CLIENTE  \\\n",
              "0                    1                      0  ...      2526.246600   \n",
              "1                    1                      0  ...      2895.761372   \n",
              "2                    1                      0  ...      1474.419056   \n",
              "3                    0                      0  ...      1992.756892   \n",
              "4                    1                      0  ...      1680.938223   \n",
              "\n",
              "                 PROFESION  ZONA_DEL_DESEMBOLSO  ESTADO_CIVIL  EDAD_T  \\\n",
              "0                INGENIERO              UCAYALI           SOL    26.0   \n",
              "1                  TECNICO             AREQUIPA           CAS    49.0   \n",
              "2       INGENIERO DE MINAS                 PUNO           SOL    33.0   \n",
              "3                  TECNICO                CUZCO           SOL    25.0   \n",
              "4  TEC MECANICO AUTOMOTRIZ            LIMA_ESTE           CAS    57.0   \n",
              "\n",
              "        CUOTA  LINEA_DE_TC  MONTO_TC_MEMBRESIA  FLG_TC_VISA  FLG_TC_MC  \n",
              "0  236.983971       5600.0               170.0          0.0        0.0  \n",
              "1   62.089650      19250.0               170.0          0.0        0.0  \n",
              "2   22.894893      10900.0                80.0          0.0        0.0  \n",
              "3  244.267800      10900.0                80.0          0.0        0.0  \n",
              "4   17.430000      16300.0               170.0          0.0        0.0  \n",
              "\n",
              "[5 rows x 31 columns]"
            ],
            "text/html": [
              "\n",
              "  <div id=\"df-e4c33e51-727e-4a3d-95df-853d8208bc6a\" class=\"colab-df-container\">\n",
              "    <div>\n",
              "<style scoped>\n",
              "    .dataframe tbody tr th:only-of-type {\n",
              "        vertical-align: middle;\n",
              "    }\n",
              "\n",
              "    .dataframe tbody tr th {\n",
              "        vertical-align: top;\n",
              "    }\n",
              "\n",
              "    .dataframe thead th {\n",
              "        text-align: right;\n",
              "    }\n",
              "</style>\n",
              "<table border=\"1\" class=\"dataframe\">\n",
              "  <thead>\n",
              "    <tr style=\"text-align: right;\">\n",
              "      <th></th>\n",
              "      <th>CODMES</th>\n",
              "      <th>CODSOLICITUD</th>\n",
              "      <th>DEUDA</th>\n",
              "      <th>PLAZO_CREDITO</th>\n",
              "      <th>FLG_GARANTIA</th>\n",
              "      <th>MIN_MES_DE_DEFAULT</th>\n",
              "      <th>FLG_DEFAULT_12M</th>\n",
              "      <th>SEGMENTOCLIENTE</th>\n",
              "      <th>TARJETA_RELACIONADA</th>\n",
              "      <th>VEHICULAR_RELACIONADA</th>\n",
              "      <th>...</th>\n",
              "      <th>INGRESO_CLIENTE</th>\n",
              "      <th>PROFESION</th>\n",
              "      <th>ZONA_DEL_DESEMBOLSO</th>\n",
              "      <th>ESTADO_CIVIL</th>\n",
              "      <th>EDAD_T</th>\n",
              "      <th>CUOTA</th>\n",
              "      <th>LINEA_DE_TC</th>\n",
              "      <th>MONTO_TC_MEMBRESIA</th>\n",
              "      <th>FLG_TC_VISA</th>\n",
              "      <th>FLG_TC_MC</th>\n",
              "    </tr>\n",
              "  </thead>\n",
              "  <tbody>\n",
              "    <tr>\n",
              "      <th>0</th>\n",
              "      <td>201402</td>\n",
              "      <td>1</td>\n",
              "      <td>7116.681318</td>\n",
              "      <td>48</td>\n",
              "      <td>0</td>\n",
              "      <td>NaN</td>\n",
              "      <td>0</td>\n",
              "      <td>CLIENTES ORO</td>\n",
              "      <td>1</td>\n",
              "      <td>0</td>\n",
              "      <td>...</td>\n",
              "      <td>2526.246600</td>\n",
              "      <td>INGENIERO</td>\n",
              "      <td>UCAYALI</td>\n",
              "      <td>SOL</td>\n",
              "      <td>26.0</td>\n",
              "      <td>236.983971</td>\n",
              "      <td>5600.0</td>\n",
              "      <td>170.0</td>\n",
              "      <td>0.0</td>\n",
              "      <td>0.0</td>\n",
              "    </tr>\n",
              "    <tr>\n",
              "      <th>1</th>\n",
              "      <td>201404</td>\n",
              "      <td>2</td>\n",
              "      <td>1616.555000</td>\n",
              "      <td>60</td>\n",
              "      <td>0</td>\n",
              "      <td>NaN</td>\n",
              "      <td>0</td>\n",
              "      <td>CLIENTES ORO</td>\n",
              "      <td>1</td>\n",
              "      <td>0</td>\n",
              "      <td>...</td>\n",
              "      <td>2895.761372</td>\n",
              "      <td>TECNICO</td>\n",
              "      <td>AREQUIPA</td>\n",
              "      <td>CAS</td>\n",
              "      <td>49.0</td>\n",
              "      <td>62.089650</td>\n",
              "      <td>19250.0</td>\n",
              "      <td>170.0</td>\n",
              "      <td>0.0</td>\n",
              "      <td>0.0</td>\n",
              "    </tr>\n",
              "    <tr>\n",
              "      <th>2</th>\n",
              "      <td>201403</td>\n",
              "      <td>3</td>\n",
              "      <td>8082.775000</td>\n",
              "      <td>48</td>\n",
              "      <td>0</td>\n",
              "      <td>NaN</td>\n",
              "      <td>0</td>\n",
              "      <td>CLIENTES ORO</td>\n",
              "      <td>1</td>\n",
              "      <td>0</td>\n",
              "      <td>...</td>\n",
              "      <td>1474.419056</td>\n",
              "      <td>INGENIERO DE MINAS</td>\n",
              "      <td>PUNO</td>\n",
              "      <td>SOL</td>\n",
              "      <td>33.0</td>\n",
              "      <td>22.894893</td>\n",
              "      <td>10900.0</td>\n",
              "      <td>80.0</td>\n",
              "      <td>0.0</td>\n",
              "      <td>0.0</td>\n",
              "    </tr>\n",
              "    <tr>\n",
              "      <th>3</th>\n",
              "      <td>201307</td>\n",
              "      <td>4</td>\n",
              "      <td>10186.990760</td>\n",
              "      <td>48</td>\n",
              "      <td>0</td>\n",
              "      <td>201403.0</td>\n",
              "      <td>1</td>\n",
              "      <td>CLIENTES ORO</td>\n",
              "      <td>0</td>\n",
              "      <td>0</td>\n",
              "      <td>...</td>\n",
              "      <td>1992.756892</td>\n",
              "      <td>TECNICO</td>\n",
              "      <td>CUZCO</td>\n",
              "      <td>SOL</td>\n",
              "      <td>25.0</td>\n",
              "      <td>244.267800</td>\n",
              "      <td>10900.0</td>\n",
              "      <td>80.0</td>\n",
              "      <td>0.0</td>\n",
              "      <td>0.0</td>\n",
              "    </tr>\n",
              "    <tr>\n",
              "      <th>4</th>\n",
              "      <td>201401</td>\n",
              "      <td>5</td>\n",
              "      <td>10777.033330</td>\n",
              "      <td>48</td>\n",
              "      <td>0</td>\n",
              "      <td>NaN</td>\n",
              "      <td>0</td>\n",
              "      <td>CLIENTES PLATINUM SEGM 2</td>\n",
              "      <td>1</td>\n",
              "      <td>0</td>\n",
              "      <td>...</td>\n",
              "      <td>1680.938223</td>\n",
              "      <td>TEC MECANICO AUTOMOTRIZ</td>\n",
              "      <td>LIMA_ESTE</td>\n",
              "      <td>CAS</td>\n",
              "      <td>57.0</td>\n",
              "      <td>17.430000</td>\n",
              "      <td>16300.0</td>\n",
              "      <td>170.0</td>\n",
              "      <td>0.0</td>\n",
              "      <td>0.0</td>\n",
              "    </tr>\n",
              "  </tbody>\n",
              "</table>\n",
              "<p>5 rows × 31 columns</p>\n",
              "</div>\n",
              "    <div class=\"colab-df-buttons\">\n",
              "\n",
              "  <div class=\"colab-df-container\">\n",
              "    <button class=\"colab-df-convert\" onclick=\"convertToInteractive('df-e4c33e51-727e-4a3d-95df-853d8208bc6a')\"\n",
              "            title=\"Convert this dataframe to an interactive table.\"\n",
              "            style=\"display:none;\">\n",
              "\n",
              "  <svg xmlns=\"http://www.w3.org/2000/svg\" height=\"24px\" viewBox=\"0 -960 960 960\">\n",
              "    <path d=\"M120-120v-720h720v720H120Zm60-500h600v-160H180v160Zm220 220h160v-160H400v160Zm0 220h160v-160H400v160ZM180-400h160v-160H180v160Zm440 0h160v-160H620v160ZM180-180h160v-160H180v160Zm440 0h160v-160H620v160Z\"/>\n",
              "  </svg>\n",
              "    </button>\n",
              "\n",
              "  <style>\n",
              "    .colab-df-container {\n",
              "      display:flex;\n",
              "      gap: 12px;\n",
              "    }\n",
              "\n",
              "    .colab-df-convert {\n",
              "      background-color: #E8F0FE;\n",
              "      border: none;\n",
              "      border-radius: 50%;\n",
              "      cursor: pointer;\n",
              "      display: none;\n",
              "      fill: #1967D2;\n",
              "      height: 32px;\n",
              "      padding: 0 0 0 0;\n",
              "      width: 32px;\n",
              "    }\n",
              "\n",
              "    .colab-df-convert:hover {\n",
              "      background-color: #E2EBFA;\n",
              "      box-shadow: 0px 1px 2px rgba(60, 64, 67, 0.3), 0px 1px 3px 1px rgba(60, 64, 67, 0.15);\n",
              "      fill: #174EA6;\n",
              "    }\n",
              "\n",
              "    .colab-df-buttons div {\n",
              "      margin-bottom: 4px;\n",
              "    }\n",
              "\n",
              "    [theme=dark] .colab-df-convert {\n",
              "      background-color: #3B4455;\n",
              "      fill: #D2E3FC;\n",
              "    }\n",
              "\n",
              "    [theme=dark] .colab-df-convert:hover {\n",
              "      background-color: #434B5C;\n",
              "      box-shadow: 0px 1px 3px 1px rgba(0, 0, 0, 0.15);\n",
              "      filter: drop-shadow(0px 1px 2px rgba(0, 0, 0, 0.3));\n",
              "      fill: #FFFFFF;\n",
              "    }\n",
              "  </style>\n",
              "\n",
              "    <script>\n",
              "      const buttonEl =\n",
              "        document.querySelector('#df-e4c33e51-727e-4a3d-95df-853d8208bc6a button.colab-df-convert');\n",
              "      buttonEl.style.display =\n",
              "        google.colab.kernel.accessAllowed ? 'block' : 'none';\n",
              "\n",
              "      async function convertToInteractive(key) {\n",
              "        const element = document.querySelector('#df-e4c33e51-727e-4a3d-95df-853d8208bc6a');\n",
              "        const dataTable =\n",
              "          await google.colab.kernel.invokeFunction('convertToInteractive',\n",
              "                                                    [key], {});\n",
              "        if (!dataTable) return;\n",
              "\n",
              "        const docLinkHtml = 'Like what you see? Visit the ' +\n",
              "          '<a target=\"_blank\" href=https://colab.research.google.com/notebooks/data_table.ipynb>data table notebook</a>'\n",
              "          + ' to learn more about interactive tables.';\n",
              "        element.innerHTML = '';\n",
              "        dataTable['output_type'] = 'display_data';\n",
              "        await google.colab.output.renderOutput(dataTable, element);\n",
              "        const docLink = document.createElement('div');\n",
              "        docLink.innerHTML = docLinkHtml;\n",
              "        element.appendChild(docLink);\n",
              "      }\n",
              "    </script>\n",
              "  </div>\n",
              "\n",
              "\n",
              "    <div id=\"df-c28e9bf9-fc52-4bfe-b014-3e1e6125d48e\">\n",
              "      <button class=\"colab-df-quickchart\" onclick=\"quickchart('df-c28e9bf9-fc52-4bfe-b014-3e1e6125d48e')\"\n",
              "                title=\"Suggest charts\"\n",
              "                style=\"display:none;\">\n",
              "\n",
              "<svg xmlns=\"http://www.w3.org/2000/svg\" height=\"24px\"viewBox=\"0 0 24 24\"\n",
              "     width=\"24px\">\n",
              "    <g>\n",
              "        <path d=\"M19 3H5c-1.1 0-2 .9-2 2v14c0 1.1.9 2 2 2h14c1.1 0 2-.9 2-2V5c0-1.1-.9-2-2-2zM9 17H7v-7h2v7zm4 0h-2V7h2v10zm4 0h-2v-4h2v4z\"/>\n",
              "    </g>\n",
              "</svg>\n",
              "      </button>\n",
              "\n",
              "<style>\n",
              "  .colab-df-quickchart {\n",
              "      --bg-color: #E8F0FE;\n",
              "      --fill-color: #1967D2;\n",
              "      --hover-bg-color: #E2EBFA;\n",
              "      --hover-fill-color: #174EA6;\n",
              "      --disabled-fill-color: #AAA;\n",
              "      --disabled-bg-color: #DDD;\n",
              "  }\n",
              "\n",
              "  [theme=dark] .colab-df-quickchart {\n",
              "      --bg-color: #3B4455;\n",
              "      --fill-color: #D2E3FC;\n",
              "      --hover-bg-color: #434B5C;\n",
              "      --hover-fill-color: #FFFFFF;\n",
              "      --disabled-bg-color: #3B4455;\n",
              "      --disabled-fill-color: #666;\n",
              "  }\n",
              "\n",
              "  .colab-df-quickchart {\n",
              "    background-color: var(--bg-color);\n",
              "    border: none;\n",
              "    border-radius: 50%;\n",
              "    cursor: pointer;\n",
              "    display: none;\n",
              "    fill: var(--fill-color);\n",
              "    height: 32px;\n",
              "    padding: 0;\n",
              "    width: 32px;\n",
              "  }\n",
              "\n",
              "  .colab-df-quickchart:hover {\n",
              "    background-color: var(--hover-bg-color);\n",
              "    box-shadow: 0 1px 2px rgba(60, 64, 67, 0.3), 0 1px 3px 1px rgba(60, 64, 67, 0.15);\n",
              "    fill: var(--button-hover-fill-color);\n",
              "  }\n",
              "\n",
              "  .colab-df-quickchart-complete:disabled,\n",
              "  .colab-df-quickchart-complete:disabled:hover {\n",
              "    background-color: var(--disabled-bg-color);\n",
              "    fill: var(--disabled-fill-color);\n",
              "    box-shadow: none;\n",
              "  }\n",
              "\n",
              "  .colab-df-spinner {\n",
              "    border: 2px solid var(--fill-color);\n",
              "    border-color: transparent;\n",
              "    border-bottom-color: var(--fill-color);\n",
              "    animation:\n",
              "      spin 1s steps(1) infinite;\n",
              "  }\n",
              "\n",
              "  @keyframes spin {\n",
              "    0% {\n",
              "      border-color: transparent;\n",
              "      border-bottom-color: var(--fill-color);\n",
              "      border-left-color: var(--fill-color);\n",
              "    }\n",
              "    20% {\n",
              "      border-color: transparent;\n",
              "      border-left-color: var(--fill-color);\n",
              "      border-top-color: var(--fill-color);\n",
              "    }\n",
              "    30% {\n",
              "      border-color: transparent;\n",
              "      border-left-color: var(--fill-color);\n",
              "      border-top-color: var(--fill-color);\n",
              "      border-right-color: var(--fill-color);\n",
              "    }\n",
              "    40% {\n",
              "      border-color: transparent;\n",
              "      border-right-color: var(--fill-color);\n",
              "      border-top-color: var(--fill-color);\n",
              "    }\n",
              "    60% {\n",
              "      border-color: transparent;\n",
              "      border-right-color: var(--fill-color);\n",
              "    }\n",
              "    80% {\n",
              "      border-color: transparent;\n",
              "      border-right-color: var(--fill-color);\n",
              "      border-bottom-color: var(--fill-color);\n",
              "    }\n",
              "    90% {\n",
              "      border-color: transparent;\n",
              "      border-bottom-color: var(--fill-color);\n",
              "    }\n",
              "  }\n",
              "</style>\n",
              "\n",
              "      <script>\n",
              "        async function quickchart(key) {\n",
              "          const quickchartButtonEl =\n",
              "            document.querySelector('#' + key + ' button');\n",
              "          quickchartButtonEl.disabled = true;  // To prevent multiple clicks.\n",
              "          quickchartButtonEl.classList.add('colab-df-spinner');\n",
              "          try {\n",
              "            const charts = await google.colab.kernel.invokeFunction(\n",
              "                'suggestCharts', [key], {});\n",
              "          } catch (error) {\n",
              "            console.error('Error during call to suggestCharts:', error);\n",
              "          }\n",
              "          quickchartButtonEl.classList.remove('colab-df-spinner');\n",
              "          quickchartButtonEl.classList.add('colab-df-quickchart-complete');\n",
              "        }\n",
              "        (() => {\n",
              "          let quickchartButtonEl =\n",
              "            document.querySelector('#df-c28e9bf9-fc52-4bfe-b014-3e1e6125d48e button');\n",
              "          quickchartButtonEl.style.display =\n",
              "            google.colab.kernel.accessAllowed ? 'block' : 'none';\n",
              "        })();\n",
              "      </script>\n",
              "    </div>\n",
              "\n",
              "    </div>\n",
              "  </div>\n"
            ],
            "application/vnd.google.colaboratory.intrinsic+json": {
              "type": "dataframe",
              "variable_name": "df_clase"
            }
          },
          "metadata": {},
          "execution_count": 2
        }
      ],
      "source": [
        "df_clase = pd.read_csv('Base_SolicitudesCreditoEfectivo_201307_201505.csv', sep = \";\")\n",
        "df_clase.head()"
      ]
    },
    {
      "cell_type": "code",
      "execution_count": 3,
      "metadata": {
        "colab": {
          "base_uri": "https://localhost:8080/"
        },
        "id": "2bY_v-0h847P",
        "outputId": "ec2dac74-930b-432c-ca66-a5528671a7f5"
      },
      "outputs": [
        {
          "output_type": "execute_result",
          "data": {
            "text/plain": [
              "(31944, 31)"
            ]
          },
          "metadata": {},
          "execution_count": 3
        }
      ],
      "source": [
        "df_clase.shape"
      ]
    },
    {
      "cell_type": "code",
      "execution_count": 4,
      "metadata": {
        "colab": {
          "base_uri": "https://localhost:8080/"
        },
        "id": "fKZi7pT49RkE",
        "outputId": "6ebed2f4-cb46-4f2e-ca78-8e6c03efa84b"
      },
      "outputs": [
        {
          "output_type": "execute_result",
          "data": {
            "text/plain": [
              "Index(['CODMES', 'CODSOLICITUD', 'DEUDA', 'PLAZO_CREDITO', 'FLG_GARANTIA',\n",
              "       'MIN_MES_DE_DEFAULT', 'FLG_DEFAULT_12M', 'SEGMENTOCLIENTE',\n",
              "       'TARJETA_RELACIONADA', 'VEHICULAR_RELACIONADA',\n",
              "       'HIPOTECARIO_RELACIONADA', 'ATRASO_MAXIMO_ULT_6M',\n",
              "       'ATRASO_MAXIMO_ULT_12M', 'ATRASO_MAXIMO_ULT_24M',\n",
              "       'MESES_AHORROS_ULT_6M', 'MEDIANA_AHORROS_ULT_6M', 'DEUDA_TOTAL_SISTEMA',\n",
              "       'CLASIF_SISTEMA_ULT_12M', 'FLG_PDH', 'NUMERO_DE_PAGOS_PDH',\n",
              "       'MONTO_TC_SISTEMA', 'INGRESO_CLIENTE', 'PROFESION',\n",
              "       'ZONA_DEL_DESEMBOLSO', 'ESTADO_CIVIL', 'EDAD_T', 'CUOTA', 'LINEA_DE_TC',\n",
              "       'MONTO_TC_MEMBRESIA', 'FLG_TC_VISA', 'FLG_TC_MC'],\n",
              "      dtype='object')"
            ]
          },
          "metadata": {},
          "execution_count": 4
        }
      ],
      "source": [
        "df_clase.columns"
      ]
    },
    {
      "cell_type": "code",
      "execution_count": 5,
      "metadata": {
        "colab": {
          "base_uri": "https://localhost:8080/"
        },
        "id": "mPK10PlJ_0JE",
        "outputId": "5094520f-1ee2-4700-9bf7-2d356f8bcc73"
      },
      "outputs": [
        {
          "output_type": "stream",
          "name": "stdout",
          "text": [
            "<class 'pandas.core.frame.DataFrame'>\n",
            "RangeIndex: 31944 entries, 0 to 31943\n",
            "Data columns (total 31 columns):\n",
            " #   Column                   Non-Null Count  Dtype  \n",
            "---  ------                   --------------  -----  \n",
            " 0   CODMES                   31944 non-null  int64  \n",
            " 1   CODSOLICITUD             31944 non-null  int64  \n",
            " 2   DEUDA                    31944 non-null  float64\n",
            " 3   PLAZO_CREDITO            31944 non-null  int64  \n",
            " 4   FLG_GARANTIA             31944 non-null  int64  \n",
            " 5   MIN_MES_DE_DEFAULT       3449 non-null   float64\n",
            " 6   FLG_DEFAULT_12M          31944 non-null  int64  \n",
            " 7   SEGMENTOCLIENTE          31944 non-null  object \n",
            " 8   TARJETA_RELACIONADA      31944 non-null  int64  \n",
            " 9   VEHICULAR_RELACIONADA    31944 non-null  int64  \n",
            " 10  HIPOTECARIO_RELACIONADA  31944 non-null  int64  \n",
            " 11  ATRASO_MAXIMO_ULT_6M     31944 non-null  int64  \n",
            " 12  ATRASO_MAXIMO_ULT_12M    31941 non-null  float64\n",
            " 13  ATRASO_MAXIMO_ULT_24M    31937 non-null  float64\n",
            " 14  MESES_AHORROS_ULT_6M     31266 non-null  float64\n",
            " 15  MEDIANA_AHORROS_ULT_6M   31942 non-null  float64\n",
            " 16  DEUDA_TOTAL_SISTEMA      28763 non-null  float64\n",
            " 17  CLASIF_SISTEMA_ULT_12M   30277 non-null  float64\n",
            " 18  FLG_PDH                  31944 non-null  int64  \n",
            " 19  NUMERO_DE_PAGOS_PDH      31944 non-null  int64  \n",
            " 20  MONTO_TC_SISTEMA         31944 non-null  float64\n",
            " 21  INGRESO_CLIENTE          31166 non-null  float64\n",
            " 22  PROFESION                31604 non-null  object \n",
            " 23  ZONA_DEL_DESEMBOLSO      30954 non-null  object \n",
            " 24  ESTADO_CIVIL             30954 non-null  object \n",
            " 25  EDAD_T                   30954 non-null  float64\n",
            " 26  CUOTA                    31294 non-null  float64\n",
            " 27  LINEA_DE_TC              31294 non-null  float64\n",
            " 28  MONTO_TC_MEMBRESIA       31294 non-null  float64\n",
            " 29  FLG_TC_VISA              31294 non-null  float64\n",
            " 30  FLG_TC_MC                31294 non-null  float64\n",
            "dtypes: float64(16), int64(11), object(4)\n",
            "memory usage: 7.6+ MB\n"
          ]
        }
      ],
      "source": [
        "df_clase.info()"
      ]
    },
    {
      "cell_type": "code",
      "execution_count": 6,
      "metadata": {
        "id": "xFtncrtxNle6"
      },
      "outputs": [],
      "source": [
        "df_clase['CODMES']=df_clase['CODMES'].astype(str)\n",
        "df_clase['CODSOLICITUD']=df_clase['CODSOLICITUD'].astype(str)\n",
        "df_clase['MIN_MES_DE_DEFAULT']=df_clase['MIN_MES_DE_DEFAULT'].astype(str)\n",
        "df_clase['FLG_GARANTIA']=df_clase['FLG_GARANTIA'].astype(str)\n",
        "df_clase['TARJETA_RELACIONADA']=df_clase['TARJETA_RELACIONADA'].astype(str)\n",
        "df_clase['VEHICULAR_RELACIONADA']=df_clase['VEHICULAR_RELACIONADA'].astype(str)\n",
        "df_clase['HIPOTECARIO_RELACIONADA']=df_clase['HIPOTECARIO_RELACIONADA'].astype(str)\n",
        "df_clase['CLASIF_SISTEMA_ULT_12M']=df_clase['CLASIF_SISTEMA_ULT_12M'].astype(str)\n",
        "df_clase['FLG_PDH']=df_clase['FLG_PDH'].astype(str)\n",
        "df_clase['FLG_TC_VISA']=df_clase['FLG_TC_VISA'].astype(str)\n",
        "df_clase['FLG_TC_MC']=df_clase['FLG_TC_MC'].astype(str)"
      ]
    },
    {
      "cell_type": "code",
      "execution_count": 7,
      "metadata": {
        "colab": {
          "base_uri": "https://localhost:8080/",
          "height": 307
        },
        "id": "wMaddPEpWYJn",
        "outputId": "94ec1277-5dad-4276-a536-8708849f2f24"
      },
      "outputs": [
        {
          "output_type": "execute_result",
          "data": {
            "text/plain": [
              "   CODMES CODSOLICITUD         DEUDA  PLAZO_CREDITO FLG_GARANTIA  \\\n",
              "0  201402            1   7116.681318             48            0   \n",
              "1  201404            2   1616.555000             60            0   \n",
              "2  201403            3   8082.775000             48            0   \n",
              "3  201307            4  10186.990760             48            0   \n",
              "4  201401            5  10777.033330             48            0   \n",
              "\n",
              "  MIN_MES_DE_DEFAULT  FLG_DEFAULT_12M           SEGMENTOCLIENTE  \\\n",
              "0                nan                0              CLIENTES ORO   \n",
              "1                nan                0              CLIENTES ORO   \n",
              "2                nan                0              CLIENTES ORO   \n",
              "3           201403.0                1              CLIENTES ORO   \n",
              "4                nan                0  CLIENTES PLATINUM SEGM 2   \n",
              "\n",
              "  TARJETA_RELACIONADA VEHICULAR_RELACIONADA  ... INGRESO_CLIENTE  \\\n",
              "0                   1                     0  ...     2526.246600   \n",
              "1                   1                     0  ...     2895.761372   \n",
              "2                   1                     0  ...     1474.419056   \n",
              "3                   0                     0  ...     1992.756892   \n",
              "4                   1                     0  ...     1680.938223   \n",
              "\n",
              "                 PROFESION  ZONA_DEL_DESEMBOLSO  ESTADO_CIVIL  EDAD_T  \\\n",
              "0                INGENIERO              UCAYALI           SOL    26.0   \n",
              "1                  TECNICO             AREQUIPA           CAS    49.0   \n",
              "2       INGENIERO DE MINAS                 PUNO           SOL    33.0   \n",
              "3                  TECNICO                CUZCO           SOL    25.0   \n",
              "4  TEC MECANICO AUTOMOTRIZ            LIMA_ESTE           CAS    57.0   \n",
              "\n",
              "        CUOTA  LINEA_DE_TC MONTO_TC_MEMBRESIA FLG_TC_VISA  FLG_TC_MC  \n",
              "0  236.983971       5600.0              170.0         0.0        0.0  \n",
              "1   62.089650      19250.0              170.0         0.0        0.0  \n",
              "2   22.894893      10900.0               80.0         0.0        0.0  \n",
              "3  244.267800      10900.0               80.0         0.0        0.0  \n",
              "4   17.430000      16300.0              170.0         0.0        0.0  \n",
              "\n",
              "[5 rows x 31 columns]"
            ],
            "text/html": [
              "\n",
              "  <div id=\"df-f8ff965e-b1db-480e-a42e-422914d5f2b1\" class=\"colab-df-container\">\n",
              "    <div>\n",
              "<style scoped>\n",
              "    .dataframe tbody tr th:only-of-type {\n",
              "        vertical-align: middle;\n",
              "    }\n",
              "\n",
              "    .dataframe tbody tr th {\n",
              "        vertical-align: top;\n",
              "    }\n",
              "\n",
              "    .dataframe thead th {\n",
              "        text-align: right;\n",
              "    }\n",
              "</style>\n",
              "<table border=\"1\" class=\"dataframe\">\n",
              "  <thead>\n",
              "    <tr style=\"text-align: right;\">\n",
              "      <th></th>\n",
              "      <th>CODMES</th>\n",
              "      <th>CODSOLICITUD</th>\n",
              "      <th>DEUDA</th>\n",
              "      <th>PLAZO_CREDITO</th>\n",
              "      <th>FLG_GARANTIA</th>\n",
              "      <th>MIN_MES_DE_DEFAULT</th>\n",
              "      <th>FLG_DEFAULT_12M</th>\n",
              "      <th>SEGMENTOCLIENTE</th>\n",
              "      <th>TARJETA_RELACIONADA</th>\n",
              "      <th>VEHICULAR_RELACIONADA</th>\n",
              "      <th>...</th>\n",
              "      <th>INGRESO_CLIENTE</th>\n",
              "      <th>PROFESION</th>\n",
              "      <th>ZONA_DEL_DESEMBOLSO</th>\n",
              "      <th>ESTADO_CIVIL</th>\n",
              "      <th>EDAD_T</th>\n",
              "      <th>CUOTA</th>\n",
              "      <th>LINEA_DE_TC</th>\n",
              "      <th>MONTO_TC_MEMBRESIA</th>\n",
              "      <th>FLG_TC_VISA</th>\n",
              "      <th>FLG_TC_MC</th>\n",
              "    </tr>\n",
              "  </thead>\n",
              "  <tbody>\n",
              "    <tr>\n",
              "      <th>0</th>\n",
              "      <td>201402</td>\n",
              "      <td>1</td>\n",
              "      <td>7116.681318</td>\n",
              "      <td>48</td>\n",
              "      <td>0</td>\n",
              "      <td>nan</td>\n",
              "      <td>0</td>\n",
              "      <td>CLIENTES ORO</td>\n",
              "      <td>1</td>\n",
              "      <td>0</td>\n",
              "      <td>...</td>\n",
              "      <td>2526.246600</td>\n",
              "      <td>INGENIERO</td>\n",
              "      <td>UCAYALI</td>\n",
              "      <td>SOL</td>\n",
              "      <td>26.0</td>\n",
              "      <td>236.983971</td>\n",
              "      <td>5600.0</td>\n",
              "      <td>170.0</td>\n",
              "      <td>0.0</td>\n",
              "      <td>0.0</td>\n",
              "    </tr>\n",
              "    <tr>\n",
              "      <th>1</th>\n",
              "      <td>201404</td>\n",
              "      <td>2</td>\n",
              "      <td>1616.555000</td>\n",
              "      <td>60</td>\n",
              "      <td>0</td>\n",
              "      <td>nan</td>\n",
              "      <td>0</td>\n",
              "      <td>CLIENTES ORO</td>\n",
              "      <td>1</td>\n",
              "      <td>0</td>\n",
              "      <td>...</td>\n",
              "      <td>2895.761372</td>\n",
              "      <td>TECNICO</td>\n",
              "      <td>AREQUIPA</td>\n",
              "      <td>CAS</td>\n",
              "      <td>49.0</td>\n",
              "      <td>62.089650</td>\n",
              "      <td>19250.0</td>\n",
              "      <td>170.0</td>\n",
              "      <td>0.0</td>\n",
              "      <td>0.0</td>\n",
              "    </tr>\n",
              "    <tr>\n",
              "      <th>2</th>\n",
              "      <td>201403</td>\n",
              "      <td>3</td>\n",
              "      <td>8082.775000</td>\n",
              "      <td>48</td>\n",
              "      <td>0</td>\n",
              "      <td>nan</td>\n",
              "      <td>0</td>\n",
              "      <td>CLIENTES ORO</td>\n",
              "      <td>1</td>\n",
              "      <td>0</td>\n",
              "      <td>...</td>\n",
              "      <td>1474.419056</td>\n",
              "      <td>INGENIERO DE MINAS</td>\n",
              "      <td>PUNO</td>\n",
              "      <td>SOL</td>\n",
              "      <td>33.0</td>\n",
              "      <td>22.894893</td>\n",
              "      <td>10900.0</td>\n",
              "      <td>80.0</td>\n",
              "      <td>0.0</td>\n",
              "      <td>0.0</td>\n",
              "    </tr>\n",
              "    <tr>\n",
              "      <th>3</th>\n",
              "      <td>201307</td>\n",
              "      <td>4</td>\n",
              "      <td>10186.990760</td>\n",
              "      <td>48</td>\n",
              "      <td>0</td>\n",
              "      <td>201403.0</td>\n",
              "      <td>1</td>\n",
              "      <td>CLIENTES ORO</td>\n",
              "      <td>0</td>\n",
              "      <td>0</td>\n",
              "      <td>...</td>\n",
              "      <td>1992.756892</td>\n",
              "      <td>TECNICO</td>\n",
              "      <td>CUZCO</td>\n",
              "      <td>SOL</td>\n",
              "      <td>25.0</td>\n",
              "      <td>244.267800</td>\n",
              "      <td>10900.0</td>\n",
              "      <td>80.0</td>\n",
              "      <td>0.0</td>\n",
              "      <td>0.0</td>\n",
              "    </tr>\n",
              "    <tr>\n",
              "      <th>4</th>\n",
              "      <td>201401</td>\n",
              "      <td>5</td>\n",
              "      <td>10777.033330</td>\n",
              "      <td>48</td>\n",
              "      <td>0</td>\n",
              "      <td>nan</td>\n",
              "      <td>0</td>\n",
              "      <td>CLIENTES PLATINUM SEGM 2</td>\n",
              "      <td>1</td>\n",
              "      <td>0</td>\n",
              "      <td>...</td>\n",
              "      <td>1680.938223</td>\n",
              "      <td>TEC MECANICO AUTOMOTRIZ</td>\n",
              "      <td>LIMA_ESTE</td>\n",
              "      <td>CAS</td>\n",
              "      <td>57.0</td>\n",
              "      <td>17.430000</td>\n",
              "      <td>16300.0</td>\n",
              "      <td>170.0</td>\n",
              "      <td>0.0</td>\n",
              "      <td>0.0</td>\n",
              "    </tr>\n",
              "  </tbody>\n",
              "</table>\n",
              "<p>5 rows × 31 columns</p>\n",
              "</div>\n",
              "    <div class=\"colab-df-buttons\">\n",
              "\n",
              "  <div class=\"colab-df-container\">\n",
              "    <button class=\"colab-df-convert\" onclick=\"convertToInteractive('df-f8ff965e-b1db-480e-a42e-422914d5f2b1')\"\n",
              "            title=\"Convert this dataframe to an interactive table.\"\n",
              "            style=\"display:none;\">\n",
              "\n",
              "  <svg xmlns=\"http://www.w3.org/2000/svg\" height=\"24px\" viewBox=\"0 -960 960 960\">\n",
              "    <path d=\"M120-120v-720h720v720H120Zm60-500h600v-160H180v160Zm220 220h160v-160H400v160Zm0 220h160v-160H400v160ZM180-400h160v-160H180v160Zm440 0h160v-160H620v160ZM180-180h160v-160H180v160Zm440 0h160v-160H620v160Z\"/>\n",
              "  </svg>\n",
              "    </button>\n",
              "\n",
              "  <style>\n",
              "    .colab-df-container {\n",
              "      display:flex;\n",
              "      gap: 12px;\n",
              "    }\n",
              "\n",
              "    .colab-df-convert {\n",
              "      background-color: #E8F0FE;\n",
              "      border: none;\n",
              "      border-radius: 50%;\n",
              "      cursor: pointer;\n",
              "      display: none;\n",
              "      fill: #1967D2;\n",
              "      height: 32px;\n",
              "      padding: 0 0 0 0;\n",
              "      width: 32px;\n",
              "    }\n",
              "\n",
              "    .colab-df-convert:hover {\n",
              "      background-color: #E2EBFA;\n",
              "      box-shadow: 0px 1px 2px rgba(60, 64, 67, 0.3), 0px 1px 3px 1px rgba(60, 64, 67, 0.15);\n",
              "      fill: #174EA6;\n",
              "    }\n",
              "\n",
              "    .colab-df-buttons div {\n",
              "      margin-bottom: 4px;\n",
              "    }\n",
              "\n",
              "    [theme=dark] .colab-df-convert {\n",
              "      background-color: #3B4455;\n",
              "      fill: #D2E3FC;\n",
              "    }\n",
              "\n",
              "    [theme=dark] .colab-df-convert:hover {\n",
              "      background-color: #434B5C;\n",
              "      box-shadow: 0px 1px 3px 1px rgba(0, 0, 0, 0.15);\n",
              "      filter: drop-shadow(0px 1px 2px rgba(0, 0, 0, 0.3));\n",
              "      fill: #FFFFFF;\n",
              "    }\n",
              "  </style>\n",
              "\n",
              "    <script>\n",
              "      const buttonEl =\n",
              "        document.querySelector('#df-f8ff965e-b1db-480e-a42e-422914d5f2b1 button.colab-df-convert');\n",
              "      buttonEl.style.display =\n",
              "        google.colab.kernel.accessAllowed ? 'block' : 'none';\n",
              "\n",
              "      async function convertToInteractive(key) {\n",
              "        const element = document.querySelector('#df-f8ff965e-b1db-480e-a42e-422914d5f2b1');\n",
              "        const dataTable =\n",
              "          await google.colab.kernel.invokeFunction('convertToInteractive',\n",
              "                                                    [key], {});\n",
              "        if (!dataTable) return;\n",
              "\n",
              "        const docLinkHtml = 'Like what you see? Visit the ' +\n",
              "          '<a target=\"_blank\" href=https://colab.research.google.com/notebooks/data_table.ipynb>data table notebook</a>'\n",
              "          + ' to learn more about interactive tables.';\n",
              "        element.innerHTML = '';\n",
              "        dataTable['output_type'] = 'display_data';\n",
              "        await google.colab.output.renderOutput(dataTable, element);\n",
              "        const docLink = document.createElement('div');\n",
              "        docLink.innerHTML = docLinkHtml;\n",
              "        element.appendChild(docLink);\n",
              "      }\n",
              "    </script>\n",
              "  </div>\n",
              "\n",
              "\n",
              "    <div id=\"df-7f8324aa-bff2-4b33-8af7-0d7fc2d583a6\">\n",
              "      <button class=\"colab-df-quickchart\" onclick=\"quickchart('df-7f8324aa-bff2-4b33-8af7-0d7fc2d583a6')\"\n",
              "                title=\"Suggest charts\"\n",
              "                style=\"display:none;\">\n",
              "\n",
              "<svg xmlns=\"http://www.w3.org/2000/svg\" height=\"24px\"viewBox=\"0 0 24 24\"\n",
              "     width=\"24px\">\n",
              "    <g>\n",
              "        <path d=\"M19 3H5c-1.1 0-2 .9-2 2v14c0 1.1.9 2 2 2h14c1.1 0 2-.9 2-2V5c0-1.1-.9-2-2-2zM9 17H7v-7h2v7zm4 0h-2V7h2v10zm4 0h-2v-4h2v4z\"/>\n",
              "    </g>\n",
              "</svg>\n",
              "      </button>\n",
              "\n",
              "<style>\n",
              "  .colab-df-quickchart {\n",
              "      --bg-color: #E8F0FE;\n",
              "      --fill-color: #1967D2;\n",
              "      --hover-bg-color: #E2EBFA;\n",
              "      --hover-fill-color: #174EA6;\n",
              "      --disabled-fill-color: #AAA;\n",
              "      --disabled-bg-color: #DDD;\n",
              "  }\n",
              "\n",
              "  [theme=dark] .colab-df-quickchart {\n",
              "      --bg-color: #3B4455;\n",
              "      --fill-color: #D2E3FC;\n",
              "      --hover-bg-color: #434B5C;\n",
              "      --hover-fill-color: #FFFFFF;\n",
              "      --disabled-bg-color: #3B4455;\n",
              "      --disabled-fill-color: #666;\n",
              "  }\n",
              "\n",
              "  .colab-df-quickchart {\n",
              "    background-color: var(--bg-color);\n",
              "    border: none;\n",
              "    border-radius: 50%;\n",
              "    cursor: pointer;\n",
              "    display: none;\n",
              "    fill: var(--fill-color);\n",
              "    height: 32px;\n",
              "    padding: 0;\n",
              "    width: 32px;\n",
              "  }\n",
              "\n",
              "  .colab-df-quickchart:hover {\n",
              "    background-color: var(--hover-bg-color);\n",
              "    box-shadow: 0 1px 2px rgba(60, 64, 67, 0.3), 0 1px 3px 1px rgba(60, 64, 67, 0.15);\n",
              "    fill: var(--button-hover-fill-color);\n",
              "  }\n",
              "\n",
              "  .colab-df-quickchart-complete:disabled,\n",
              "  .colab-df-quickchart-complete:disabled:hover {\n",
              "    background-color: var(--disabled-bg-color);\n",
              "    fill: var(--disabled-fill-color);\n",
              "    box-shadow: none;\n",
              "  }\n",
              "\n",
              "  .colab-df-spinner {\n",
              "    border: 2px solid var(--fill-color);\n",
              "    border-color: transparent;\n",
              "    border-bottom-color: var(--fill-color);\n",
              "    animation:\n",
              "      spin 1s steps(1) infinite;\n",
              "  }\n",
              "\n",
              "  @keyframes spin {\n",
              "    0% {\n",
              "      border-color: transparent;\n",
              "      border-bottom-color: var(--fill-color);\n",
              "      border-left-color: var(--fill-color);\n",
              "    }\n",
              "    20% {\n",
              "      border-color: transparent;\n",
              "      border-left-color: var(--fill-color);\n",
              "      border-top-color: var(--fill-color);\n",
              "    }\n",
              "    30% {\n",
              "      border-color: transparent;\n",
              "      border-left-color: var(--fill-color);\n",
              "      border-top-color: var(--fill-color);\n",
              "      border-right-color: var(--fill-color);\n",
              "    }\n",
              "    40% {\n",
              "      border-color: transparent;\n",
              "      border-right-color: var(--fill-color);\n",
              "      border-top-color: var(--fill-color);\n",
              "    }\n",
              "    60% {\n",
              "      border-color: transparent;\n",
              "      border-right-color: var(--fill-color);\n",
              "    }\n",
              "    80% {\n",
              "      border-color: transparent;\n",
              "      border-right-color: var(--fill-color);\n",
              "      border-bottom-color: var(--fill-color);\n",
              "    }\n",
              "    90% {\n",
              "      border-color: transparent;\n",
              "      border-bottom-color: var(--fill-color);\n",
              "    }\n",
              "  }\n",
              "</style>\n",
              "\n",
              "      <script>\n",
              "        async function quickchart(key) {\n",
              "          const quickchartButtonEl =\n",
              "            document.querySelector('#' + key + ' button');\n",
              "          quickchartButtonEl.disabled = true;  // To prevent multiple clicks.\n",
              "          quickchartButtonEl.classList.add('colab-df-spinner');\n",
              "          try {\n",
              "            const charts = await google.colab.kernel.invokeFunction(\n",
              "                'suggestCharts', [key], {});\n",
              "          } catch (error) {\n",
              "            console.error('Error during call to suggestCharts:', error);\n",
              "          }\n",
              "          quickchartButtonEl.classList.remove('colab-df-spinner');\n",
              "          quickchartButtonEl.classList.add('colab-df-quickchart-complete');\n",
              "        }\n",
              "        (() => {\n",
              "          let quickchartButtonEl =\n",
              "            document.querySelector('#df-7f8324aa-bff2-4b33-8af7-0d7fc2d583a6 button');\n",
              "          quickchartButtonEl.style.display =\n",
              "            google.colab.kernel.accessAllowed ? 'block' : 'none';\n",
              "        })();\n",
              "      </script>\n",
              "    </div>\n",
              "\n",
              "    </div>\n",
              "  </div>\n"
            ],
            "application/vnd.google.colaboratory.intrinsic+json": {
              "type": "dataframe",
              "variable_name": "df_clase"
            }
          },
          "metadata": {},
          "execution_count": 7
        }
      ],
      "source": [
        "df_clase.head()"
      ]
    },
    {
      "cell_type": "code",
      "execution_count": 8,
      "metadata": {
        "colab": {
          "base_uri": "https://localhost:8080/"
        },
        "id": "ue0k2TNU2950",
        "outputId": "11aff1e7-ffa4-4835-b384-f5f8d74cb921"
      },
      "outputs": [
        {
          "output_type": "execute_result",
          "data": {
            "text/plain": [
              "(31944, 31)"
            ]
          },
          "metadata": {},
          "execution_count": 8
        }
      ],
      "source": [
        "df_clase=df_clase.drop_duplicates()\n",
        "df_clase.reset_index()\n",
        "df_clase.shape"
      ]
    },
    {
      "cell_type": "code",
      "execution_count": 9,
      "metadata": {
        "colab": {
          "base_uri": "https://localhost:8080/"
        },
        "id": "H2sAYMEkO8Zg",
        "outputId": "29892c53-4435-4752-b718-f8aab7f98630"
      },
      "outputs": [
        {
          "output_type": "stream",
          "name": "stdout",
          "text": [
            "<class 'pandas.core.frame.DataFrame'>\n",
            "RangeIndex: 31944 entries, 0 to 31943\n",
            "Data columns (total 31 columns):\n",
            " #   Column                   Non-Null Count  Dtype  \n",
            "---  ------                   --------------  -----  \n",
            " 0   CODMES                   31944 non-null  object \n",
            " 1   CODSOLICITUD             31944 non-null  object \n",
            " 2   DEUDA                    31944 non-null  float64\n",
            " 3   PLAZO_CREDITO            31944 non-null  int64  \n",
            " 4   FLG_GARANTIA             31944 non-null  object \n",
            " 5   MIN_MES_DE_DEFAULT       31944 non-null  object \n",
            " 6   FLG_DEFAULT_12M          31944 non-null  int64  \n",
            " 7   SEGMENTOCLIENTE          31944 non-null  object \n",
            " 8   TARJETA_RELACIONADA      31944 non-null  object \n",
            " 9   VEHICULAR_RELACIONADA    31944 non-null  object \n",
            " 10  HIPOTECARIO_RELACIONADA  31944 non-null  object \n",
            " 11  ATRASO_MAXIMO_ULT_6M     31944 non-null  int64  \n",
            " 12  ATRASO_MAXIMO_ULT_12M    31941 non-null  float64\n",
            " 13  ATRASO_MAXIMO_ULT_24M    31937 non-null  float64\n",
            " 14  MESES_AHORROS_ULT_6M     31266 non-null  float64\n",
            " 15  MEDIANA_AHORROS_ULT_6M   31942 non-null  float64\n",
            " 16  DEUDA_TOTAL_SISTEMA      28763 non-null  float64\n",
            " 17  CLASIF_SISTEMA_ULT_12M   31944 non-null  object \n",
            " 18  FLG_PDH                  31944 non-null  object \n",
            " 19  NUMERO_DE_PAGOS_PDH      31944 non-null  int64  \n",
            " 20  MONTO_TC_SISTEMA         31944 non-null  float64\n",
            " 21  INGRESO_CLIENTE          31166 non-null  float64\n",
            " 22  PROFESION                31604 non-null  object \n",
            " 23  ZONA_DEL_DESEMBOLSO      30954 non-null  object \n",
            " 24  ESTADO_CIVIL             30954 non-null  object \n",
            " 25  EDAD_T                   30954 non-null  float64\n",
            " 26  CUOTA                    31294 non-null  float64\n",
            " 27  LINEA_DE_TC              31294 non-null  float64\n",
            " 28  MONTO_TC_MEMBRESIA       31294 non-null  float64\n",
            " 29  FLG_TC_VISA              31944 non-null  object \n",
            " 30  FLG_TC_MC                31944 non-null  object \n",
            "dtypes: float64(12), int64(4), object(15)\n",
            "memory usage: 7.6+ MB\n"
          ]
        }
      ],
      "source": [
        "df_clase.info()"
      ]
    },
    {
      "cell_type": "code",
      "execution_count": 10,
      "metadata": {
        "colab": {
          "base_uri": "https://localhost:8080/",
          "height": 178
        },
        "id": "UGULk_uwR5YO",
        "outputId": "9d5f1826-02d0-4646-c1f4-d5f2c4816cbe"
      },
      "outputs": [
        {
          "output_type": "execute_result",
          "data": {
            "text/plain": [
              "FLG_DEFAULT_12M\n",
              "0    29920\n",
              "1     2024\n",
              "Name: count, dtype: int64"
            ],
            "text/html": [
              "<div>\n",
              "<style scoped>\n",
              "    .dataframe tbody tr th:only-of-type {\n",
              "        vertical-align: middle;\n",
              "    }\n",
              "\n",
              "    .dataframe tbody tr th {\n",
              "        vertical-align: top;\n",
              "    }\n",
              "\n",
              "    .dataframe thead th {\n",
              "        text-align: right;\n",
              "    }\n",
              "</style>\n",
              "<table border=\"1\" class=\"dataframe\">\n",
              "  <thead>\n",
              "    <tr style=\"text-align: right;\">\n",
              "      <th></th>\n",
              "      <th>count</th>\n",
              "    </tr>\n",
              "    <tr>\n",
              "      <th>FLG_DEFAULT_12M</th>\n",
              "      <th></th>\n",
              "    </tr>\n",
              "  </thead>\n",
              "  <tbody>\n",
              "    <tr>\n",
              "      <th>0</th>\n",
              "      <td>29920</td>\n",
              "    </tr>\n",
              "    <tr>\n",
              "      <th>1</th>\n",
              "      <td>2024</td>\n",
              "    </tr>\n",
              "  </tbody>\n",
              "</table>\n",
              "</div><br><label><b>dtype:</b> int64</label>"
            ]
          },
          "metadata": {},
          "execution_count": 10
        }
      ],
      "source": [
        "target_count = df_clase['FLG_DEFAULT_12M'].value_counts()\n",
        "target_count"
      ]
    },
    {
      "cell_type": "code",
      "execution_count": 11,
      "metadata": {
        "colab": {
          "base_uri": "https://localhost:8080/",
          "height": 501
        },
        "id": "k0J4-Sy1E4it",
        "outputId": "3c74eec6-8fc9-4a22-eaca-24fe14674606"
      },
      "outputs": [
        {
          "output_type": "stream",
          "name": "stdout",
          "text": [
            "# Buen_Pagador: 29920\n",
            "# 1 Mora_12M: 2024\n",
            "Bad rate: 0.06336088154269973\n"
          ]
        },
        {
          "output_type": "display_data",
          "data": {
            "text/plain": [
              "<Figure size 640x480 with 1 Axes>"
            ],
            "image/png": "[encoded data removed]"
          },
          "metadata": {}
        }
      ],
      "source": [
        "sns.countplot(data = df_clase, x = \"FLG_DEFAULT_12M\", hue=\"FLG_DEFAULT_12M\")\n",
        "target_count = df_clase.FLG_DEFAULT_12M.value_counts()\n",
        "print('# Buen_Pagador:', target_count[0])\n",
        "print('# 1 Mora_12M:', target_count[1])\n",
        "print('Bad rate:', target_count[1]/(target_count[0]+target_count[1]))"
      ]
    },
    {
      "cell_type": "code",
      "execution_count": 12,
      "metadata": {
        "colab": {
          "base_uri": "https://localhost:8080/",
          "height": 427
        },
        "id": "WVKdulyXMG_G",
        "outputId": "df8da134-3138-4fe0-97bc-95d9a914b1fe"
      },
      "outputs": [
        {
          "output_type": "display_data",
          "data": {
            "text/plain": [
              "<Figure size 900x400 with 1 Axes>"
            ],
            "image/png": "[encoded data removed]"
          },
          "metadata": {}
        }
      ],
      "source": [
        "a1=df_clase.pivot_table(values=\"CODSOLICITUD\", index=\"CODMES\", aggfunc=\"count\", sort=True)\n",
        "a1.plot(kind = 'bar',\n",
        "       #stacked = 'True',          # Muestra las barras apiladas\n",
        "       alpha = 0.4,               # nivel de transparencia\n",
        "       width = 0.9,               # Grosor de las barras para dejar espacio entre ellas\n",
        "       figsize=(9,4));            # Cambiamos el tamaño de la figura"
      ]
    },
    {
      "cell_type": "code",
      "execution_count": 13,
      "metadata": {
        "colab": {
          "base_uri": "https://localhost:8080/",
          "height": 410
        },
        "id": "8u313H-zO2eA",
        "outputId": "d063fb9d-5e42-4f49-feee-a4f1ab8d1b89"
      },
      "outputs": [
        {
          "output_type": "execute_result",
          "data": {
            "text/plain": [
              "<Axes: xlabel='CODMES'>"
            ]
          },
          "metadata": {},
          "execution_count": 13
        },
        {
          "output_type": "display_data",
          "data": {
            "text/plain": [
              "<Figure size 900x400 with 1 Axes>"
            ],
            "image/png": "[encoded data removed]"
          },
          "metadata": {}
        }
      ],
      "source": [
        "a2=df_clase.pivot_table(values=\"FLG_DEFAULT_12M\", index=\"CODMES\", aggfunc=\"mean\", sort=True)\n",
        "a2.plot(alpha = 0.4, figsize=(9,4), ylim=(0.05,0.08))"
      ]
    },
    {
      "cell_type": "markdown",
      "metadata": {
        "id": "wCcaFoD-0Izx"
      },
      "source": [
        "### ***Hagamos el Análisis Univariado***"
      ]
    },
    {
      "cell_type": "markdown",
      "metadata": {
        "id": "8ZD63VmY0S97"
      },
      "source": [
        "Revisemos la cantidad de nulos y sus proporciones por variable"
      ]
    },
    {
      "cell_type": "code",
      "execution_count": 14,
      "metadata": {
        "colab": {
          "base_uri": "https://localhost:8080/",
          "height": 1000
        },
        "id": "sdFtcJK50Fiy",
        "outputId": "b6bde1ad-5011-49fb-bc13-5937e624b9a8"
      },
      "outputs": [
        {
          "output_type": "execute_result",
          "data": {
            "text/plain": [
              "                         number_null_values  ratio_null_values\n",
              "CODMES                                    0           0.000000\n",
              "CODSOLICITUD                              0           0.000000\n",
              "DEUDA                                     0           0.000000\n",
              "PLAZO_CREDITO                             0           0.000000\n",
              "FLG_GARANTIA                              0           0.000000\n",
              "MIN_MES_DE_DEFAULT                        0           0.000000\n",
              "FLG_DEFAULT_12M                           0           0.000000\n",
              "SEGMENTOCLIENTE                           0           0.000000\n",
              "TARJETA_RELACIONADA                       0           0.000000\n",
              "VEHICULAR_RELACIONADA                     0           0.000000\n",
              "HIPOTECARIO_RELACIONADA                   0           0.000000\n",
              "ATRASO_MAXIMO_ULT_6M                      0           0.000000\n",
              "ATRASO_MAXIMO_ULT_12M                     3           0.000094\n",
              "ATRASO_MAXIMO_ULT_24M                     7           0.000219\n",
              "MESES_AHORROS_ULT_6M                    678           0.021225\n",
              "MEDIANA_AHORROS_ULT_6M                    2           0.000063\n",
              "DEUDA_TOTAL_SISTEMA                    3181           0.099581\n",
              "CLASIF_SISTEMA_ULT_12M                    0           0.000000\n",
              "FLG_PDH                                   0           0.000000\n",
              "NUMERO_DE_PAGOS_PDH                       0           0.000000\n",
              "MONTO_TC_SISTEMA                          0           0.000000\n",
              "INGRESO_CLIENTE                         778           0.024355\n",
              "PROFESION                               340           0.010644\n",
              "ZONA_DEL_DESEMBOLSO                     990           0.030992\n",
              "ESTADO_CIVIL                            990           0.030992\n",
              "EDAD_T                                  990           0.030992\n",
              "CUOTA                                   650           0.020348\n",
              "LINEA_DE_TC                             650           0.020348\n",
              "MONTO_TC_MEMBRESIA                      650           0.020348\n",
              "FLG_TC_VISA                               0           0.000000\n",
              "FLG_TC_MC                                 0           0.000000"
            ],
            "text/html": [
              "\n",
              "  <div id=\"df-16d126e7-9b8c-4f97-b8f0-dbb04d911c95\" class=\"colab-df-container\">\n",
              "    <div>\n",
              "<style scoped>\n",
              "    .dataframe tbody tr th:only-of-type {\n",
              "        vertical-align: middle;\n",
              "    }\n",
              "\n",
              "    .dataframe tbody tr th {\n",
              "        vertical-align: top;\n",
              "    }\n",
              "\n",
              "    .dataframe thead th {\n",
              "        text-align: right;\n",
              "    }\n",
              "</style>\n",
              "<table border=\"1\" class=\"dataframe\">\n",
              "  <thead>\n",
              "    <tr style=\"text-align: right;\">\n",
              "      <th></th>\n",
              "      <th>number_null_values</th>\n",
              "      <th>ratio_null_values</th>\n",
              "    </tr>\n",
              "  </thead>\n",
              "  <tbody>\n",
              "    <tr>\n",
              "      <th>CODMES</th>\n",
              "      <td>0</td>\n",
              "      <td>0.000000</td>\n",
              "    </tr>\n",
              "    <tr>\n",
              "      <th>CODSOLICITUD</th>\n",
              "      <td>0</td>\n",
              "      <td>0.000000</td>\n",
              "    </tr>\n",
              "    <tr>\n",
              "      <th>DEUDA</th>\n",
              "      <td>0</td>\n",
              "      <td>0.000000</td>\n",
              "    </tr>\n",
              "    <tr>\n",
              "      <th>PLAZO_CREDITO</th>\n",
              "      <td>0</td>\n",
              "      <td>0.000000</td>\n",
              "    </tr>\n",
              "    <tr>\n",
              "      <th>FLG_GARANTIA</th>\n",
              "      <td>0</td>\n",
              "      <td>0.000000</td>\n",
              "    </tr>\n",
              "    <tr>\n",
              "      <th>MIN_MES_DE_DEFAULT</th>\n",
              "      <td>0</td>\n",
              "      <td>0.000000</td>\n",
              "    </tr>\n",
              "    <tr>\n",
              "      <th>FLG_DEFAULT_12M</th>\n",
              "      <td>0</td>\n",
              "      <td>0.000000</td>\n",
              "    </tr>\n",
              "    <tr>\n",
              "      <th>SEGMENTOCLIENTE</th>\n",
              "      <td>0</td>\n",
              "      <td>0.000000</td>\n",
              "    </tr>\n",
              "    <tr>\n",
              "      <th>TARJETA_RELACIONADA</th>\n",
              "      <td>0</td>\n",
              "      <td>0.000000</td>\n",
              "    </tr>\n",
              "    <tr>\n",
              "      <th>VEHICULAR_RELACIONADA</th>\n",
              "      <td>0</td>\n",
              "      <td>0.000000</td>\n",
              "    </tr>\n",
              "    <tr>\n",
              "      <th>HIPOTECARIO_RELACIONADA</th>\n",
              "      <td>0</td>\n",
              "      <td>0.000000</td>\n",
              "    </tr>\n",
              "    <tr>\n",
              "      <th>ATRASO_MAXIMO_ULT_6M</th>\n",
              "      <td>0</td>\n",
              "      <td>0.000000</td>\n",
              "    </tr>\n",
              "    <tr>\n",
              "      <th>ATRASO_MAXIMO_ULT_12M</th>\n",
              "      <td>3</td>\n",
              "      <td>0.000094</td>\n",
              "    </tr>\n",
              "    <tr>\n",
              "      <th>ATRASO_MAXIMO_ULT_24M</th>\n",
              "      <td>7</td>\n",
              "      <td>0.000219</td>\n",
              "    </tr>\n",
              "    <tr>\n",
              "      <th>MESES_AHORROS_ULT_6M</th>\n",
              "      <td>678</td>\n",
              "      <td>0.021225</td>\n",
              "    </tr>\n",
              "    <tr>\n",
              "      <th>MEDIANA_AHORROS_ULT_6M</th>\n",
              "      <td>2</td>\n",
              "      <td>0.000063</td>\n",
              "    </tr>\n",
              "    <tr>\n",
              "      <th>DEUDA_TOTAL_SISTEMA</th>\n",
              "      <td>3181</td>\n",
              "      <td>0.099581</td>\n",
              "    </tr>\n",
              "    <tr>\n",
              "      <th>CLASIF_SISTEMA_ULT_12M</th>\n",
              "      <td>0</td>\n",
              "      <td>0.000000</td>\n",
              "    </tr>\n",
              "    <tr>\n",
              "      <th>FLG_PDH</th>\n",
              "      <td>0</td>\n",
              "      <td>0.000000</td>\n",
              "    </tr>\n",
              "    <tr>\n",
              "      <th>NUMERO_DE_PAGOS_PDH</th>\n",
              "      <td>0</td>\n",
              "      <td>0.000000</td>\n",
              "    </tr>\n",
              "    <tr>\n",
              "      <th>MONTO_TC_SISTEMA</th>\n",
              "      <td>0</td>\n",
              "      <td>0.000000</td>\n",
              "    </tr>\n",
              "    <tr>\n",
              "      <th>INGRESO_CLIENTE</th>\n",
              "      <td>778</td>\n",
              "      <td>0.024355</td>\n",
              "    </tr>\n",
              "    <tr>\n",
              "      <th>PROFESION</th>\n",
              "      <td>340</td>\n",
              "      <td>0.010644</td>\n",
              "    </tr>\n",
              "    <tr>\n",
              "      <th>ZONA_DEL_DESEMBOLSO</th>\n",
              "      <td>990</td>\n",
              "      <td>0.030992</td>\n",
              "    </tr>\n",
              "    <tr>\n",
              "      <th>ESTADO_CIVIL</th>\n",
              "      <td>990</td>\n",
              "      <td>0.030992</td>\n",
              "    </tr>\n",
              "    <tr>\n",
              "      <th>EDAD_T</th>\n",
              "      <td>990</td>\n",
              "      <td>0.030992</td>\n",
              "    </tr>\n",
              "    <tr>\n",
              "      <th>CUOTA</th>\n",
              "      <td>650</td>\n",
              "      <td>0.020348</td>\n",
              "    </tr>\n",
              "    <tr>\n",
              "      <th>LINEA_DE_TC</th>\n",
              "      <td>650</td>\n",
              "      <td>0.020348</td>\n",
              "    </tr>\n",
              "    <tr>\n",
              "      <th>MONTO_TC_MEMBRESIA</th>\n",
              "      <td>650</td>\n",
              "      <td>0.020348</td>\n",
              "    </tr>\n",
              "    <tr>\n",
              "      <th>FLG_TC_VISA</th>\n",
              "      <td>0</td>\n",
              "      <td>0.000000</td>\n",
              "    </tr>\n",
              "    <tr>\n",
              "      <th>FLG_TC_MC</th>\n",
              "      <td>0</td>\n",
              "      <td>0.000000</td>\n",
              "    </tr>\n",
              "  </tbody>\n",
              "</table>\n",
              "</div>\n",
              "    <div class=\"colab-df-buttons\">\n",
              "\n",
              "  <div class=\"colab-df-container\">\n",
              "    <button class=\"colab-df-convert\" onclick=\"convertToInteractive('df-16d126e7-9b8c-4f97-b8f0-dbb04d911c95')\"\n",
              "            title=\"Convert this dataframe to an interactive table.\"\n",
              "            style=\"display:none;\">\n",
              "\n",
              "  <svg xmlns=\"http://www.w3.org/2000/svg\" height=\"24px\" viewBox=\"0 -960 960 960\">\n",
              "    <path d=\"M120-120v-720h720v720H120Zm60-500h600v-160H180v160Zm220 220h160v-160H400v160Zm0 220h160v-160H400v160ZM180-400h160v-160H180v160Zm440 0h160v-160H620v160ZM180-180h160v-160H180v160Zm440 0h160v-160H620v160Z\"/>\n",
              "  </svg>\n",
              "    </button>\n",
              "\n",
              "  <style>\n",
              "    .colab-df-container {\n",
              "      display:flex;\n",
              "      gap: 12px;\n",
              "    }\n",
              "\n",
              "    .colab-df-convert {\n",
              "      background-color: #E8F0FE;\n",
              "      border: none;\n",
              "      border-radius: 50%;\n",
              "      cursor: pointer;\n",
              "      display: none;\n",
              "      fill: #1967D2;\n",
              "      height: 32px;\n",
              "      padding: 0 0 0 0;\n",
              "      width: 32px;\n",
              "    }\n",
              "\n",
              "    .colab-df-convert:hover {\n",
              "      background-color: #E2EBFA;\n",
              "      box-shadow: 0px 1px 2px rgba(60, 64, 67, 0.3), 0px 1px 3px 1px rgba(60, 64, 67, 0.15);\n",
              "      fill: #174EA6;\n",
              "    }\n",
              "\n",
              "    .colab-df-buttons div {\n",
              "      margin-bottom: 4px;\n",
              "    }\n",
              "\n",
              "    [theme=dark] .colab-df-convert {\n",
              "      background-color: #3B4455;\n",
              "      fill: #D2E3FC;\n",
              "    }\n",
              "\n",
              "    [theme=dark] .colab-df-convert:hover {\n",
              "      background-color: #434B5C;\n",
              "      box-shadow: 0px 1px 3px 1px rgba(0, 0, 0, 0.15);\n",
              "      filter: drop-shadow(0px 1px 2px rgba(0, 0, 0, 0.3));\n",
              "      fill: #FFFFFF;\n",
              "    }\n",
              "  </style>\n",
              "\n",
              "    <script>\n",
              "      const buttonEl =\n",
              "        document.querySelector('#df-16d126e7-9b8c-4f97-b8f0-dbb04d911c95 button.colab-df-convert');\n",
              "      buttonEl.style.display =\n",
              "        google.colab.kernel.accessAllowed ? 'block' : 'none';\n",
              "\n",
              "      async function convertToInteractive(key) {\n",
              "        const element = document.querySelector('#df-16d126e7-9b8c-4f97-b8f0-dbb04d911c95');\n",
              "        const dataTable =\n",
              "          await google.colab.kernel.invokeFunction('convertToInteractive',\n",
              "                                                    [key], {});\n",
              "        if (!dataTable) return;\n",
              "\n",
              "        const docLinkHtml = 'Like what you see? Visit the ' +\n",
              "          '<a target=\"_blank\" href=https://colab.research.google.com/notebooks/data_table.ipynb>data table notebook</a>'\n",
              "          + ' to learn more about interactive tables.';\n",
              "        element.innerHTML = '';\n",
              "        dataTable['output_type'] = 'display_data';\n",
              "        await google.colab.output.renderOutput(dataTable, element);\n",
              "        const docLink = document.createElement('div');\n",
              "        docLink.innerHTML = docLinkHtml;\n",
              "        element.appendChild(docLink);\n",
              "      }\n",
              "    </script>\n",
              "  </div>\n",
              "\n",
              "\n",
              "    <div id=\"df-154e9268-10be-424c-ac91-6040b8348bbc\">\n",
              "      <button class=\"colab-df-quickchart\" onclick=\"quickchart('df-154e9268-10be-424c-ac91-6040b8348bbc')\"\n",
              "                title=\"Suggest charts\"\n",
              "                style=\"display:none;\">\n",
              "\n",
              "<svg xmlns=\"http://www.w3.org/2000/svg\" height=\"24px\"viewBox=\"0 0 24 24\"\n",
              "     width=\"24px\">\n",
              "    <g>\n",
              "        <path d=\"M19 3H5c-1.1 0-2 .9-2 2v14c0 1.1.9 2 2 2h14c1.1 0 2-.9 2-2V5c0-1.1-.9-2-2-2zM9 17H7v-7h2v7zm4 0h-2V7h2v10zm4 0h-2v-4h2v4z\"/>\n",
              "    </g>\n",
              "</svg>\n",
              "      </button>\n",
              "\n",
              "<style>\n",
              "  .colab-df-quickchart {\n",
              "      --bg-color: #E8F0FE;\n",
              "      --fill-color: #1967D2;\n",
              "      --hover-bg-color: #E2EBFA;\n",
              "      --hover-fill-color: #174EA6;\n",
              "      --disabled-fill-color: #AAA;\n",
              "      --disabled-bg-color: #DDD;\n",
              "  }\n",
              "\n",
              "  [theme=dark] .colab-df-quickchart {\n",
              "      --bg-color: #3B4455;\n",
              "      --fill-color: #D2E3FC;\n",
              "      --hover-bg-color: #434B5C;\n",
              "      --hover-fill-color: #FFFFFF;\n",
              "      --disabled-bg-color: #3B4455;\n",
              "      --disabled-fill-color: #666;\n",
              "  }\n",
              "\n",
              "  .colab-df-quickchart {\n",
              "    background-color: var(--bg-color);\n",
              "    border: none;\n",
              "    border-radius: 50%;\n",
              "    cursor: pointer;\n",
              "    display: none;\n",
              "    fill: var(--fill-color);\n",
              "    height: 32px;\n",
              "    padding: 0;\n",
              "    width: 32px;\n",
              "  }\n",
              "\n",
              "  .colab-df-quickchart:hover {\n",
              "    background-color: var(--hover-bg-color);\n",
              "    box-shadow: 0 1px 2px rgba(60, 64, 67, 0.3), 0 1px 3px 1px rgba(60, 64, 67, 0.15);\n",
              "    fill: var(--button-hover-fill-color);\n",
              "  }\n",
              "\n",
              "  .colab-df-quickchart-complete:disabled,\n",
              "  .colab-df-quickchart-complete:disabled:hover {\n",
              "    background-color: var(--disabled-bg-color);\n",
              "    fill: var(--disabled-fill-color);\n",
              "    box-shadow: none;\n",
              "  }\n",
              "\n",
              "  .colab-df-spinner {\n",
              "    border: 2px solid var(--fill-color);\n",
              "    border-color: transparent;\n",
              "    border-bottom-color: var(--fill-color);\n",
              "    animation:\n",
              "      spin 1s steps(1) infinite;\n",
              "  }\n",
              "\n",
              "  @keyframes spin {\n",
              "    0% {\n",
              "      border-color: transparent;\n",
              "      border-bottom-color: var(--fill-color);\n",
              "      border-left-color: var(--fill-color);\n",
              "    }\n",
              "    20% {\n",
              "      border-color: transparent;\n",
              "      border-left-color: var(--fill-color);\n",
              "      border-top-color: var(--fill-color);\n",
              "    }\n",
              "    30% {\n",
              "      border-color: transparent;\n",
              "      border-left-color: var(--fill-color);\n",
              "      border-top-color: var(--fill-color);\n",
              "      border-right-color: var(--fill-color);\n",
              "    }\n",
              "    40% {\n",
              "      border-color: transparent;\n",
              "      border-right-color: var(--fill-color);\n",
              "      border-top-color: var(--fill-color);\n",
              "    }\n",
              "    60% {\n",
              "      border-color: transparent;\n",
              "      border-right-color: var(--fill-color);\n",
              "    }\n",
              "    80% {\n",
              "      border-color: transparent;\n",
              "      border-right-color: var(--fill-color);\n",
              "      border-bottom-color: var(--fill-color);\n",
              "    }\n",
              "    90% {\n",
              "      border-color: transparent;\n",
              "      border-bottom-color: var(--fill-color);\n",
              "    }\n",
              "  }\n",
              "</style>\n",
              "\n",
              "      <script>\n",
              "        async function quickchart(key) {\n",
              "          const quickchartButtonEl =\n",
              "            document.querySelector('#' + key + ' button');\n",
              "          quickchartButtonEl.disabled = true;  // To prevent multiple clicks.\n",
              "          quickchartButtonEl.classList.add('colab-df-spinner');\n",
              "          try {\n",
              "            const charts = await google.colab.kernel.invokeFunction(\n",
              "                'suggestCharts', [key], {});\n",
              "          } catch (error) {\n",
              "            console.error('Error during call to suggestCharts:', error);\n",
              "          }\n",
              "          quickchartButtonEl.classList.remove('colab-df-spinner');\n",
              "          quickchartButtonEl.classList.add('colab-df-quickchart-complete');\n",
              "        }\n",
              "        (() => {\n",
              "          let quickchartButtonEl =\n",
              "            document.querySelector('#df-154e9268-10be-424c-ac91-6040b8348bbc button');\n",
              "          quickchartButtonEl.style.display =\n",
              "            google.colab.kernel.accessAllowed ? 'block' : 'none';\n",
              "        })();\n",
              "      </script>\n",
              "    </div>\n",
              "\n",
              "  <div id=\"id_f1abf90a-f47c-4e38-9bdd-6dc5d199c67c\">\n",
              "    <style>\n",
              "      .colab-df-generate {\n",
              "        background-color: #E8F0FE;\n",
              "        border: none;\n",
              "        border-radius: 50%;\n",
              "        cursor: pointer;\n",
              "        display: none;\n",
              "        fill: #1967D2;\n",
              "        height: 32px;\n",
              "        padding: 0 0 0 0;\n",
              "        width: 32px;\n",
              "      }\n",
              "\n",
              "      .colab-df-generate:hover {\n",
              "        background-color: #E2EBFA;\n",
              "        box-shadow: 0px 1px 2px rgba(60, 64, 67, 0.3), 0px 1px 3px 1px rgba(60, 64, 67, 0.15);\n",
              "        fill: #174EA6;\n",
              "      }\n",
              "\n",
              "      [theme=dark] .colab-df-generate {\n",
              "        background-color: #3B4455;\n",
              "        fill: #D2E3FC;\n",
              "      }\n",
              "\n",
              "      [theme=dark] .colab-df-generate:hover {\n",
              "        background-color: #434B5C;\n",
              "        box-shadow: 0px 1px 3px 1px rgba(0, 0, 0, 0.15);\n",
              "        filter: drop-shadow(0px 1px 2px rgba(0, 0, 0, 0.3));\n",
              "        fill: #FFFFFF;\n",
              "      }\n",
              "    </style>\n",
              "    <button class=\"colab-df-generate\" onclick=\"generateWithVariable('null_values')\"\n",
              "            title=\"Generate code using this dataframe.\"\n",
              "            style=\"display:none;\">\n",
              "\n",
              "  <svg xmlns=\"http://www.w3.org/2000/svg\" height=\"24px\"viewBox=\"0 0 24 24\"\n",
              "       width=\"24px\">\n",
              "    <path d=\"M7,19H8.4L18.45,9,17,7.55,7,17.6ZM5,21V16.75L18.45,3.32a2,2,0,0,1,2.83,0l1.4,1.43a1.91,1.91,0,0,1,.58,1.4,1.91,1.91,0,0,1-.58,1.4L9.25,21ZM18.45,9,17,7.55Zm-12,3A5.31,5.31,0,0,0,4.9,8.1,5.31,5.31,0,0,0,1,6.5,5.31,5.31,0,0,0,4.9,4.9,5.31,5.31,0,0,0,6.5,1,5.31,5.31,0,0,0,8.1,4.9,5.31,5.31,0,0,0,12,6.5,5.46,5.46,0,0,0,6.5,12Z\"/>\n",
              "  </svg>\n",
              "    </button>\n",
              "    <script>\n",
              "      (() => {\n",
              "      const buttonEl =\n",
              "        document.querySelector('#id_f1abf90a-f47c-4e38-9bdd-6dc5d199c67c button.colab-df-generate');\n",
              "      buttonEl.style.display =\n",
              "        google.colab.kernel.accessAllowed ? 'block' : 'none';\n",
              "\n",
              "      buttonEl.onclick = () => {\n",
              "        google.colab.notebook.generateWithVariable('null_values');\n",
              "      }\n",
              "      })();\n",
              "    </script>\n",
              "  </div>\n",
              "\n",
              "    </div>\n",
              "  </div>\n"
            ],
            "application/vnd.google.colaboratory.intrinsic+json": {
              "type": "dataframe",
              "variable_name": "null_values",
              "summary": "{\n  \"name\": \"null_values\",\n  \"rows\": 31,\n  \"fields\": [\n    {\n      \"column\": \"number_null_values\",\n      \"properties\": {\n        \"dtype\": \"number\",\n        \"std\": 641,\n        \"min\": 0,\n        \"max\": 3181,\n        \"num_unique_values\": 10,\n        \"samples\": [\n          990,\n          3,\n          3181\n        ],\n        \"semantic_type\": \"\",\n        \"description\": \"\"\n      }\n    },\n    {\n      \"column\": \"ratio_null_values\",\n      \"properties\": {\n        \"dtype\": \"number\",\n        \"std\": 0.020077267839103876,\n        \"min\": 0.0,\n        \"max\": 0.09958051590282996,\n        \"num_unique_values\": 10,\n        \"samples\": [\n          0.030991735537190084,\n          9.391435011269723e-05,\n          0.09958051590282996\n        ],\n        \"semantic_type\": \"\",\n        \"description\": \"\"\n      }\n    }\n  ]\n}"
            }
          },
          "metadata": {},
          "execution_count": 14
        }
      ],
      "source": [
        "null_values = pd.concat([df_clase.isnull().sum(), df_clase.isnull().sum() / len(df_clase)], axis = 1)\n",
        "null_values.rename(columns = {0: 'number_null_values',1: 'ratio_null_values'}, inplace = True)\n",
        "null_values"
      ]
    },
    {
      "cell_type": "markdown",
      "metadata": {
        "id": "jTgsAztR0i_c"
      },
      "source": [
        "Revisemos sus estadísticos básicos"
      ]
    },
    {
      "cell_type": "code",
      "execution_count": 15,
      "metadata": {
        "colab": {
          "base_uri": "https://localhost:8080/",
          "height": 551
        },
        "id": "KxMvH45I0iIT",
        "outputId": "808483a1-75b7-4b61-8d5e-0e5fcbbd21c1"
      },
      "outputs": [
        {
          "output_type": "execute_result",
          "data": {
            "text/plain": [
              "                          count          mean           std         min  \\\n",
              "DEUDA                   31944.0   5769.284906   5848.504517    8.791365   \n",
              "PLAZO_CREDITO           31944.0     39.996588     15.623734    6.000000   \n",
              "FLG_DEFAULT_12M         31944.0      0.063361      0.243615    0.000000   \n",
              "ATRASO_MAXIMO_ULT_6M    31944.0      0.254070      3.028339    0.000000   \n",
              "ATRASO_MAXIMO_ULT_12M   31941.0      1.074168     38.857057    0.000000   \n",
              "ATRASO_MAXIMO_ULT_24M   31937.0      2.107931     47.275929    0.000000   \n",
              "MESES_AHORROS_ULT_6M    31266.0      5.157935      1.449751    1.000000   \n",
              "MEDIANA_AHORROS_ULT_6M  31942.0   7161.642671   8621.384272    0.000000   \n",
              "DEUDA_TOTAL_SISTEMA     28763.0  24409.216018  58799.081039    0.000000   \n",
              "NUMERO_DE_PAGOS_PDH     31944.0     16.291948      9.419303    0.000000   \n",
              "MONTO_TC_SISTEMA        31944.0   5577.705221  14303.455224    0.000000   \n",
              "INGRESO_CLIENTE         31166.0   3247.384821   2584.502250  465.839706   \n",
              "EDAD_T                  30954.0     36.855689      9.915298   20.000000   \n",
              "CUOTA                   31294.0    687.000303   1223.568638    0.000000   \n",
              "LINEA_DE_TC             31294.0  12531.112226  12179.848525    4.000000   \n",
              "MONTO_TC_MEMBRESIA      31294.0    124.256758     75.954899   60.000000   \n",
              "\n",
              "                                25%          50%           75%           max  \n",
              "DEUDA                   1602.717111  3768.298333   7786.406583  2.054835e+05  \n",
              "PLAZO_CREDITO             24.000000    48.000000     48.000000  6.000000e+01  \n",
              "FLG_DEFAULT_12M            0.000000     0.000000      0.000000  1.000000e+00  \n",
              "ATRASO_MAXIMO_ULT_6M       0.000000     0.000000      0.000000  2.310000e+02  \n",
              "ATRASO_MAXIMO_ULT_12M      0.000000     0.000000      0.000000  5.647000e+03  \n",
              "ATRASO_MAXIMO_ULT_24M      0.000000     0.000000      0.000000  5.647000e+03  \n",
              "MESES_AHORROS_ULT_6M       5.000000     6.000000      6.000000  6.000000e+00  \n",
              "MEDIANA_AHORROS_ULT_6M  1703.222083  4325.187267   9396.200433  8.185772e+05  \n",
              "DEUDA_TOTAL_SISTEMA     1505.645000  6745.890000  20973.860000  1.458561e+06  \n",
              "NUMERO_DE_PAGOS_PDH        7.000000    24.000000     24.000000  2.400000e+01  \n",
              "MONTO_TC_SISTEMA           0.000000   470.910000   4093.860000  2.393316e+05  \n",
              "INGRESO_CLIENTE         1671.818517  2260.061985   3715.128475  2.550329e+04  \n",
              "EDAD_T                    29.000000    35.000000     42.000000  7.200000e+01  \n",
              "CUOTA                     41.640160   233.620086    769.646152  2.184978e+04  \n",
              "LINEA_DE_TC             4200.000000  9560.500000  17267.000000  1.544000e+05  \n",
              "MONTO_TC_MEMBRESIA        64.000000   100.000000    170.000000  5.000000e+02  "
            ],
            "text/html": [
              "\n",
              "  <div id=\"df-9be7c407-6f71-4329-b2ed-6c727d8dfe48\" class=\"colab-df-container\">\n",
              "    <div>\n",
              "<style scoped>\n",
              "    .dataframe tbody tr th:only-of-type {\n",
              "        vertical-align: middle;\n",
              "    }\n",
              "\n",
              "    .dataframe tbody tr th {\n",
              "        vertical-align: top;\n",
              "    }\n",
              "\n",
              "    .dataframe thead th {\n",
              "        text-align: right;\n",
              "    }\n",
              "</style>\n",
              "<table border=\"1\" class=\"dataframe\">\n",
              "  <thead>\n",
              "    <tr style=\"text-align: right;\">\n",
              "      <th></th>\n",
              "      <th>count</th>\n",
              "      <th>mean</th>\n",
              "      <th>std</th>\n",
              "      <th>min</th>\n",
              "      <th>25%</th>\n",
              "      <th>50%</th>\n",
              "      <th>75%</th>\n",
              "      <th>max</th>\n",
              "    </tr>\n",
              "  </thead>\n",
              "  <tbody>\n",
              "    <tr>\n",
              "      <th>DEUDA</th>\n",
              "      <td>31944.0</td>\n",
              "      <td>5769.284906</td>\n",
              "      <td>5848.504517</td>\n",
              "      <td>8.791365</td>\n",
              "      <td>1602.717111</td>\n",
              "      <td>3768.298333</td>\n",
              "      <td>7786.406583</td>\n",
              "      <td>2.054835e+05</td>\n",
              "    </tr>\n",
              "    <tr>\n",
              "      <th>PLAZO_CREDITO</th>\n",
              "      <td>31944.0</td>\n",
              "      <td>39.996588</td>\n",
              "      <td>15.623734</td>\n",
              "      <td>6.000000</td>\n",
              "      <td>24.000000</td>\n",
              "      <td>48.000000</td>\n",
              "      <td>48.000000</td>\n",
              "      <td>6.000000e+01</td>\n",
              "    </tr>\n",
              "    <tr>\n",
              "      <th>FLG_DEFAULT_12M</th>\n",
              "      <td>31944.0</td>\n",
              "      <td>0.063361</td>\n",
              "      <td>0.243615</td>\n",
              "      <td>0.000000</td>\n",
              "      <td>0.000000</td>\n",
              "      <td>0.000000</td>\n",
              "      <td>0.000000</td>\n",
              "      <td>1.000000e+00</td>\n",
              "    </tr>\n",
              "    <tr>\n",
              "      <th>ATRASO_MAXIMO_ULT_6M</th>\n",
              "      <td>31944.0</td>\n",
              "      <td>0.254070</td>\n",
              "      <td>3.028339</td>\n",
              "      <td>0.000000</td>\n",
              "      <td>0.000000</td>\n",
              "      <td>0.000000</td>\n",
              "      <td>0.000000</td>\n",
              "      <td>2.310000e+02</td>\n",
              "    </tr>\n",
              "    <tr>\n",
              "      <th>ATRASO_MAXIMO_ULT_12M</th>\n",
              "      <td>31941.0</td>\n",
              "      <td>1.074168</td>\n",
              "      <td>38.857057</td>\n",
              "      <td>0.000000</td>\n",
              "      <td>0.000000</td>\n",
              "      <td>0.000000</td>\n",
              "      <td>0.000000</td>\n",
              "      <td>5.647000e+03</td>\n",
              "    </tr>\n",
              "    <tr>\n",
              "      <th>ATRASO_MAXIMO_ULT_24M</th>\n",
              "      <td>31937.0</td>\n",
              "      <td>2.107931</td>\n",
              "      <td>47.275929</td>\n",
              "      <td>0.000000</td>\n",
              "      <td>0.000000</td>\n",
              "      <td>0.000000</td>\n",
              "      <td>0.000000</td>\n",
              "      <td>5.647000e+03</td>\n",
              "    </tr>\n",
              "    <tr>\n",
              "      <th>MESES_AHORROS_ULT_6M</th>\n",
              "      <td>31266.0</td>\n",
              "      <td>5.157935</td>\n",
              "      <td>1.449751</td>\n",
              "      <td>1.000000</td>\n",
              "      <td>5.000000</td>\n",
              "      <td>6.000000</td>\n",
              "      <td>6.000000</td>\n",
              "      <td>6.000000e+00</td>\n",
              "    </tr>\n",
              "    <tr>\n",
              "      <th>MEDIANA_AHORROS_ULT_6M</th>\n",
              "      <td>31942.0</td>\n",
              "      <td>7161.642671</td>\n",
              "      <td>8621.384272</td>\n",
              "      <td>0.000000</td>\n",
              "      <td>1703.222083</td>\n",
              "      <td>4325.187267</td>\n",
              "      <td>9396.200433</td>\n",
              "      <td>8.185772e+05</td>\n",
              "    </tr>\n",
              "    <tr>\n",
              "      <th>DEUDA_TOTAL_SISTEMA</th>\n",
              "      <td>28763.0</td>\n",
              "      <td>24409.216018</td>\n",
              "      <td>58799.081039</td>\n",
              "      <td>0.000000</td>\n",
              "      <td>1505.645000</td>\n",
              "      <td>6745.890000</td>\n",
              "      <td>20973.860000</td>\n",
              "      <td>1.458561e+06</td>\n",
              "    </tr>\n",
              "    <tr>\n",
              "      <th>NUMERO_DE_PAGOS_PDH</th>\n",
              "      <td>31944.0</td>\n",
              "      <td>16.291948</td>\n",
              "      <td>9.419303</td>\n",
              "      <td>0.000000</td>\n",
              "      <td>7.000000</td>\n",
              "      <td>24.000000</td>\n",
              "      <td>24.000000</td>\n",
              "      <td>2.400000e+01</td>\n",
              "    </tr>\n",
              "    <tr>\n",
              "      <th>MONTO_TC_SISTEMA</th>\n",
              "      <td>31944.0</td>\n",
              "      <td>5577.705221</td>\n",
              "      <td>14303.455224</td>\n",
              "      <td>0.000000</td>\n",
              "      <td>0.000000</td>\n",
              "      <td>470.910000</td>\n",
              "      <td>4093.860000</td>\n",
              "      <td>2.393316e+05</td>\n",
              "    </tr>\n",
              "    <tr>\n",
              "      <th>INGRESO_CLIENTE</th>\n",
              "      <td>31166.0</td>\n",
              "      <td>3247.384821</td>\n",
              "      <td>2584.502250</td>\n",
              "      <td>465.839706</td>\n",
              "      <td>1671.818517</td>\n",
              "      <td>2260.061985</td>\n",
              "      <td>3715.128475</td>\n",
              "      <td>2.550329e+04</td>\n",
              "    </tr>\n",
              "    <tr>\n",
              "      <th>EDAD_T</th>\n",
              "      <td>30954.0</td>\n",
              "      <td>36.855689</td>\n",
              "      <td>9.915298</td>\n",
              "      <td>20.000000</td>\n",
              "      <td>29.000000</td>\n",
              "      <td>35.000000</td>\n",
              "      <td>42.000000</td>\n",
              "      <td>7.200000e+01</td>\n",
              "    </tr>\n",
              "    <tr>\n",
              "      <th>CUOTA</th>\n",
              "      <td>31294.0</td>\n",
              "      <td>687.000303</td>\n",
              "      <td>1223.568638</td>\n",
              "      <td>0.000000</td>\n",
              "      <td>41.640160</td>\n",
              "      <td>233.620086</td>\n",
              "      <td>769.646152</td>\n",
              "      <td>2.184978e+04</td>\n",
              "    </tr>\n",
              "    <tr>\n",
              "      <th>LINEA_DE_TC</th>\n",
              "      <td>31294.0</td>\n",
              "      <td>12531.112226</td>\n",
              "      <td>12179.848525</td>\n",
              "      <td>4.000000</td>\n",
              "      <td>4200.000000</td>\n",
              "      <td>9560.500000</td>\n",
              "      <td>17267.000000</td>\n",
              "      <td>1.544000e+05</td>\n",
              "    </tr>\n",
              "    <tr>\n",
              "      <th>MONTO_TC_MEMBRESIA</th>\n",
              "      <td>31294.0</td>\n",
              "      <td>124.256758</td>\n",
              "      <td>75.954899</td>\n",
              "      <td>60.000000</td>\n",
              "      <td>64.000000</td>\n",
              "      <td>100.000000</td>\n",
              "      <td>170.000000</td>\n",
              "      <td>5.000000e+02</td>\n",
              "    </tr>\n",
              "  </tbody>\n",
              "</table>\n",
              "</div>\n",
              "    <div class=\"colab-df-buttons\">\n",
              "\n",
              "  <div class=\"colab-df-container\">\n",
              "    <button class=\"colab-df-convert\" onclick=\"convertToInteractive('df-9be7c407-6f71-4329-b2ed-6c727d8dfe48')\"\n",
              "            title=\"Convert this dataframe to an interactive table.\"\n",
              "            style=\"display:none;\">\n",
              "\n",
              "  <svg xmlns=\"http://www.w3.org/2000/svg\" height=\"24px\" viewBox=\"0 -960 960 960\">\n",
              "    <path d=\"M120-120v-720h720v720H120Zm60-500h600v-160H180v160Zm220 220h160v-160H400v160Zm0 220h160v-160H400v160ZM180-400h160v-160H180v160Zm440 0h160v-160H620v160ZM180-180h160v-160H180v160Zm440 0h160v-160H620v160Z\"/>\n",
              "  </svg>\n",
              "    </button>\n",
              "\n",
              "  <style>\n",
              "    .colab-df-container {\n",
              "      display:flex;\n",
              "      gap: 12px;\n",
              "    }\n",
              "\n",
              "    .colab-df-convert {\n",
              "      background-color: #E8F0FE;\n",
              "      border: none;\n",
              "      border-radius: 50%;\n",
              "      cursor: pointer;\n",
              "      display: none;\n",
              "      fill: #1967D2;\n",
              "      height: 32px;\n",
              "      padding: 0 0 0 0;\n",
              "      width: 32px;\n",
              "    }\n",
              "\n",
              "    .colab-df-convert:hover {\n",
              "      background-color: #E2EBFA;\n",
              "      box-shadow: 0px 1px 2px rgba(60, 64, 67, 0.3), 0px 1px 3px 1px rgba(60, 64, 67, 0.15);\n",
              "      fill: #174EA6;\n",
              "    }\n",
              "\n",
              "    .colab-df-buttons div {\n",
              "      margin-bottom: 4px;\n",
              "    }\n",
              "\n",
              "    [theme=dark] .colab-df-convert {\n",
              "      background-color: #3B4455;\n",
              "      fill: #D2E3FC;\n",
              "    }\n",
              "\n",
              "    [theme=dark] .colab-df-convert:hover {\n",
              "      background-color: #434B5C;\n",
              "      box-shadow: 0px 1px 3px 1px rgba(0, 0, 0, 0.15);\n",
              "      filter: drop-shadow(0px 1px 2px rgba(0, 0, 0, 0.3));\n",
              "      fill: #FFFFFF;\n",
              "    }\n",
              "  </style>\n",
              "\n",
              "    <script>\n",
              "      const buttonEl =\n",
              "        document.querySelector('#df-9be7c407-6f71-4329-b2ed-6c727d8dfe48 button.colab-df-convert');\n",
              "      buttonEl.style.display =\n",
              "        google.colab.kernel.accessAllowed ? 'block' : 'none';\n",
              "\n",
              "      async function convertToInteractive(key) {\n",
              "        const element = document.querySelector('#df-9be7c407-6f71-4329-b2ed-6c727d8dfe48');\n",
              "        const dataTable =\n",
              "          await google.colab.kernel.invokeFunction('convertToInteractive',\n",
              "                                                    [key], {});\n",
              "        if (!dataTable) return;\n",
              "\n",
              "        const docLinkHtml = 'Like what you see? Visit the ' +\n",
              "          '<a target=\"_blank\" href=https://colab.research.google.com/notebooks/data_table.ipynb>data table notebook</a>'\n",
              "          + ' to learn more about interactive tables.';\n",
              "        element.innerHTML = '';\n",
              "        dataTable['output_type'] = 'display_data';\n",
              "        await google.colab.output.renderOutput(dataTable, element);\n",
              "        const docLink = document.createElement('div');\n",
              "        docLink.innerHTML = docLinkHtml;\n",
              "        element.appendChild(docLink);\n",
              "      }\n",
              "    </script>\n",
              "  </div>\n",
              "\n",
              "\n",
              "    <div id=\"df-95894139-54a0-4b9f-844a-b64c704b3a67\">\n",
              "      <button class=\"colab-df-quickchart\" onclick=\"quickchart('df-95894139-54a0-4b9f-844a-b64c704b3a67')\"\n",
              "                title=\"Suggest charts\"\n",
              "                style=\"display:none;\">\n",
              "\n",
              "<svg xmlns=\"http://www.w3.org/2000/svg\" height=\"24px\"viewBox=\"0 0 24 24\"\n",
              "     width=\"24px\">\n",
              "    <g>\n",
              "        <path d=\"M19 3H5c-1.1 0-2 .9-2 2v14c0 1.1.9 2 2 2h14c1.1 0 2-.9 2-2V5c0-1.1-.9-2-2-2zM9 17H7v-7h2v7zm4 0h-2V7h2v10zm4 0h-2v-4h2v4z\"/>\n",
              "    </g>\n",
              "</svg>\n",
              "      </button>\n",
              "\n",
              "<style>\n",
              "  .colab-df-quickchart {\n",
              "      --bg-color: #E8F0FE;\n",
              "      --fill-color: #1967D2;\n",
              "      --hover-bg-color: #E2EBFA;\n",
              "      --hover-fill-color: #174EA6;\n",
              "      --disabled-fill-color: #AAA;\n",
              "      --disabled-bg-color: #DDD;\n",
              "  }\n",
              "\n",
              "  [theme=dark] .colab-df-quickchart {\n",
              "      --bg-color: #3B4455;\n",
              "      --fill-color: #D2E3FC;\n",
              "      --hover-bg-color: #434B5C;\n",
              "      --hover-fill-color: #FFFFFF;\n",
              "      --disabled-bg-color: #3B4455;\n",
              "      --disabled-fill-color: #666;\n",
              "  }\n",
              "\n",
              "  .colab-df-quickchart {\n",
              "    background-color: var(--bg-color);\n",
              "    border: none;\n",
              "    border-radius: 50%;\n",
              "    cursor: pointer;\n",
              "    display: none;\n",
              "    fill: var(--fill-color);\n",
              "    height: 32px;\n",
              "    padding: 0;\n",
              "    width: 32px;\n",
              "  }\n",
              "\n",
              "  .colab-df-quickchart:hover {\n",
              "    background-color: var(--hover-bg-color);\n",
              "    box-shadow: 0 1px 2px rgba(60, 64, 67, 0.3), 0 1px 3px 1px rgba(60, 64, 67, 0.15);\n",
              "    fill: var(--button-hover-fill-color);\n",
              "  }\n",
              "\n",
              "  .colab-df-quickchart-complete:disabled,\n",
              "  .colab-df-quickchart-complete:disabled:hover {\n",
              "    background-color: var(--disabled-bg-color);\n",
              "    fill: var(--disabled-fill-color);\n",
              "    box-shadow: none;\n",
              "  }\n",
              "\n",
              "  .colab-df-spinner {\n",
              "    border: 2px solid var(--fill-color);\n",
              "    border-color: transparent;\n",
              "    border-bottom-color: var(--fill-color);\n",
              "    animation:\n",
              "      spin 1s steps(1) infinite;\n",
              "  }\n",
              "\n",
              "  @keyframes spin {\n",
              "    0% {\n",
              "      border-color: transparent;\n",
              "      border-bottom-color: var(--fill-color);\n",
              "      border-left-color: var(--fill-color);\n",
              "    }\n",
              "    20% {\n",
              "      border-color: transparent;\n",
              "      border-left-color: var(--fill-color);\n",
              "      border-top-color: var(--fill-color);\n",
              "    }\n",
              "    30% {\n",
              "      border-color: transparent;\n",
              "      border-left-color: var(--fill-color);\n",
              "      border-top-color: var(--fill-color);\n",
              "      border-right-color: var(--fill-color);\n",
              "    }\n",
              "    40% {\n",
              "      border-color: transparent;\n",
              "      border-right-color: var(--fill-color);\n",
              "      border-top-color: var(--fill-color);\n",
              "    }\n",
              "    60% {\n",
              "      border-color: transparent;\n",
              "      border-right-color: var(--fill-color);\n",
              "    }\n",
              "    80% {\n",
              "      border-color: transparent;\n",
              "      border-right-color: var(--fill-color);\n",
              "      border-bottom-color: var(--fill-color);\n",
              "    }\n",
              "    90% {\n",
              "      border-color: transparent;\n",
              "      border-bottom-color: var(--fill-color);\n",
              "    }\n",
              "  }\n",
              "</style>\n",
              "\n",
              "      <script>\n",
              "        async function quickchart(key) {\n",
              "          const quickchartButtonEl =\n",
              "            document.querySelector('#' + key + ' button');\n",
              "          quickchartButtonEl.disabled = true;  // To prevent multiple clicks.\n",
              "          quickchartButtonEl.classList.add('colab-df-spinner');\n",
              "          try {\n",
              "            const charts = await google.colab.kernel.invokeFunction(\n",
              "                'suggestCharts', [key], {});\n",
              "          } catch (error) {\n",
              "            console.error('Error during call to suggestCharts:', error);\n",
              "          }\n",
              "          quickchartButtonEl.classList.remove('colab-df-spinner');\n",
              "          quickchartButtonEl.classList.add('colab-df-quickchart-complete');\n",
              "        }\n",
              "        (() => {\n",
              "          let quickchartButtonEl =\n",
              "            document.querySelector('#df-95894139-54a0-4b9f-844a-b64c704b3a67 button');\n",
              "          quickchartButtonEl.style.display =\n",
              "            google.colab.kernel.accessAllowed ? 'block' : 'none';\n",
              "        })();\n",
              "      </script>\n",
              "    </div>\n",
              "\n",
              "    </div>\n",
              "  </div>\n"
            ],
            "application/vnd.google.colaboratory.intrinsic+json": {
              "type": "dataframe",
              "summary": "{\n  \"name\": \"df_clase\",\n  \"rows\": 16,\n  \"fields\": [\n    {\n      \"column\": \"count\",\n      \"properties\": {\n        \"dtype\": \"number\",\n        \"std\": 809.6021013436168,\n        \"min\": 28763.0,\n        \"max\": 31944.0,\n        \"num_unique_values\": 9,\n        \"samples\": [\n          30954.0,\n          31941.0,\n          28763.0\n        ],\n        \"semantic_type\": \"\",\n        \"description\": \"\"\n      }\n    },\n    {\n      \"column\": \"mean\",\n      \"properties\": {\n        \"dtype\": \"number\",\n        \"std\": 6620.570333205839,\n        \"min\": 0.06336088154269973,\n        \"max\": 24409.216018495983,\n        \"num_unique_values\": 16,\n        \"samples\": [\n          5769.284906064626,\n          39.99658777861257,\n          2.1079312396280177\n        ],\n        \"semantic_type\": \"\",\n        \"description\": \"\"\n      }\n    },\n    {\n      \"column\": \"std\",\n      \"properties\": {\n        \"dtype\": \"number\",\n        \"std\": 14728.834475029307,\n        \"min\": 0.24361473295639224,\n        \"max\": 58799.08103859307,\n        \"num_unique_values\": 16,\n        \"samples\": [\n          5848.504517206463,\n          15.62373433806457,\n          47.27592933535508\n        ],\n        \"semantic_type\": \"\",\n        \"description\": \"\"\n      }\n    },\n    {\n      \"column\": \"min\",\n      \"properties\": {\n        \"dtype\": \"number\",\n        \"std\": 115.79889550646925,\n        \"min\": 0.0,\n        \"max\": 465.839706,\n        \"num_unique_values\": 8,\n        \"samples\": [\n          6.0,\n          20.0,\n          8.791364942\n        ],\n        \"semantic_type\": \"\",\n        \"description\": \"\"\n      }\n    },\n    {\n      \"column\": \"25%\",\n      \"properties\": {\n        \"dtype\": \"number\",\n        \"std\": 1178.0150568097156,\n        \"min\": 0.0,\n        \"max\": 4200.0,\n        \"num_unique_values\": 12,\n        \"samples\": [\n          4200.0,\n          41.64015975,\n          1602.7171114999999\n        ],\n        \"semantic_type\": \"\",\n        \"description\": \"\"\n      }\n    },\n    {\n      \"column\": \"50%\",\n      \"properties\": {\n        \"dtype\": \"number\",\n        \"std\": 2917.57399121603,\n        \"min\": 0.0,\n        \"max\": 9560.5,\n        \"num_unique_values\": 13,\n        \"samples\": [\n          9560.5,\n          35.0,\n          3768.298333\n        ],\n        \"semantic_type\": \"\",\n        \"description\": \"\"\n      }\n    },\n    {\n      \"column\": \"75%\",\n      \"properties\": {\n        \"dtype\": \"number\",\n        \"std\": 6632.317146553378,\n        \"min\": 0.0,\n        \"max\": 20973.86,\n        \"num_unique_values\": 13,\n        \"samples\": [\n          17267.0,\n          42.0,\n          7786.406583\n        ],\n        \"semantic_type\": \"\",\n        \"description\": \"\"\n      }\n    },\n    {\n      \"column\": \"max\",\n      \"properties\": {\n        \"dtype\": \"number\",\n        \"std\": 398604.81812362064,\n        \"min\": 1.0,\n        \"max\": 1458561.41,\n        \"num_unique_values\": 15,\n        \"samples\": [\n          239331.6,\n          72.0,\n          205483.523\n        ],\n        \"semantic_type\": \"\",\n        \"description\": \"\"\n      }\n    }\n  ]\n}"
            }
          },
          "metadata": {},
          "execution_count": 15
        }
      ],
      "source": [
        "df_clase.select_dtypes(include=['number']).describe().transpose()"
      ]
    },
    {
      "cell_type": "code",
      "execution_count": 16,
      "metadata": {
        "colab": {
          "base_uri": "https://localhost:8080/",
          "height": 519
        },
        "id": "JoftO2O50Fge",
        "outputId": "e0181232-f109-4a9d-9271-af1b5754b550"
      },
      "outputs": [
        {
          "output_type": "execute_result",
          "data": {
            "text/plain": [
              "                         count unique           top   freq\n",
              "CODMES                   31944     23        201505   2084\n",
              "CODSOLICITUD             31944  31944         31944      1\n",
              "FLG_GARANTIA             31944      2             0  30605\n",
              "MIN_MES_DE_DEFAULT       31944     37           nan  28495\n",
              "SEGMENTOCLIENTE          31944      7  CLIENTES ORO  22101\n",
              "TARJETA_RELACIONADA      31944      2             1  19914\n",
              "VEHICULAR_RELACIONADA    31944      2             0  31612\n",
              "HIPOTECARIO_RELACIONADA  31944      2             0  31212\n",
              "CLASIF_SISTEMA_ULT_12M   31944      6           0.0  23640\n",
              "FLG_PDH                  31944      2             1  26825\n",
              "PROFESION                31604    175       TECNICO  10980\n",
              "ZONA_DEL_DESEMBOLSO      30954     30      AREQUIPA   3664\n",
              "ESTADO_CIVIL             30954      6           SOL  21258\n",
              "FLG_TC_VISA              31944      3           0.0  19462\n",
              "FLG_TC_MC                31944      3           0.0  19235"
            ],
            "text/html": [
              "\n",
              "  <div id=\"df-b25bffdb-4b6f-4880-bbf7-19227889ce04\" class=\"colab-df-container\">\n",
              "    <div>\n",
              "<style scoped>\n",
              "    .dataframe tbody tr th:only-of-type {\n",
              "        vertical-align: middle;\n",
              "    }\n",
              "\n",
              "    .dataframe tbody tr th {\n",
              "        vertical-align: top;\n",
              "    }\n",
              "\n",
              "    .dataframe thead th {\n",
              "        text-align: right;\n",
              "    }\n",
              "</style>\n",
              "<table border=\"1\" class=\"dataframe\">\n",
              "  <thead>\n",
              "    <tr style=\"text-align: right;\">\n",
              "      <th></th>\n",
              "      <th>count</th>\n",
              "      <th>unique</th>\n",
              "      <th>top</th>\n",
              "      <th>freq</th>\n",
              "    </tr>\n",
              "  </thead>\n",
              "  <tbody>\n",
              "    <tr>\n",
              "      <th>CODMES</th>\n",
              "      <td>31944</td>\n",
              "      <td>23</td>\n",
              "      <td>201505</td>\n",
              "      <td>2084</td>\n",
              "    </tr>\n",
              "    <tr>\n",
              "      <th>CODSOLICITUD</th>\n",
              "      <td>31944</td>\n",
              "      <td>31944</td>\n",
              "      <td>31944</td>\n",
              "      <td>1</td>\n",
              "    </tr>\n",
              "    <tr>\n",
              "      <th>FLG_GARANTIA</th>\n",
              "      <td>31944</td>\n",
              "      <td>2</td>\n",
              "      <td>0</td>\n",
              "      <td>30605</td>\n",
              "    </tr>\n",
              "    <tr>\n",
              "      <th>MIN_MES_DE_DEFAULT</th>\n",
              "      <td>31944</td>\n",
              "      <td>37</td>\n",
              "      <td>nan</td>\n",
              "      <td>28495</td>\n",
              "    </tr>\n",
              "    <tr>\n",
              "      <th>SEGMENTOCLIENTE</th>\n",
              "      <td>31944</td>\n",
              "      <td>7</td>\n",
              "      <td>CLIENTES ORO</td>\n",
              "      <td>22101</td>\n",
              "    </tr>\n",
              "    <tr>\n",
              "      <th>TARJETA_RELACIONADA</th>\n",
              "      <td>31944</td>\n",
              "      <td>2</td>\n",
              "      <td>1</td>\n",
              "      <td>19914</td>\n",
              "    </tr>\n",
              "    <tr>\n",
              "      <th>VEHICULAR_RELACIONADA</th>\n",
              "      <td>31944</td>\n",
              "      <td>2</td>\n",
              "      <td>0</td>\n",
              "      <td>31612</td>\n",
              "    </tr>\n",
              "    <tr>\n",
              "      <th>HIPOTECARIO_RELACIONADA</th>\n",
              "      <td>31944</td>\n",
              "      <td>2</td>\n",
              "      <td>0</td>\n",
              "      <td>31212</td>\n",
              "    </tr>\n",
              "    <tr>\n",
              "      <th>CLASIF_SISTEMA_ULT_12M</th>\n",
              "      <td>31944</td>\n",
              "      <td>6</td>\n",
              "      <td>0.0</td>\n",
              "      <td>23640</td>\n",
              "    </tr>\n",
              "    <tr>\n",
              "      <th>FLG_PDH</th>\n",
              "      <td>31944</td>\n",
              "      <td>2</td>\n",
              "      <td>1</td>\n",
              "      <td>26825</td>\n",
              "    </tr>\n",
              "    <tr>\n",
              "      <th>PROFESION</th>\n",
              "      <td>31604</td>\n",
              "      <td>175</td>\n",
              "      <td>TECNICO</td>\n",
              "      <td>10980</td>\n",
              "    </tr>\n",
              "    <tr>\n",
              "      <th>ZONA_DEL_DESEMBOLSO</th>\n",
              "      <td>30954</td>\n",
              "      <td>30</td>\n",
              "      <td>AREQUIPA</td>\n",
              "      <td>3664</td>\n",
              "    </tr>\n",
              "    <tr>\n",
              "      <th>ESTADO_CIVIL</th>\n",
              "      <td>30954</td>\n",
              "      <td>6</td>\n",
              "      <td>SOL</td>\n",
              "      <td>21258</td>\n",
              "    </tr>\n",
              "    <tr>\n",
              "      <th>FLG_TC_VISA</th>\n",
              "      <td>31944</td>\n",
              "      <td>3</td>\n",
              "      <td>0.0</td>\n",
              "      <td>19462</td>\n",
              "    </tr>\n",
              "    <tr>\n",
              "      <th>FLG_TC_MC</th>\n",
              "      <td>31944</td>\n",
              "      <td>3</td>\n",
              "      <td>0.0</td>\n",
              "      <td>19235</td>\n",
              "    </tr>\n",
              "  </tbody>\n",
              "</table>\n",
              "</div>\n",
              "    <div class=\"colab-df-buttons\">\n",
              "\n",
              "  <div class=\"colab-df-container\">\n",
              "    <button class=\"colab-df-convert\" onclick=\"convertToInteractive('df-b25bffdb-4b6f-4880-bbf7-19227889ce04')\"\n",
              "            title=\"Convert this dataframe to an interactive table.\"\n",
              "            style=\"display:none;\">\n",
              "\n",
              "  <svg xmlns=\"http://www.w3.org/2000/svg\" height=\"24px\" viewBox=\"0 -960 960 960\">\n",
              "    <path d=\"M120-120v-720h720v720H120Zm60-500h600v-160H180v160Zm220 220h160v-160H400v160Zm0 220h160v-160H400v160ZM180-400h160v-160H180v160Zm440 0h160v-160H620v160ZM180-180h160v-160H180v160Zm440 0h160v-160H620v160Z\"/>\n",
              "  </svg>\n",
              "    </button>\n",
              "\n",
              "  <style>\n",
              "    .colab-df-container {\n",
              "      display:flex;\n",
              "      gap: 12px;\n",
              "    }\n",
              "\n",
              "    .colab-df-convert {\n",
              "      background-color: #E8F0FE;\n",
              "      border: none;\n",
              "      border-radius: 50%;\n",
              "      cursor: pointer;\n",
              "      display: none;\n",
              "      fill: #1967D2;\n",
              "      height: 32px;\n",
              "      padding: 0 0 0 0;\n",
              "      width: 32px;\n",
              "    }\n",
              "\n",
              "    .colab-df-convert:hover {\n",
              "      background-color: #E2EBFA;\n",
              "      box-shadow: 0px 1px 2px rgba(60, 64, 67, 0.3), 0px 1px 3px 1px rgba(60, 64, 67, 0.15);\n",
              "      fill: #174EA6;\n",
              "    }\n",
              "\n",
              "    .colab-df-buttons div {\n",
              "      margin-bottom: 4px;\n",
              "    }\n",
              "\n",
              "    [theme=dark] .colab-df-convert {\n",
              "      background-color: #3B4455;\n",
              "      fill: #D2E3FC;\n",
              "    }\n",
              "\n",
              "    [theme=dark] .colab-df-convert:hover {\n",
              "      background-color: #434B5C;\n",
              "      box-shadow: 0px 1px 3px 1px rgba(0, 0, 0, 0.15);\n",
              "      filter: drop-shadow(0px 1px 2px rgba(0, 0, 0, 0.3));\n",
              "      fill: #FFFFFF;\n",
              "    }\n",
              "  </style>\n",
              "\n",
              "    <script>\n",
              "      const buttonEl =\n",
              "        document.querySelector('#df-b25bffdb-4b6f-4880-bbf7-19227889ce04 button.colab-df-convert');\n",
              "      buttonEl.style.display =\n",
              "        google.colab.kernel.accessAllowed ? 'block' : 'none';\n",
              "\n",
              "      async function convertToInteractive(key) {\n",
              "        const element = document.querySelector('#df-b25bffdb-4b6f-4880-bbf7-19227889ce04');\n",
              "        const dataTable =\n",
              "          await google.colab.kernel.invokeFunction('convertToInteractive',\n",
              "                                                    [key], {});\n",
              "        if (!dataTable) return;\n",
              "\n",
              "        const docLinkHtml = 'Like what you see? Visit the ' +\n",
              "          '<a target=\"_blank\" href=https://colab.research.google.com/notebooks/data_table.ipynb>data table notebook</a>'\n",
              "          + ' to learn more about interactive tables.';\n",
              "        element.innerHTML = '';\n",
              "        dataTable['output_type'] = 'display_data';\n",
              "        await google.colab.output.renderOutput(dataTable, element);\n",
              "        const docLink = document.createElement('div');\n",
              "        docLink.innerHTML = docLinkHtml;\n",
              "        element.appendChild(docLink);\n",
              "      }\n",
              "    </script>\n",
              "  </div>\n",
              "\n",
              "\n",
              "    <div id=\"df-68772147-d2e2-4566-a584-fda04e3dd165\">\n",
              "      <button class=\"colab-df-quickchart\" onclick=\"quickchart('df-68772147-d2e2-4566-a584-fda04e3dd165')\"\n",
              "                title=\"Suggest charts\"\n",
              "                style=\"display:none;\">\n",
              "\n",
              "<svg xmlns=\"http://www.w3.org/2000/svg\" height=\"24px\"viewBox=\"0 0 24 24\"\n",
              "     width=\"24px\">\n",
              "    <g>\n",
              "        <path d=\"M19 3H5c-1.1 0-2 .9-2 2v14c0 1.1.9 2 2 2h14c1.1 0 2-.9 2-2V5c0-1.1-.9-2-2-2zM9 17H7v-7h2v7zm4 0h-2V7h2v10zm4 0h-2v-4h2v4z\"/>\n",
              "    </g>\n",
              "</svg>\n",
              "      </button>\n",
              "\n",
              "<style>\n",
              "  .colab-df-quickchart {\n",
              "      --bg-color: #E8F0FE;\n",
              "      --fill-color: #1967D2;\n",
              "      --hover-bg-color: #E2EBFA;\n",
              "      --hover-fill-color: #174EA6;\n",
              "      --disabled-fill-color: #AAA;\n",
              "      --disabled-bg-color: #DDD;\n",
              "  }\n",
              "\n",
              "  [theme=dark] .colab-df-quickchart {\n",
              "      --bg-color: #3B4455;\n",
              "      --fill-color: #D2E3FC;\n",
              "      --hover-bg-color: #434B5C;\n",
              "      --hover-fill-color: #FFFFFF;\n",
              "      --disabled-bg-color: #3B4455;\n",
              "      --disabled-fill-color: #666;\n",
              "  }\n",
              "\n",
              "  .colab-df-quickchart {\n",
              "    background-color: var(--bg-color);\n",
              "    border: none;\n",
              "    border-radius: 50%;\n",
              "    cursor: pointer;\n",
              "    display: none;\n",
              "    fill: var(--fill-color);\n",
              "    height: 32px;\n",
              "    padding: 0;\n",
              "    width: 32px;\n",
              "  }\n",
              "\n",
              "  .colab-df-quickchart:hover {\n",
              "    background-color: var(--hover-bg-color);\n",
              "    box-shadow: 0 1px 2px rgba(60, 64, 67, 0.3), 0 1px 3px 1px rgba(60, 64, 67, 0.15);\n",
              "    fill: var(--button-hover-fill-color);\n",
              "  }\n",
              "\n",
              "  .colab-df-quickchart-complete:disabled,\n",
              "  .colab-df-quickchart-complete:disabled:hover {\n",
              "    background-color: var(--disabled-bg-color);\n",
              "    fill: var(--disabled-fill-color);\n",
              "    box-shadow: none;\n",
              "  }\n",
              "\n",
              "  .colab-df-spinner {\n",
              "    border: 2px solid var(--fill-color);\n",
              "    border-color: transparent;\n",
              "    border-bottom-color: var(--fill-color);\n",
              "    animation:\n",
              "      spin 1s steps(1) infinite;\n",
              "  }\n",
              "\n",
              "  @keyframes spin {\n",
              "    0% {\n",
              "      border-color: transparent;\n",
              "      border-bottom-color: var(--fill-color);\n",
              "      border-left-color: var(--fill-color);\n",
              "    }\n",
              "    20% {\n",
              "      border-color: transparent;\n",
              "      border-left-color: var(--fill-color);\n",
              "      border-top-color: var(--fill-color);\n",
              "    }\n",
              "    30% {\n",
              "      border-color: transparent;\n",
              "      border-left-color: var(--fill-color);\n",
              "      border-top-color: var(--fill-color);\n",
              "      border-right-color: var(--fill-color);\n",
              "    }\n",
              "    40% {\n",
              "      border-color: transparent;\n",
              "      border-right-color: var(--fill-color);\n",
              "      border-top-color: var(--fill-color);\n",
              "    }\n",
              "    60% {\n",
              "      border-color: transparent;\n",
              "      border-right-color: var(--fill-color);\n",
              "    }\n",
              "    80% {\n",
              "      border-color: transparent;\n",
              "      border-right-color: var(--fill-color);\n",
              "      border-bottom-color: var(--fill-color);\n",
              "    }\n",
              "    90% {\n",
              "      border-color: transparent;\n",
              "      border-bottom-color: var(--fill-color);\n",
              "    }\n",
              "  }\n",
              "</style>\n",
              "\n",
              "      <script>\n",
              "        async function quickchart(key) {\n",
              "          const quickchartButtonEl =\n",
              "            document.querySelector('#' + key + ' button');\n",
              "          quickchartButtonEl.disabled = true;  // To prevent multiple clicks.\n",
              "          quickchartButtonEl.classList.add('colab-df-spinner');\n",
              "          try {\n",
              "            const charts = await google.colab.kernel.invokeFunction(\n",
              "                'suggestCharts', [key], {});\n",
              "          } catch (error) {\n",
              "            console.error('Error during call to suggestCharts:', error);\n",
              "          }\n",
              "          quickchartButtonEl.classList.remove('colab-df-spinner');\n",
              "          quickchartButtonEl.classList.add('colab-df-quickchart-complete');\n",
              "        }\n",
              "        (() => {\n",
              "          let quickchartButtonEl =\n",
              "            document.querySelector('#df-68772147-d2e2-4566-a584-fda04e3dd165 button');\n",
              "          quickchartButtonEl.style.display =\n",
              "            google.colab.kernel.accessAllowed ? 'block' : 'none';\n",
              "        })();\n",
              "      </script>\n",
              "    </div>\n",
              "\n",
              "    </div>\n",
              "  </div>\n"
            ],
            "application/vnd.google.colaboratory.intrinsic+json": {
              "type": "dataframe",
              "summary": "{\n  \"name\": \"df_clase\",\n  \"rows\": 15,\n  \"fields\": [\n    {\n      \"column\": \"count\",\n      \"properties\": {\n        \"dtype\": \"date\",\n        \"min\": \"30954\",\n        \"max\": \"31944\",\n        \"num_unique_values\": 3,\n        \"samples\": [\n          \"31944\",\n          \"31604\",\n          \"30954\"\n        ],\n        \"semantic_type\": \"\",\n        \"description\": \"\"\n      }\n    },\n    {\n      \"column\": \"unique\",\n      \"properties\": {\n        \"dtype\": \"date\",\n        \"min\": 2,\n        \"max\": 31944,\n        \"num_unique_values\": 9,\n        \"samples\": [\n          30,\n          31944,\n          6\n        ],\n        \"semantic_type\": \"\",\n        \"description\": \"\"\n      }\n    },\n    {\n      \"column\": \"top\",\n      \"properties\": {\n        \"dtype\": \"string\",\n        \"num_unique_values\": 10,\n        \"samples\": [\n          \"AREQUIPA\",\n          \"31944\",\n          \"1\"\n        ],\n        \"semantic_type\": \"\",\n        \"description\": \"\"\n      }\n    },\n    {\n      \"column\": \"freq\",\n      \"properties\": {\n        \"dtype\": \"date\",\n        \"min\": \"1\",\n        \"max\": \"31612\",\n        \"num_unique_values\": 15,\n        \"samples\": [\n          \"26825\",\n          \"3664\",\n          \"2084\"\n        ],\n        \"semantic_type\": \"\",\n        \"description\": \"\"\n      }\n    }\n  ]\n}"
            }
          },
          "metadata": {},
          "execution_count": 16
        }
      ],
      "source": [
        "df_clase.select_dtypes(include=['object']).describe().transpose()"
      ]
    },
    {
      "cell_type": "markdown",
      "metadata": {
        "id": "ZXnXXaS905zQ"
      },
      "source": [
        "Revisemos como se distribuye cada variable"
      ]
    },
    {
      "cell_type": "code",
      "execution_count": 17,
      "metadata": {
        "colab": {
          "base_uri": "https://localhost:8080/",
          "height": 1000
        },
        "id": "v9dF2Gi00FeG",
        "outputId": "5f7027fe-6307-4a59-881c-1dc3fcd95b96"
      },
      "outputs": [
        {
          "output_type": "display_data",
          "data": {
            "text/plain": [
              "<Figure size 1200x1200 with 16 Axes>"
            ],
            "image/png": "[encoded data removed]"
          },
          "metadata": {}
        }
      ],
      "source": [
        "df_clase.drop(columns = ['FLG_DEFAULT_12M']).hist(figsize = (12, 12))\n",
        "plt.show()"
      ]
    },
    {
      "cell_type": "code",
      "execution_count": 18,
      "metadata": {
        "colab": {
          "base_uri": "https://localhost:8080/",
          "height": 777
        },
        "id": "P-M4Mp_l0FcV",
        "outputId": "78a90d05-fbcf-4715-87f3-5b26150cc2ab"
      },
      "outputs": [
        {
          "output_type": "display_data",
          "data": {
            "text/plain": [
              "<Figure size 2000x1200 with 1 Axes>"
            ],
            "image/png": "[encoded data removed]"
          },
          "metadata": {}
        }
      ],
      "source": [
        "df_clase.drop(columns = ['FLG_DEFAULT_12M']).boxplot(figsize = (20, 12))\n",
        "plt.yscale('log')\n",
        "plt.xticks(rotation = 45)\n",
        "plt.show()"
      ]
    },
    {
      "cell_type": "code",
      "execution_count": 19,
      "metadata": {
        "id": "CC3ronaq0FYn"
      },
      "outputs": [],
      "source": [
        "def outliers_col(df):\n",
        "  for columna in df:\n",
        "    if df[columna].dtype != object:\n",
        "      q1 = stats.scoreatpercentile(df[columna], 25)\n",
        "      q3 = stats.scoreatpercentile(df[columna], 75)\n",
        "      iqr = q3-q1\n",
        "      lim_inf = q1-1.5*iqr\n",
        "      lim_sup = q3+1.5*iqr\n",
        "      n_outliers_inf = len(df[(df[columna]<lim_inf)])\n",
        "      n_outliers_sup = len(df[(df[columna]>lim_sup)])\n",
        "      print(\"{} | {} | {}\".format(\n",
        "          df[columna].name,\n",
        "          n_outliers_inf,\n",
        "          n_outliers_sup\n",
        "          ))"
      ]
    },
    {
      "cell_type": "code",
      "execution_count": 20,
      "metadata": {
        "colab": {
          "base_uri": "https://localhost:8080/"
        },
        "id": "kbu2q5Yv0FVg",
        "outputId": "b812ae9d-b505-4f94-f8a0-40e817cb3e51"
      },
      "outputs": [
        {
          "output_type": "stream",
          "name": "stdout",
          "text": [
            "DEUDA | 0 | 2126\n",
            "PLAZO_CREDITO | 0 | 0\n",
            "FLG_DEFAULT_12M | 0 | 2024\n",
            "ATRASO_MAXIMO_ULT_6M | 0 | 2005\n",
            "ATRASO_MAXIMO_ULT_12M | 0 | 4154\n",
            "ATRASO_MAXIMO_ULT_24M | 0 | 6634\n",
            "MESES_AHORROS_ULT_6M | 4635 | 0\n",
            "MEDIANA_AHORROS_ULT_6M | 0 | 3318\n",
            "DEUDA_TOTAL_SISTEMA | 0 | 1880\n",
            "NUMERO_DE_PAGOS_PDH | 0 | 0\n",
            "MONTO_TC_SISTEMA | 0 | 4470\n",
            "INGRESO_CLIENTE | 0 | 2512\n",
            "EDAD_T | 0 | 350\n",
            "CUOTA | 0 | 2867\n",
            "LINEA_DE_TC | 0 | 1200\n",
            "MONTO_TC_MEMBRESIA | 0 | 2015\n"
          ]
        }
      ],
      "source": [
        "outliers_col(df_clase)"
      ]
    },
    {
      "cell_type": "markdown",
      "metadata": {
        "id": "Ljoht83fc2s3"
      },
      "source": [
        "# **3. Feature Engineering**"
      ]
    },
    {
      "cell_type": "markdown",
      "metadata": {
        "id": "WNRxdUhPc_eZ"
      },
      "source": [
        "#### 3.1 Tratamiento de Missing:\n",
        "####Según el caso elegiremos rellenar estos casos con un valor usualmente conocido (dado el tipo de variable que estemos analizando), o imputar con la mediana o el valor más frecuente, según sea numérica o categórica respectivamente"
      ]
    },
    {
      "cell_type": "code",
      "execution_count": 21,
      "metadata": {
        "id": "w0pfVxKJc1wZ"
      },
      "outputs": [],
      "source": [
        "# Para partir las bases\n",
        "from sklearn.model_selection import train_test_split\n",
        "from sklearn.pipeline import Pipeline"
      ]
    },
    {
      "cell_type": "code",
      "execution_count": 22,
      "metadata": {
        "colab": {
          "base_uri": "https://localhost:8080/"
        },
        "id": "bf-bceoDepVC",
        "outputId": "7bb25562-9dcc-4a58-b93a-ef4aa59f2e69"
      },
      "outputs": [
        {
          "output_type": "stream",
          "name": "stdout",
          "text": [
            "Collecting feature_engine\n",
            "  Downloading feature_engine-1.8.3-py2.py3-none-any.whl.metadata (9.9 kB)\n",
            "Requirement already satisfied: numpy>=1.18.2 in /usr/local/lib/python3.11/dist-packages (from feature_engine) (2.0.2)\n",
            "Requirement already satisfied: pandas>=2.2.0 in /usr/local/lib/python3.11/dist-packages (from feature_engine) (2.2.2)\n",
            "Requirement already satisfied: scikit-learn>=1.4.0 in /usr/local/lib/python3.11/dist-packages (from feature_engine) (1.6.1)\n",
            "Requirement already satisfied: scipy>=1.4.1 in /usr/local/lib/python3.11/dist-packages (from feature_engine) (1.15.3)\n",
            "Requirement already satisfied: statsmodels>=0.11.1 in /usr/local/lib/python3.11/dist-packages (from feature_engine) (0.14.4)\n",
            "Requirement already satisfied: python-dateutil>=2.8.2 in /usr/local/lib/python3.11/dist-packages (from pandas>=2.2.0->feature_engine) (2.9.0.post0)\n",
            "Requirement already satisfied: pytz>=2020.1 in /usr/local/lib/python3.11/dist-packages (from pandas>=2.2.0->feature_engine) (2025.2)\n",
            "Requirement already satisfied: tzdata>=2022.7 in /usr/local/lib/python3.11/dist-packages (from pandas>=2.2.0->feature_engine) (2025.2)\n",
            "Requirement already satisfied: joblib>=1.2.0 in /usr/local/lib/python3.11/dist-packages (from scikit-learn>=1.4.0->feature_engine) (1.5.1)\n",
            "Requirement already satisfied: threadpoolctl>=3.1.0 in /usr/local/lib/python3.11/dist-packages (from scikit-learn>=1.4.0->feature_engine) (3.6.0)\n",
            "Requirement already satisfied: patsy>=0.5.6 in /usr/local/lib/python3.11/dist-packages (from statsmodels>=0.11.1->feature_engine) (1.0.1)\n",
            "Requirement already satisfied: packaging>=21.3 in /usr/local/lib/python3.11/dist-packages (from statsmodels>=0.11.1->feature_engine) (24.2)\n",
            "Requirement already satisfied: six>=1.5 in /usr/local/lib/python3.11/dist-packages (from python-dateutil>=2.8.2->pandas>=2.2.0->feature_engine) (1.17.0)\n",
            "Downloading feature_engine-1.8.3-py2.py3-none-any.whl (378 kB)\n",
            "\u001b[2K   \u001b[90m━━━━━━━━━━━━━━━━━━━━━━━━━━━━━━━━━━━━━━━━\u001b[0m \u001b[32m378.6/378.6 kB\u001b[0m \u001b[31m18.2 MB/s\u001b[0m eta \u001b[36m0:00:00\u001b[0m\n",
            "\u001b[?25hInstalling collected packages: feature_engine\n",
            "Successfully installed feature_engine-1.8.3\n"
          ]
        }
      ],
      "source": [
        "!pip install feature_engine"
      ]
    },
    {
      "cell_type": "markdown",
      "metadata": {
        "id": "eqggNz7CmRVi"
      },
      "source": [
        "### Partición Train y test (considerando estratificación de la Y)"
      ]
    },
    {
      "cell_type": "code",
      "execution_count": 23,
      "metadata": {
        "colab": {
          "base_uri": "https://localhost:8080/"
        },
        "id": "W-8Le4wrfZZV",
        "outputId": "fa9836a4-b196-4e22-ac5f-534b73a58d46"
      },
      "outputs": [
        {
          "output_type": "execute_result",
          "data": {
            "text/plain": [
              "((22360, 30), (9584, 30))"
            ]
          },
          "metadata": {},
          "execution_count": 23
        }
      ],
      "source": [
        "X_train, X_test, y_train, y_test = train_test_split(\n",
        "    df_clase.drop(\"FLG_DEFAULT_12M\", axis=1),\n",
        "    df_clase[\"FLG_DEFAULT_12M\"],\n",
        "    test_size=0.3,\n",
        "    random_state=0,\n",
        "    stratify=df_clase[\"FLG_DEFAULT_12M\"] #este punto es importante para asegurar un adecuado muestreo de la variable objetivo\n",
        ")\n",
        "\n",
        "X_train.shape, X_test.shape"
      ]
    },
    {
      "cell_type": "code",
      "execution_count": 24,
      "metadata": {
        "colab": {
          "base_uri": "https://localhost:8080/"
        },
        "id": "AQWpXwZigB8P",
        "outputId": "85937e02-1d16-4a5a-90b7-606bc5f1021a"
      },
      "outputs": [
        {
          "output_type": "execute_result",
          "data": {
            "text/plain": [
              "np.float64(0.06337209302325582)"
            ]
          },
          "metadata": {},
          "execution_count": 24
        }
      ],
      "source": [
        "# Comprobación de la proporción de Y en train\n",
        "y_train.value_counts()[1]/(y_train.value_counts()[0]+y_train.value_counts()[1])"
      ]
    },
    {
      "cell_type": "code",
      "execution_count": 25,
      "metadata": {
        "colab": {
          "base_uri": "https://localhost:8080/"
        },
        "id": "MwXhSV03gq-p",
        "outputId": "1ecd17fc-b36f-4ea4-ac3c-fb749aefef36"
      },
      "outputs": [
        {
          "output_type": "execute_result",
          "data": {
            "text/plain": [
              "np.float64(0.0633347245409015)"
            ]
          },
          "metadata": {},
          "execution_count": 25
        }
      ],
      "source": [
        "# Comprobación de la proporción de Y en test\n",
        "y_test.value_counts()[1]/(y_test.value_counts()[0]+y_test.value_counts()[1])"
      ]
    },
    {
      "cell_type": "code",
      "execution_count": 26,
      "metadata": {
        "colab": {
          "base_uri": "https://localhost:8080/",
          "height": 1000
        },
        "id": "BoGTfy-shKhY",
        "outputId": "ed654db5-b7d7-4dfa-b070-d46c03519698"
      },
      "outputs": [
        {
          "output_type": "execute_result",
          "data": {
            "text/plain": [
              "CODMES                          NaN\n",
              "CODSOLICITUD                    NaN\n",
              "DEUDA                           NaN\n",
              "PLAZO_CREDITO                   NaN\n",
              "FLG_GARANTIA                    NaN\n",
              "MIN_MES_DE_DEFAULT              NaN\n",
              "SEGMENTOCLIENTE                 NaN\n",
              "TARJETA_RELACIONADA             NaN\n",
              "VEHICULAR_RELACIONADA           NaN\n",
              "HIPOTECARIO_RELACIONADA         NaN\n",
              "ATRASO_MAXIMO_ULT_6M            NaN\n",
              "ATRASO_MAXIMO_ULT_12M      0.000045\n",
              "ATRASO_MAXIMO_ULT_24M      0.000179\n",
              "MESES_AHORROS_ULT_6M       0.020081\n",
              "MEDIANA_AHORROS_ULT_6M     0.000089\n",
              "DEUDA_TOTAL_SISTEMA        0.100134\n",
              "CLASIF_SISTEMA_ULT_12M          NaN\n",
              "FLG_PDH                         NaN\n",
              "NUMERO_DE_PAGOS_PDH             NaN\n",
              "MONTO_TC_SISTEMA                NaN\n",
              "INGRESO_CLIENTE            0.024240\n",
              "PROFESION                  0.010286\n",
              "ZONA_DEL_DESEMBOLSO        0.030367\n",
              "ESTADO_CIVIL               0.030367\n",
              "EDAD_T                     0.030367\n",
              "CUOTA                      0.020081\n",
              "LINEA_DE_TC                0.020081\n",
              "MONTO_TC_MEMBRESIA         0.020081\n",
              "FLG_TC_VISA                     NaN\n",
              "FLG_TC_MC                       NaN\n",
              "dtype: float64"
            ],
            "text/html": [
              "<div>\n",
              "<style scoped>\n",
              "    .dataframe tbody tr th:only-of-type {\n",
              "        vertical-align: middle;\n",
              "    }\n",
              "\n",
              "    .dataframe tbody tr th {\n",
              "        vertical-align: top;\n",
              "    }\n",
              "\n",
              "    .dataframe thead th {\n",
              "        text-align: right;\n",
              "    }\n",
              "</style>\n",
              "<table border=\"1\" class=\"dataframe\">\n",
              "  <thead>\n",
              "    <tr style=\"text-align: right;\">\n",
              "      <th></th>\n",
              "      <th>0</th>\n",
              "    </tr>\n",
              "  </thead>\n",
              "  <tbody>\n",
              "    <tr>\n",
              "      <th>CODMES</th>\n",
              "      <td>NaN</td>\n",
              "    </tr>\n",
              "    <tr>\n",
              "      <th>CODSOLICITUD</th>\n",
              "      <td>NaN</td>\n",
              "    </tr>\n",
              "    <tr>\n",
              "      <th>DEUDA</th>\n",
              "      <td>NaN</td>\n",
              "    </tr>\n",
              "    <tr>\n",
              "      <th>PLAZO_CREDITO</th>\n",
              "      <td>NaN</td>\n",
              "    </tr>\n",
              "    <tr>\n",
              "      <th>FLG_GARANTIA</th>\n",
              "      <td>NaN</td>\n",
              "    </tr>\n",
              "    <tr>\n",
              "      <th>MIN_MES_DE_DEFAULT</th>\n",
              "      <td>NaN</td>\n",
              "    </tr>\n",
              "    <tr>\n",
              "      <th>SEGMENTOCLIENTE</th>\n",
              "      <td>NaN</td>\n",
              "    </tr>\n",
              "    <tr>\n",
              "      <th>TARJETA_RELACIONADA</th>\n",
              "      <td>NaN</td>\n",
              "    </tr>\n",
              "    <tr>\n",
              "      <th>VEHICULAR_RELACIONADA</th>\n",
              "      <td>NaN</td>\n",
              "    </tr>\n",
              "    <tr>\n",
              "      <th>HIPOTECARIO_RELACIONADA</th>\n",
              "      <td>NaN</td>\n",
              "    </tr>\n",
              "    <tr>\n",
              "      <th>ATRASO_MAXIMO_ULT_6M</th>\n",
              "      <td>NaN</td>\n",
              "    </tr>\n",
              "    <tr>\n",
              "      <th>ATRASO_MAXIMO_ULT_12M</th>\n",
              "      <td>0.000045</td>\n",
              "    </tr>\n",
              "    <tr>\n",
              "      <th>ATRASO_MAXIMO_ULT_24M</th>\n",
              "      <td>0.000179</td>\n",
              "    </tr>\n",
              "    <tr>\n",
              "      <th>MESES_AHORROS_ULT_6M</th>\n",
              "      <td>0.020081</td>\n",
              "    </tr>\n",
              "    <tr>\n",
              "      <th>MEDIANA_AHORROS_ULT_6M</th>\n",
              "      <td>0.000089</td>\n",
              "    </tr>\n",
              "    <tr>\n",
              "      <th>DEUDA_TOTAL_SISTEMA</th>\n",
              "      <td>0.100134</td>\n",
              "    </tr>\n",
              "    <tr>\n",
              "      <th>CLASIF_SISTEMA_ULT_12M</th>\n",
              "      <td>NaN</td>\n",
              "    </tr>\n",
              "    <tr>\n",
              "      <th>FLG_PDH</th>\n",
              "      <td>NaN</td>\n",
              "    </tr>\n",
              "    <tr>\n",
              "      <th>NUMERO_DE_PAGOS_PDH</th>\n",
              "      <td>NaN</td>\n",
              "    </tr>\n",
              "    <tr>\n",
              "      <th>MONTO_TC_SISTEMA</th>\n",
              "      <td>NaN</td>\n",
              "    </tr>\n",
              "    <tr>\n",
              "      <th>INGRESO_CLIENTE</th>\n",
              "      <td>0.024240</td>\n",
              "    </tr>\n",
              "    <tr>\n",
              "      <th>PROFESION</th>\n",
              "      <td>0.010286</td>\n",
              "    </tr>\n",
              "    <tr>\n",
              "      <th>ZONA_DEL_DESEMBOLSO</th>\n",
              "      <td>0.030367</td>\n",
              "    </tr>\n",
              "    <tr>\n",
              "      <th>ESTADO_CIVIL</th>\n",
              "      <td>0.030367</td>\n",
              "    </tr>\n",
              "    <tr>\n",
              "      <th>EDAD_T</th>\n",
              "      <td>0.030367</td>\n",
              "    </tr>\n",
              "    <tr>\n",
              "      <th>CUOTA</th>\n",
              "      <td>0.020081</td>\n",
              "    </tr>\n",
              "    <tr>\n",
              "      <th>LINEA_DE_TC</th>\n",
              "      <td>0.020081</td>\n",
              "    </tr>\n",
              "    <tr>\n",
              "      <th>MONTO_TC_MEMBRESIA</th>\n",
              "      <td>0.020081</td>\n",
              "    </tr>\n",
              "    <tr>\n",
              "      <th>FLG_TC_VISA</th>\n",
              "      <td>NaN</td>\n",
              "    </tr>\n",
              "    <tr>\n",
              "      <th>FLG_TC_MC</th>\n",
              "      <td>NaN</td>\n",
              "    </tr>\n",
              "  </tbody>\n",
              "</table>\n",
              "</div><br><label><b>dtype:</b> float64</label>"
            ]
          },
          "metadata": {},
          "execution_count": 26
        }
      ],
      "source": [
        "# Revisión de la proporción de nulos por variable\n",
        "X_train.isnull().mean().where(X_train.isnull().mean()>0)"
      ]
    },
    {
      "cell_type": "markdown",
      "metadata": {
        "id": "99aXZoodKQp-"
      },
      "source": [
        "### Variable numéricas"
      ]
    },
    {
      "cell_type": "code",
      "execution_count": 27,
      "metadata": {
        "colab": {
          "base_uri": "https://localhost:8080/",
          "height": 554
        },
        "id": "mdQFzpchotjo",
        "outputId": "0c0ee42c-bcce-4631-9929-f8bee97f8984"
      },
      "outputs": [
        {
          "output_type": "execute_result",
          "data": {
            "text/plain": [
              "DEUDA                          NaN\n",
              "PLAZO_CREDITO                  NaN\n",
              "ATRASO_MAXIMO_ULT_6M           NaN\n",
              "ATRASO_MAXIMO_ULT_12M     0.000045\n",
              "ATRASO_MAXIMO_ULT_24M     0.000179\n",
              "MESES_AHORROS_ULT_6M      0.020081\n",
              "MEDIANA_AHORROS_ULT_6M    0.000089\n",
              "DEUDA_TOTAL_SISTEMA       0.100134\n",
              "NUMERO_DE_PAGOS_PDH            NaN\n",
              "MONTO_TC_SISTEMA               NaN\n",
              "INGRESO_CLIENTE           0.024240\n",
              "EDAD_T                    0.030367\n",
              "CUOTA                     0.020081\n",
              "LINEA_DE_TC               0.020081\n",
              "MONTO_TC_MEMBRESIA        0.020081\n",
              "dtype: float64"
            ],
            "text/html": [
              "<div>\n",
              "<style scoped>\n",
              "    .dataframe tbody tr th:only-of-type {\n",
              "        vertical-align: middle;\n",
              "    }\n",
              "\n",
              "    .dataframe tbody tr th {\n",
              "        vertical-align: top;\n",
              "    }\n",
              "\n",
              "    .dataframe thead th {\n",
              "        text-align: right;\n",
              "    }\n",
              "</style>\n",
              "<table border=\"1\" class=\"dataframe\">\n",
              "  <thead>\n",
              "    <tr style=\"text-align: right;\">\n",
              "      <th></th>\n",
              "      <th>0</th>\n",
              "    </tr>\n",
              "  </thead>\n",
              "  <tbody>\n",
              "    <tr>\n",
              "      <th>DEUDA</th>\n",
              "      <td>NaN</td>\n",
              "    </tr>\n",
              "    <tr>\n",
              "      <th>PLAZO_CREDITO</th>\n",
              "      <td>NaN</td>\n",
              "    </tr>\n",
              "    <tr>\n",
              "      <th>ATRASO_MAXIMO_ULT_6M</th>\n",
              "      <td>NaN</td>\n",
              "    </tr>\n",
              "    <tr>\n",
              "      <th>ATRASO_MAXIMO_ULT_12M</th>\n",
              "      <td>0.000045</td>\n",
              "    </tr>\n",
              "    <tr>\n",
              "      <th>ATRASO_MAXIMO_ULT_24M</th>\n",
              "      <td>0.000179</td>\n",
              "    </tr>\n",
              "    <tr>\n",
              "      <th>MESES_AHORROS_ULT_6M</th>\n",
              "      <td>0.020081</td>\n",
              "    </tr>\n",
              "    <tr>\n",
              "      <th>MEDIANA_AHORROS_ULT_6M</th>\n",
              "      <td>0.000089</td>\n",
              "    </tr>\n",
              "    <tr>\n",
              "      <th>DEUDA_TOTAL_SISTEMA</th>\n",
              "      <td>0.100134</td>\n",
              "    </tr>\n",
              "    <tr>\n",
              "      <th>NUMERO_DE_PAGOS_PDH</th>\n",
              "      <td>NaN</td>\n",
              "    </tr>\n",
              "    <tr>\n",
              "      <th>MONTO_TC_SISTEMA</th>\n",
              "      <td>NaN</td>\n",
              "    </tr>\n",
              "    <tr>\n",
              "      <th>INGRESO_CLIENTE</th>\n",
              "      <td>0.024240</td>\n",
              "    </tr>\n",
              "    <tr>\n",
              "      <th>EDAD_T</th>\n",
              "      <td>0.030367</td>\n",
              "    </tr>\n",
              "    <tr>\n",
              "      <th>CUOTA</th>\n",
              "      <td>0.020081</td>\n",
              "    </tr>\n",
              "    <tr>\n",
              "      <th>LINEA_DE_TC</th>\n",
              "      <td>0.020081</td>\n",
              "    </tr>\n",
              "    <tr>\n",
              "      <th>MONTO_TC_MEMBRESIA</th>\n",
              "      <td>0.020081</td>\n",
              "    </tr>\n",
              "  </tbody>\n",
              "</table>\n",
              "</div><br><label><b>dtype:</b> float64</label>"
            ]
          },
          "metadata": {},
          "execution_count": 27
        }
      ],
      "source": [
        "var_num = X_train.select_dtypes(include = [\"number\"])\n",
        "var_num.isnull().mean().where(var_num.isnull().mean()>0)"
      ]
    },
    {
      "cell_type": "markdown",
      "metadata": {
        "id": "fVwSOBDAKbym"
      },
      "source": [
        "### Variables categóricas"
      ]
    },
    {
      "cell_type": "code",
      "execution_count": 28,
      "metadata": {
        "colab": {
          "base_uri": "https://localhost:8080/",
          "height": 554
        },
        "id": "9tG0divc104W",
        "outputId": "13d8f001-dba1-49d0-a6db-6040aff61d27"
      },
      "outputs": [
        {
          "output_type": "execute_result",
          "data": {
            "text/plain": [
              "CODMES                          NaN\n",
              "CODSOLICITUD                    NaN\n",
              "FLG_GARANTIA                    NaN\n",
              "MIN_MES_DE_DEFAULT              NaN\n",
              "SEGMENTOCLIENTE                 NaN\n",
              "TARJETA_RELACIONADA             NaN\n",
              "VEHICULAR_RELACIONADA           NaN\n",
              "HIPOTECARIO_RELACIONADA         NaN\n",
              "CLASIF_SISTEMA_ULT_12M          NaN\n",
              "FLG_PDH                         NaN\n",
              "PROFESION                  0.010286\n",
              "ZONA_DEL_DESEMBOLSO        0.030367\n",
              "ESTADO_CIVIL               0.030367\n",
              "FLG_TC_VISA                     NaN\n",
              "FLG_TC_MC                       NaN\n",
              "dtype: float64"
            ],
            "text/html": [
              "<div>\n",
              "<style scoped>\n",
              "    .dataframe tbody tr th:only-of-type {\n",
              "        vertical-align: middle;\n",
              "    }\n",
              "\n",
              "    .dataframe tbody tr th {\n",
              "        vertical-align: top;\n",
              "    }\n",
              "\n",
              "    .dataframe thead th {\n",
              "        text-align: right;\n",
              "    }\n",
              "</style>\n",
              "<table border=\"1\" class=\"dataframe\">\n",
              "  <thead>\n",
              "    <tr style=\"text-align: right;\">\n",
              "      <th></th>\n",
              "      <th>0</th>\n",
              "    </tr>\n",
              "  </thead>\n",
              "  <tbody>\n",
              "    <tr>\n",
              "      <th>CODMES</th>\n",
              "      <td>NaN</td>\n",
              "    </tr>\n",
              "    <tr>\n",
              "      <th>CODSOLICITUD</th>\n",
              "      <td>NaN</td>\n",
              "    </tr>\n",
              "    <tr>\n",
              "      <th>FLG_GARANTIA</th>\n",
              "      <td>NaN</td>\n",
              "    </tr>\n",
              "    <tr>\n",
              "      <th>MIN_MES_DE_DEFAULT</th>\n",
              "      <td>NaN</td>\n",
              "    </tr>\n",
              "    <tr>\n",
              "      <th>SEGMENTOCLIENTE</th>\n",
              "      <td>NaN</td>\n",
              "    </tr>\n",
              "    <tr>\n",
              "      <th>TARJETA_RELACIONADA</th>\n",
              "      <td>NaN</td>\n",
              "    </tr>\n",
              "    <tr>\n",
              "      <th>VEHICULAR_RELACIONADA</th>\n",
              "      <td>NaN</td>\n",
              "    </tr>\n",
              "    <tr>\n",
              "      <th>HIPOTECARIO_RELACIONADA</th>\n",
              "      <td>NaN</td>\n",
              "    </tr>\n",
              "    <tr>\n",
              "      <th>CLASIF_SISTEMA_ULT_12M</th>\n",
              "      <td>NaN</td>\n",
              "    </tr>\n",
              "    <tr>\n",
              "      <th>FLG_PDH</th>\n",
              "      <td>NaN</td>\n",
              "    </tr>\n",
              "    <tr>\n",
              "      <th>PROFESION</th>\n",
              "      <td>0.010286</td>\n",
              "    </tr>\n",
              "    <tr>\n",
              "      <th>ZONA_DEL_DESEMBOLSO</th>\n",
              "      <td>0.030367</td>\n",
              "    </tr>\n",
              "    <tr>\n",
              "      <th>ESTADO_CIVIL</th>\n",
              "      <td>0.030367</td>\n",
              "    </tr>\n",
              "    <tr>\n",
              "      <th>FLG_TC_VISA</th>\n",
              "      <td>NaN</td>\n",
              "    </tr>\n",
              "    <tr>\n",
              "      <th>FLG_TC_MC</th>\n",
              "      <td>NaN</td>\n",
              "    </tr>\n",
              "  </tbody>\n",
              "</table>\n",
              "</div><br><label><b>dtype:</b> float64</label>"
            ]
          },
          "metadata": {},
          "execution_count": 28
        }
      ],
      "source": [
        "var_cat = X_train.select_dtypes(exclude = [\"number\"])\n",
        "var_cat.isnull().mean().where(var_cat.isnull().mean()>0)"
      ]
    },
    {
      "cell_type": "markdown",
      "metadata": {
        "id": "WXP8fC059q_c"
      },
      "source": [
        "### Generamos un pipeline para tratamiento de Nulos"
      ]
    },
    {
      "cell_type": "code",
      "execution_count": 29,
      "metadata": {
        "id": "NGO1U4bne9mO"
      },
      "outputs": [],
      "source": [
        "# Llamemos a la librería feature engine\n",
        "from feature_engine.imputation import MeanMedianImputer\n",
        "from feature_engine.imputation import ArbitraryNumberImputer\n",
        "from feature_engine.imputation import CategoricalImputer"
      ]
    },
    {
      "cell_type": "code",
      "execution_count": 30,
      "metadata": {
        "id": "0_lSZmOv7D96"
      },
      "outputs": [],
      "source": [
        "# Construyamos alternativamente un nuevo pipeline con todos los métodos de imputación en uno solo\n",
        "pipe_2 = Pipeline(\n",
        "    [\n",
        "        (\n",
        "            \"median_imputer\",\n",
        "            MeanMedianImputer(imputation_method=\"median\", variables=['LINEA_DE_TC','EDAD_T','INGRESO_CLIENTE']),\n",
        "        ),\n",
        "        (\n",
        "            \"arbitrary_imputer\",\n",
        "            ArbitraryNumberImputer(arbitrary_number=0, variables=['CUOTA', 'DEUDA_TOTAL_SISTEMA', 'MEDIANA_AHORROS_ULT_6M', 'MESES_AHORROS_ULT_6M', 'ATRASO_MAXIMO_ULT_24M','ATRASO_MAXIMO_ULT_12M','MONTO_TC_MEMBRESIA']),\n",
        "        ),\n",
        "        (   \"mode_imputer\",\n",
        "           CategoricalImputer(imputation_method=\"frequent\", variables=['PROFESION','ZONA_DEL_DESEMBOLSO','ESTADO_CIVIL'])\n",
        "        ),\n",
        "    ]\n",
        ")"
      ]
    },
    {
      "cell_type": "code",
      "execution_count": 31,
      "metadata": {
        "colab": {
          "base_uri": "https://localhost:8080/",
          "height": 195
        },
        "id": "fjsnBIt_98-4",
        "outputId": "0a2c09f0-ec0e-4192-e659-51e93011a4f2"
      },
      "outputs": [
        {
          "output_type": "execute_result",
          "data": {
            "text/plain": [
              "Pipeline(steps=[('median_imputer',\n",
              "                 MeanMedianImputer(variables=['LINEA_DE_TC', 'EDAD_T',\n",
              "                                              'INGRESO_CLIENTE'])),\n",
              "                ('arbitrary_imputer',\n",
              "                 ArbitraryNumberImputer(arbitrary_number=0,\n",
              "                                        variables=['CUOTA',\n",
              "                                                   'DEUDA_TOTAL_SISTEMA',\n",
              "                                                   'MEDIANA_AHORROS_ULT_6M',\n",
              "                                                   'MESES_AHORROS_ULT_6M',\n",
              "                                                   'ATRASO_MAXIMO_ULT_24M',\n",
              "                                                   'ATRASO_MAXIMO_ULT_12M',\n",
              "                                                   'MONTO_TC_MEMBRESIA'])),\n",
              "                ('mode_imputer',\n",
              "                 CategoricalImputer(imputation_method='frequent',\n",
              "                                    variables=['PROFESION',\n",
              "                                               'ZONA_DEL_DESEMBOLSO',\n",
              "                                               'ESTADO_CIVIL']))])"
            ],
            "text/html": [
              "<style>#sk-container-id-1 {\n",
              "  /* Definition of color scheme common for light and dark mode */\n",
              "  --sklearn-color-text: #000;\n",
              "  --sklearn-color-text-muted: #666;\n",
              "  --sklearn-color-line: gray;\n",
              "  /* Definition of color scheme for unfitted estimators */\n",
              "  --sklearn-color-unfitted-level-0: #fff5e6;\n",
              "  --sklearn-color-unfitted-level-1: #f6e4d2;\n",
              "  --sklearn-color-unfitted-level-2: #ffe0b3;\n",
              "  --sklearn-color-unfitted-level-3: chocolate;\n",
              "  /* Definition of color scheme for fitted estimators */\n",
              "  --sklearn-color-fitted-level-0: #f0f8ff;\n",
              "  --sklearn-color-fitted-level-1: #d4ebff;\n",
              "  --sklearn-color-fitted-level-2: #b3dbfd;\n",
              "  --sklearn-color-fitted-level-3: cornflowerblue;\n",
              "\n",
              "  /* Specific color for light theme */\n",
              "  --sklearn-color-text-on-default-background: var(--sg-text-color, var(--theme-code-foreground, var(--jp-content-font-color1, black)));\n",
              "  --sklearn-color-background: var(--sg-background-color, var(--theme-background, var(--jp-layout-color0, white)));\n",
              "  --sklearn-color-border-box: var(--sg-text-color, var(--theme-code-foreground, var(--jp-content-font-color1, black)));\n",
              "  --sklearn-color-icon: #696969;\n",
              "\n",
              "  @media (prefers-color-scheme: dark) {\n",
              "    /* Redefinition of color scheme for dark theme */\n",
              "    --sklearn-color-text-on-default-background: var(--sg-text-color, var(--theme-code-foreground, var(--jp-content-font-color1, white)));\n",
              "    --sklearn-color-background: var(--sg-background-color, var(--theme-background, var(--jp-layout-color0, #111)));\n",
              "    --sklearn-color-border-box: var(--sg-text-color, var(--theme-code-foreground, var(--jp-content-font-color1, white)));\n",
              "    --sklearn-color-icon: #878787;\n",
              "  }\n",
              "}\n",
              "\n",
              "#sk-container-id-1 {\n",
              "  color: var(--sklearn-color-text);\n",
              "}\n",
              "\n",
              "#sk-container-id-1 pre {\n",
              "  padding: 0;\n",
              "}\n",
              "\n",
              "#sk-container-id-1 input.sk-hidden--visually {\n",
              "  border: 0;\n",
              "  clip: rect(1px 1px 1px 1px);\n",
              "  clip: rect(1px, 1px, 1px, 1px);\n",
              "  height: 1px;\n",
              "  margin: -1px;\n",
              "  overflow: hidden;\n",
              "  padding: 0;\n",
              "  position: absolute;\n",
              "  width: 1px;\n",
              "}\n",
              "\n",
              "#sk-container-id-1 div.sk-dashed-wrapped {\n",
              "  border: 1px dashed var(--sklearn-color-line);\n",
              "  margin: 0 0.4em 0.5em 0.4em;\n",
              "  box-sizing: border-box;\n",
              "  padding-bottom: 0.4em;\n",
              "  background-color: var(--sklearn-color-background);\n",
              "}\n",
              "\n",
              "#sk-container-id-1 div.sk-container {\n",
              "  /* jupyter's `normalize.less` sets `[hidden] { display: none; }`\n",
              "     but bootstrap.min.css set `[hidden] { display: none !important; }`\n",
              "     so we also need the `!important` here to be able to override the\n",
              "     default hidden behavior on the sphinx rendered scikit-learn.org.\n",
              "     See: https://github.com/scikit-learn/scikit-learn/issues/21755 */\n",
              "  display: inline-block !important;\n",
              "  position: relative;\n",
              "}\n",
              "\n",
              "#sk-container-id-1 div.sk-text-repr-fallback {\n",
              "  display: none;\n",
              "}\n",
              "\n",
              "div.sk-parallel-item,\n",
              "div.sk-serial,\n",
              "div.sk-item {\n",
              "  /* draw centered vertical line to link estimators */\n",
              "  background-image: linear-gradient(var(--sklearn-color-text-on-default-background), var(--sklearn-color-text-on-default-background));\n",
              "  background-size: 2px 100%;\n",
              "  background-repeat: no-repeat;\n",
              "  background-position: center center;\n",
              "}\n",
              "\n",
              "/* Parallel-specific style estimator block */\n",
              "\n",
              "#sk-container-id-1 div.sk-parallel-item::after {\n",
              "  content: \"\";\n",
              "  width: 100%;\n",
              "  border-bottom: 2px solid var(--sklearn-color-text-on-default-background);\n",
              "  flex-grow: 1;\n",
              "}\n",
              "\n",
              "#sk-container-id-1 div.sk-parallel {\n",
              "  display: flex;\n",
              "  align-items: stretch;\n",
              "  justify-content: center;\n",
              "  background-color: var(--sklearn-color-background);\n",
              "  position: relative;\n",
              "}\n",
              "\n",
              "#sk-container-id-1 div.sk-parallel-item {\n",
              "  display: flex;\n",
              "  flex-direction: column;\n",
              "}\n",
              "\n",
              "#sk-container-id-1 div.sk-parallel-item:first-child::after {\n",
              "  align-self: flex-end;\n",
              "  width: 50%;\n",
              "}\n",
              "\n",
              "#sk-container-id-1 div.sk-parallel-item:last-child::after {\n",
              "  align-self: flex-start;\n",
              "  width: 50%;\n",
              "}\n",
              "\n",
              "#sk-container-id-1 div.sk-parallel-item:only-child::after {\n",
              "  width: 0;\n",
              "}\n",
              "\n",
              "/* Serial-specific style estimator block */\n",
              "\n",
              "#sk-container-id-1 div.sk-serial {\n",
              "  display: flex;\n",
              "  flex-direction: column;\n",
              "  align-items: center;\n",
              "  background-color: var(--sklearn-color-background);\n",
              "  padding-right: 1em;\n",
              "  padding-left: 1em;\n",
              "}\n",
              "\n",
              "\n",
              "/* Toggleable style: style used for estimator/Pipeline/ColumnTransformer box that is\n",
              "clickable and can be expanded/collapsed.\n",
              "- Pipeline and ColumnTransformer use this feature and define the default style\n",
              "- Estimators will overwrite some part of the style using the `sk-estimator` class\n",
              "*/\n",
              "\n",
              "/* Pipeline and ColumnTransformer style (default) */\n",
              "\n",
              "#sk-container-id-1 div.sk-toggleable {\n",
              "  /* Default theme specific background. It is overwritten whether we have a\n",
              "  specific estimator or a Pipeline/ColumnTransformer */\n",
              "  background-color: var(--sklearn-color-background);\n",
              "}\n",
              "\n",
              "/* Toggleable label */\n",
              "#sk-container-id-1 label.sk-toggleable__label {\n",
              "  cursor: pointer;\n",
              "  display: flex;\n",
              "  width: 100%;\n",
              "  margin-bottom: 0;\n",
              "  padding: 0.5em;\n",
              "  box-sizing: border-box;\n",
              "  text-align: center;\n",
              "  align-items: start;\n",
              "  justify-content: space-between;\n",
              "  gap: 0.5em;\n",
              "}\n",
              "\n",
              "#sk-container-id-1 label.sk-toggleable__label .caption {\n",
              "  font-size: 0.6rem;\n",
              "  font-weight: lighter;\n",
              "  color: var(--sklearn-color-text-muted);\n",
              "}\n",
              "\n",
              "#sk-container-id-1 label.sk-toggleable__label-arrow:before {\n",
              "  /* Arrow on the left of the label */\n",
              "  content: \"▸\";\n",
              "  float: left;\n",
              "  margin-right: 0.25em;\n",
              "  color: var(--sklearn-color-icon);\n",
              "}\n",
              "\n",
              "#sk-container-id-1 label.sk-toggleable__label-arrow:hover:before {\n",
              "  color: var(--sklearn-color-text);\n",
              "}\n",
              "\n",
              "/* Toggleable content - dropdown */\n",
              "\n",
              "#sk-container-id-1 div.sk-toggleable__content {\n",
              "  max-height: 0;\n",
              "  max-width: 0;\n",
              "  overflow: hidden;\n",
              "  text-align: left;\n",
              "  /* unfitted */\n",
              "  background-color: var(--sklearn-color-unfitted-level-0);\n",
              "}\n",
              "\n",
              "#sk-container-id-1 div.sk-toggleable__content.fitted {\n",
              "  /* fitted */\n",
              "  background-color: var(--sklearn-color-fitted-level-0);\n",
              "}\n",
              "\n",
              "#sk-container-id-1 div.sk-toggleable__content pre {\n",
              "  margin: 0.2em;\n",
              "  border-radius: 0.25em;\n",
              "  color: var(--sklearn-color-text);\n",
              "  /* unfitted */\n",
              "  background-color: var(--sklearn-color-unfitted-level-0);\n",
              "}\n",
              "\n",
              "#sk-container-id-1 div.sk-toggleable__content.fitted pre {\n",
              "  /* unfitted */\n",
              "  background-color: var(--sklearn-color-fitted-level-0);\n",
              "}\n",
              "\n",
              "#sk-container-id-1 input.sk-toggleable__control:checked~div.sk-toggleable__content {\n",
              "  /* Expand drop-down */\n",
              "  max-height: 200px;\n",
              "  max-width: 100%;\n",
              "  overflow: auto;\n",
              "}\n",
              "\n",
              "#sk-container-id-1 input.sk-toggleable__control:checked~label.sk-toggleable__label-arrow:before {\n",
              "  content: \"▾\";\n",
              "}\n",
              "\n",
              "/* Pipeline/ColumnTransformer-specific style */\n",
              "\n",
              "#sk-container-id-1 div.sk-label input.sk-toggleable__control:checked~label.sk-toggleable__label {\n",
              "  color: var(--sklearn-color-text);\n",
              "  background-color: var(--sklearn-color-unfitted-level-2);\n",
              "}\n",
              "\n",
              "#sk-container-id-1 div.sk-label.fitted input.sk-toggleable__control:checked~label.sk-toggleable__label {\n",
              "  background-color: var(--sklearn-color-fitted-level-2);\n",
              "}\n",
              "\n",
              "/* Estimator-specific style */\n",
              "\n",
              "/* Colorize estimator box */\n",
              "#sk-container-id-1 div.sk-estimator input.sk-toggleable__control:checked~label.sk-toggleable__label {\n",
              "  /* unfitted */\n",
              "  background-color: var(--sklearn-color-unfitted-level-2);\n",
              "}\n",
              "\n",
              "#sk-container-id-1 div.sk-estimator.fitted input.sk-toggleable__control:checked~label.sk-toggleable__label {\n",
              "  /* fitted */\n",
              "  background-color: var(--sklearn-color-fitted-level-2);\n",
              "}\n",
              "\n",
              "#sk-container-id-1 div.sk-label label.sk-toggleable__label,\n",
              "#sk-container-id-1 div.sk-label label {\n",
              "  /* The background is the default theme color */\n",
              "  color: var(--sklearn-color-text-on-default-background);\n",
              "}\n",
              "\n",
              "/* On hover, darken the color of the background */\n",
              "#sk-container-id-1 div.sk-label:hover label.sk-toggleable__label {\n",
              "  color: var(--sklearn-color-text);\n",
              "  background-color: var(--sklearn-color-unfitted-level-2);\n",
              "}\n",
              "\n",
              "/* Label box, darken color on hover, fitted */\n",
              "#sk-container-id-1 div.sk-label.fitted:hover label.sk-toggleable__label.fitted {\n",
              "  color: var(--sklearn-color-text);\n",
              "  background-color: var(--sklearn-color-fitted-level-2);\n",
              "}\n",
              "\n",
              "/* Estimator label */\n",
              "\n",
              "#sk-container-id-1 div.sk-label label {\n",
              "  font-family: monospace;\n",
              "  font-weight: bold;\n",
              "  display: inline-block;\n",
              "  line-height: 1.2em;\n",
              "}\n",
              "\n",
              "#sk-container-id-1 div.sk-label-container {\n",
              "  text-align: center;\n",
              "}\n",
              "\n",
              "/* Estimator-specific */\n",
              "#sk-container-id-1 div.sk-estimator {\n",
              "  font-family: monospace;\n",
              "  border: 1px dotted var(--sklearn-color-border-box);\n",
              "  border-radius: 0.25em;\n",
              "  box-sizing: border-box;\n",
              "  margin-bottom: 0.5em;\n",
              "  /* unfitted */\n",
              "  background-color: var(--sklearn-color-unfitted-level-0);\n",
              "}\n",
              "\n",
              "#sk-container-id-1 div.sk-estimator.fitted {\n",
              "  /* fitted */\n",
              "  background-color: var(--sklearn-color-fitted-level-0);\n",
              "}\n",
              "\n",
              "/* on hover */\n",
              "#sk-container-id-1 div.sk-estimator:hover {\n",
              "  /* unfitted */\n",
              "  background-color: var(--sklearn-color-unfitted-level-2);\n",
              "}\n",
              "\n",
              "#sk-container-id-1 div.sk-estimator.fitted:hover {\n",
              "  /* fitted */\n",
              "  background-color: var(--sklearn-color-fitted-level-2);\n",
              "}\n",
              "\n",
              "/* Specification for estimator info (e.g. \"i\" and \"?\") */\n",
              "\n",
              "/* Common style for \"i\" and \"?\" */\n",
              "\n",
              ".sk-estimator-doc-link,\n",
              "a:link.sk-estimator-doc-link,\n",
              "a:visited.sk-estimator-doc-link {\n",
              "  float: right;\n",
              "  font-size: smaller;\n",
              "  line-height: 1em;\n",
              "  font-family: monospace;\n",
              "  background-color: var(--sklearn-color-background);\n",
              "  border-radius: 1em;\n",
              "  height: 1em;\n",
              "  width: 1em;\n",
              "  text-decoration: none !important;\n",
              "  margin-left: 0.5em;\n",
              "  text-align: center;\n",
              "  /* unfitted */\n",
              "  border: var(--sklearn-color-unfitted-level-1) 1pt solid;\n",
              "  color: var(--sklearn-color-unfitted-level-1);\n",
              "}\n",
              "\n",
              ".sk-estimator-doc-link.fitted,\n",
              "a:link.sk-estimator-doc-link.fitted,\n",
              "a:visited.sk-estimator-doc-link.fitted {\n",
              "  /* fitted */\n",
              "  border: var(--sklearn-color-fitted-level-1) 1pt solid;\n",
              "  color: var(--sklearn-color-fitted-level-1);\n",
              "}\n",
              "\n",
              "/* On hover */\n",
              "div.sk-estimator:hover .sk-estimator-doc-link:hover,\n",
              ".sk-estimator-doc-link:hover,\n",
              "div.sk-label-container:hover .sk-estimator-doc-link:hover,\n",
              ".sk-estimator-doc-link:hover {\n",
              "  /* unfitted */\n",
              "  background-color: var(--sklearn-color-unfitted-level-3);\n",
              "  color: var(--sklearn-color-background);\n",
              "  text-decoration: none;\n",
              "}\n",
              "\n",
              "div.sk-estimator.fitted:hover .sk-estimator-doc-link.fitted:hover,\n",
              ".sk-estimator-doc-link.fitted:hover,\n",
              "div.sk-label-container:hover .sk-estimator-doc-link.fitted:hover,\n",
              ".sk-estimator-doc-link.fitted:hover {\n",
              "  /* fitted */\n",
              "  background-color: var(--sklearn-color-fitted-level-3);\n",
              "  color: var(--sklearn-color-background);\n",
              "  text-decoration: none;\n",
              "}\n",
              "\n",
              "/* Span, style for the box shown on hovering the info icon */\n",
              ".sk-estimator-doc-link span {\n",
              "  display: none;\n",
              "  z-index: 9999;\n",
              "  position: relative;\n",
              "  font-weight: normal;\n",
              "  right: .2ex;\n",
              "  padding: .5ex;\n",
              "  margin: .5ex;\n",
              "  width: min-content;\n",
              "  min-width: 20ex;\n",
              "  max-width: 50ex;\n",
              "  color: var(--sklearn-color-text);\n",
              "  box-shadow: 2pt 2pt 4pt #999;\n",
              "  /* unfitted */\n",
              "  background: var(--sklearn-color-unfitted-level-0);\n",
              "  border: .5pt solid var(--sklearn-color-unfitted-level-3);\n",
              "}\n",
              "\n",
              ".sk-estimator-doc-link.fitted span {\n",
              "  /* fitted */\n",
              "  background: var(--sklearn-color-fitted-level-0);\n",
              "  border: var(--sklearn-color-fitted-level-3);\n",
              "}\n",
              "\n",
              ".sk-estimator-doc-link:hover span {\n",
              "  display: block;\n",
              "}\n",
              "\n",
              "/* \"?\"-specific style due to the `<a>` HTML tag */\n",
              "\n",
              "#sk-container-id-1 a.estimator_doc_link {\n",
              "  float: right;\n",
              "  font-size: 1rem;\n",
              "  line-height: 1em;\n",
              "  font-family: monospace;\n",
              "  background-color: var(--sklearn-color-background);\n",
              "  border-radius: 1rem;\n",
              "  height: 1rem;\n",
              "  width: 1rem;\n",
              "  text-decoration: none;\n",
              "  /* unfitted */\n",
              "  color: var(--sklearn-color-unfitted-level-1);\n",
              "  border: var(--sklearn-color-unfitted-level-1) 1pt solid;\n",
              "}\n",
              "\n",
              "#sk-container-id-1 a.estimator_doc_link.fitted {\n",
              "  /* fitted */\n",
              "  border: var(--sklearn-color-fitted-level-1) 1pt solid;\n",
              "  color: var(--sklearn-color-fitted-level-1);\n",
              "}\n",
              "\n",
              "/* On hover */\n",
              "#sk-container-id-1 a.estimator_doc_link:hover {\n",
              "  /* unfitted */\n",
              "  background-color: var(--sklearn-color-unfitted-level-3);\n",
              "  color: var(--sklearn-color-background);\n",
              "  text-decoration: none;\n",
              "}\n",
              "\n",
              "#sk-container-id-1 a.estimator_doc_link.fitted:hover {\n",
              "  /* fitted */\n",
              "  background-color: var(--sklearn-color-fitted-level-3);\n",
              "}\n",
              "</style><div id=\"sk-container-id-1\" class=\"sk-top-container\"><div class=\"sk-text-repr-fallback\"><pre>Pipeline(steps=[(&#x27;median_imputer&#x27;,\n",
              "                 MeanMedianImputer(variables=[&#x27;LINEA_DE_TC&#x27;, &#x27;EDAD_T&#x27;,\n",
              "                                              &#x27;INGRESO_CLIENTE&#x27;])),\n",
              "                (&#x27;arbitrary_imputer&#x27;,\n",
              "                 ArbitraryNumberImputer(arbitrary_number=0,\n",
              "                                        variables=[&#x27;CUOTA&#x27;,\n",
              "                                                   &#x27;DEUDA_TOTAL_SISTEMA&#x27;,\n",
              "                                                   &#x27;MEDIANA_AHORROS_ULT_6M&#x27;,\n",
              "                                                   &#x27;MESES_AHORROS_ULT_6M&#x27;,\n",
              "                                                   &#x27;ATRASO_MAXIMO_ULT_24M&#x27;,\n",
              "                                                   &#x27;ATRASO_MAXIMO_ULT_12M&#x27;,\n",
              "                                                   &#x27;MONTO_TC_MEMBRESIA&#x27;])),\n",
              "                (&#x27;mode_imputer&#x27;,\n",
              "                 CategoricalImputer(imputation_method=&#x27;frequent&#x27;,\n",
              "                                    variables=[&#x27;PROFESION&#x27;,\n",
              "                                               &#x27;ZONA_DEL_DESEMBOLSO&#x27;,\n",
              "                                               &#x27;ESTADO_CIVIL&#x27;]))])</pre><b>In a Jupyter environment, please rerun this cell to show the HTML representation or trust the notebook. <br />On GitHub, the HTML representation is unable to render, please try loading this page with nbviewer.org.</b></div><div class=\"sk-container\" hidden><div class=\"sk-item sk-dashed-wrapped\"><div class=\"sk-label-container\"><div class=\"sk-label fitted sk-toggleable\"><input class=\"sk-toggleable__control sk-hidden--visually\" id=\"sk-estimator-id-1\" type=\"checkbox\" ><label for=\"sk-estimator-id-1\" class=\"sk-toggleable__label fitted sk-toggleable__label-arrow\"><div><div>Pipeline</div></div><div><a class=\"sk-estimator-doc-link fitted\" rel=\"noreferrer\" target=\"_blank\" href=\"https://scikit-learn.org/1.6/modules/generated/sklearn.pipeline.Pipeline.html\">?<span>Documentation for Pipeline</span></a><span class=\"sk-estimator-doc-link fitted\">i<span>Fitted</span></span></div></label><div class=\"sk-toggleable__content fitted\"><pre>Pipeline(steps=[(&#x27;median_imputer&#x27;,\n",
              "                 MeanMedianImputer(variables=[&#x27;LINEA_DE_TC&#x27;, &#x27;EDAD_T&#x27;,\n",
              "                                              &#x27;INGRESO_CLIENTE&#x27;])),\n",
              "                (&#x27;arbitrary_imputer&#x27;,\n",
              "                 ArbitraryNumberImputer(arbitrary_number=0,\n",
              "                                        variables=[&#x27;CUOTA&#x27;,\n",
              "                                                   &#x27;DEUDA_TOTAL_SISTEMA&#x27;,\n",
              "                                                   &#x27;MEDIANA_AHORROS_ULT_6M&#x27;,\n",
              "                                                   &#x27;MESES_AHORROS_ULT_6M&#x27;,\n",
              "                                                   &#x27;ATRASO_MAXIMO_ULT_24M&#x27;,\n",
              "                                                   &#x27;ATRASO_MAXIMO_ULT_12M&#x27;,\n",
              "                                                   &#x27;MONTO_TC_MEMBRESIA&#x27;])),\n",
              "                (&#x27;mode_imputer&#x27;,\n",
              "                 CategoricalImputer(imputation_method=&#x27;frequent&#x27;,\n",
              "                                    variables=[&#x27;PROFESION&#x27;,\n",
              "                                               &#x27;ZONA_DEL_DESEMBOLSO&#x27;,\n",
              "                                               &#x27;ESTADO_CIVIL&#x27;]))])</pre></div> </div></div><div class=\"sk-serial\"><div class=\"sk-item\"><div class=\"sk-estimator fitted sk-toggleable\"><input class=\"sk-toggleable__control sk-hidden--visually\" id=\"sk-estimator-id-2\" type=\"checkbox\" ><label for=\"sk-estimator-id-2\" class=\"sk-toggleable__label fitted sk-toggleable__label-arrow\"><div><div>MeanMedianImputer</div></div></label><div class=\"sk-toggleable__content fitted\"><pre>MeanMedianImputer(variables=[&#x27;LINEA_DE_TC&#x27;, &#x27;EDAD_T&#x27;, &#x27;INGRESO_CLIENTE&#x27;])</pre></div> </div></div><div class=\"sk-item\"><div class=\"sk-estimator fitted sk-toggleable\"><input class=\"sk-toggleable__control sk-hidden--visually\" id=\"sk-estimator-id-3\" type=\"checkbox\" ><label for=\"sk-estimator-id-3\" class=\"sk-toggleable__label fitted sk-toggleable__label-arrow\"><div><div>ArbitraryNumberImputer</div></div></label><div class=\"sk-toggleable__content fitted\"><pre>ArbitraryNumberImputer(arbitrary_number=0,\n",
              "                       variables=[&#x27;CUOTA&#x27;, &#x27;DEUDA_TOTAL_SISTEMA&#x27;,\n",
              "                                  &#x27;MEDIANA_AHORROS_ULT_6M&#x27;,\n",
              "                                  &#x27;MESES_AHORROS_ULT_6M&#x27;,\n",
              "                                  &#x27;ATRASO_MAXIMO_ULT_24M&#x27;,\n",
              "                                  &#x27;ATRASO_MAXIMO_ULT_12M&#x27;,\n",
              "                                  &#x27;MONTO_TC_MEMBRESIA&#x27;])</pre></div> </div></div><div class=\"sk-item\"><div class=\"sk-estimator fitted sk-toggleable\"><input class=\"sk-toggleable__control sk-hidden--visually\" id=\"sk-estimator-id-4\" type=\"checkbox\" ><label for=\"sk-estimator-id-4\" class=\"sk-toggleable__label fitted sk-toggleable__label-arrow\"><div><div>CategoricalImputer</div></div></label><div class=\"sk-toggleable__content fitted\"><pre>CategoricalImputer(imputation_method=&#x27;frequent&#x27;,\n",
              "                   variables=[&#x27;PROFESION&#x27;, &#x27;ZONA_DEL_DESEMBOLSO&#x27;,\n",
              "                              &#x27;ESTADO_CIVIL&#x27;])</pre></div> </div></div></div></div></div></div>"
            ]
          },
          "metadata": {},
          "execution_count": 31
        }
      ],
      "source": [
        "pipe_2.fit(X_train)"
      ]
    },
    {
      "cell_type": "code",
      "execution_count": 32,
      "metadata": {
        "colab": {
          "base_uri": "https://localhost:8080/"
        },
        "id": "NXRem7oEyAE4",
        "outputId": "be2710ea-5f6a-466c-a1d8-463477c44be7"
      },
      "outputs": [
        {
          "output_type": "execute_result",
          "data": {
            "text/plain": [
              "{'LINEA_DE_TC': 9609.0, 'EDAD_T': 35.0, 'INGRESO_CLIENTE': 2271.1773555}"
            ]
          },
          "metadata": {},
          "execution_count": 32
        }
      ],
      "source": [
        "pipe_2.named_steps[\"median_imputer\"].imputer_dict_"
      ]
    },
    {
      "cell_type": "code",
      "execution_count": 33,
      "metadata": {
        "colab": {
          "base_uri": "https://localhost:8080/"
        },
        "id": "J6XTHXJpyDLU",
        "outputId": "4282aa01-a349-4aaf-f854-a1ac152868a6"
      },
      "outputs": [
        {
          "output_type": "execute_result",
          "data": {
            "text/plain": [
              "{'CUOTA': 0,\n",
              " 'DEUDA_TOTAL_SISTEMA': 0,\n",
              " 'MEDIANA_AHORROS_ULT_6M': 0,\n",
              " 'MESES_AHORROS_ULT_6M': 0,\n",
              " 'ATRASO_MAXIMO_ULT_24M': 0,\n",
              " 'ATRASO_MAXIMO_ULT_12M': 0,\n",
              " 'MONTO_TC_MEMBRESIA': 0}"
            ]
          },
          "metadata": {},
          "execution_count": 33
        }
      ],
      "source": [
        "pipe_2.named_steps[\"arbitrary_imputer\"].imputer_dict_"
      ]
    },
    {
      "cell_type": "code",
      "execution_count": 34,
      "metadata": {
        "colab": {
          "base_uri": "https://localhost:8080/"
        },
        "id": "94wjct8ZyGxw",
        "outputId": "437f86bc-3fce-4f4b-ad10-c12417fa095a"
      },
      "outputs": [
        {
          "output_type": "execute_result",
          "data": {
            "text/plain": [
              "{'PROFESION': 'TECNICO',\n",
              " 'ZONA_DEL_DESEMBOLSO': 'AREQUIPA',\n",
              " 'ESTADO_CIVIL': 'SOL'}"
            ]
          },
          "metadata": {},
          "execution_count": 34
        }
      ],
      "source": [
        "pipe_2.named_steps['mode_imputer'].imputer_dict_"
      ]
    },
    {
      "cell_type": "code",
      "execution_count": 35,
      "metadata": {
        "id": "9GwyjwW4987v"
      },
      "outputs": [],
      "source": [
        "X_train_t = pipe_2.transform(X_train)\n",
        "X_test_t = pipe_2.transform(X_test)"
      ]
    },
    {
      "cell_type": "code",
      "execution_count": 36,
      "metadata": {
        "colab": {
          "base_uri": "https://localhost:8080/",
          "height": 1000
        },
        "id": "hWKj84BG_RR8",
        "outputId": "d3e7f287-9930-45e0-dd3d-edc0634cdef4"
      },
      "outputs": [
        {
          "output_type": "execute_result",
          "data": {
            "text/plain": [
              "CODMES                     0.0\n",
              "CODSOLICITUD               0.0\n",
              "DEUDA                      0.0\n",
              "PLAZO_CREDITO              0.0\n",
              "FLG_GARANTIA               0.0\n",
              "MIN_MES_DE_DEFAULT         0.0\n",
              "SEGMENTOCLIENTE            0.0\n",
              "TARJETA_RELACIONADA        0.0\n",
              "VEHICULAR_RELACIONADA      0.0\n",
              "HIPOTECARIO_RELACIONADA    0.0\n",
              "ATRASO_MAXIMO_ULT_6M       0.0\n",
              "ATRASO_MAXIMO_ULT_12M      0.0\n",
              "ATRASO_MAXIMO_ULT_24M      0.0\n",
              "MESES_AHORROS_ULT_6M       0.0\n",
              "MEDIANA_AHORROS_ULT_6M     0.0\n",
              "DEUDA_TOTAL_SISTEMA        0.0\n",
              "CLASIF_SISTEMA_ULT_12M     0.0\n",
              "FLG_PDH                    0.0\n",
              "NUMERO_DE_PAGOS_PDH        0.0\n",
              "MONTO_TC_SISTEMA           0.0\n",
              "INGRESO_CLIENTE            0.0\n",
              "PROFESION                  0.0\n",
              "ZONA_DEL_DESEMBOLSO        0.0\n",
              "ESTADO_CIVIL               0.0\n",
              "EDAD_T                     0.0\n",
              "CUOTA                      0.0\n",
              "LINEA_DE_TC                0.0\n",
              "MONTO_TC_MEMBRESIA         0.0\n",
              "FLG_TC_VISA                0.0\n",
              "FLG_TC_MC                  0.0\n",
              "dtype: float64"
            ],
            "text/html": [
              "<div>\n",
              "<style scoped>\n",
              "    .dataframe tbody tr th:only-of-type {\n",
              "        vertical-align: middle;\n",
              "    }\n",
              "\n",
              "    .dataframe tbody tr th {\n",
              "        vertical-align: top;\n",
              "    }\n",
              "\n",
              "    .dataframe thead th {\n",
              "        text-align: right;\n",
              "    }\n",
              "</style>\n",
              "<table border=\"1\" class=\"dataframe\">\n",
              "  <thead>\n",
              "    <tr style=\"text-align: right;\">\n",
              "      <th></th>\n",
              "      <th>0</th>\n",
              "    </tr>\n",
              "  </thead>\n",
              "  <tbody>\n",
              "    <tr>\n",
              "      <th>CODMES</th>\n",
              "      <td>0.0</td>\n",
              "    </tr>\n",
              "    <tr>\n",
              "      <th>CODSOLICITUD</th>\n",
              "      <td>0.0</td>\n",
              "    </tr>\n",
              "    <tr>\n",
              "      <th>DEUDA</th>\n",
              "      <td>0.0</td>\n",
              "    </tr>\n",
              "    <tr>\n",
              "      <th>PLAZO_CREDITO</th>\n",
              "      <td>0.0</td>\n",
              "    </tr>\n",
              "    <tr>\n",
              "      <th>FLG_GARANTIA</th>\n",
              "      <td>0.0</td>\n",
              "    </tr>\n",
              "    <tr>\n",
              "      <th>MIN_MES_DE_DEFAULT</th>\n",
              "      <td>0.0</td>\n",
              "    </tr>\n",
              "    <tr>\n",
              "      <th>SEGMENTOCLIENTE</th>\n",
              "      <td>0.0</td>\n",
              "    </tr>\n",
              "    <tr>\n",
              "      <th>TARJETA_RELACIONADA</th>\n",
              "      <td>0.0</td>\n",
              "    </tr>\n",
              "    <tr>\n",
              "      <th>VEHICULAR_RELACIONADA</th>\n",
              "      <td>0.0</td>\n",
              "    </tr>\n",
              "    <tr>\n",
              "      <th>HIPOTECARIO_RELACIONADA</th>\n",
              "      <td>0.0</td>\n",
              "    </tr>\n",
              "    <tr>\n",
              "      <th>ATRASO_MAXIMO_ULT_6M</th>\n",
              "      <td>0.0</td>\n",
              "    </tr>\n",
              "    <tr>\n",
              "      <th>ATRASO_MAXIMO_ULT_12M</th>\n",
              "      <td>0.0</td>\n",
              "    </tr>\n",
              "    <tr>\n",
              "      <th>ATRASO_MAXIMO_ULT_24M</th>\n",
              "      <td>0.0</td>\n",
              "    </tr>\n",
              "    <tr>\n",
              "      <th>MESES_AHORROS_ULT_6M</th>\n",
              "      <td>0.0</td>\n",
              "    </tr>\n",
              "    <tr>\n",
              "      <th>MEDIANA_AHORROS_ULT_6M</th>\n",
              "      <td>0.0</td>\n",
              "    </tr>\n",
              "    <tr>\n",
              "      <th>DEUDA_TOTAL_SISTEMA</th>\n",
              "      <td>0.0</td>\n",
              "    </tr>\n",
              "    <tr>\n",
              "      <th>CLASIF_SISTEMA_ULT_12M</th>\n",
              "      <td>0.0</td>\n",
              "    </tr>\n",
              "    <tr>\n",
              "      <th>FLG_PDH</th>\n",
              "      <td>0.0</td>\n",
              "    </tr>\n",
              "    <tr>\n",
              "      <th>NUMERO_DE_PAGOS_PDH</th>\n",
              "      <td>0.0</td>\n",
              "    </tr>\n",
              "    <tr>\n",
              "      <th>MONTO_TC_SISTEMA</th>\n",
              "      <td>0.0</td>\n",
              "    </tr>\n",
              "    <tr>\n",
              "      <th>INGRESO_CLIENTE</th>\n",
              "      <td>0.0</td>\n",
              "    </tr>\n",
              "    <tr>\n",
              "      <th>PROFESION</th>\n",
              "      <td>0.0</td>\n",
              "    </tr>\n",
              "    <tr>\n",
              "      <th>ZONA_DEL_DESEMBOLSO</th>\n",
              "      <td>0.0</td>\n",
              "    </tr>\n",
              "    <tr>\n",
              "      <th>ESTADO_CIVIL</th>\n",
              "      <td>0.0</td>\n",
              "    </tr>\n",
              "    <tr>\n",
              "      <th>EDAD_T</th>\n",
              "      <td>0.0</td>\n",
              "    </tr>\n",
              "    <tr>\n",
              "      <th>CUOTA</th>\n",
              "      <td>0.0</td>\n",
              "    </tr>\n",
              "    <tr>\n",
              "      <th>LINEA_DE_TC</th>\n",
              "      <td>0.0</td>\n",
              "    </tr>\n",
              "    <tr>\n",
              "      <th>MONTO_TC_MEMBRESIA</th>\n",
              "      <td>0.0</td>\n",
              "    </tr>\n",
              "    <tr>\n",
              "      <th>FLG_TC_VISA</th>\n",
              "      <td>0.0</td>\n",
              "    </tr>\n",
              "    <tr>\n",
              "      <th>FLG_TC_MC</th>\n",
              "      <td>0.0</td>\n",
              "    </tr>\n",
              "  </tbody>\n",
              "</table>\n",
              "</div><br><label><b>dtype:</b> float64</label>"
            ]
          },
          "metadata": {},
          "execution_count": 36
        }
      ],
      "source": [
        "X_train_t.isnull().mean()"
      ]
    },
    {
      "cell_type": "code",
      "execution_count": 37,
      "metadata": {
        "colab": {
          "base_uri": "https://localhost:8080/",
          "height": 1000
        },
        "id": "t_8gISoe_V-j",
        "outputId": "8a2d2be7-c71f-45bc-e123-b9b40970b98c"
      },
      "outputs": [
        {
          "output_type": "execute_result",
          "data": {
            "text/plain": [
              "CODMES                     0.0\n",
              "CODSOLICITUD               0.0\n",
              "DEUDA                      0.0\n",
              "PLAZO_CREDITO              0.0\n",
              "FLG_GARANTIA               0.0\n",
              "MIN_MES_DE_DEFAULT         0.0\n",
              "SEGMENTOCLIENTE            0.0\n",
              "TARJETA_RELACIONADA        0.0\n",
              "VEHICULAR_RELACIONADA      0.0\n",
              "HIPOTECARIO_RELACIONADA    0.0\n",
              "ATRASO_MAXIMO_ULT_6M       0.0\n",
              "ATRASO_MAXIMO_ULT_12M      0.0\n",
              "ATRASO_MAXIMO_ULT_24M      0.0\n",
              "MESES_AHORROS_ULT_6M       0.0\n",
              "MEDIANA_AHORROS_ULT_6M     0.0\n",
              "DEUDA_TOTAL_SISTEMA        0.0\n",
              "CLASIF_SISTEMA_ULT_12M     0.0\n",
              "FLG_PDH                    0.0\n",
              "NUMERO_DE_PAGOS_PDH        0.0\n",
              "MONTO_TC_SISTEMA           0.0\n",
              "INGRESO_CLIENTE            0.0\n",
              "PROFESION                  0.0\n",
              "ZONA_DEL_DESEMBOLSO        0.0\n",
              "ESTADO_CIVIL               0.0\n",
              "EDAD_T                     0.0\n",
              "CUOTA                      0.0\n",
              "LINEA_DE_TC                0.0\n",
              "MONTO_TC_MEMBRESIA         0.0\n",
              "FLG_TC_VISA                0.0\n",
              "FLG_TC_MC                  0.0\n",
              "dtype: float64"
            ],
            "text/html": [
              "<div>\n",
              "<style scoped>\n",
              "    .dataframe tbody tr th:only-of-type {\n",
              "        vertical-align: middle;\n",
              "    }\n",
              "\n",
              "    .dataframe tbody tr th {\n",
              "        vertical-align: top;\n",
              "    }\n",
              "\n",
              "    .dataframe thead th {\n",
              "        text-align: right;\n",
              "    }\n",
              "</style>\n",
              "<table border=\"1\" class=\"dataframe\">\n",
              "  <thead>\n",
              "    <tr style=\"text-align: right;\">\n",
              "      <th></th>\n",
              "      <th>0</th>\n",
              "    </tr>\n",
              "  </thead>\n",
              "  <tbody>\n",
              "    <tr>\n",
              "      <th>CODMES</th>\n",
              "      <td>0.0</td>\n",
              "    </tr>\n",
              "    <tr>\n",
              "      <th>CODSOLICITUD</th>\n",
              "      <td>0.0</td>\n",
              "    </tr>\n",
              "    <tr>\n",
              "      <th>DEUDA</th>\n",
              "      <td>0.0</td>\n",
              "    </tr>\n",
              "    <tr>\n",
              "      <th>PLAZO_CREDITO</th>\n",
              "      <td>0.0</td>\n",
              "    </tr>\n",
              "    <tr>\n",
              "      <th>FLG_GARANTIA</th>\n",
              "      <td>0.0</td>\n",
              "    </tr>\n",
              "    <tr>\n",
              "      <th>MIN_MES_DE_DEFAULT</th>\n",
              "      <td>0.0</td>\n",
              "    </tr>\n",
              "    <tr>\n",
              "      <th>SEGMENTOCLIENTE</th>\n",
              "      <td>0.0</td>\n",
              "    </tr>\n",
              "    <tr>\n",
              "      <th>TARJETA_RELACIONADA</th>\n",
              "      <td>0.0</td>\n",
              "    </tr>\n",
              "    <tr>\n",
              "      <th>VEHICULAR_RELACIONADA</th>\n",
              "      <td>0.0</td>\n",
              "    </tr>\n",
              "    <tr>\n",
              "      <th>HIPOTECARIO_RELACIONADA</th>\n",
              "      <td>0.0</td>\n",
              "    </tr>\n",
              "    <tr>\n",
              "      <th>ATRASO_MAXIMO_ULT_6M</th>\n",
              "      <td>0.0</td>\n",
              "    </tr>\n",
              "    <tr>\n",
              "      <th>ATRASO_MAXIMO_ULT_12M</th>\n",
              "      <td>0.0</td>\n",
              "    </tr>\n",
              "    <tr>\n",
              "      <th>ATRASO_MAXIMO_ULT_24M</th>\n",
              "      <td>0.0</td>\n",
              "    </tr>\n",
              "    <tr>\n",
              "      <th>MESES_AHORROS_ULT_6M</th>\n",
              "      <td>0.0</td>\n",
              "    </tr>\n",
              "    <tr>\n",
              "      <th>MEDIANA_AHORROS_ULT_6M</th>\n",
              "      <td>0.0</td>\n",
              "    </tr>\n",
              "    <tr>\n",
              "      <th>DEUDA_TOTAL_SISTEMA</th>\n",
              "      <td>0.0</td>\n",
              "    </tr>\n",
              "    <tr>\n",
              "      <th>CLASIF_SISTEMA_ULT_12M</th>\n",
              "      <td>0.0</td>\n",
              "    </tr>\n",
              "    <tr>\n",
              "      <th>FLG_PDH</th>\n",
              "      <td>0.0</td>\n",
              "    </tr>\n",
              "    <tr>\n",
              "      <th>NUMERO_DE_PAGOS_PDH</th>\n",
              "      <td>0.0</td>\n",
              "    </tr>\n",
              "    <tr>\n",
              "      <th>MONTO_TC_SISTEMA</th>\n",
              "      <td>0.0</td>\n",
              "    </tr>\n",
              "    <tr>\n",
              "      <th>INGRESO_CLIENTE</th>\n",
              "      <td>0.0</td>\n",
              "    </tr>\n",
              "    <tr>\n",
              "      <th>PROFESION</th>\n",
              "      <td>0.0</td>\n",
              "    </tr>\n",
              "    <tr>\n",
              "      <th>ZONA_DEL_DESEMBOLSO</th>\n",
              "      <td>0.0</td>\n",
              "    </tr>\n",
              "    <tr>\n",
              "      <th>ESTADO_CIVIL</th>\n",
              "      <td>0.0</td>\n",
              "    </tr>\n",
              "    <tr>\n",
              "      <th>EDAD_T</th>\n",
              "      <td>0.0</td>\n",
              "    </tr>\n",
              "    <tr>\n",
              "      <th>CUOTA</th>\n",
              "      <td>0.0</td>\n",
              "    </tr>\n",
              "    <tr>\n",
              "      <th>LINEA_DE_TC</th>\n",
              "      <td>0.0</td>\n",
              "    </tr>\n",
              "    <tr>\n",
              "      <th>MONTO_TC_MEMBRESIA</th>\n",
              "      <td>0.0</td>\n",
              "    </tr>\n",
              "    <tr>\n",
              "      <th>FLG_TC_VISA</th>\n",
              "      <td>0.0</td>\n",
              "    </tr>\n",
              "    <tr>\n",
              "      <th>FLG_TC_MC</th>\n",
              "      <td>0.0</td>\n",
              "    </tr>\n",
              "  </tbody>\n",
              "</table>\n",
              "</div><br><label><b>dtype:</b> float64</label>"
            ]
          },
          "metadata": {},
          "execution_count": 37
        }
      ],
      "source": [
        "X_test_t.isnull().mean()"
      ]
    },
    {
      "cell_type": "markdown",
      "metadata": {
        "id": "6ba14EMaIGKI"
      },
      "source": [
        "### 3.2 Tratamiento de Valores Raros o Poco frecuentes\n",
        "En este punto, nos detenemos para revisar problemas de cardinalidad y si existen valores raros o poco frecuentes en nuestras variables categóricas"
      ]
    },
    {
      "cell_type": "code",
      "execution_count": 38,
      "metadata": {
        "id": "5hi8S1nlPKDy"
      },
      "outputs": [],
      "source": [
        "cat_cols=['FLG_GARANTIA','SEGMENTOCLIENTE','TARJETA_RELACIONADA','VEHICULAR_RELACIONADA','HIPOTECARIO_RELACIONADA','CLASIF_SISTEMA_ULT_12M',\n",
        "          'FLG_PDH','PROFESION','ZONA_DEL_DESEMBOLSO','ESTADO_CIVIL','FLG_TC_VISA','FLG_TC_MC']"
      ]
    },
    {
      "cell_type": "code",
      "execution_count": 39,
      "metadata": {
        "colab": {
          "base_uri": "https://localhost:8080/"
        },
        "id": "NAWGz0gxNAIq",
        "outputId": "6ef43e62-8f65-400c-9261-26e4ec244d56"
      },
      "outputs": [
        {
          "output_type": "stream",
          "name": "stdout",
          "text": [
            "variable:  FLG_GARANTIA  nro de categorias:  2\n",
            "variable:  SEGMENTOCLIENTE  nro de categorias:  7\n",
            "variable:  TARJETA_RELACIONADA  nro de categorias:  2\n",
            "variable:  VEHICULAR_RELACIONADA  nro de categorias:  2\n",
            "variable:  HIPOTECARIO_RELACIONADA  nro de categorias:  2\n",
            "variable:  CLASIF_SISTEMA_ULT_12M  nro de categorias:  6\n",
            "variable:  FLG_PDH  nro de categorias:  2\n",
            "variable:  PROFESION  nro de categorias:  170\n",
            "variable:  ZONA_DEL_DESEMBOLSO  nro de categorias:  30\n",
            "variable:  ESTADO_CIVIL  nro de categorias:  6\n",
            "variable:  FLG_TC_VISA  nro de categorias:  3\n",
            "variable:  FLG_TC_MC  nro de categorias:  3\n"
          ]
        }
      ],
      "source": [
        "# Examinemos esto en la muestra de train\n",
        "for col in cat_cols:\n",
        "    print('variable: ', col, ' nro de categorias: ', X_train_t[col].nunique())"
      ]
    },
    {
      "cell_type": "code",
      "execution_count": 40,
      "metadata": {
        "colab": {
          "base_uri": "https://localhost:8080/"
        },
        "id": "PWqsEfKWM_y9",
        "outputId": "4eb46df2-db13-47ae-a01b-e21954164fb3"
      },
      "outputs": [
        {
          "output_type": "stream",
          "name": "stdout",
          "text": [
            "variable:  FLG_GARANTIA  nro de categorias:  2\n",
            "variable:  SEGMENTOCLIENTE  nro de categorias:  5\n",
            "variable:  TARJETA_RELACIONADA  nro de categorias:  2\n",
            "variable:  VEHICULAR_RELACIONADA  nro de categorias:  2\n",
            "variable:  HIPOTECARIO_RELACIONADA  nro de categorias:  2\n",
            "variable:  CLASIF_SISTEMA_ULT_12M  nro de categorias:  6\n",
            "variable:  FLG_PDH  nro de categorias:  2\n",
            "variable:  PROFESION  nro de categorias:  138\n",
            "variable:  ZONA_DEL_DESEMBOLSO  nro de categorias:  30\n",
            "variable:  ESTADO_CIVIL  nro de categorias:  6\n",
            "variable:  FLG_TC_VISA  nro de categorias:  3\n",
            "variable:  FLG_TC_MC  nro de categorias:  3\n"
          ]
        }
      ],
      "source": [
        "#Examinemos esto en la muestra de test\n",
        "for col in cat_cols:\n",
        "    print('variable: ', col, ' nro de categorias: ', X_test_t[col].nunique())"
      ]
    },
    {
      "cell_type": "code",
      "execution_count": 41,
      "metadata": {
        "colab": {
          "base_uri": "https://localhost:8080/"
        },
        "id": "sTShRUdPQ4yv",
        "outputId": "5152acc3-551e-4619-ef69-d98392b0c167"
      },
      "outputs": [
        {
          "output_type": "stream",
          "name": "stdout",
          "text": [
            "El nro de categorias que aparecen en el train y no en el test es 37\n",
            "El nro de categorias que aparecen en el test y no en el train es 5\n"
          ]
        }
      ],
      "source": [
        "# Analicemos la variable Profesión\n",
        "unique_to_train_set = [x for x in X_train_t.PROFESION.unique() if x not in X_test_t.PROFESION.unique()]\n",
        "print('El nro de categorias que aparecen en el train y no en el test es', len(unique_to_train_set))\n",
        "unique_to_test_set = [x for x in X_test_t.PROFESION.unique() if x not in X_train_t.PROFESION.unique()]\n",
        "print('El nro de categorias que aparecen en el test y no en el train es', len(unique_to_test_set))"
      ]
    },
    {
      "cell_type": "code",
      "execution_count": 42,
      "metadata": {
        "colab": {
          "base_uri": "https://localhost:8080/"
        },
        "id": "NdoX6kF3uucF",
        "outputId": "e38428a5-44a6-426c-dfbe-339473e74b9b"
      },
      "outputs": [
        {
          "output_type": "stream",
          "name": "stdout",
          "text": [
            "El nro de categorias que aparecen en el train y no en el test es 0\n",
            "El nro de categorias que aparecen en el test y no en el train es 0\n"
          ]
        }
      ],
      "source": [
        "# Analicemos la variable ZONA_DEL_DESEMBOLSO\n",
        "unique_to_train_set = [x for x in X_train_t.ZONA_DEL_DESEMBOLSO.unique() if x not in X_test_t.ZONA_DEL_DESEMBOLSO.unique()]\n",
        "print('El nro de categorias que aparecen en el train y no en el test es', len(unique_to_train_set))\n",
        "unique_to_test_set = [x for x in X_test_t.ZONA_DEL_DESEMBOLSO.unique() if x not in X_train_t.ZONA_DEL_DESEMBOLSO.unique()]\n",
        "print('El nro de categorias que aparecen en el test y no en el train es', len(unique_to_test_set))"
      ]
    },
    {
      "cell_type": "code",
      "execution_count": 43,
      "metadata": {
        "colab": {
          "base_uri": "https://localhost:8080/"
        },
        "id": "BHglBNCzQRew",
        "outputId": "8e0a71c7-3f60-456f-d757-c4602472e73c"
      },
      "outputs": [
        {
          "output_type": "stream",
          "name": "stdout",
          "text": [
            "El nro de categorias que aparecen en el train y no en el test es 2\n",
            "El nro de categorias que aparecen en el test y no en el train es 0\n"
          ]
        }
      ],
      "source": [
        "# Analicemos la variable SEGMENTOCLIENTE\n",
        "unique_to_train_set = [x for x in X_train_t.SEGMENTOCLIENTE.unique() if x not in X_test_t.SEGMENTOCLIENTE.unique()]\n",
        "print('El nro de categorias que aparecen en el train y no en el test es', len(unique_to_train_set))\n",
        "unique_to_test_set = [x for x in X_test_t.SEGMENTOCLIENTE.unique() if x not in X_train_t.SEGMENTOCLIENTE.unique()]\n",
        "print('El nro de categorias que aparecen en el test y no en el train es', len(unique_to_test_set))"
      ]
    },
    {
      "cell_type": "markdown",
      "metadata": {
        "id": "jOjKU4nRSsm7"
      },
      "source": [
        "#### Generamos un pipeline para tratamiento de valores raros"
      ]
    },
    {
      "cell_type": "code",
      "execution_count": 44,
      "metadata": {
        "id": "OI0-nbuO6z4J"
      },
      "outputs": [],
      "source": [
        "from feature_engine.encoding import RareLabelEncoder"
      ]
    },
    {
      "cell_type": "code",
      "execution_count": 45,
      "metadata": {
        "id": "q6WPmL2Aaufy"
      },
      "outputs": [],
      "source": [
        "# Construyamos alternativamente un nuevo pipeline con todos los métodos de imputación y codificación de valores raros en uno solo\n",
        "pipe_3 = Pipeline(\n",
        "    [\n",
        "        (\n",
        "            \"median_imputer\",\n",
        "            MeanMedianImputer(imputation_method=\"median\", variables=['LINEA_DE_TC','EDAD_T','INGRESO_CLIENTE']),\n",
        "        ),\n",
        "        (\n",
        "            \"arbitrary_imputer\",\n",
        "            ArbitraryNumberImputer(arbitrary_number=0, variables=['CUOTA', 'DEUDA_TOTAL_SISTEMA', 'MEDIANA_AHORROS_ULT_6M', 'MESES_AHORROS_ULT_6M', 'ATRASO_MAXIMO_ULT_24M','ATRASO_MAXIMO_ULT_12M','MONTO_TC_MEMBRESIA']),\n",
        "        ),\n",
        "        (   \"mode_imputer\",\n",
        "           CategoricalImputer(imputation_method=\"frequent\", variables=['PROFESION','ZONA_DEL_DESEMBOLSO','ESTADO_CIVIL'])\n",
        "        ),\n",
        "        (\n",
        "            \"rare_encoder\",\n",
        "            RareLabelEncoder(tol=0.001,n_categories=5,variables=[\"PROFESION\",\"SEGMENTOCLIENTE\",])\n",
        "        ),\n",
        "    ]\n",
        ")"
      ]
    },
    {
      "cell_type": "code",
      "execution_count": 46,
      "metadata": {
        "colab": {
          "base_uri": "https://localhost:8080/",
          "height": 235
        },
        "id": "rpWg6o9jauav",
        "outputId": "4ea18263-8ed4-4e8f-d78a-a78ca3fd3618"
      },
      "outputs": [
        {
          "output_type": "execute_result",
          "data": {
            "text/plain": [
              "Pipeline(steps=[('median_imputer',\n",
              "                 MeanMedianImputer(variables=['LINEA_DE_TC', 'EDAD_T',\n",
              "                                              'INGRESO_CLIENTE'])),\n",
              "                ('arbitrary_imputer',\n",
              "                 ArbitraryNumberImputer(arbitrary_number=0,\n",
              "                                        variables=['CUOTA',\n",
              "                                                   'DEUDA_TOTAL_SISTEMA',\n",
              "                                                   'MEDIANA_AHORROS_ULT_6M',\n",
              "                                                   'MESES_AHORROS_ULT_6M',\n",
              "                                                   'ATRASO_MAXIMO_ULT_24M',\n",
              "                                                   'ATRASO_MAXIMO_ULT_12M',\n",
              "                                                   'MONTO_TC_MEMBRESIA'])),\n",
              "                ('mode_imputer',\n",
              "                 CategoricalImputer(imputation_method='frequent',\n",
              "                                    variables=['PROFESION',\n",
              "                                               'ZONA_DEL_DESEMBOLSO',\n",
              "                                               'ESTADO_CIVIL'])),\n",
              "                ('rare_encoder',\n",
              "                 RareLabelEncoder(n_categories=5, tol=0.001,\n",
              "                                  variables=['PROFESION', 'SEGMENTOCLIENTE']))])"
            ],
            "text/html": [
              "<style>#sk-container-id-2 {\n",
              "  /* Definition of color scheme common for light and dark mode */\n",
              "  --sklearn-color-text: #000;\n",
              "  --sklearn-color-text-muted: #666;\n",
              "  --sklearn-color-line: gray;\n",
              "  /* Definition of color scheme for unfitted estimators */\n",
              "  --sklearn-color-unfitted-level-0: #fff5e6;\n",
              "  --sklearn-color-unfitted-level-1: #f6e4d2;\n",
              "  --sklearn-color-unfitted-level-2: #ffe0b3;\n",
              "  --sklearn-color-unfitted-level-3: chocolate;\n",
              "  /* Definition of color scheme for fitted estimators */\n",
              "  --sklearn-color-fitted-level-0: #f0f8ff;\n",
              "  --sklearn-color-fitted-level-1: #d4ebff;\n",
              "  --sklearn-color-fitted-level-2: #b3dbfd;\n",
              "  --sklearn-color-fitted-level-3: cornflowerblue;\n",
              "\n",
              "  /* Specific color for light theme */\n",
              "  --sklearn-color-text-on-default-background: var(--sg-text-color, var(--theme-code-foreground, var(--jp-content-font-color1, black)));\n",
              "  --sklearn-color-background: var(--sg-background-color, var(--theme-background, var(--jp-layout-color0, white)));\n",
              "  --sklearn-color-border-box: var(--sg-text-color, var(--theme-code-foreground, var(--jp-content-font-color1, black)));\n",
              "  --sklearn-color-icon: #696969;\n",
              "\n",
              "  @media (prefers-color-scheme: dark) {\n",
              "    /* Redefinition of color scheme for dark theme */\n",
              "    --sklearn-color-text-on-default-background: var(--sg-text-color, var(--theme-code-foreground, var(--jp-content-font-color1, white)));\n",
              "    --sklearn-color-background: var(--sg-background-color, var(--theme-background, var(--jp-layout-color0, #111)));\n",
              "    --sklearn-color-border-box: var(--sg-text-color, var(--theme-code-foreground, var(--jp-content-font-color1, white)));\n",
              "    --sklearn-color-icon: #878787;\n",
              "  }\n",
              "}\n",
              "\n",
              "#sk-container-id-2 {\n",
              "  color: var(--sklearn-color-text);\n",
              "}\n",
              "\n",
              "#sk-container-id-2 pre {\n",
              "  padding: 0;\n",
              "}\n",
              "\n",
              "#sk-container-id-2 input.sk-hidden--visually {\n",
              "  border: 0;\n",
              "  clip: rect(1px 1px 1px 1px);\n",
              "  clip: rect(1px, 1px, 1px, 1px);\n",
              "  height: 1px;\n",
              "  margin: -1px;\n",
              "  overflow: hidden;\n",
              "  padding: 0;\n",
              "  position: absolute;\n",
              "  width: 1px;\n",
              "}\n",
              "\n",
              "#sk-container-id-2 div.sk-dashed-wrapped {\n",
              "  border: 1px dashed var(--sklearn-color-line);\n",
              "  margin: 0 0.4em 0.5em 0.4em;\n",
              "  box-sizing: border-box;\n",
              "  padding-bottom: 0.4em;\n",
              "  background-color: var(--sklearn-color-background);\n",
              "}\n",
              "\n",
              "#sk-container-id-2 div.sk-container {\n",
              "  /* jupyter's `normalize.less` sets `[hidden] { display: none; }`\n",
              "     but bootstrap.min.css set `[hidden] { display: none !important; }`\n",
              "     so we also need the `!important` here to be able to override the\n",
              "     default hidden behavior on the sphinx rendered scikit-learn.org.\n",
              "     See: https://github.com/scikit-learn/scikit-learn/issues/21755 */\n",
              "  display: inline-block !important;\n",
              "  position: relative;\n",
              "}\n",
              "\n",
              "#sk-container-id-2 div.sk-text-repr-fallback {\n",
              "  display: none;\n",
              "}\n",
              "\n",
              "div.sk-parallel-item,\n",
              "div.sk-serial,\n",
              "div.sk-item {\n",
              "  /* draw centered vertical line to link estimators */\n",
              "  background-image: linear-gradient(var(--sklearn-color-text-on-default-background), var(--sklearn-color-text-on-default-background));\n",
              "  background-size: 2px 100%;\n",
              "  background-repeat: no-repeat;\n",
              "  background-position: center center;\n",
              "}\n",
              "\n",
              "/* Parallel-specific style estimator block */\n",
              "\n",
              "#sk-container-id-2 div.sk-parallel-item::after {\n",
              "  content: \"\";\n",
              "  width: 100%;\n",
              "  border-bottom: 2px solid var(--sklearn-color-text-on-default-background);\n",
              "  flex-grow: 1;\n",
              "}\n",
              "\n",
              "#sk-container-id-2 div.sk-parallel {\n",
              "  display: flex;\n",
              "  align-items: stretch;\n",
              "  justify-content: center;\n",
              "  background-color: var(--sklearn-color-background);\n",
              "  position: relative;\n",
              "}\n",
              "\n",
              "#sk-container-id-2 div.sk-parallel-item {\n",
              "  display: flex;\n",
              "  flex-direction: column;\n",
              "}\n",
              "\n",
              "#sk-container-id-2 div.sk-parallel-item:first-child::after {\n",
              "  align-self: flex-end;\n",
              "  width: 50%;\n",
              "}\n",
              "\n",
              "#sk-container-id-2 div.sk-parallel-item:last-child::after {\n",
              "  align-self: flex-start;\n",
              "  width: 50%;\n",
              "}\n",
              "\n",
              "#sk-container-id-2 div.sk-parallel-item:only-child::after {\n",
              "  width: 0;\n",
              "}\n",
              "\n",
              "/* Serial-specific style estimator block */\n",
              "\n",
              "#sk-container-id-2 div.sk-serial {\n",
              "  display: flex;\n",
              "  flex-direction: column;\n",
              "  align-items: center;\n",
              "  background-color: var(--sklearn-color-background);\n",
              "  padding-right: 1em;\n",
              "  padding-left: 1em;\n",
              "}\n",
              "\n",
              "\n",
              "/* Toggleable style: style used for estimator/Pipeline/ColumnTransformer box that is\n",
              "clickable and can be expanded/collapsed.\n",
              "- Pipeline and ColumnTransformer use this feature and define the default style\n",
              "- Estimators will overwrite some part of the style using the `sk-estimator` class\n",
              "*/\n",
              "\n",
              "/* Pipeline and ColumnTransformer style (default) */\n",
              "\n",
              "#sk-container-id-2 div.sk-toggleable {\n",
              "  /* Default theme specific background. It is overwritten whether we have a\n",
              "  specific estimator or a Pipeline/ColumnTransformer */\n",
              "  background-color: var(--sklearn-color-background);\n",
              "}\n",
              "\n",
              "/* Toggleable label */\n",
              "#sk-container-id-2 label.sk-toggleable__label {\n",
              "  cursor: pointer;\n",
              "  display: flex;\n",
              "  width: 100%;\n",
              "  margin-bottom: 0;\n",
              "  padding: 0.5em;\n",
              "  box-sizing: border-box;\n",
              "  text-align: center;\n",
              "  align-items: start;\n",
              "  justify-content: space-between;\n",
              "  gap: 0.5em;\n",
              "}\n",
              "\n",
              "#sk-container-id-2 label.sk-toggleable__label .caption {\n",
              "  font-size: 0.6rem;\n",
              "  font-weight: lighter;\n",
              "  color: var(--sklearn-color-text-muted);\n",
              "}\n",
              "\n",
              "#sk-container-id-2 label.sk-toggleable__label-arrow:before {\n",
              "  /* Arrow on the left of the label */\n",
              "  content: \"▸\";\n",
              "  float: left;\n",
              "  margin-right: 0.25em;\n",
              "  color: var(--sklearn-color-icon);\n",
              "}\n",
              "\n",
              "#sk-container-id-2 label.sk-toggleable__label-arrow:hover:before {\n",
              "  color: var(--sklearn-color-text);\n",
              "}\n",
              "\n",
              "/* Toggleable content - dropdown */\n",
              "\n",
              "#sk-container-id-2 div.sk-toggleable__content {\n",
              "  max-height: 0;\n",
              "  max-width: 0;\n",
              "  overflow: hidden;\n",
              "  text-align: left;\n",
              "  /* unfitted */\n",
              "  background-color: var(--sklearn-color-unfitted-level-0);\n",
              "}\n",
              "\n",
              "#sk-container-id-2 div.sk-toggleable__content.fitted {\n",
              "  /* fitted */\n",
              "  background-color: var(--sklearn-color-fitted-level-0);\n",
              "}\n",
              "\n",
              "#sk-container-id-2 div.sk-toggleable__content pre {\n",
              "  margin: 0.2em;\n",
              "  border-radius: 0.25em;\n",
              "  color: var(--sklearn-color-text);\n",
              "  /* unfitted */\n",
              "  background-color: var(--sklearn-color-unfitted-level-0);\n",
              "}\n",
              "\n",
              "#sk-container-id-2 div.sk-toggleable__content.fitted pre {\n",
              "  /* unfitted */\n",
              "  background-color: var(--sklearn-color-fitted-level-0);\n",
              "}\n",
              "\n",
              "#sk-container-id-2 input.sk-toggleable__control:checked~div.sk-toggleable__content {\n",
              "  /* Expand drop-down */\n",
              "  max-height: 200px;\n",
              "  max-width: 100%;\n",
              "  overflow: auto;\n",
              "}\n",
              "\n",
              "#sk-container-id-2 input.sk-toggleable__control:checked~label.sk-toggleable__label-arrow:before {\n",
              "  content: \"▾\";\n",
              "}\n",
              "\n",
              "/* Pipeline/ColumnTransformer-specific style */\n",
              "\n",
              "#sk-container-id-2 div.sk-label input.sk-toggleable__control:checked~label.sk-toggleable__label {\n",
              "  color: var(--sklearn-color-text);\n",
              "  background-color: var(--sklearn-color-unfitted-level-2);\n",
              "}\n",
              "\n",
              "#sk-container-id-2 div.sk-label.fitted input.sk-toggleable__control:checked~label.sk-toggleable__label {\n",
              "  background-color: var(--sklearn-color-fitted-level-2);\n",
              "}\n",
              "\n",
              "/* Estimator-specific style */\n",
              "\n",
              "/* Colorize estimator box */\n",
              "#sk-container-id-2 div.sk-estimator input.sk-toggleable__control:checked~label.sk-toggleable__label {\n",
              "  /* unfitted */\n",
              "  background-color: var(--sklearn-color-unfitted-level-2);\n",
              "}\n",
              "\n",
              "#sk-container-id-2 div.sk-estimator.fitted input.sk-toggleable__control:checked~label.sk-toggleable__label {\n",
              "  /* fitted */\n",
              "  background-color: var(--sklearn-color-fitted-level-2);\n",
              "}\n",
              "\n",
              "#sk-container-id-2 div.sk-label label.sk-toggleable__label,\n",
              "#sk-container-id-2 div.sk-label label {\n",
              "  /* The background is the default theme color */\n",
              "  color: var(--sklearn-color-text-on-default-background);\n",
              "}\n",
              "\n",
              "/* On hover, darken the color of the background */\n",
              "#sk-container-id-2 div.sk-label:hover label.sk-toggleable__label {\n",
              "  color: var(--sklearn-color-text);\n",
              "  background-color: var(--sklearn-color-unfitted-level-2);\n",
              "}\n",
              "\n",
              "/* Label box, darken color on hover, fitted */\n",
              "#sk-container-id-2 div.sk-label.fitted:hover label.sk-toggleable__label.fitted {\n",
              "  color: var(--sklearn-color-text);\n",
              "  background-color: var(--sklearn-color-fitted-level-2);\n",
              "}\n",
              "\n",
              "/* Estimator label */\n",
              "\n",
              "#sk-container-id-2 div.sk-label label {\n",
              "  font-family: monospace;\n",
              "  font-weight: bold;\n",
              "  display: inline-block;\n",
              "  line-height: 1.2em;\n",
              "}\n",
              "\n",
              "#sk-container-id-2 div.sk-label-container {\n",
              "  text-align: center;\n",
              "}\n",
              "\n",
              "/* Estimator-specific */\n",
              "#sk-container-id-2 div.sk-estimator {\n",
              "  font-family: monospace;\n",
              "  border: 1px dotted var(--sklearn-color-border-box);\n",
              "  border-radius: 0.25em;\n",
              "  box-sizing: border-box;\n",
              "  margin-bottom: 0.5em;\n",
              "  /* unfitted */\n",
              "  background-color: var(--sklearn-color-unfitted-level-0);\n",
              "}\n",
              "\n",
              "#sk-container-id-2 div.sk-estimator.fitted {\n",
              "  /* fitted */\n",
              "  background-color: var(--sklearn-color-fitted-level-0);\n",
              "}\n",
              "\n",
              "/* on hover */\n",
              "#sk-container-id-2 div.sk-estimator:hover {\n",
              "  /* unfitted */\n",
              "  background-color: var(--sklearn-color-unfitted-level-2);\n",
              "}\n",
              "\n",
              "#sk-container-id-2 div.sk-estimator.fitted:hover {\n",
              "  /* fitted */\n",
              "  background-color: var(--sklearn-color-fitted-level-2);\n",
              "}\n",
              "\n",
              "/* Specification for estimator info (e.g. \"i\" and \"?\") */\n",
              "\n",
              "/* Common style for \"i\" and \"?\" */\n",
              "\n",
              ".sk-estimator-doc-link,\n",
              "a:link.sk-estimator-doc-link,\n",
              "a:visited.sk-estimator-doc-link {\n",
              "  float: right;\n",
              "  font-size: smaller;\n",
              "  line-height: 1em;\n",
              "  font-family: monospace;\n",
              "  background-color: var(--sklearn-color-background);\n",
              "  border-radius: 1em;\n",
              "  height: 1em;\n",
              "  width: 1em;\n",
              "  text-decoration: none !important;\n",
              "  margin-left: 0.5em;\n",
              "  text-align: center;\n",
              "  /* unfitted */\n",
              "  border: var(--sklearn-color-unfitted-level-1) 1pt solid;\n",
              "  color: var(--sklearn-color-unfitted-level-1);\n",
              "}\n",
              "\n",
              ".sk-estimator-doc-link.fitted,\n",
              "a:link.sk-estimator-doc-link.fitted,\n",
              "a:visited.sk-estimator-doc-link.fitted {\n",
              "  /* fitted */\n",
              "  border: var(--sklearn-color-fitted-level-1) 1pt solid;\n",
              "  color: var(--sklearn-color-fitted-level-1);\n",
              "}\n",
              "\n",
              "/* On hover */\n",
              "div.sk-estimator:hover .sk-estimator-doc-link:hover,\n",
              ".sk-estimator-doc-link:hover,\n",
              "div.sk-label-container:hover .sk-estimator-doc-link:hover,\n",
              ".sk-estimator-doc-link:hover {\n",
              "  /* unfitted */\n",
              "  background-color: var(--sklearn-color-unfitted-level-3);\n",
              "  color: var(--sklearn-color-background);\n",
              "  text-decoration: none;\n",
              "}\n",
              "\n",
              "div.sk-estimator.fitted:hover .sk-estimator-doc-link.fitted:hover,\n",
              ".sk-estimator-doc-link.fitted:hover,\n",
              "div.sk-label-container:hover .sk-estimator-doc-link.fitted:hover,\n",
              ".sk-estimator-doc-link.fitted:hover {\n",
              "  /* fitted */\n",
              "  background-color: var(--sklearn-color-fitted-level-3);\n",
              "  color: var(--sklearn-color-background);\n",
              "  text-decoration: none;\n",
              "}\n",
              "\n",
              "/* Span, style for the box shown on hovering the info icon */\n",
              ".sk-estimator-doc-link span {\n",
              "  display: none;\n",
              "  z-index: 9999;\n",
              "  position: relative;\n",
              "  font-weight: normal;\n",
              "  right: .2ex;\n",
              "  padding: .5ex;\n",
              "  margin: .5ex;\n",
              "  width: min-content;\n",
              "  min-width: 20ex;\n",
              "  max-width: 50ex;\n",
              "  color: var(--sklearn-color-text);\n",
              "  box-shadow: 2pt 2pt 4pt #999;\n",
              "  /* unfitted */\n",
              "  background: var(--sklearn-color-unfitted-level-0);\n",
              "  border: .5pt solid var(--sklearn-color-unfitted-level-3);\n",
              "}\n",
              "\n",
              ".sk-estimator-doc-link.fitted span {\n",
              "  /* fitted */\n",
              "  background: var(--sklearn-color-fitted-level-0);\n",
              "  border: var(--sklearn-color-fitted-level-3);\n",
              "}\n",
              "\n",
              ".sk-estimator-doc-link:hover span {\n",
              "  display: block;\n",
              "}\n",
              "\n",
              "/* \"?\"-specific style due to the `<a>` HTML tag */\n",
              "\n",
              "#sk-container-id-2 a.estimator_doc_link {\n",
              "  float: right;\n",
              "  font-size: 1rem;\n",
              "  line-height: 1em;\n",
              "  font-family: monospace;\n",
              "  background-color: var(--sklearn-color-background);\n",
              "  border-radius: 1rem;\n",
              "  height: 1rem;\n",
              "  width: 1rem;\n",
              "  text-decoration: none;\n",
              "  /* unfitted */\n",
              "  color: var(--sklearn-color-unfitted-level-1);\n",
              "  border: var(--sklearn-color-unfitted-level-1) 1pt solid;\n",
              "}\n",
              "\n",
              "#sk-container-id-2 a.estimator_doc_link.fitted {\n",
              "  /* fitted */\n",
              "  border: var(--sklearn-color-fitted-level-1) 1pt solid;\n",
              "  color: var(--sklearn-color-fitted-level-1);\n",
              "}\n",
              "\n",
              "/* On hover */\n",
              "#sk-container-id-2 a.estimator_doc_link:hover {\n",
              "  /* unfitted */\n",
              "  background-color: var(--sklearn-color-unfitted-level-3);\n",
              "  color: var(--sklearn-color-background);\n",
              "  text-decoration: none;\n",
              "}\n",
              "\n",
              "#sk-container-id-2 a.estimator_doc_link.fitted:hover {\n",
              "  /* fitted */\n",
              "  background-color: var(--sklearn-color-fitted-level-3);\n",
              "}\n",
              "</style><div id=\"sk-container-id-2\" class=\"sk-top-container\"><div class=\"sk-text-repr-fallback\"><pre>Pipeline(steps=[(&#x27;median_imputer&#x27;,\n",
              "                 MeanMedianImputer(variables=[&#x27;LINEA_DE_TC&#x27;, &#x27;EDAD_T&#x27;,\n",
              "                                              &#x27;INGRESO_CLIENTE&#x27;])),\n",
              "                (&#x27;arbitrary_imputer&#x27;,\n",
              "                 ArbitraryNumberImputer(arbitrary_number=0,\n",
              "                                        variables=[&#x27;CUOTA&#x27;,\n",
              "                                                   &#x27;DEUDA_TOTAL_SISTEMA&#x27;,\n",
              "                                                   &#x27;MEDIANA_AHORROS_ULT_6M&#x27;,\n",
              "                                                   &#x27;MESES_AHORROS_ULT_6M&#x27;,\n",
              "                                                   &#x27;ATRASO_MAXIMO_ULT_24M&#x27;,\n",
              "                                                   &#x27;ATRASO_MAXIMO_ULT_12M&#x27;,\n",
              "                                                   &#x27;MONTO_TC_MEMBRESIA&#x27;])),\n",
              "                (&#x27;mode_imputer&#x27;,\n",
              "                 CategoricalImputer(imputation_method=&#x27;frequent&#x27;,\n",
              "                                    variables=[&#x27;PROFESION&#x27;,\n",
              "                                               &#x27;ZONA_DEL_DESEMBOLSO&#x27;,\n",
              "                                               &#x27;ESTADO_CIVIL&#x27;])),\n",
              "                (&#x27;rare_encoder&#x27;,\n",
              "                 RareLabelEncoder(n_categories=5, tol=0.001,\n",
              "                                  variables=[&#x27;PROFESION&#x27;, &#x27;SEGMENTOCLIENTE&#x27;]))])</pre><b>In a Jupyter environment, please rerun this cell to show the HTML representation or trust the notebook. <br />On GitHub, the HTML representation is unable to render, please try loading this page with nbviewer.org.</b></div><div class=\"sk-container\" hidden><div class=\"sk-item sk-dashed-wrapped\"><div class=\"sk-label-container\"><div class=\"sk-label fitted sk-toggleable\"><input class=\"sk-toggleable__control sk-hidden--visually\" id=\"sk-estimator-id-5\" type=\"checkbox\" ><label for=\"sk-estimator-id-5\" class=\"sk-toggleable__label fitted sk-toggleable__label-arrow\"><div><div>Pipeline</div></div><div><a class=\"sk-estimator-doc-link fitted\" rel=\"noreferrer\" target=\"_blank\" href=\"https://scikit-learn.org/1.6/modules/generated/sklearn.pipeline.Pipeline.html\">?<span>Documentation for Pipeline</span></a><span class=\"sk-estimator-doc-link fitted\">i<span>Fitted</span></span></div></label><div class=\"sk-toggleable__content fitted\"><pre>Pipeline(steps=[(&#x27;median_imputer&#x27;,\n",
              "                 MeanMedianImputer(variables=[&#x27;LINEA_DE_TC&#x27;, &#x27;EDAD_T&#x27;,\n",
              "                                              &#x27;INGRESO_CLIENTE&#x27;])),\n",
              "                (&#x27;arbitrary_imputer&#x27;,\n",
              "                 ArbitraryNumberImputer(arbitrary_number=0,\n",
              "                                        variables=[&#x27;CUOTA&#x27;,\n",
              "                                                   &#x27;DEUDA_TOTAL_SISTEMA&#x27;,\n",
              "                                                   &#x27;MEDIANA_AHORROS_ULT_6M&#x27;,\n",
              "                                                   &#x27;MESES_AHORROS_ULT_6M&#x27;,\n",
              "                                                   &#x27;ATRASO_MAXIMO_ULT_24M&#x27;,\n",
              "                                                   &#x27;ATRASO_MAXIMO_ULT_12M&#x27;,\n",
              "                                                   &#x27;MONTO_TC_MEMBRESIA&#x27;])),\n",
              "                (&#x27;mode_imputer&#x27;,\n",
              "                 CategoricalImputer(imputation_method=&#x27;frequent&#x27;,\n",
              "                                    variables=[&#x27;PROFESION&#x27;,\n",
              "                                               &#x27;ZONA_DEL_DESEMBOLSO&#x27;,\n",
              "                                               &#x27;ESTADO_CIVIL&#x27;])),\n",
              "                (&#x27;rare_encoder&#x27;,\n",
              "                 RareLabelEncoder(n_categories=5, tol=0.001,\n",
              "                                  variables=[&#x27;PROFESION&#x27;, &#x27;SEGMENTOCLIENTE&#x27;]))])</pre></div> </div></div><div class=\"sk-serial\"><div class=\"sk-item\"><div class=\"sk-estimator fitted sk-toggleable\"><input class=\"sk-toggleable__control sk-hidden--visually\" id=\"sk-estimator-id-6\" type=\"checkbox\" ><label for=\"sk-estimator-id-6\" class=\"sk-toggleable__label fitted sk-toggleable__label-arrow\"><div><div>MeanMedianImputer</div></div></label><div class=\"sk-toggleable__content fitted\"><pre>MeanMedianImputer(variables=[&#x27;LINEA_DE_TC&#x27;, &#x27;EDAD_T&#x27;, &#x27;INGRESO_CLIENTE&#x27;])</pre></div> </div></div><div class=\"sk-item\"><div class=\"sk-estimator fitted sk-toggleable\"><input class=\"sk-toggleable__control sk-hidden--visually\" id=\"sk-estimator-id-7\" type=\"checkbox\" ><label for=\"sk-estimator-id-7\" class=\"sk-toggleable__label fitted sk-toggleable__label-arrow\"><div><div>ArbitraryNumberImputer</div></div></label><div class=\"sk-toggleable__content fitted\"><pre>ArbitraryNumberImputer(arbitrary_number=0,\n",
              "                       variables=[&#x27;CUOTA&#x27;, &#x27;DEUDA_TOTAL_SISTEMA&#x27;,\n",
              "                                  &#x27;MEDIANA_AHORROS_ULT_6M&#x27;,\n",
              "                                  &#x27;MESES_AHORROS_ULT_6M&#x27;,\n",
              "                                  &#x27;ATRASO_MAXIMO_ULT_24M&#x27;,\n",
              "                                  &#x27;ATRASO_MAXIMO_ULT_12M&#x27;,\n",
              "                                  &#x27;MONTO_TC_MEMBRESIA&#x27;])</pre></div> </div></div><div class=\"sk-item\"><div class=\"sk-estimator fitted sk-toggleable\"><input class=\"sk-toggleable__control sk-hidden--visually\" id=\"sk-estimator-id-8\" type=\"checkbox\" ><label for=\"sk-estimator-id-8\" class=\"sk-toggleable__label fitted sk-toggleable__label-arrow\"><div><div>CategoricalImputer</div></div></label><div class=\"sk-toggleable__content fitted\"><pre>CategoricalImputer(imputation_method=&#x27;frequent&#x27;,\n",
              "                   variables=[&#x27;PROFESION&#x27;, &#x27;ZONA_DEL_DESEMBOLSO&#x27;,\n",
              "                              &#x27;ESTADO_CIVIL&#x27;])</pre></div> </div></div><div class=\"sk-item\"><div class=\"sk-estimator fitted sk-toggleable\"><input class=\"sk-toggleable__control sk-hidden--visually\" id=\"sk-estimator-id-9\" type=\"checkbox\" ><label for=\"sk-estimator-id-9\" class=\"sk-toggleable__label fitted sk-toggleable__label-arrow\"><div><div>RareLabelEncoder</div></div></label><div class=\"sk-toggleable__content fitted\"><pre>RareLabelEncoder(n_categories=5, tol=0.001,\n",
              "                 variables=[&#x27;PROFESION&#x27;, &#x27;SEGMENTOCLIENTE&#x27;])</pre></div> </div></div></div></div></div></div>"
            ]
          },
          "metadata": {},
          "execution_count": 46
        }
      ],
      "source": [
        "pipe_3.fit(X_train)"
      ]
    },
    {
      "cell_type": "code",
      "execution_count": 47,
      "metadata": {
        "id": "TB1MU-GzauLm"
      },
      "outputs": [],
      "source": [
        "X_train_t = pipe_3.transform(X_train)\n",
        "X_test_t = pipe_3.transform(X_test)"
      ]
    },
    {
      "cell_type": "code",
      "execution_count": 48,
      "metadata": {
        "colab": {
          "base_uri": "https://localhost:8080/"
        },
        "id": "U8dQ4q2s0B9b",
        "outputId": "36d51a70-7383-4492-89c3-5b21f2b7ab97"
      },
      "outputs": [
        {
          "output_type": "stream",
          "name": "stdout",
          "text": [
            "El nro de categorias que aparecen en el train y no en el test es 0\n",
            "El nro de categorias que aparecen en el test y no en el train es 0\n"
          ]
        }
      ],
      "source": [
        "# Comprobando el funcionamiento del pipeline\n",
        "# Analicemos la variable PROFESION\n",
        "unique_to_train_set = [x for x in X_train_t.PROFESION.unique() if x not in X_test_t.PROFESION.unique()]\n",
        "print('El nro de categorias que aparecen en el train y no en el test es', len(unique_to_train_set))\n",
        "unique_to_test_set = [x for x in X_test_t.PROFESION.unique() if x not in X_train_t.PROFESION.unique()]\n",
        "print('El nro de categorias que aparecen en el test y no en el train es', len(unique_to_test_set))"
      ]
    },
    {
      "cell_type": "code",
      "execution_count": 49,
      "metadata": {
        "colab": {
          "base_uri": "https://localhost:8080/"
        },
        "id": "6W_64TyvcJgg",
        "outputId": "e9239a88-0b27-4d9c-b2fd-743d0cf62dd2"
      },
      "outputs": [
        {
          "output_type": "stream",
          "name": "stdout",
          "text": [
            "El nro de categorias que aparecen en el train y no en el test es 0\n",
            "El nro de categorias que aparecen en el test y no en el train es 0\n"
          ]
        }
      ],
      "source": [
        "# Analicemos la variable SEGMENTOCLIENTE\n",
        "unique_to_train_set = [x for x in X_train_t.SEGMENTOCLIENTE.unique() if x not in X_test_t.SEGMENTOCLIENTE.unique()]\n",
        "print('El nro de categorias que aparecen en el train y no en el test es', len(unique_to_train_set))\n",
        "unique_to_test_set = [x for x in X_test_t.SEGMENTOCLIENTE.unique() if x not in X_train_t.SEGMENTOCLIENTE.unique()]\n",
        "print('El nro de categorias que aparecen en el test y no en el train es', len(unique_to_test_set))"
      ]
    },
    {
      "cell_type": "code",
      "execution_count": 50,
      "metadata": {
        "colab": {
          "base_uri": "https://localhost:8080/",
          "height": 1000
        },
        "id": "BCU5CWHCXnKv",
        "outputId": "a3478769-5d18-4d69-c745-03cae5e08990"
      },
      "outputs": [
        {
          "output_type": "execute_result",
          "data": {
            "text/plain": [
              "PROFESION\n",
              "TECNICO                               7888\n",
              "ADMINISTRADOR                         3955\n",
              "INGENIERO                             2202\n",
              "CONTADOR                              1151\n",
              "Rare                                   706\n",
              "OBRERO / OPERADOR                      583\n",
              "ECONOMISTA                             393\n",
              "ABOGADO                                376\n",
              "MECANICO                               362\n",
              "INGENIERO DE SISTEMAS                  276\n",
              "INGENIERO INDUSTRIAL                   248\n",
              "TEC MECANICO AUTOMOTRIZ                238\n",
              "ENFERMERO                              229\n",
              "TEC MECANICO INDUSTRIAL                229\n",
              "TECNICO EN COMPUTACION                 202\n",
              "PROFESOR                               199\n",
              "INGENIERO MECANICO                     194\n",
              "INGENIERO CIVIL                        192\n",
              "NO DIO INFORMACION SOLICITADA          175\n",
              "MEDICO                                 161\n",
              "TEC ELECTRICIDAD INDUST                140\n",
              "VARIOS                                 135\n",
              "TECNICO EN ELECTRONICA                 127\n",
              "CONDUCTOR                              116\n",
              "SECRETARIA                             110\n",
              "INGENIERO DE MINAS                     109\n",
              "QUIMICO FARMACEUTICO                   102\n",
              "ARQUITECTO                              97\n",
              "INGENIERO AGRONOMO                      92\n",
              "PERIODISTA                              91\n",
              "PSICOLOGO/ TERAPEUTA                    91\n",
              "EDUCADOR                                79\n",
              "PUBLICISTA                              74\n",
              "INGENIERO ELECTRONICO                   73\n",
              "TECNICO CONTROL CALIDAD                 72\n",
              "TOPOGRAFO                               71\n",
              "INGENIERO QUIMICO                       65\n",
              "TECNICO EN CONSTRUCCION                 59\n",
              "TEC ADMINIST.EMPRESAS                   58\n",
              "INGENIERO ELECTRICISTA                  50\n",
              "DISENADOR GRAFICO                       48\n",
              "TECNICO AGRICOLA                        44\n",
              "ASISTENTE SOCIAL                        41\n",
              "INGENIERO METALURGICO                   37\n",
              "ANALISTAS DE SISTEMA Y COMPUTACION      37\n",
              "TEC ADMINIST HOTELERA                   35\n",
              "DENTISTA / ODONTOLOGO                   34\n",
              "VENDEDOR AMBULANTE                      33\n",
              "ELECTRICISTA                            30\n",
              "TEC QUIMICO LAB.INDUST                  28\n",
              "BIOLOGO                                 27\n",
              "RELACIONISTA PUBLICO E INDUSTRIAL       27\n",
              "INGENIERO COMPUTACION                   27\n",
              "OBSTETRIZ                               25\n",
              "PROFESOR UNIVERSITARIO                  25\n",
              "MAQUINISTA / OPERADOR MAQUINARIA        23\n",
              "NUTRICIONISTA                           23\n",
              "INGENIERO PESQUERO                      23\n",
              "INGENIERO GEOLOGO                       23\n",
              "Name: count, dtype: int64"
            ],
            "text/html": [
              "<div>\n",
              "<style scoped>\n",
              "    .dataframe tbody tr th:only-of-type {\n",
              "        vertical-align: middle;\n",
              "    }\n",
              "\n",
              "    .dataframe tbody tr th {\n",
              "        vertical-align: top;\n",
              "    }\n",
              "\n",
              "    .dataframe thead th {\n",
              "        text-align: right;\n",
              "    }\n",
              "</style>\n",
              "<table border=\"1\" class=\"dataframe\">\n",
              "  <thead>\n",
              "    <tr style=\"text-align: right;\">\n",
              "      <th></th>\n",
              "      <th>count</th>\n",
              "    </tr>\n",
              "    <tr>\n",
              "      <th>PROFESION</th>\n",
              "      <th></th>\n",
              "    </tr>\n",
              "  </thead>\n",
              "  <tbody>\n",
              "    <tr>\n",
              "      <th>TECNICO</th>\n",
              "      <td>7888</td>\n",
              "    </tr>\n",
              "    <tr>\n",
              "      <th>ADMINISTRADOR</th>\n",
              "      <td>3955</td>\n",
              "    </tr>\n",
              "    <tr>\n",
              "      <th>INGENIERO</th>\n",
              "      <td>2202</td>\n",
              "    </tr>\n",
              "    <tr>\n",
              "      <th>CONTADOR</th>\n",
              "      <td>1151</td>\n",
              "    </tr>\n",
              "    <tr>\n",
              "      <th>Rare</th>\n",
              "      <td>706</td>\n",
              "    </tr>\n",
              "    <tr>\n",
              "      <th>OBRERO / OPERADOR</th>\n",
              "      <td>583</td>\n",
              "    </tr>\n",
              "    <tr>\n",
              "      <th>ECONOMISTA</th>\n",
              "      <td>393</td>\n",
              "    </tr>\n",
              "    <tr>\n",
              "      <th>ABOGADO</th>\n",
              "      <td>376</td>\n",
              "    </tr>\n",
              "    <tr>\n",
              "      <th>MECANICO</th>\n",
              "      <td>362</td>\n",
              "    </tr>\n",
              "    <tr>\n",
              "      <th>INGENIERO DE SISTEMAS</th>\n",
              "      <td>276</td>\n",
              "    </tr>\n",
              "    <tr>\n",
              "      <th>INGENIERO INDUSTRIAL</th>\n",
              "      <td>248</td>\n",
              "    </tr>\n",
              "    <tr>\n",
              "      <th>TEC MECANICO AUTOMOTRIZ</th>\n",
              "      <td>238</td>\n",
              "    </tr>\n",
              "    <tr>\n",
              "      <th>ENFERMERO</th>\n",
              "      <td>229</td>\n",
              "    </tr>\n",
              "    <tr>\n",
              "      <th>TEC MECANICO INDUSTRIAL</th>\n",
              "      <td>229</td>\n",
              "    </tr>\n",
              "    <tr>\n",
              "      <th>TECNICO EN COMPUTACION</th>\n",
              "      <td>202</td>\n",
              "    </tr>\n",
              "    <tr>\n",
              "      <th>PROFESOR</th>\n",
              "      <td>199</td>\n",
              "    </tr>\n",
              "    <tr>\n",
              "      <th>INGENIERO MECANICO</th>\n",
              "      <td>194</td>\n",
              "    </tr>\n",
              "    <tr>\n",
              "      <th>INGENIERO CIVIL</th>\n",
              "      <td>192</td>\n",
              "    </tr>\n",
              "    <tr>\n",
              "      <th>NO DIO INFORMACION SOLICITADA</th>\n",
              "      <td>175</td>\n",
              "    </tr>\n",
              "    <tr>\n",
              "      <th>MEDICO</th>\n",
              "      <td>161</td>\n",
              "    </tr>\n",
              "    <tr>\n",
              "      <th>TEC ELECTRICIDAD INDUST</th>\n",
              "      <td>140</td>\n",
              "    </tr>\n",
              "    <tr>\n",
              "      <th>VARIOS</th>\n",
              "      <td>135</td>\n",
              "    </tr>\n",
              "    <tr>\n",
              "      <th>TECNICO EN ELECTRONICA</th>\n",
              "      <td>127</td>\n",
              "    </tr>\n",
              "    <tr>\n",
              "      <th>CONDUCTOR</th>\n",
              "      <td>116</td>\n",
              "    </tr>\n",
              "    <tr>\n",
              "      <th>SECRETARIA</th>\n",
              "      <td>110</td>\n",
              "    </tr>\n",
              "    <tr>\n",
              "      <th>INGENIERO DE MINAS</th>\n",
              "      <td>109</td>\n",
              "    </tr>\n",
              "    <tr>\n",
              "      <th>QUIMICO FARMACEUTICO</th>\n",
              "      <td>102</td>\n",
              "    </tr>\n",
              "    <tr>\n",
              "      <th>ARQUITECTO</th>\n",
              "      <td>97</td>\n",
              "    </tr>\n",
              "    <tr>\n",
              "      <th>INGENIERO AGRONOMO</th>\n",
              "      <td>92</td>\n",
              "    </tr>\n",
              "    <tr>\n",
              "      <th>PERIODISTA</th>\n",
              "      <td>91</td>\n",
              "    </tr>\n",
              "    <tr>\n",
              "      <th>PSICOLOGO/ TERAPEUTA</th>\n",
              "      <td>91</td>\n",
              "    </tr>\n",
              "    <tr>\n",
              "      <th>EDUCADOR</th>\n",
              "      <td>79</td>\n",
              "    </tr>\n",
              "    <tr>\n",
              "      <th>PUBLICISTA</th>\n",
              "      <td>74</td>\n",
              "    </tr>\n",
              "    <tr>\n",
              "      <th>INGENIERO ELECTRONICO</th>\n",
              "      <td>73</td>\n",
              "    </tr>\n",
              "    <tr>\n",
              "      <th>TECNICO CONTROL CALIDAD</th>\n",
              "      <td>72</td>\n",
              "    </tr>\n",
              "    <tr>\n",
              "      <th>TOPOGRAFO</th>\n",
              "      <td>71</td>\n",
              "    </tr>\n",
              "    <tr>\n",
              "      <th>INGENIERO QUIMICO</th>\n",
              "      <td>65</td>\n",
              "    </tr>\n",
              "    <tr>\n",
              "      <th>TECNICO EN CONSTRUCCION</th>\n",
              "      <td>59</td>\n",
              "    </tr>\n",
              "    <tr>\n",
              "      <th>TEC ADMINIST.EMPRESAS</th>\n",
              "      <td>58</td>\n",
              "    </tr>\n",
              "    <tr>\n",
              "      <th>INGENIERO ELECTRICISTA</th>\n",
              "      <td>50</td>\n",
              "    </tr>\n",
              "    <tr>\n",
              "      <th>DISENADOR GRAFICO</th>\n",
              "      <td>48</td>\n",
              "    </tr>\n",
              "    <tr>\n",
              "      <th>TECNICO AGRICOLA</th>\n",
              "      <td>44</td>\n",
              "    </tr>\n",
              "    <tr>\n",
              "      <th>ASISTENTE SOCIAL</th>\n",
              "      <td>41</td>\n",
              "    </tr>\n",
              "    <tr>\n",
              "      <th>INGENIERO METALURGICO</th>\n",
              "      <td>37</td>\n",
              "    </tr>\n",
              "    <tr>\n",
              "      <th>ANALISTAS DE SISTEMA Y COMPUTACION</th>\n",
              "      <td>37</td>\n",
              "    </tr>\n",
              "    <tr>\n",
              "      <th>TEC ADMINIST HOTELERA</th>\n",
              "      <td>35</td>\n",
              "    </tr>\n",
              "    <tr>\n",
              "      <th>DENTISTA / ODONTOLOGO</th>\n",
              "      <td>34</td>\n",
              "    </tr>\n",
              "    <tr>\n",
              "      <th>VENDEDOR AMBULANTE</th>\n",
              "      <td>33</td>\n",
              "    </tr>\n",
              "    <tr>\n",
              "      <th>ELECTRICISTA</th>\n",
              "      <td>30</td>\n",
              "    </tr>\n",
              "    <tr>\n",
              "      <th>TEC QUIMICO LAB.INDUST</th>\n",
              "      <td>28</td>\n",
              "    </tr>\n",
              "    <tr>\n",
              "      <th>BIOLOGO</th>\n",
              "      <td>27</td>\n",
              "    </tr>\n",
              "    <tr>\n",
              "      <th>RELACIONISTA PUBLICO E INDUSTRIAL</th>\n",
              "      <td>27</td>\n",
              "    </tr>\n",
              "    <tr>\n",
              "      <th>INGENIERO COMPUTACION</th>\n",
              "      <td>27</td>\n",
              "    </tr>\n",
              "    <tr>\n",
              "      <th>OBSTETRIZ</th>\n",
              "      <td>25</td>\n",
              "    </tr>\n",
              "    <tr>\n",
              "      <th>PROFESOR UNIVERSITARIO</th>\n",
              "      <td>25</td>\n",
              "    </tr>\n",
              "    <tr>\n",
              "      <th>MAQUINISTA / OPERADOR MAQUINARIA</th>\n",
              "      <td>23</td>\n",
              "    </tr>\n",
              "    <tr>\n",
              "      <th>NUTRICIONISTA</th>\n",
              "      <td>23</td>\n",
              "    </tr>\n",
              "    <tr>\n",
              "      <th>INGENIERO PESQUERO</th>\n",
              "      <td>23</td>\n",
              "    </tr>\n",
              "    <tr>\n",
              "      <th>INGENIERO GEOLOGO</th>\n",
              "      <td>23</td>\n",
              "    </tr>\n",
              "  </tbody>\n",
              "</table>\n",
              "</div><br><label><b>dtype:</b> int64</label>"
            ]
          },
          "metadata": {},
          "execution_count": 50
        }
      ],
      "source": [
        "X_train_t.PROFESION.value_counts()"
      ]
    },
    {
      "cell_type": "code",
      "execution_count": 51,
      "metadata": {
        "colab": {
          "base_uri": "https://localhost:8080/",
          "height": 272
        },
        "id": "24tjkOMzVngq",
        "outputId": "cf2c5b3c-e56d-4407-b10f-4249938262a7"
      },
      "outputs": [
        {
          "output_type": "execute_result",
          "data": {
            "text/plain": [
              "SEGMENTOCLIENTE\n",
              "CLIENTES ORO                15423\n",
              "CLIENTES PLATINUM SEGM 2     6646\n",
              "CLIENTES SIGNATURE            201\n",
              "CLIENTES PLATINUM SEGM 1       85\n",
              "Rare                            5\n",
              "Name: count, dtype: int64"
            ],
            "text/html": [
              "<div>\n",
              "<style scoped>\n",
              "    .dataframe tbody tr th:only-of-type {\n",
              "        vertical-align: middle;\n",
              "    }\n",
              "\n",
              "    .dataframe tbody tr th {\n",
              "        vertical-align: top;\n",
              "    }\n",
              "\n",
              "    .dataframe thead th {\n",
              "        text-align: right;\n",
              "    }\n",
              "</style>\n",
              "<table border=\"1\" class=\"dataframe\">\n",
              "  <thead>\n",
              "    <tr style=\"text-align: right;\">\n",
              "      <th></th>\n",
              "      <th>count</th>\n",
              "    </tr>\n",
              "    <tr>\n",
              "      <th>SEGMENTOCLIENTE</th>\n",
              "      <th></th>\n",
              "    </tr>\n",
              "  </thead>\n",
              "  <tbody>\n",
              "    <tr>\n",
              "      <th>CLIENTES ORO</th>\n",
              "      <td>15423</td>\n",
              "    </tr>\n",
              "    <tr>\n",
              "      <th>CLIENTES PLATINUM SEGM 2</th>\n",
              "      <td>6646</td>\n",
              "    </tr>\n",
              "    <tr>\n",
              "      <th>CLIENTES SIGNATURE</th>\n",
              "      <td>201</td>\n",
              "    </tr>\n",
              "    <tr>\n",
              "      <th>CLIENTES PLATINUM SEGM 1</th>\n",
              "      <td>85</td>\n",
              "    </tr>\n",
              "    <tr>\n",
              "      <th>Rare</th>\n",
              "      <td>5</td>\n",
              "    </tr>\n",
              "  </tbody>\n",
              "</table>\n",
              "</div><br><label><b>dtype:</b> int64</label>"
            ]
          },
          "metadata": {},
          "execution_count": 51
        }
      ],
      "source": [
        "X_train_t.SEGMENTOCLIENTE.value_counts()"
      ]
    },
    {
      "cell_type": "markdown",
      "metadata": {
        "id": "8PDwaO9kcQzY"
      },
      "source": [
        "### IMPORTANTE: Hasta aqui tenemos un pipeline para imputar nuestras variables numéricas y categóricas en caso de missing, además de generar un grupo de casos \"Raros\" para las variables categóricas donde encontramos problemas."
      ]
    },
    {
      "cell_type": "markdown",
      "metadata": {
        "id": "D_MMrD_u4pHu"
      },
      "source": [
        "### 3.3 Tratamiento de Outliers y Escalamiento"
      ]
    },
    {
      "cell_type": "code",
      "execution_count": 52,
      "metadata": {
        "colab": {
          "base_uri": "https://localhost:8080/",
          "height": 519
        },
        "id": "9tOoN2hc59Ry",
        "outputId": "869dc903-a48c-4f86-c7a8-89c5e097902f"
      },
      "outputs": [
        {
          "output_type": "execute_result",
          "data": {
            "text/plain": [
              "                          count          mean           std         min  \\\n",
              "DEUDA                   22360.0   5800.149362   5912.375849    8.791365   \n",
              "PLAZO_CREDITO           22360.0     40.092084     15.547062    6.000000   \n",
              "ATRASO_MAXIMO_ULT_6M    22360.0      0.274508      3.405186    0.000000   \n",
              "ATRASO_MAXIMO_ULT_12M   22360.0      1.037478     38.114128    0.000000   \n",
              "ATRASO_MAXIMO_ULT_24M   22360.0      2.151699     49.190130    0.000000   \n",
              "MESES_AHORROS_ULT_6M    22360.0      5.055903      1.605819    0.000000   \n",
              "MEDIANA_AHORROS_ULT_6M  22360.0   7189.387085   9092.414168    0.000000   \n",
              "DEUDA_TOTAL_SISTEMA     22360.0  22073.208282  56672.958615    0.000000   \n",
              "NUMERO_DE_PAGOS_PDH     22360.0     16.261538      9.426468    0.000000   \n",
              "MONTO_TC_SISTEMA        22360.0   5604.264393  14250.281961    0.000000   \n",
              "INGRESO_CLIENTE         22360.0   3236.534213   2570.949197  465.839706   \n",
              "EDAD_T                  22360.0     36.799374      9.760516   20.000000   \n",
              "CUOTA                   22360.0    673.055243   1197.779457    0.000000   \n",
              "LINEA_DE_TC             22360.0  12508.709034  12159.182549    4.000000   \n",
              "MONTO_TC_MEMBRESIA      22360.0    122.126878     77.408556    0.000000   \n",
              "\n",
              "                                25%          50%           75%           max  \n",
              "DEUDA                   1614.985000  3768.298333   7869.050000  2.054835e+05  \n",
              "PLAZO_CREDITO             24.000000    48.000000     48.000000  6.000000e+01  \n",
              "ATRASO_MAXIMO_ULT_6M       0.000000     0.000000      0.000000  2.310000e+02  \n",
              "ATRASO_MAXIMO_ULT_12M      0.000000     0.000000      0.000000  5.647000e+03  \n",
              "ATRASO_MAXIMO_ULT_24M      0.000000     0.000000      0.000000  5.647000e+03  \n",
              "MESES_AHORROS_ULT_6M       5.000000     6.000000      6.000000  6.000000e+00  \n",
              "MEDIANA_AHORROS_ULT_6M  1712.270417  4362.920626   9507.471667  8.185772e+05  \n",
              "DEUDA_TOTAL_SISTEMA      556.875000  5136.870000  18553.420000  1.079214e+06  \n",
              "NUMERO_DE_PAGOS_PDH        7.000000    24.000000     24.000000  2.400000e+01  \n",
              "MONTO_TC_SISTEMA           0.000000   478.565000   4188.745000  2.393316e+05  \n",
              "INGRESO_CLIENTE         1687.191665  2271.177355   3670.504570  2.550329e+04  \n",
              "EDAD_T                    29.000000    35.000000     42.000000  7.200000e+01  \n",
              "CUOTA                     36.414620   222.356862    753.841935  1.853101e+04  \n",
              "LINEA_DE_TC             4300.000000  9609.000000  17097.250000  1.544000e+05  \n",
              "MONTO_TC_MEMBRESIA        60.000000    97.000000    170.000000  4.000000e+02  "
            ],
            "text/html": [
              "\n",
              "  <div id=\"df-7a262b4e-09b3-41db-92fc-2cbb4d32a0a6\" class=\"colab-df-container\">\n",
              "    <div>\n",
              "<style scoped>\n",
              "    .dataframe tbody tr th:only-of-type {\n",
              "        vertical-align: middle;\n",
              "    }\n",
              "\n",
              "    .dataframe tbody tr th {\n",
              "        vertical-align: top;\n",
              "    }\n",
              "\n",
              "    .dataframe thead th {\n",
              "        text-align: right;\n",
              "    }\n",
              "</style>\n",
              "<table border=\"1\" class=\"dataframe\">\n",
              "  <thead>\n",
              "    <tr style=\"text-align: right;\">\n",
              "      <th></th>\n",
              "      <th>count</th>\n",
              "      <th>mean</th>\n",
              "      <th>std</th>\n",
              "      <th>min</th>\n",
              "      <th>25%</th>\n",
              "      <th>50%</th>\n",
              "      <th>75%</th>\n",
              "      <th>max</th>\n",
              "    </tr>\n",
              "  </thead>\n",
              "  <tbody>\n",
              "    <tr>\n",
              "      <th>DEUDA</th>\n",
              "      <td>22360.0</td>\n",
              "      <td>5800.149362</td>\n",
              "      <td>5912.375849</td>\n",
              "      <td>8.791365</td>\n",
              "      <td>1614.985000</td>\n",
              "      <td>3768.298333</td>\n",
              "      <td>7869.050000</td>\n",
              "      <td>2.054835e+05</td>\n",
              "    </tr>\n",
              "    <tr>\n",
              "      <th>PLAZO_CREDITO</th>\n",
              "      <td>22360.0</td>\n",
              "      <td>40.092084</td>\n",
              "      <td>15.547062</td>\n",
              "      <td>6.000000</td>\n",
              "      <td>24.000000</td>\n",
              "      <td>48.000000</td>\n",
              "      <td>48.000000</td>\n",
              "      <td>6.000000e+01</td>\n",
              "    </tr>\n",
              "    <tr>\n",
              "      <th>ATRASO_MAXIMO_ULT_6M</th>\n",
              "      <td>22360.0</td>\n",
              "      <td>0.274508</td>\n",
              "      <td>3.405186</td>\n",
              "      <td>0.000000</td>\n",
              "      <td>0.000000</td>\n",
              "      <td>0.000000</td>\n",
              "      <td>0.000000</td>\n",
              "      <td>2.310000e+02</td>\n",
              "    </tr>\n",
              "    <tr>\n",
              "      <th>ATRASO_MAXIMO_ULT_12M</th>\n",
              "      <td>22360.0</td>\n",
              "      <td>1.037478</td>\n",
              "      <td>38.114128</td>\n",
              "      <td>0.000000</td>\n",
              "      <td>0.000000</td>\n",
              "      <td>0.000000</td>\n",
              "      <td>0.000000</td>\n",
              "      <td>5.647000e+03</td>\n",
              "    </tr>\n",
              "    <tr>\n",
              "      <th>ATRASO_MAXIMO_ULT_24M</th>\n",
              "      <td>22360.0</td>\n",
              "      <td>2.151699</td>\n",
              "      <td>49.190130</td>\n",
              "      <td>0.000000</td>\n",
              "      <td>0.000000</td>\n",
              "      <td>0.000000</td>\n",
              "      <td>0.000000</td>\n",
              "      <td>5.647000e+03</td>\n",
              "    </tr>\n",
              "    <tr>\n",
              "      <th>MESES_AHORROS_ULT_6M</th>\n",
              "      <td>22360.0</td>\n",
              "      <td>5.055903</td>\n",
              "      <td>1.605819</td>\n",
              "      <td>0.000000</td>\n",
              "      <td>5.000000</td>\n",
              "      <td>6.000000</td>\n",
              "      <td>6.000000</td>\n",
              "      <td>6.000000e+00</td>\n",
              "    </tr>\n",
              "    <tr>\n",
              "      <th>MEDIANA_AHORROS_ULT_6M</th>\n",
              "      <td>22360.0</td>\n",
              "      <td>7189.387085</td>\n",
              "      <td>9092.414168</td>\n",
              "      <td>0.000000</td>\n",
              "      <td>1712.270417</td>\n",
              "      <td>4362.920626</td>\n",
              "      <td>9507.471667</td>\n",
              "      <td>8.185772e+05</td>\n",
              "    </tr>\n",
              "    <tr>\n",
              "      <th>DEUDA_TOTAL_SISTEMA</th>\n",
              "      <td>22360.0</td>\n",
              "      <td>22073.208282</td>\n",
              "      <td>56672.958615</td>\n",
              "      <td>0.000000</td>\n",
              "      <td>556.875000</td>\n",
              "      <td>5136.870000</td>\n",
              "      <td>18553.420000</td>\n",
              "      <td>1.079214e+06</td>\n",
              "    </tr>\n",
              "    <tr>\n",
              "      <th>NUMERO_DE_PAGOS_PDH</th>\n",
              "      <td>22360.0</td>\n",
              "      <td>16.261538</td>\n",
              "      <td>9.426468</td>\n",
              "      <td>0.000000</td>\n",
              "      <td>7.000000</td>\n",
              "      <td>24.000000</td>\n",
              "      <td>24.000000</td>\n",
              "      <td>2.400000e+01</td>\n",
              "    </tr>\n",
              "    <tr>\n",
              "      <th>MONTO_TC_SISTEMA</th>\n",
              "      <td>22360.0</td>\n",
              "      <td>5604.264393</td>\n",
              "      <td>14250.281961</td>\n",
              "      <td>0.000000</td>\n",
              "      <td>0.000000</td>\n",
              "      <td>478.565000</td>\n",
              "      <td>4188.745000</td>\n",
              "      <td>2.393316e+05</td>\n",
              "    </tr>\n",
              "    <tr>\n",
              "      <th>INGRESO_CLIENTE</th>\n",
              "      <td>22360.0</td>\n",
              "      <td>3236.534213</td>\n",
              "      <td>2570.949197</td>\n",
              "      <td>465.839706</td>\n",
              "      <td>1687.191665</td>\n",
              "      <td>2271.177355</td>\n",
              "      <td>3670.504570</td>\n",
              "      <td>2.550329e+04</td>\n",
              "    </tr>\n",
              "    <tr>\n",
              "      <th>EDAD_T</th>\n",
              "      <td>22360.0</td>\n",
              "      <td>36.799374</td>\n",
              "      <td>9.760516</td>\n",
              "      <td>20.000000</td>\n",
              "      <td>29.000000</td>\n",
              "      <td>35.000000</td>\n",
              "      <td>42.000000</td>\n",
              "      <td>7.200000e+01</td>\n",
              "    </tr>\n",
              "    <tr>\n",
              "      <th>CUOTA</th>\n",
              "      <td>22360.0</td>\n",
              "      <td>673.055243</td>\n",
              "      <td>1197.779457</td>\n",
              "      <td>0.000000</td>\n",
              "      <td>36.414620</td>\n",
              "      <td>222.356862</td>\n",
              "      <td>753.841935</td>\n",
              "      <td>1.853101e+04</td>\n",
              "    </tr>\n",
              "    <tr>\n",
              "      <th>LINEA_DE_TC</th>\n",
              "      <td>22360.0</td>\n",
              "      <td>12508.709034</td>\n",
              "      <td>12159.182549</td>\n",
              "      <td>4.000000</td>\n",
              "      <td>4300.000000</td>\n",
              "      <td>9609.000000</td>\n",
              "      <td>17097.250000</td>\n",
              "      <td>1.544000e+05</td>\n",
              "    </tr>\n",
              "    <tr>\n",
              "      <th>MONTO_TC_MEMBRESIA</th>\n",
              "      <td>22360.0</td>\n",
              "      <td>122.126878</td>\n",
              "      <td>77.408556</td>\n",
              "      <td>0.000000</td>\n",
              "      <td>60.000000</td>\n",
              "      <td>97.000000</td>\n",
              "      <td>170.000000</td>\n",
              "      <td>4.000000e+02</td>\n",
              "    </tr>\n",
              "  </tbody>\n",
              "</table>\n",
              "</div>\n",
              "    <div class=\"colab-df-buttons\">\n",
              "\n",
              "  <div class=\"colab-df-container\">\n",
              "    <button class=\"colab-df-convert\" onclick=\"convertToInteractive('df-7a262b4e-09b3-41db-92fc-2cbb4d32a0a6')\"\n",
              "            title=\"Convert this dataframe to an interactive table.\"\n",
              "            style=\"display:none;\">\n",
              "\n",
              "  <svg xmlns=\"http://www.w3.org/2000/svg\" height=\"24px\" viewBox=\"0 -960 960 960\">\n",
              "    <path d=\"M120-120v-720h720v720H120Zm60-500h600v-160H180v160Zm220 220h160v-160H400v160Zm0 220h160v-160H400v160ZM180-400h160v-160H180v160Zm440 0h160v-160H620v160ZM180-180h160v-160H180v160Zm440 0h160v-160H620v160Z\"/>\n",
              "  </svg>\n",
              "    </button>\n",
              "\n",
              "  <style>\n",
              "    .colab-df-container {\n",
              "      display:flex;\n",
              "      gap: 12px;\n",
              "    }\n",
              "\n",
              "    .colab-df-convert {\n",
              "      background-color: #E8F0FE;\n",
              "      border: none;\n",
              "      border-radius: 50%;\n",
              "      cursor: pointer;\n",
              "      display: none;\n",
              "      fill: #1967D2;\n",
              "      height: 32px;\n",
              "      padding: 0 0 0 0;\n",
              "      width: 32px;\n",
              "    }\n",
              "\n",
              "    .colab-df-convert:hover {\n",
              "      background-color: #E2EBFA;\n",
              "      box-shadow: 0px 1px 2px rgba(60, 64, 67, 0.3), 0px 1px 3px 1px rgba(60, 64, 67, 0.15);\n",
              "      fill: #174EA6;\n",
              "    }\n",
              "\n",
              "    .colab-df-buttons div {\n",
              "      margin-bottom: 4px;\n",
              "    }\n",
              "\n",
              "    [theme=dark] .colab-df-convert {\n",
              "      background-color: #3B4455;\n",
              "      fill: #D2E3FC;\n",
              "    }\n",
              "\n",
              "    [theme=dark] .colab-df-convert:hover {\n",
              "      background-color: #434B5C;\n",
              "      box-shadow: 0px 1px 3px 1px rgba(0, 0, 0, 0.15);\n",
              "      filter: drop-shadow(0px 1px 2px rgba(0, 0, 0, 0.3));\n",
              "      fill: #FFFFFF;\n",
              "    }\n",
              "  </style>\n",
              "\n",
              "    <script>\n",
              "      const buttonEl =\n",
              "        document.querySelector('#df-7a262b4e-09b3-41db-92fc-2cbb4d32a0a6 button.colab-df-convert');\n",
              "      buttonEl.style.display =\n",
              "        google.colab.kernel.accessAllowed ? 'block' : 'none';\n",
              "\n",
              "      async function convertToInteractive(key) {\n",
              "        const element = document.querySelector('#df-7a262b4e-09b3-41db-92fc-2cbb4d32a0a6');\n",
              "        const dataTable =\n",
              "          await google.colab.kernel.invokeFunction('convertToInteractive',\n",
              "                                                    [key], {});\n",
              "        if (!dataTable) return;\n",
              "\n",
              "        const docLinkHtml = 'Like what you see? Visit the ' +\n",
              "          '<a target=\"_blank\" href=https://colab.research.google.com/notebooks/data_table.ipynb>data table notebook</a>'\n",
              "          + ' to learn more about interactive tables.';\n",
              "        element.innerHTML = '';\n",
              "        dataTable['output_type'] = 'display_data';\n",
              "        await google.colab.output.renderOutput(dataTable, element);\n",
              "        const docLink = document.createElement('div');\n",
              "        docLink.innerHTML = docLinkHtml;\n",
              "        element.appendChild(docLink);\n",
              "      }\n",
              "    </script>\n",
              "  </div>\n",
              "\n",
              "\n",
              "    <div id=\"df-d3c855e5-9c4e-45f6-9afc-3221e34e28c3\">\n",
              "      <button class=\"colab-df-quickchart\" onclick=\"quickchart('df-d3c855e5-9c4e-45f6-9afc-3221e34e28c3')\"\n",
              "                title=\"Suggest charts\"\n",
              "                style=\"display:none;\">\n",
              "\n",
              "<svg xmlns=\"http://www.w3.org/2000/svg\" height=\"24px\"viewBox=\"0 0 24 24\"\n",
              "     width=\"24px\">\n",
              "    <g>\n",
              "        <path d=\"M19 3H5c-1.1 0-2 .9-2 2v14c0 1.1.9 2 2 2h14c1.1 0 2-.9 2-2V5c0-1.1-.9-2-2-2zM9 17H7v-7h2v7zm4 0h-2V7h2v10zm4 0h-2v-4h2v4z\"/>\n",
              "    </g>\n",
              "</svg>\n",
              "      </button>\n",
              "\n",
              "<style>\n",
              "  .colab-df-quickchart {\n",
              "      --bg-color: #E8F0FE;\n",
              "      --fill-color: #1967D2;\n",
              "      --hover-bg-color: #E2EBFA;\n",
              "      --hover-fill-color: #174EA6;\n",
              "      --disabled-fill-color: #AAA;\n",
              "      --disabled-bg-color: #DDD;\n",
              "  }\n",
              "\n",
              "  [theme=dark] .colab-df-quickchart {\n",
              "      --bg-color: #3B4455;\n",
              "      --fill-color: #D2E3FC;\n",
              "      --hover-bg-color: #434B5C;\n",
              "      --hover-fill-color: #FFFFFF;\n",
              "      --disabled-bg-color: #3B4455;\n",
              "      --disabled-fill-color: #666;\n",
              "  }\n",
              "\n",
              "  .colab-df-quickchart {\n",
              "    background-color: var(--bg-color);\n",
              "    border: none;\n",
              "    border-radius: 50%;\n",
              "    cursor: pointer;\n",
              "    display: none;\n",
              "    fill: var(--fill-color);\n",
              "    height: 32px;\n",
              "    padding: 0;\n",
              "    width: 32px;\n",
              "  }\n",
              "\n",
              "  .colab-df-quickchart:hover {\n",
              "    background-color: var(--hover-bg-color);\n",
              "    box-shadow: 0 1px 2px rgba(60, 64, 67, 0.3), 0 1px 3px 1px rgba(60, 64, 67, 0.15);\n",
              "    fill: var(--button-hover-fill-color);\n",
              "  }\n",
              "\n",
              "  .colab-df-quickchart-complete:disabled,\n",
              "  .colab-df-quickchart-complete:disabled:hover {\n",
              "    background-color: var(--disabled-bg-color);\n",
              "    fill: var(--disabled-fill-color);\n",
              "    box-shadow: none;\n",
              "  }\n",
              "\n",
              "  .colab-df-spinner {\n",
              "    border: 2px solid var(--fill-color);\n",
              "    border-color: transparent;\n",
              "    border-bottom-color: var(--fill-color);\n",
              "    animation:\n",
              "      spin 1s steps(1) infinite;\n",
              "  }\n",
              "\n",
              "  @keyframes spin {\n",
              "    0% {\n",
              "      border-color: transparent;\n",
              "      border-bottom-color: var(--fill-color);\n",
              "      border-left-color: var(--fill-color);\n",
              "    }\n",
              "    20% {\n",
              "      border-color: transparent;\n",
              "      border-left-color: var(--fill-color);\n",
              "      border-top-color: var(--fill-color);\n",
              "    }\n",
              "    30% {\n",
              "      border-color: transparent;\n",
              "      border-left-color: var(--fill-color);\n",
              "      border-top-color: var(--fill-color);\n",
              "      border-right-color: var(--fill-color);\n",
              "    }\n",
              "    40% {\n",
              "      border-color: transparent;\n",
              "      border-right-color: var(--fill-color);\n",
              "      border-top-color: var(--fill-color);\n",
              "    }\n",
              "    60% {\n",
              "      border-color: transparent;\n",
              "      border-right-color: var(--fill-color);\n",
              "    }\n",
              "    80% {\n",
              "      border-color: transparent;\n",
              "      border-right-color: var(--fill-color);\n",
              "      border-bottom-color: var(--fill-color);\n",
              "    }\n",
              "    90% {\n",
              "      border-color: transparent;\n",
              "      border-bottom-color: var(--fill-color);\n",
              "    }\n",
              "  }\n",
              "</style>\n",
              "\n",
              "      <script>\n",
              "        async function quickchart(key) {\n",
              "          const quickchartButtonEl =\n",
              "            document.querySelector('#' + key + ' button');\n",
              "          quickchartButtonEl.disabled = true;  // To prevent multiple clicks.\n",
              "          quickchartButtonEl.classList.add('colab-df-spinner');\n",
              "          try {\n",
              "            const charts = await google.colab.kernel.invokeFunction(\n",
              "                'suggestCharts', [key], {});\n",
              "          } catch (error) {\n",
              "            console.error('Error during call to suggestCharts:', error);\n",
              "          }\n",
              "          quickchartButtonEl.classList.remove('colab-df-spinner');\n",
              "          quickchartButtonEl.classList.add('colab-df-quickchart-complete');\n",
              "        }\n",
              "        (() => {\n",
              "          let quickchartButtonEl =\n",
              "            document.querySelector('#df-d3c855e5-9c4e-45f6-9afc-3221e34e28c3 button');\n",
              "          quickchartButtonEl.style.display =\n",
              "            google.colab.kernel.accessAllowed ? 'block' : 'none';\n",
              "        })();\n",
              "      </script>\n",
              "    </div>\n",
              "\n",
              "    </div>\n",
              "  </div>\n"
            ],
            "application/vnd.google.colaboratory.intrinsic+json": {
              "type": "dataframe",
              "summary": "{\n  \"name\": \"X_train_t\",\n  \"rows\": 15,\n  \"fields\": [\n    {\n      \"column\": \"count\",\n      \"properties\": {\n        \"dtype\": \"number\",\n        \"std\": 0.0,\n        \"min\": 22360.0,\n        \"max\": 22360.0,\n        \"num_unique_values\": 1,\n        \"samples\": [\n          22360.0\n        ],\n        \"semantic_type\": \"\",\n        \"description\": \"\"\n      }\n    },\n    {\n      \"column\": \"mean\",\n      \"properties\": {\n        \"dtype\": \"number\",\n        \"std\": 6281.616432283435,\n        \"min\": 0.27450805008944545,\n        \"max\": 22073.20828175313,\n        \"num_unique_values\": 15,\n        \"samples\": [\n          5604.264393112702\n        ],\n        \"semantic_type\": \"\",\n        \"description\": \"\"\n      }\n    },\n    {\n      \"column\": \"std\",\n      \"properties\": {\n        \"dtype\": \"number\",\n        \"std\": 14623.859562952563,\n        \"min\": 1.605818738074793,\n        \"max\": 56672.958614825184,\n        \"num_unique_values\": 15,\n        \"samples\": [\n          14250.281961006422\n        ],\n        \"semantic_type\": \"\",\n        \"description\": \"\"\n      }\n    },\n    {\n      \"column\": \"min\",\n      \"properties\": {\n        \"dtype\": \"number\",\n        \"std\": 119.68980302263843,\n        \"min\": 0.0,\n        \"max\": 465.839706,\n        \"num_unique_values\": 6,\n        \"samples\": [\n          8.791364942\n        ],\n        \"semantic_type\": \"\",\n        \"description\": \"\"\n      }\n    },\n    {\n      \"column\": \"25%\",\n      \"properties\": {\n        \"dtype\": \"number\",\n        \"std\": 1209.569049234669,\n        \"min\": 0.0,\n        \"max\": 4300.0,\n        \"num_unique_values\": 12,\n        \"samples\": [\n          4300.0\n        ],\n        \"semantic_type\": \"\",\n        \"description\": \"\"\n      }\n    },\n    {\n      \"column\": \"50%\",\n      \"properties\": {\n        \"dtype\": \"number\",\n        \"std\": 2830.1140919840914,\n        \"min\": 0.0,\n        \"max\": 9609.0,\n        \"num_unique_values\": 13,\n        \"samples\": [\n          9609.0\n        ],\n        \"semantic_type\": \"\",\n        \"description\": \"\"\n      }\n    },\n    {\n      \"column\": \"75%\",\n      \"properties\": {\n        \"dtype\": \"number\",\n        \"std\": 6351.539171611477,\n        \"min\": 0.0,\n        \"max\": 18553.42,\n        \"num_unique_values\": 13,\n        \"samples\": [\n          17097.25\n        ],\n        \"semantic_type\": \"\",\n        \"description\": \"\"\n      }\n    },\n    {\n      \"column\": \"max\",\n      \"properties\": {\n        \"dtype\": \"number\",\n        \"std\": 330000.8743935833,\n        \"min\": 6.0,\n        \"max\": 1079214.19,\n        \"num_unique_values\": 14,\n        \"samples\": [\n          25503.28807\n        ],\n        \"semantic_type\": \"\",\n        \"description\": \"\"\n      }\n    }\n  ]\n}"
            }
          },
          "metadata": {},
          "execution_count": 52
        }
      ],
      "source": [
        "X_train_t.describe().T"
      ]
    },
    {
      "cell_type": "code",
      "execution_count": 53,
      "metadata": {
        "colab": {
          "base_uri": "https://localhost:8080/"
        },
        "id": "AqkKkkBI-h-m",
        "outputId": "14b8d82f-3cb8-4365-f770-4eb3c8de81d0"
      },
      "outputs": [
        {
          "output_type": "stream",
          "name": "stdout",
          "text": [
            "DEUDA | 0 | 1459\n",
            "PLAZO_CREDITO | 0 | 0\n",
            "ATRASO_MAXIMO_ULT_6M | 0 | 1409\n",
            "ATRASO_MAXIMO_ULT_12M | 0 | 2903\n",
            "ATRASO_MAXIMO_ULT_24M | 0 | 4614\n",
            "MESES_AHORROS_ULT_6M | 3689 | 0\n",
            "MEDIANA_AHORROS_ULT_6M | 0 | 2284\n",
            "DEUDA_TOTAL_SISTEMA | 0 | 2567\n",
            "NUMERO_DE_PAGOS_PDH | 0 | 0\n",
            "MONTO_TC_SISTEMA | 0 | 3110\n",
            "INGRESO_CLIENTE | 0 | 2229\n",
            "EDAD_T | 0 | 512\n",
            "CUOTA | 0 | 2288\n",
            "LINEA_DE_TC | 0 | 917\n",
            "MONTO_TC_MEMBRESIA | 0 | 1427\n"
          ]
        }
      ],
      "source": [
        "outliers_col(X_train_t)"
      ]
    },
    {
      "cell_type": "code",
      "execution_count": 54,
      "metadata": {
        "id": "8Yqwkkyj7F-O"
      },
      "outputs": [],
      "source": [
        "num_cols=['DEUDA', 'ATRASO_MAXIMO_ULT_6M','ATRASO_MAXIMO_ULT_12M', 'ATRASO_MAXIMO_ULT_24M',\n",
        "          'MEDIANA_AHORROS_ULT_6M', 'DEUDA_TOTAL_SISTEMA', 'MONTO_TC_SISTEMA', 'INGRESO_CLIENTE','EDAD_T','CUOTA',\n",
        "          'LINEA_DE_TC', 'MONTO_TC_MEMBRESIA']"
      ]
    },
    {
      "cell_type": "code",
      "execution_count": 55,
      "metadata": {
        "colab": {
          "base_uri": "https://localhost:8080/",
          "height": 167
        },
        "id": "rQq1lhg259Rz",
        "outputId": "2529edc3-3924-4763-c982-a780dec47775"
      },
      "outputs": [
        {
          "output_type": "execute_result",
          "data": {
            "text/plain": [
              "Winsorizer(capping_method='quantiles', fold=0.01,\n",
              "           variables=['DEUDA', 'ATRASO_MAXIMO_ULT_6M', 'ATRASO_MAXIMO_ULT_12M',\n",
              "                      'ATRASO_MAXIMO_ULT_24M', 'MEDIANA_AHORROS_ULT_6M',\n",
              "                      'DEUDA_TOTAL_SISTEMA', 'MONTO_TC_SISTEMA',\n",
              "                      'INGRESO_CLIENTE', 'EDAD_T', 'CUOTA', 'LINEA_DE_TC',\n",
              "                      'MONTO_TC_MEMBRESIA'])"
            ],
            "text/html": [
              "<style>#sk-container-id-3 {\n",
              "  /* Definition of color scheme common for light and dark mode */\n",
              "  --sklearn-color-text: #000;\n",
              "  --sklearn-color-text-muted: #666;\n",
              "  --sklearn-color-line: gray;\n",
              "  /* Definition of color scheme for unfitted estimators */\n",
              "  --sklearn-color-unfitted-level-0: #fff5e6;\n",
              "  --sklearn-color-unfitted-level-1: #f6e4d2;\n",
              "  --sklearn-color-unfitted-level-2: #ffe0b3;\n",
              "  --sklearn-color-unfitted-level-3: chocolate;\n",
              "  /* Definition of color scheme for fitted estimators */\n",
              "  --sklearn-color-fitted-level-0: #f0f8ff;\n",
              "  --sklearn-color-fitted-level-1: #d4ebff;\n",
              "  --sklearn-color-fitted-level-2: #b3dbfd;\n",
              "  --sklearn-color-fitted-level-3: cornflowerblue;\n",
              "\n",
              "  /* Specific color for light theme */\n",
              "  --sklearn-color-text-on-default-background: var(--sg-text-color, var(--theme-code-foreground, var(--jp-content-font-color1, black)));\n",
              "  --sklearn-color-background: var(--sg-background-color, var(--theme-background, var(--jp-layout-color0, white)));\n",
              "  --sklearn-color-border-box: var(--sg-text-color, var(--theme-code-foreground, var(--jp-content-font-color1, black)));\n",
              "  --sklearn-color-icon: #696969;\n",
              "\n",
              "  @media (prefers-color-scheme: dark) {\n",
              "    /* Redefinition of color scheme for dark theme */\n",
              "    --sklearn-color-text-on-default-background: var(--sg-text-color, var(--theme-code-foreground, var(--jp-content-font-color1, white)));\n",
              "    --sklearn-color-background: var(--sg-background-color, var(--theme-background, var(--jp-layout-color0, #111)));\n",
              "    --sklearn-color-border-box: var(--sg-text-color, var(--theme-code-foreground, var(--jp-content-font-color1, white)));\n",
              "    --sklearn-color-icon: #878787;\n",
              "  }\n",
              "}\n",
              "\n",
              "#sk-container-id-3 {\n",
              "  color: var(--sklearn-color-text);\n",
              "}\n",
              "\n",
              "#sk-container-id-3 pre {\n",
              "  padding: 0;\n",
              "}\n",
              "\n",
              "#sk-container-id-3 input.sk-hidden--visually {\n",
              "  border: 0;\n",
              "  clip: rect(1px 1px 1px 1px);\n",
              "  clip: rect(1px, 1px, 1px, 1px);\n",
              "  height: 1px;\n",
              "  margin: -1px;\n",
              "  overflow: hidden;\n",
              "  padding: 0;\n",
              "  position: absolute;\n",
              "  width: 1px;\n",
              "}\n",
              "\n",
              "#sk-container-id-3 div.sk-dashed-wrapped {\n",
              "  border: 1px dashed var(--sklearn-color-line);\n",
              "  margin: 0 0.4em 0.5em 0.4em;\n",
              "  box-sizing: border-box;\n",
              "  padding-bottom: 0.4em;\n",
              "  background-color: var(--sklearn-color-background);\n",
              "}\n",
              "\n",
              "#sk-container-id-3 div.sk-container {\n",
              "  /* jupyter's `normalize.less` sets `[hidden] { display: none; }`\n",
              "     but bootstrap.min.css set `[hidden] { display: none !important; }`\n",
              "     so we also need the `!important` here to be able to override the\n",
              "     default hidden behavior on the sphinx rendered scikit-learn.org.\n",
              "     See: https://github.com/scikit-learn/scikit-learn/issues/21755 */\n",
              "  display: inline-block !important;\n",
              "  position: relative;\n",
              "}\n",
              "\n",
              "#sk-container-id-3 div.sk-text-repr-fallback {\n",
              "  display: none;\n",
              "}\n",
              "\n",
              "div.sk-parallel-item,\n",
              "div.sk-serial,\n",
              "div.sk-item {\n",
              "  /* draw centered vertical line to link estimators */\n",
              "  background-image: linear-gradient(var(--sklearn-color-text-on-default-background), var(--sklearn-color-text-on-default-background));\n",
              "  background-size: 2px 100%;\n",
              "  background-repeat: no-repeat;\n",
              "  background-position: center center;\n",
              "}\n",
              "\n",
              "/* Parallel-specific style estimator block */\n",
              "\n",
              "#sk-container-id-3 div.sk-parallel-item::after {\n",
              "  content: \"\";\n",
              "  width: 100%;\n",
              "  border-bottom: 2px solid var(--sklearn-color-text-on-default-background);\n",
              "  flex-grow: 1;\n",
              "}\n",
              "\n",
              "#sk-container-id-3 div.sk-parallel {\n",
              "  display: flex;\n",
              "  align-items: stretch;\n",
              "  justify-content: center;\n",
              "  background-color: var(--sklearn-color-background);\n",
              "  position: relative;\n",
              "}\n",
              "\n",
              "#sk-container-id-3 div.sk-parallel-item {\n",
              "  display: flex;\n",
              "  flex-direction: column;\n",
              "}\n",
              "\n",
              "#sk-container-id-3 div.sk-parallel-item:first-child::after {\n",
              "  align-self: flex-end;\n",
              "  width: 50%;\n",
              "}\n",
              "\n",
              "#sk-container-id-3 div.sk-parallel-item:last-child::after {\n",
              "  align-self: flex-start;\n",
              "  width: 50%;\n",
              "}\n",
              "\n",
              "#sk-container-id-3 div.sk-parallel-item:only-child::after {\n",
              "  width: 0;\n",
              "}\n",
              "\n",
              "/* Serial-specific style estimator block */\n",
              "\n",
              "#sk-container-id-3 div.sk-serial {\n",
              "  display: flex;\n",
              "  flex-direction: column;\n",
              "  align-items: center;\n",
              "  background-color: var(--sklearn-color-background);\n",
              "  padding-right: 1em;\n",
              "  padding-left: 1em;\n",
              "}\n",
              "\n",
              "\n",
              "/* Toggleable style: style used for estimator/Pipeline/ColumnTransformer box that is\n",
              "clickable and can be expanded/collapsed.\n",
              "- Pipeline and ColumnTransformer use this feature and define the default style\n",
              "- Estimators will overwrite some part of the style using the `sk-estimator` class\n",
              "*/\n",
              "\n",
              "/* Pipeline and ColumnTransformer style (default) */\n",
              "\n",
              "#sk-container-id-3 div.sk-toggleable {\n",
              "  /* Default theme specific background. It is overwritten whether we have a\n",
              "  specific estimator or a Pipeline/ColumnTransformer */\n",
              "  background-color: var(--sklearn-color-background);\n",
              "}\n",
              "\n",
              "/* Toggleable label */\n",
              "#sk-container-id-3 label.sk-toggleable__label {\n",
              "  cursor: pointer;\n",
              "  display: flex;\n",
              "  width: 100%;\n",
              "  margin-bottom: 0;\n",
              "  padding: 0.5em;\n",
              "  box-sizing: border-box;\n",
              "  text-align: center;\n",
              "  align-items: start;\n",
              "  justify-content: space-between;\n",
              "  gap: 0.5em;\n",
              "}\n",
              "\n",
              "#sk-container-id-3 label.sk-toggleable__label .caption {\n",
              "  font-size: 0.6rem;\n",
              "  font-weight: lighter;\n",
              "  color: var(--sklearn-color-text-muted);\n",
              "}\n",
              "\n",
              "#sk-container-id-3 label.sk-toggleable__label-arrow:before {\n",
              "  /* Arrow on the left of the label */\n",
              "  content: \"▸\";\n",
              "  float: left;\n",
              "  margin-right: 0.25em;\n",
              "  color: var(--sklearn-color-icon);\n",
              "}\n",
              "\n",
              "#sk-container-id-3 label.sk-toggleable__label-arrow:hover:before {\n",
              "  color: var(--sklearn-color-text);\n",
              "}\n",
              "\n",
              "/* Toggleable content - dropdown */\n",
              "\n",
              "#sk-container-id-3 div.sk-toggleable__content {\n",
              "  max-height: 0;\n",
              "  max-width: 0;\n",
              "  overflow: hidden;\n",
              "  text-align: left;\n",
              "  /* unfitted */\n",
              "  background-color: var(--sklearn-color-unfitted-level-0);\n",
              "}\n",
              "\n",
              "#sk-container-id-3 div.sk-toggleable__content.fitted {\n",
              "  /* fitted */\n",
              "  background-color: var(--sklearn-color-fitted-level-0);\n",
              "}\n",
              "\n",
              "#sk-container-id-3 div.sk-toggleable__content pre {\n",
              "  margin: 0.2em;\n",
              "  border-radius: 0.25em;\n",
              "  color: var(--sklearn-color-text);\n",
              "  /* unfitted */\n",
              "  background-color: var(--sklearn-color-unfitted-level-0);\n",
              "}\n",
              "\n",
              "#sk-container-id-3 div.sk-toggleable__content.fitted pre {\n",
              "  /* unfitted */\n",
              "  background-color: var(--sklearn-color-fitted-level-0);\n",
              "}\n",
              "\n",
              "#sk-container-id-3 input.sk-toggleable__control:checked~div.sk-toggleable__content {\n",
              "  /* Expand drop-down */\n",
              "  max-height: 200px;\n",
              "  max-width: 100%;\n",
              "  overflow: auto;\n",
              "}\n",
              "\n",
              "#sk-container-id-3 input.sk-toggleable__control:checked~label.sk-toggleable__label-arrow:before {\n",
              "  content: \"▾\";\n",
              "}\n",
              "\n",
              "/* Pipeline/ColumnTransformer-specific style */\n",
              "\n",
              "#sk-container-id-3 div.sk-label input.sk-toggleable__control:checked~label.sk-toggleable__label {\n",
              "  color: var(--sklearn-color-text);\n",
              "  background-color: var(--sklearn-color-unfitted-level-2);\n",
              "}\n",
              "\n",
              "#sk-container-id-3 div.sk-label.fitted input.sk-toggleable__control:checked~label.sk-toggleable__label {\n",
              "  background-color: var(--sklearn-color-fitted-level-2);\n",
              "}\n",
              "\n",
              "/* Estimator-specific style */\n",
              "\n",
              "/* Colorize estimator box */\n",
              "#sk-container-id-3 div.sk-estimator input.sk-toggleable__control:checked~label.sk-toggleable__label {\n",
              "  /* unfitted */\n",
              "  background-color: var(--sklearn-color-unfitted-level-2);\n",
              "}\n",
              "\n",
              "#sk-container-id-3 div.sk-estimator.fitted input.sk-toggleable__control:checked~label.sk-toggleable__label {\n",
              "  /* fitted */\n",
              "  background-color: var(--sklearn-color-fitted-level-2);\n",
              "}\n",
              "\n",
              "#sk-container-id-3 div.sk-label label.sk-toggleable__label,\n",
              "#sk-container-id-3 div.sk-label label {\n",
              "  /* The background is the default theme color */\n",
              "  color: var(--sklearn-color-text-on-default-background);\n",
              "}\n",
              "\n",
              "/* On hover, darken the color of the background */\n",
              "#sk-container-id-3 div.sk-label:hover label.sk-toggleable__label {\n",
              "  color: var(--sklearn-color-text);\n",
              "  background-color: var(--sklearn-color-unfitted-level-2);\n",
              "}\n",
              "\n",
              "/* Label box, darken color on hover, fitted */\n",
              "#sk-container-id-3 div.sk-label.fitted:hover label.sk-toggleable__label.fitted {\n",
              "  color: var(--sklearn-color-text);\n",
              "  background-color: var(--sklearn-color-fitted-level-2);\n",
              "}\n",
              "\n",
              "/* Estimator label */\n",
              "\n",
              "#sk-container-id-3 div.sk-label label {\n",
              "  font-family: monospace;\n",
              "  font-weight: bold;\n",
              "  display: inline-block;\n",
              "  line-height: 1.2em;\n",
              "}\n",
              "\n",
              "#sk-container-id-3 div.sk-label-container {\n",
              "  text-align: center;\n",
              "}\n",
              "\n",
              "/* Estimator-specific */\n",
              "#sk-container-id-3 div.sk-estimator {\n",
              "  font-family: monospace;\n",
              "  border: 1px dotted var(--sklearn-color-border-box);\n",
              "  border-radius: 0.25em;\n",
              "  box-sizing: border-box;\n",
              "  margin-bottom: 0.5em;\n",
              "  /* unfitted */\n",
              "  background-color: var(--sklearn-color-unfitted-level-0);\n",
              "}\n",
              "\n",
              "#sk-container-id-3 div.sk-estimator.fitted {\n",
              "  /* fitted */\n",
              "  background-color: var(--sklearn-color-fitted-level-0);\n",
              "}\n",
              "\n",
              "/* on hover */\n",
              "#sk-container-id-3 div.sk-estimator:hover {\n",
              "  /* unfitted */\n",
              "  background-color: var(--sklearn-color-unfitted-level-2);\n",
              "}\n",
              "\n",
              "#sk-container-id-3 div.sk-estimator.fitted:hover {\n",
              "  /* fitted */\n",
              "  background-color: var(--sklearn-color-fitted-level-2);\n",
              "}\n",
              "\n",
              "/* Specification for estimator info (e.g. \"i\" and \"?\") */\n",
              "\n",
              "/* Common style for \"i\" and \"?\" */\n",
              "\n",
              ".sk-estimator-doc-link,\n",
              "a:link.sk-estimator-doc-link,\n",
              "a:visited.sk-estimator-doc-link {\n",
              "  float: right;\n",
              "  font-size: smaller;\n",
              "  line-height: 1em;\n",
              "  font-family: monospace;\n",
              "  background-color: var(--sklearn-color-background);\n",
              "  border-radius: 1em;\n",
              "  height: 1em;\n",
              "  width: 1em;\n",
              "  text-decoration: none !important;\n",
              "  margin-left: 0.5em;\n",
              "  text-align: center;\n",
              "  /* unfitted */\n",
              "  border: var(--sklearn-color-unfitted-level-1) 1pt solid;\n",
              "  color: var(--sklearn-color-unfitted-level-1);\n",
              "}\n",
              "\n",
              ".sk-estimator-doc-link.fitted,\n",
              "a:link.sk-estimator-doc-link.fitted,\n",
              "a:visited.sk-estimator-doc-link.fitted {\n",
              "  /* fitted */\n",
              "  border: var(--sklearn-color-fitted-level-1) 1pt solid;\n",
              "  color: var(--sklearn-color-fitted-level-1);\n",
              "}\n",
              "\n",
              "/* On hover */\n",
              "div.sk-estimator:hover .sk-estimator-doc-link:hover,\n",
              ".sk-estimator-doc-link:hover,\n",
              "div.sk-label-container:hover .sk-estimator-doc-link:hover,\n",
              ".sk-estimator-doc-link:hover {\n",
              "  /* unfitted */\n",
              "  background-color: var(--sklearn-color-unfitted-level-3);\n",
              "  color: var(--sklearn-color-background);\n",
              "  text-decoration: none;\n",
              "}\n",
              "\n",
              "div.sk-estimator.fitted:hover .sk-estimator-doc-link.fitted:hover,\n",
              ".sk-estimator-doc-link.fitted:hover,\n",
              "div.sk-label-container:hover .sk-estimator-doc-link.fitted:hover,\n",
              ".sk-estimator-doc-link.fitted:hover {\n",
              "  /* fitted */\n",
              "  background-color: var(--sklearn-color-fitted-level-3);\n",
              "  color: var(--sklearn-color-background);\n",
              "  text-decoration: none;\n",
              "}\n",
              "\n",
              "/* Span, style for the box shown on hovering the info icon */\n",
              ".sk-estimator-doc-link span {\n",
              "  display: none;\n",
              "  z-index: 9999;\n",
              "  position: relative;\n",
              "  font-weight: normal;\n",
              "  right: .2ex;\n",
              "  padding: .5ex;\n",
              "  margin: .5ex;\n",
              "  width: min-content;\n",
              "  min-width: 20ex;\n",
              "  max-width: 50ex;\n",
              "  color: var(--sklearn-color-text);\n",
              "  box-shadow: 2pt 2pt 4pt #999;\n",
              "  /* unfitted */\n",
              "  background: var(--sklearn-color-unfitted-level-0);\n",
              "  border: .5pt solid var(--sklearn-color-unfitted-level-3);\n",
              "}\n",
              "\n",
              ".sk-estimator-doc-link.fitted span {\n",
              "  /* fitted */\n",
              "  background: var(--sklearn-color-fitted-level-0);\n",
              "  border: var(--sklearn-color-fitted-level-3);\n",
              "}\n",
              "\n",
              ".sk-estimator-doc-link:hover span {\n",
              "  display: block;\n",
              "}\n",
              "\n",
              "/* \"?\"-specific style due to the `<a>` HTML tag */\n",
              "\n",
              "#sk-container-id-3 a.estimator_doc_link {\n",
              "  float: right;\n",
              "  font-size: 1rem;\n",
              "  line-height: 1em;\n",
              "  font-family: monospace;\n",
              "  background-color: var(--sklearn-color-background);\n",
              "  border-radius: 1rem;\n",
              "  height: 1rem;\n",
              "  width: 1rem;\n",
              "  text-decoration: none;\n",
              "  /* unfitted */\n",
              "  color: var(--sklearn-color-unfitted-level-1);\n",
              "  border: var(--sklearn-color-unfitted-level-1) 1pt solid;\n",
              "}\n",
              "\n",
              "#sk-container-id-3 a.estimator_doc_link.fitted {\n",
              "  /* fitted */\n",
              "  border: var(--sklearn-color-fitted-level-1) 1pt solid;\n",
              "  color: var(--sklearn-color-fitted-level-1);\n",
              "}\n",
              "\n",
              "/* On hover */\n",
              "#sk-container-id-3 a.estimator_doc_link:hover {\n",
              "  /* unfitted */\n",
              "  background-color: var(--sklearn-color-unfitted-level-3);\n",
              "  color: var(--sklearn-color-background);\n",
              "  text-decoration: none;\n",
              "}\n",
              "\n",
              "#sk-container-id-3 a.estimator_doc_link.fitted:hover {\n",
              "  /* fitted */\n",
              "  background-color: var(--sklearn-color-fitted-level-3);\n",
              "}\n",
              "</style><div id=\"sk-container-id-3\" class=\"sk-top-container\"><div class=\"sk-text-repr-fallback\"><pre>Winsorizer(capping_method=&#x27;quantiles&#x27;, fold=0.01,\n",
              "           variables=[&#x27;DEUDA&#x27;, &#x27;ATRASO_MAXIMO_ULT_6M&#x27;, &#x27;ATRASO_MAXIMO_ULT_12M&#x27;,\n",
              "                      &#x27;ATRASO_MAXIMO_ULT_24M&#x27;, &#x27;MEDIANA_AHORROS_ULT_6M&#x27;,\n",
              "                      &#x27;DEUDA_TOTAL_SISTEMA&#x27;, &#x27;MONTO_TC_SISTEMA&#x27;,\n",
              "                      &#x27;INGRESO_CLIENTE&#x27;, &#x27;EDAD_T&#x27;, &#x27;CUOTA&#x27;, &#x27;LINEA_DE_TC&#x27;,\n",
              "                      &#x27;MONTO_TC_MEMBRESIA&#x27;])</pre><b>In a Jupyter environment, please rerun this cell to show the HTML representation or trust the notebook. <br />On GitHub, the HTML representation is unable to render, please try loading this page with nbviewer.org.</b></div><div class=\"sk-container\" hidden><div class=\"sk-item\"><div class=\"sk-estimator fitted sk-toggleable\"><input class=\"sk-toggleable__control sk-hidden--visually\" id=\"sk-estimator-id-10\" type=\"checkbox\" checked><label for=\"sk-estimator-id-10\" class=\"sk-toggleable__label fitted sk-toggleable__label-arrow\"><div><div>Winsorizer</div></div><div><span class=\"sk-estimator-doc-link fitted\">i<span>Fitted</span></span></div></label><div class=\"sk-toggleable__content fitted\"><pre>Winsorizer(capping_method=&#x27;quantiles&#x27;, fold=0.01,\n",
              "           variables=[&#x27;DEUDA&#x27;, &#x27;ATRASO_MAXIMO_ULT_6M&#x27;, &#x27;ATRASO_MAXIMO_ULT_12M&#x27;,\n",
              "                      &#x27;ATRASO_MAXIMO_ULT_24M&#x27;, &#x27;MEDIANA_AHORROS_ULT_6M&#x27;,\n",
              "                      &#x27;DEUDA_TOTAL_SISTEMA&#x27;, &#x27;MONTO_TC_SISTEMA&#x27;,\n",
              "                      &#x27;INGRESO_CLIENTE&#x27;, &#x27;EDAD_T&#x27;, &#x27;CUOTA&#x27;, &#x27;LINEA_DE_TC&#x27;,\n",
              "                      &#x27;MONTO_TC_MEMBRESIA&#x27;])</pre></div> </div></div></div></div>"
            ]
          },
          "metadata": {},
          "execution_count": 55
        }
      ],
      "source": [
        "from feature_engine.outliers import Winsorizer\n",
        "capper = Winsorizer(\n",
        "    variables=num_cols,\n",
        "    capping_method=\"quantiles\",\n",
        "    tail=\"right\",\n",
        "    fold=0.01,\n",
        ")\n",
        "capper.fit(X_train_t)"
      ]
    },
    {
      "cell_type": "code",
      "execution_count": 56,
      "metadata": {
        "id": "O-jycqVd59Rz"
      },
      "outputs": [],
      "source": [
        "#capper.right_tail_caps_"
      ]
    },
    {
      "cell_type": "code",
      "execution_count": 57,
      "metadata": {
        "id": "JKGIbnNo59Rz"
      },
      "outputs": [],
      "source": [
        "X_train_t = capper.transform(X_train_t)\n",
        "X_test_t = capper.transform(X_test_t)"
      ]
    },
    {
      "cell_type": "code",
      "execution_count": 58,
      "metadata": {
        "colab": {
          "base_uri": "https://localhost:8080/",
          "height": 519
        },
        "id": "__zGPGaS59R0",
        "outputId": "a1c72786-b8a6-43bb-a714-d395cf8ad2f0"
      },
      "outputs": [
        {
          "output_type": "execute_result",
          "data": {
            "text/plain": [
              "                          count          mean           std         min  \\\n",
              "DEUDA                   22360.0   5767.696927   5662.719977    8.791365   \n",
              "PLAZO_CREDITO           22360.0     40.092084     15.547062    6.000000   \n",
              "ATRASO_MAXIMO_ULT_6M    22360.0      0.130188      0.615047    0.000000   \n",
              "ATRASO_MAXIMO_ULT_12M   22360.0      0.592576      2.510538    0.000000   \n",
              "ATRASO_MAXIMO_ULT_24M   22360.0      1.270438      4.230890    0.000000   \n",
              "MESES_AHORROS_ULT_6M    22360.0      5.055903      1.605819    0.000000   \n",
              "MEDIANA_AHORROS_ULT_6M  22360.0   7146.544957   7272.373742    0.000000   \n",
              "DEUDA_TOTAL_SISTEMA     22360.0  20508.116018  43687.720951    0.000000   \n",
              "NUMERO_DE_PAGOS_PDH     22360.0     16.261538      9.426468    0.000000   \n",
              "MONTO_TC_SISTEMA        22360.0   5286.382362  11951.112587    0.000000   \n",
              "INGRESO_CLIENTE         22360.0   3211.776852   2447.972812  465.839706   \n",
              "EDAD_T                  22360.0     36.780143      9.701699   20.000000   \n",
              "CUOTA                   22360.0    653.106600   1070.792819    0.000000   \n",
              "LINEA_DE_TC             22360.0  12359.396360  11329.847285    4.000000   \n",
              "MONTO_TC_MEMBRESIA      22360.0    122.126878     77.408556    0.000000   \n",
              "\n",
              "                                25%          50%           75%            max  \n",
              "DEUDA                   1614.985000  3768.298333   7869.050000   23574.760420  \n",
              "PLAZO_CREDITO             24.000000    48.000000     48.000000      60.000000  \n",
              "ATRASO_MAXIMO_ULT_6M       0.000000     0.000000      0.000000       5.000000  \n",
              "ATRASO_MAXIMO_ULT_12M      0.000000     0.000000      0.000000      16.000000  \n",
              "ATRASO_MAXIMO_ULT_24M      0.000000     0.000000      0.000000      25.000000  \n",
              "MESES_AHORROS_ULT_6M       5.000000     6.000000      6.000000       6.000000  \n",
              "MEDIANA_AHORROS_ULT_6M  1712.270417  4362.920626   9507.471667   24065.564330  \n",
              "DEUDA_TOTAL_SISTEMA      556.875000  5136.870000  18553.420000  280120.580200  \n",
              "NUMERO_DE_PAGOS_PDH        7.000000    24.000000     24.000000      24.000000  \n",
              "MONTO_TC_SISTEMA           0.000000   478.565000   4188.745000   72022.006800  \n",
              "INGRESO_CLIENTE         1687.191665  2271.177355   3670.504570   13456.594566  \n",
              "EDAD_T                    29.000000    35.000000     42.000000      65.000000  \n",
              "CUOTA                     36.414620   222.356862    753.841935    5946.128042  \n",
              "LINEA_DE_TC             4300.000000  9609.000000  17097.250000   65057.400000  \n",
              "MONTO_TC_MEMBRESIA        60.000000    97.000000    170.000000     400.000000  "
            ],
            "text/html": [
              "\n",
              "  <div id=\"df-85ce6808-df47-4d79-855b-f35d84b5f917\" class=\"colab-df-container\">\n",
              "    <div>\n",
              "<style scoped>\n",
              "    .dataframe tbody tr th:only-of-type {\n",
              "        vertical-align: middle;\n",
              "    }\n",
              "\n",
              "    .dataframe tbody tr th {\n",
              "        vertical-align: top;\n",
              "    }\n",
              "\n",
              "    .dataframe thead th {\n",
              "        text-align: right;\n",
              "    }\n",
              "</style>\n",
              "<table border=\"1\" class=\"dataframe\">\n",
              "  <thead>\n",
              "    <tr style=\"text-align: right;\">\n",
              "      <th></th>\n",
              "      <th>count</th>\n",
              "      <th>mean</th>\n",
              "      <th>std</th>\n",
              "      <th>min</th>\n",
              "      <th>25%</th>\n",
              "      <th>50%</th>\n",
              "      <th>75%</th>\n",
              "      <th>max</th>\n",
              "    </tr>\n",
              "  </thead>\n",
              "  <tbody>\n",
              "    <tr>\n",
              "      <th>DEUDA</th>\n",
              "      <td>22360.0</td>\n",
              "      <td>5767.696927</td>\n",
              "      <td>5662.719977</td>\n",
              "      <td>8.791365</td>\n",
              "      <td>1614.985000</td>\n",
              "      <td>3768.298333</td>\n",
              "      <td>7869.050000</td>\n",
              "      <td>23574.760420</td>\n",
              "    </tr>\n",
              "    <tr>\n",
              "      <th>PLAZO_CREDITO</th>\n",
              "      <td>22360.0</td>\n",
              "      <td>40.092084</td>\n",
              "      <td>15.547062</td>\n",
              "      <td>6.000000</td>\n",
              "      <td>24.000000</td>\n",
              "      <td>48.000000</td>\n",
              "      <td>48.000000</td>\n",
              "      <td>60.000000</td>\n",
              "    </tr>\n",
              "    <tr>\n",
              "      <th>ATRASO_MAXIMO_ULT_6M</th>\n",
              "      <td>22360.0</td>\n",
              "      <td>0.130188</td>\n",
              "      <td>0.615047</td>\n",
              "      <td>0.000000</td>\n",
              "      <td>0.000000</td>\n",
              "      <td>0.000000</td>\n",
              "      <td>0.000000</td>\n",
              "      <td>5.000000</td>\n",
              "    </tr>\n",
              "    <tr>\n",
              "      <th>ATRASO_MAXIMO_ULT_12M</th>\n",
              "      <td>22360.0</td>\n",
              "      <td>0.592576</td>\n",
              "      <td>2.510538</td>\n",
              "      <td>0.000000</td>\n",
              "      <td>0.000000</td>\n",
              "      <td>0.000000</td>\n",
              "      <td>0.000000</td>\n",
              "      <td>16.000000</td>\n",
              "    </tr>\n",
              "    <tr>\n",
              "      <th>ATRASO_MAXIMO_ULT_24M</th>\n",
              "      <td>22360.0</td>\n",
              "      <td>1.270438</td>\n",
              "      <td>4.230890</td>\n",
              "      <td>0.000000</td>\n",
              "      <td>0.000000</td>\n",
              "      <td>0.000000</td>\n",
              "      <td>0.000000</td>\n",
              "      <td>25.000000</td>\n",
              "    </tr>\n",
              "    <tr>\n",
              "      <th>MESES_AHORROS_ULT_6M</th>\n",
              "      <td>22360.0</td>\n",
              "      <td>5.055903</td>\n",
              "      <td>1.605819</td>\n",
              "      <td>0.000000</td>\n",
              "      <td>5.000000</td>\n",
              "      <td>6.000000</td>\n",
              "      <td>6.000000</td>\n",
              "      <td>6.000000</td>\n",
              "    </tr>\n",
              "    <tr>\n",
              "      <th>MEDIANA_AHORROS_ULT_6M</th>\n",
              "      <td>22360.0</td>\n",
              "      <td>7146.544957</td>\n",
              "      <td>7272.373742</td>\n",
              "      <td>0.000000</td>\n",
              "      <td>1712.270417</td>\n",
              "      <td>4362.920626</td>\n",
              "      <td>9507.471667</td>\n",
              "      <td>24065.564330</td>\n",
              "    </tr>\n",
              "    <tr>\n",
              "      <th>DEUDA_TOTAL_SISTEMA</th>\n",
              "      <td>22360.0</td>\n",
              "      <td>20508.116018</td>\n",
              "      <td>43687.720951</td>\n",
              "      <td>0.000000</td>\n",
              "      <td>556.875000</td>\n",
              "      <td>5136.870000</td>\n",
              "      <td>18553.420000</td>\n",
              "      <td>280120.580200</td>\n",
              "    </tr>\n",
              "    <tr>\n",
              "      <th>NUMERO_DE_PAGOS_PDH</th>\n",
              "      <td>22360.0</td>\n",
              "      <td>16.261538</td>\n",
              "      <td>9.426468</td>\n",
              "      <td>0.000000</td>\n",
              "      <td>7.000000</td>\n",
              "      <td>24.000000</td>\n",
              "      <td>24.000000</td>\n",
              "      <td>24.000000</td>\n",
              "    </tr>\n",
              "    <tr>\n",
              "      <th>MONTO_TC_SISTEMA</th>\n",
              "      <td>22360.0</td>\n",
              "      <td>5286.382362</td>\n",
              "      <td>11951.112587</td>\n",
              "      <td>0.000000</td>\n",
              "      <td>0.000000</td>\n",
              "      <td>478.565000</td>\n",
              "      <td>4188.745000</td>\n",
              "      <td>72022.006800</td>\n",
              "    </tr>\n",
              "    <tr>\n",
              "      <th>INGRESO_CLIENTE</th>\n",
              "      <td>22360.0</td>\n",
              "      <td>3211.776852</td>\n",
              "      <td>2447.972812</td>\n",
              "      <td>465.839706</td>\n",
              "      <td>1687.191665</td>\n",
              "      <td>2271.177355</td>\n",
              "      <td>3670.504570</td>\n",
              "      <td>13456.594566</td>\n",
              "    </tr>\n",
              "    <tr>\n",
              "      <th>EDAD_T</th>\n",
              "      <td>22360.0</td>\n",
              "      <td>36.780143</td>\n",
              "      <td>9.701699</td>\n",
              "      <td>20.000000</td>\n",
              "      <td>29.000000</td>\n",
              "      <td>35.000000</td>\n",
              "      <td>42.000000</td>\n",
              "      <td>65.000000</td>\n",
              "    </tr>\n",
              "    <tr>\n",
              "      <th>CUOTA</th>\n",
              "      <td>22360.0</td>\n",
              "      <td>653.106600</td>\n",
              "      <td>1070.792819</td>\n",
              "      <td>0.000000</td>\n",
              "      <td>36.414620</td>\n",
              "      <td>222.356862</td>\n",
              "      <td>753.841935</td>\n",
              "      <td>5946.128042</td>\n",
              "    </tr>\n",
              "    <tr>\n",
              "      <th>LINEA_DE_TC</th>\n",
              "      <td>22360.0</td>\n",
              "      <td>12359.396360</td>\n",
              "      <td>11329.847285</td>\n",
              "      <td>4.000000</td>\n",
              "      <td>4300.000000</td>\n",
              "      <td>9609.000000</td>\n",
              "      <td>17097.250000</td>\n",
              "      <td>65057.400000</td>\n",
              "    </tr>\n",
              "    <tr>\n",
              "      <th>MONTO_TC_MEMBRESIA</th>\n",
              "      <td>22360.0</td>\n",
              "      <td>122.126878</td>\n",
              "      <td>77.408556</td>\n",
              "      <td>0.000000</td>\n",
              "      <td>60.000000</td>\n",
              "      <td>97.000000</td>\n",
              "      <td>170.000000</td>\n",
              "      <td>400.000000</td>\n",
              "    </tr>\n",
              "  </tbody>\n",
              "</table>\n",
              "</div>\n",
              "    <div class=\"colab-df-buttons\">\n",
              "\n",
              "  <div class=\"colab-df-container\">\n",
              "    <button class=\"colab-df-convert\" onclick=\"convertToInteractive('df-85ce6808-df47-4d79-855b-f35d84b5f917')\"\n",
              "            title=\"Convert this dataframe to an interactive table.\"\n",
              "            style=\"display:none;\">\n",
              "\n",
              "  <svg xmlns=\"http://www.w3.org/2000/svg\" height=\"24px\" viewBox=\"0 -960 960 960\">\n",
              "    <path d=\"M120-120v-720h720v720H120Zm60-500h600v-160H180v160Zm220 220h160v-160H400v160Zm0 220h160v-160H400v160ZM180-400h160v-160H180v160Zm440 0h160v-160H620v160ZM180-180h160v-160H180v160Zm440 0h160v-160H620v160Z\"/>\n",
              "  </svg>\n",
              "    </button>\n",
              "\n",
              "  <style>\n",
              "    .colab-df-container {\n",
              "      display:flex;\n",
              "      gap: 12px;\n",
              "    }\n",
              "\n",
              "    .colab-df-convert {\n",
              "      background-color: #E8F0FE;\n",
              "      border: none;\n",
              "      border-radius: 50%;\n",
              "      cursor: pointer;\n",
              "      display: none;\n",
              "      fill: #1967D2;\n",
              "      height: 32px;\n",
              "      padding: 0 0 0 0;\n",
              "      width: 32px;\n",
              "    }\n",
              "\n",
              "    .colab-df-convert:hover {\n",
              "      background-color: #E2EBFA;\n",
              "      box-shadow: 0px 1px 2px rgba(60, 64, 67, 0.3), 0px 1px 3px 1px rgba(60, 64, 67, 0.15);\n",
              "      fill: #174EA6;\n",
              "    }\n",
              "\n",
              "    .colab-df-buttons div {\n",
              "      margin-bottom: 4px;\n",
              "    }\n",
              "\n",
              "    [theme=dark] .colab-df-convert {\n",
              "      background-color: #3B4455;\n",
              "      fill: #D2E3FC;\n",
              "    }\n",
              "\n",
              "    [theme=dark] .colab-df-convert:hover {\n",
              "      background-color: #434B5C;\n",
              "      box-shadow: 0px 1px 3px 1px rgba(0, 0, 0, 0.15);\n",
              "      filter: drop-shadow(0px 1px 2px rgba(0, 0, 0, 0.3));\n",
              "      fill: #FFFFFF;\n",
              "    }\n",
              "  </style>\n",
              "\n",
              "    <script>\n",
              "      const buttonEl =\n",
              "        document.querySelector('#df-85ce6808-df47-4d79-855b-f35d84b5f917 button.colab-df-convert');\n",
              "      buttonEl.style.display =\n",
              "        google.colab.kernel.accessAllowed ? 'block' : 'none';\n",
              "\n",
              "      async function convertToInteractive(key) {\n",
              "        const element = document.querySelector('#df-85ce6808-df47-4d79-855b-f35d84b5f917');\n",
              "        const dataTable =\n",
              "          await google.colab.kernel.invokeFunction('convertToInteractive',\n",
              "                                                    [key], {});\n",
              "        if (!dataTable) return;\n",
              "\n",
              "        const docLinkHtml = 'Like what you see? Visit the ' +\n",
              "          '<a target=\"_blank\" href=https://colab.research.google.com/notebooks/data_table.ipynb>data table notebook</a>'\n",
              "          + ' to learn more about interactive tables.';\n",
              "        element.innerHTML = '';\n",
              "        dataTable['output_type'] = 'display_data';\n",
              "        await google.colab.output.renderOutput(dataTable, element);\n",
              "        const docLink = document.createElement('div');\n",
              "        docLink.innerHTML = docLinkHtml;\n",
              "        element.appendChild(docLink);\n",
              "      }\n",
              "    </script>\n",
              "  </div>\n",
              "\n",
              "\n",
              "    <div id=\"df-1803d6b2-4d7a-41c3-b5cf-90771351cdda\">\n",
              "      <button class=\"colab-df-quickchart\" onclick=\"quickchart('df-1803d6b2-4d7a-41c3-b5cf-90771351cdda')\"\n",
              "                title=\"Suggest charts\"\n",
              "                style=\"display:none;\">\n",
              "\n",
              "<svg xmlns=\"http://www.w3.org/2000/svg\" height=\"24px\"viewBox=\"0 0 24 24\"\n",
              "     width=\"24px\">\n",
              "    <g>\n",
              "        <path d=\"M19 3H5c-1.1 0-2 .9-2 2v14c0 1.1.9 2 2 2h14c1.1 0 2-.9 2-2V5c0-1.1-.9-2-2-2zM9 17H7v-7h2v7zm4 0h-2V7h2v10zm4 0h-2v-4h2v4z\"/>\n",
              "    </g>\n",
              "</svg>\n",
              "      </button>\n",
              "\n",
              "<style>\n",
              "  .colab-df-quickchart {\n",
              "      --bg-color: #E8F0FE;\n",
              "      --fill-color: #1967D2;\n",
              "      --hover-bg-color: #E2EBFA;\n",
              "      --hover-fill-color: #174EA6;\n",
              "      --disabled-fill-color: #AAA;\n",
              "      --disabled-bg-color: #DDD;\n",
              "  }\n",
              "\n",
              "  [theme=dark] .colab-df-quickchart {\n",
              "      --bg-color: #3B4455;\n",
              "      --fill-color: #D2E3FC;\n",
              "      --hover-bg-color: #434B5C;\n",
              "      --hover-fill-color: #FFFFFF;\n",
              "      --disabled-bg-color: #3B4455;\n",
              "      --disabled-fill-color: #666;\n",
              "  }\n",
              "\n",
              "  .colab-df-quickchart {\n",
              "    background-color: var(--bg-color);\n",
              "    border: none;\n",
              "    border-radius: 50%;\n",
              "    cursor: pointer;\n",
              "    display: none;\n",
              "    fill: var(--fill-color);\n",
              "    height: 32px;\n",
              "    padding: 0;\n",
              "    width: 32px;\n",
              "  }\n",
              "\n",
              "  .colab-df-quickchart:hover {\n",
              "    background-color: var(--hover-bg-color);\n",
              "    box-shadow: 0 1px 2px rgba(60, 64, 67, 0.3), 0 1px 3px 1px rgba(60, 64, 67, 0.15);\n",
              "    fill: var(--button-hover-fill-color);\n",
              "  }\n",
              "\n",
              "  .colab-df-quickchart-complete:disabled,\n",
              "  .colab-df-quickchart-complete:disabled:hover {\n",
              "    background-color: var(--disabled-bg-color);\n",
              "    fill: var(--disabled-fill-color);\n",
              "    box-shadow: none;\n",
              "  }\n",
              "\n",
              "  .colab-df-spinner {\n",
              "    border: 2px solid var(--fill-color);\n",
              "    border-color: transparent;\n",
              "    border-bottom-color: var(--fill-color);\n",
              "    animation:\n",
              "      spin 1s steps(1) infinite;\n",
              "  }\n",
              "\n",
              "  @keyframes spin {\n",
              "    0% {\n",
              "      border-color: transparent;\n",
              "      border-bottom-color: var(--fill-color);\n",
              "      border-left-color: var(--fill-color);\n",
              "    }\n",
              "    20% {\n",
              "      border-color: transparent;\n",
              "      border-left-color: var(--fill-color);\n",
              "      border-top-color: var(--fill-color);\n",
              "    }\n",
              "    30% {\n",
              "      border-color: transparent;\n",
              "      border-left-color: var(--fill-color);\n",
              "      border-top-color: var(--fill-color);\n",
              "      border-right-color: var(--fill-color);\n",
              "    }\n",
              "    40% {\n",
              "      border-color: transparent;\n",
              "      border-right-color: var(--fill-color);\n",
              "      border-top-color: var(--fill-color);\n",
              "    }\n",
              "    60% {\n",
              "      border-color: transparent;\n",
              "      border-right-color: var(--fill-color);\n",
              "    }\n",
              "    80% {\n",
              "      border-color: transparent;\n",
              "      border-right-color: var(--fill-color);\n",
              "      border-bottom-color: var(--fill-color);\n",
              "    }\n",
              "    90% {\n",
              "      border-color: transparent;\n",
              "      border-bottom-color: var(--fill-color);\n",
              "    }\n",
              "  }\n",
              "</style>\n",
              "\n",
              "      <script>\n",
              "        async function quickchart(key) {\n",
              "          const quickchartButtonEl =\n",
              "            document.querySelector('#' + key + ' button');\n",
              "          quickchartButtonEl.disabled = true;  // To prevent multiple clicks.\n",
              "          quickchartButtonEl.classList.add('colab-df-spinner');\n",
              "          try {\n",
              "            const charts = await google.colab.kernel.invokeFunction(\n",
              "                'suggestCharts', [key], {});\n",
              "          } catch (error) {\n",
              "            console.error('Error during call to suggestCharts:', error);\n",
              "          }\n",
              "          quickchartButtonEl.classList.remove('colab-df-spinner');\n",
              "          quickchartButtonEl.classList.add('colab-df-quickchart-complete');\n",
              "        }\n",
              "        (() => {\n",
              "          let quickchartButtonEl =\n",
              "            document.querySelector('#df-1803d6b2-4d7a-41c3-b5cf-90771351cdda button');\n",
              "          quickchartButtonEl.style.display =\n",
              "            google.colab.kernel.accessAllowed ? 'block' : 'none';\n",
              "        })();\n",
              "      </script>\n",
              "    </div>\n",
              "\n",
              "    </div>\n",
              "  </div>\n"
            ],
            "application/vnd.google.colaboratory.intrinsic+json": {
              "type": "dataframe",
              "summary": "{\n  \"name\": \"X_train_t\",\n  \"rows\": 15,\n  \"fields\": [\n    {\n      \"column\": \"count\",\n      \"properties\": {\n        \"dtype\": \"number\",\n        \"std\": 0.0,\n        \"min\": 22360.0,\n        \"max\": 22360.0,\n        \"num_unique_values\": 1,\n        \"samples\": [\n          22360.0\n        ],\n        \"semantic_type\": \"\",\n        \"description\": \"\"\n      }\n    },\n    {\n      \"column\": \"mean\",\n      \"properties\": {\n        \"dtype\": \"number\",\n        \"std\": 5937.626013456964,\n        \"min\": 0.13018783542039356,\n        \"max\": 20508.116017656528,\n        \"num_unique_values\": 15,\n        \"samples\": [\n          5286.382361502683\n        ],\n        \"semantic_type\": \"\",\n        \"description\": \"\"\n      }\n    },\n    {\n      \"column\": \"std\",\n      \"properties\": {\n        \"dtype\": \"number\",\n        \"std\": 11359.73110019033,\n        \"min\": 0.6150469204800509,\n        \"max\": 43687.720951119125,\n        \"num_unique_values\": 15,\n        \"samples\": [\n          11951.112586749137\n        ],\n        \"semantic_type\": \"\",\n        \"description\": \"\"\n      }\n    },\n    {\n      \"column\": \"min\",\n      \"properties\": {\n        \"dtype\": \"number\",\n        \"std\": 119.68980302263843,\n        \"min\": 0.0,\n        \"max\": 465.839706,\n        \"num_unique_values\": 6,\n        \"samples\": [\n          8.791364942\n        ],\n        \"semantic_type\": \"\",\n        \"description\": \"\"\n      }\n    },\n    {\n      \"column\": \"25%\",\n      \"properties\": {\n        \"dtype\": \"number\",\n        \"std\": 1209.569049234669,\n        \"min\": 0.0,\n        \"max\": 4300.0,\n        \"num_unique_values\": 12,\n        \"samples\": [\n          4300.0\n        ],\n        \"semantic_type\": \"\",\n        \"description\": \"\"\n      }\n    },\n    {\n      \"column\": \"50%\",\n      \"properties\": {\n        \"dtype\": \"number\",\n        \"std\": 2830.1140919840914,\n        \"min\": 0.0,\n        \"max\": 9609.0,\n        \"num_unique_values\": 13,\n        \"samples\": [\n          9609.0\n        ],\n        \"semantic_type\": \"\",\n        \"description\": \"\"\n      }\n    },\n    {\n      \"column\": \"75%\",\n      \"properties\": {\n        \"dtype\": \"number\",\n        \"std\": 6351.539171611477,\n        \"min\": 0.0,\n        \"max\": 18553.42,\n        \"num_unique_values\": 13,\n        \"samples\": [\n          17097.25\n        ],\n        \"semantic_type\": \"\",\n        \"description\": \"\"\n      }\n    },\n    {\n      \"column\": \"max\",\n      \"properties\": {\n        \"dtype\": \"number\",\n        \"std\": 72489.95897661548,\n        \"min\": 5.0,\n        \"max\": 280120.58019999985,\n        \"num_unique_values\": 15,\n        \"samples\": [\n          72022.00679999992\n        ],\n        \"semantic_type\": \"\",\n        \"description\": \"\"\n      }\n    }\n  ]\n}"
            }
          },
          "metadata": {},
          "execution_count": 58
        }
      ],
      "source": [
        "#plot_boxplot_and_hist(X_train_t2, \"var\")\n",
        "X_train_t.describe().transpose()"
      ]
    },
    {
      "cell_type": "markdown",
      "metadata": {
        "id": "q8JiXFoc59R0"
      },
      "source": [
        "### Ahora hagamos el escalado de variables de las variables numéricas"
      ]
    },
    {
      "cell_type": "code",
      "execution_count": 59,
      "metadata": {
        "id": "zZ6rFyNs59R0"
      },
      "outputs": [],
      "source": [
        "#from sklearn.preprocessing import MinMaxScaler\n",
        "#scaler = MinMaxScaler().set_output(transform=\"pandas\")\n",
        "#scaler.fit(X_train)\n",
        "#X_train_scaled = scaler.transform(X_train)\n",
        "#X_test_scaled = scaler.transform(X_test)"
      ]
    },
    {
      "cell_type": "code",
      "execution_count": 60,
      "metadata": {
        "id": "GMaM0j8DC2kQ"
      },
      "outputs": [],
      "source": [
        "num_cols=['DEUDA', 'PLAZO_CREDITO', 'ATRASO_MAXIMO_ULT_6M','ATRASO_MAXIMO_ULT_12M', 'ATRASO_MAXIMO_ULT_24M','MESES_AHORROS_ULT_6M',\n",
        "          'MEDIANA_AHORROS_ULT_6M', 'DEUDA_TOTAL_SISTEMA','NUMERO_DE_PAGOS_PDH', 'MONTO_TC_SISTEMA', 'INGRESO_CLIENTE', 'EDAD_T','CUOTA',\n",
        "          'LINEA_DE_TC', 'MONTO_TC_MEMBRESIA']"
      ]
    },
    {
      "cell_type": "code",
      "execution_count": 61,
      "metadata": {
        "id": "qTgM71VI59R0"
      },
      "outputs": [],
      "source": [
        "from sklearn.preprocessing import RobustScaler\n",
        "scaler = RobustScaler().set_output(transform=\"pandas\")\n",
        "scaler.fit(X_train_t[num_cols])\n",
        "X_train_t_numoutscal = scaler.transform(X_train_t[num_cols])\n",
        "X_test_t_numoutscal = scaler.transform(X_test_t[num_cols])"
      ]
    },
    {
      "cell_type": "code",
      "execution_count": 62,
      "metadata": {
        "colab": {
          "base_uri": "https://localhost:8080/",
          "height": 519
        },
        "id": "i1u-Si8d59R0",
        "outputId": "e1738107-fb65-4094-cf39-72f6d2ec9bf7"
      },
      "outputs": [
        {
          "output_type": "execute_result",
          "data": {
            "text/plain": [
              "                          count      mean       std       min       25%  \\\n",
              "DEUDA                   22360.0  0.319696  0.905446 -0.601130 -0.344306   \n",
              "PLAZO_CREDITO           22360.0 -0.329496  0.647794 -1.750000 -1.000000   \n",
              "ATRASO_MAXIMO_ULT_6M    22360.0  0.130188  0.615047  0.000000  0.000000   \n",
              "ATRASO_MAXIMO_ULT_12M   22360.0  0.592576  2.510538  0.000000  0.000000   \n",
              "ATRASO_MAXIMO_ULT_24M   22360.0  1.270438  4.230890  0.000000  0.000000   \n",
              "MESES_AHORROS_ULT_6M    22360.0 -0.944097  1.605819 -6.000000 -1.000000   \n",
              "MEDIANA_AHORROS_ULT_6M  22360.0  0.357095  0.932930 -0.559693 -0.340036   \n",
              "DEUDA_TOTAL_SISTEMA     22360.0  0.854122  2.427562 -0.285436 -0.254493   \n",
              "NUMERO_DE_PAGOS_PDH     22360.0 -0.455204  0.554498 -1.411765 -1.000000   \n",
              "MONTO_TC_SISTEMA        22360.0  1.147794  2.853149 -0.114250 -0.114250   \n",
              "INGRESO_CLIENTE         22360.0  0.474257  1.234285 -0.910264 -0.294450   \n",
              "EDAD_T                  22360.0  0.136934  0.746285 -1.153846 -0.461538   \n",
              "CUOTA                   22360.0  0.600409  1.492545 -0.309936 -0.259179   \n",
              "LINEA_DE_TC             22360.0  0.214921  0.885335 -0.750552 -0.414855   \n",
              "MONTO_TC_MEMBRESIA      22360.0  0.228426  0.703714 -0.881818 -0.336364   \n",
              "\n",
              "                                 50%       75%        max  \n",
              "DEUDA                   0.000000e+00  0.655694   3.166974  \n",
              "PLAZO_CREDITO           0.000000e+00  0.000000   0.500000  \n",
              "ATRASO_MAXIMO_ULT_6M    0.000000e+00  0.000000   5.000000  \n",
              "ATRASO_MAXIMO_ULT_12M   0.000000e+00  0.000000  16.000000  \n",
              "ATRASO_MAXIMO_ULT_24M   0.000000e+00  0.000000  25.000000  \n",
              "MESES_AHORROS_ULT_6M    0.000000e+00  0.000000   0.000000  \n",
              "MEDIANA_AHORROS_ULT_6M  5.833685e-17  0.659964   2.527535  \n",
              "DEUDA_TOTAL_SISTEMA     0.000000e+00  0.745507  15.279806  \n",
              "NUMERO_DE_PAGOS_PDH     0.000000e+00  0.000000   0.000000  \n",
              "MONTO_TC_SISTEMA        0.000000e+00  0.885750  17.079923  \n",
              "INGRESO_CLIENTE         0.000000e+00  0.705550   5.639764  \n",
              "EDAD_T                  0.000000e+00  0.538462   2.307692  \n",
              "CUOTA                   1.981379e-17  0.740821   7.978190  \n",
              "LINEA_DE_TC             0.000000e+00  0.585145   4.332837  \n",
              "MONTO_TC_MEMBRESIA      0.000000e+00  0.663636   2.754545  "
            ],
            "text/html": [
              "\n",
              "  <div id=\"df-5e3caff7-cbf5-441c-af4f-39b8247b32b8\" class=\"colab-df-container\">\n",
              "    <div>\n",
              "<style scoped>\n",
              "    .dataframe tbody tr th:only-of-type {\n",
              "        vertical-align: middle;\n",
              "    }\n",
              "\n",
              "    .dataframe tbody tr th {\n",
              "        vertical-align: top;\n",
              "    }\n",
              "\n",
              "    .dataframe thead th {\n",
              "        text-align: right;\n",
              "    }\n",
              "</style>\n",
              "<table border=\"1\" class=\"dataframe\">\n",
              "  <thead>\n",
              "    <tr style=\"text-align: right;\">\n",
              "      <th></th>\n",
              "      <th>count</th>\n",
              "      <th>mean</th>\n",
              "      <th>std</th>\n",
              "      <th>min</th>\n",
              "      <th>25%</th>\n",
              "      <th>50%</th>\n",
              "      <th>75%</th>\n",
              "      <th>max</th>\n",
              "    </tr>\n",
              "  </thead>\n",
              "  <tbody>\n",
              "    <tr>\n",
              "      <th>DEUDA</th>\n",
              "      <td>22360.0</td>\n",
              "      <td>0.319696</td>\n",
              "      <td>0.905446</td>\n",
              "      <td>-0.601130</td>\n",
              "      <td>-0.344306</td>\n",
              "      <td>0.000000e+00</td>\n",
              "      <td>0.655694</td>\n",
              "      <td>3.166974</td>\n",
              "    </tr>\n",
              "    <tr>\n",
              "      <th>PLAZO_CREDITO</th>\n",
              "      <td>22360.0</td>\n",
              "      <td>-0.329496</td>\n",
              "      <td>0.647794</td>\n",
              "      <td>-1.750000</td>\n",
              "      <td>-1.000000</td>\n",
              "      <td>0.000000e+00</td>\n",
              "      <td>0.000000</td>\n",
              "      <td>0.500000</td>\n",
              "    </tr>\n",
              "    <tr>\n",
              "      <th>ATRASO_MAXIMO_ULT_6M</th>\n",
              "      <td>22360.0</td>\n",
              "      <td>0.130188</td>\n",
              "      <td>0.615047</td>\n",
              "      <td>0.000000</td>\n",
              "      <td>0.000000</td>\n",
              "      <td>0.000000e+00</td>\n",
              "      <td>0.000000</td>\n",
              "      <td>5.000000</td>\n",
              "    </tr>\n",
              "    <tr>\n",
              "      <th>ATRASO_MAXIMO_ULT_12M</th>\n",
              "      <td>22360.0</td>\n",
              "      <td>0.592576</td>\n",
              "      <td>2.510538</td>\n",
              "      <td>0.000000</td>\n",
              "      <td>0.000000</td>\n",
              "      <td>0.000000e+00</td>\n",
              "      <td>0.000000</td>\n",
              "      <td>16.000000</td>\n",
              "    </tr>\n",
              "    <tr>\n",
              "      <th>ATRASO_MAXIMO_ULT_24M</th>\n",
              "      <td>22360.0</td>\n",
              "      <td>1.270438</td>\n",
              "      <td>4.230890</td>\n",
              "      <td>0.000000</td>\n",
              "      <td>0.000000</td>\n",
              "      <td>0.000000e+00</td>\n",
              "      <td>0.000000</td>\n",
              "      <td>25.000000</td>\n",
              "    </tr>\n",
              "    <tr>\n",
              "      <th>MESES_AHORROS_ULT_6M</th>\n",
              "      <td>22360.0</td>\n",
              "      <td>-0.944097</td>\n",
              "      <td>1.605819</td>\n",
              "      <td>-6.000000</td>\n",
              "      <td>-1.000000</td>\n",
              "      <td>0.000000e+00</td>\n",
              "      <td>0.000000</td>\n",
              "      <td>0.000000</td>\n",
              "    </tr>\n",
              "    <tr>\n",
              "      <th>MEDIANA_AHORROS_ULT_6M</th>\n",
              "      <td>22360.0</td>\n",
              "      <td>0.357095</td>\n",
              "      <td>0.932930</td>\n",
              "      <td>-0.559693</td>\n",
              "      <td>-0.340036</td>\n",
              "      <td>5.833685e-17</td>\n",
              "      <td>0.659964</td>\n",
              "      <td>2.527535</td>\n",
              "    </tr>\n",
              "    <tr>\n",
              "      <th>DEUDA_TOTAL_SISTEMA</th>\n",
              "      <td>22360.0</td>\n",
              "      <td>0.854122</td>\n",
              "      <td>2.427562</td>\n",
              "      <td>-0.285436</td>\n",
              "      <td>-0.254493</td>\n",
              "      <td>0.000000e+00</td>\n",
              "      <td>0.745507</td>\n",
              "      <td>15.279806</td>\n",
              "    </tr>\n",
              "    <tr>\n",
              "      <th>NUMERO_DE_PAGOS_PDH</th>\n",
              "      <td>22360.0</td>\n",
              "      <td>-0.455204</td>\n",
              "      <td>0.554498</td>\n",
              "      <td>-1.411765</td>\n",
              "      <td>-1.000000</td>\n",
              "      <td>0.000000e+00</td>\n",
              "      <td>0.000000</td>\n",
              "      <td>0.000000</td>\n",
              "    </tr>\n",
              "    <tr>\n",
              "      <th>MONTO_TC_SISTEMA</th>\n",
              "      <td>22360.0</td>\n",
              "      <td>1.147794</td>\n",
              "      <td>2.853149</td>\n",
              "      <td>-0.114250</td>\n",
              "      <td>-0.114250</td>\n",
              "      <td>0.000000e+00</td>\n",
              "      <td>0.885750</td>\n",
              "      <td>17.079923</td>\n",
              "    </tr>\n",
              "    <tr>\n",
              "      <th>INGRESO_CLIENTE</th>\n",
              "      <td>22360.0</td>\n",
              "      <td>0.474257</td>\n",
              "      <td>1.234285</td>\n",
              "      <td>-0.910264</td>\n",
              "      <td>-0.294450</td>\n",
              "      <td>0.000000e+00</td>\n",
              "      <td>0.705550</td>\n",
              "      <td>5.639764</td>\n",
              "    </tr>\n",
              "    <tr>\n",
              "      <th>EDAD_T</th>\n",
              "      <td>22360.0</td>\n",
              "      <td>0.136934</td>\n",
              "      <td>0.746285</td>\n",
              "      <td>-1.153846</td>\n",
              "      <td>-0.461538</td>\n",
              "      <td>0.000000e+00</td>\n",
              "      <td>0.538462</td>\n",
              "      <td>2.307692</td>\n",
              "    </tr>\n",
              "    <tr>\n",
              "      <th>CUOTA</th>\n",
              "      <td>22360.0</td>\n",
              "      <td>0.600409</td>\n",
              "      <td>1.492545</td>\n",
              "      <td>-0.309936</td>\n",
              "      <td>-0.259179</td>\n",
              "      <td>1.981379e-17</td>\n",
              "      <td>0.740821</td>\n",
              "      <td>7.978190</td>\n",
              "    </tr>\n",
              "    <tr>\n",
              "      <th>LINEA_DE_TC</th>\n",
              "      <td>22360.0</td>\n",
              "      <td>0.214921</td>\n",
              "      <td>0.885335</td>\n",
              "      <td>-0.750552</td>\n",
              "      <td>-0.414855</td>\n",
              "      <td>0.000000e+00</td>\n",
              "      <td>0.585145</td>\n",
              "      <td>4.332837</td>\n",
              "    </tr>\n",
              "    <tr>\n",
              "      <th>MONTO_TC_MEMBRESIA</th>\n",
              "      <td>22360.0</td>\n",
              "      <td>0.228426</td>\n",
              "      <td>0.703714</td>\n",
              "      <td>-0.881818</td>\n",
              "      <td>-0.336364</td>\n",
              "      <td>0.000000e+00</td>\n",
              "      <td>0.663636</td>\n",
              "      <td>2.754545</td>\n",
              "    </tr>\n",
              "  </tbody>\n",
              "</table>\n",
              "</div>\n",
              "    <div class=\"colab-df-buttons\">\n",
              "\n",
              "  <div class=\"colab-df-container\">\n",
              "    <button class=\"colab-df-convert\" onclick=\"convertToInteractive('df-5e3caff7-cbf5-441c-af4f-39b8247b32b8')\"\n",
              "            title=\"Convert this dataframe to an interactive table.\"\n",
              "            style=\"display:none;\">\n",
              "\n",
              "  <svg xmlns=\"http://www.w3.org/2000/svg\" height=\"24px\" viewBox=\"0 -960 960 960\">\n",
              "    <path d=\"M120-120v-720h720v720H120Zm60-500h600v-160H180v160Zm220 220h160v-160H400v160Zm0 220h160v-160H400v160ZM180-400h160v-160H180v160Zm440 0h160v-160H620v160ZM180-180h160v-160H180v160Zm440 0h160v-160H620v160Z\"/>\n",
              "  </svg>\n",
              "    </button>\n",
              "\n",
              "  <style>\n",
              "    .colab-df-container {\n",
              "      display:flex;\n",
              "      gap: 12px;\n",
              "    }\n",
              "\n",
              "    .colab-df-convert {\n",
              "      background-color: #E8F0FE;\n",
              "      border: none;\n",
              "      border-radius: 50%;\n",
              "      cursor: pointer;\n",
              "      display: none;\n",
              "      fill: #1967D2;\n",
              "      height: 32px;\n",
              "      padding: 0 0 0 0;\n",
              "      width: 32px;\n",
              "    }\n",
              "\n",
              "    .colab-df-convert:hover {\n",
              "      background-color: #E2EBFA;\n",
              "      box-shadow: 0px 1px 2px rgba(60, 64, 67, 0.3), 0px 1px 3px 1px rgba(60, 64, 67, 0.15);\n",
              "      fill: #174EA6;\n",
              "    }\n",
              "\n",
              "    .colab-df-buttons div {\n",
              "      margin-bottom: 4px;\n",
              "    }\n",
              "\n",
              "    [theme=dark] .colab-df-convert {\n",
              "      background-color: #3B4455;\n",
              "      fill: #D2E3FC;\n",
              "    }\n",
              "\n",
              "    [theme=dark] .colab-df-convert:hover {\n",
              "      background-color: #434B5C;\n",
              "      box-shadow: 0px 1px 3px 1px rgba(0, 0, 0, 0.15);\n",
              "      filter: drop-shadow(0px 1px 2px rgba(0, 0, 0, 0.3));\n",
              "      fill: #FFFFFF;\n",
              "    }\n",
              "  </style>\n",
              "\n",
              "    <script>\n",
              "      const buttonEl =\n",
              "        document.querySelector('#df-5e3caff7-cbf5-441c-af4f-39b8247b32b8 button.colab-df-convert');\n",
              "      buttonEl.style.display =\n",
              "        google.colab.kernel.accessAllowed ? 'block' : 'none';\n",
              "\n",
              "      async function convertToInteractive(key) {\n",
              "        const element = document.querySelector('#df-5e3caff7-cbf5-441c-af4f-39b8247b32b8');\n",
              "        const dataTable =\n",
              "          await google.colab.kernel.invokeFunction('convertToInteractive',\n",
              "                                                    [key], {});\n",
              "        if (!dataTable) return;\n",
              "\n",
              "        const docLinkHtml = 'Like what you see? Visit the ' +\n",
              "          '<a target=\"_blank\" href=https://colab.research.google.com/notebooks/data_table.ipynb>data table notebook</a>'\n",
              "          + ' to learn more about interactive tables.';\n",
              "        element.innerHTML = '';\n",
              "        dataTable['output_type'] = 'display_data';\n",
              "        await google.colab.output.renderOutput(dataTable, element);\n",
              "        const docLink = document.createElement('div');\n",
              "        docLink.innerHTML = docLinkHtml;\n",
              "        element.appendChild(docLink);\n",
              "      }\n",
              "    </script>\n",
              "  </div>\n",
              "\n",
              "\n",
              "    <div id=\"df-1ee8449c-ff06-4bea-9256-5a66d8e72ec2\">\n",
              "      <button class=\"colab-df-quickchart\" onclick=\"quickchart('df-1ee8449c-ff06-4bea-9256-5a66d8e72ec2')\"\n",
              "                title=\"Suggest charts\"\n",
              "                style=\"display:none;\">\n",
              "\n",
              "<svg xmlns=\"http://www.w3.org/2000/svg\" height=\"24px\"viewBox=\"0 0 24 24\"\n",
              "     width=\"24px\">\n",
              "    <g>\n",
              "        <path d=\"M19 3H5c-1.1 0-2 .9-2 2v14c0 1.1.9 2 2 2h14c1.1 0 2-.9 2-2V5c0-1.1-.9-2-2-2zM9 17H7v-7h2v7zm4 0h-2V7h2v10zm4 0h-2v-4h2v4z\"/>\n",
              "    </g>\n",
              "</svg>\n",
              "      </button>\n",
              "\n",
              "<style>\n",
              "  .colab-df-quickchart {\n",
              "      --bg-color: #E8F0FE;\n",
              "      --fill-color: #1967D2;\n",
              "      --hover-bg-color: #E2EBFA;\n",
              "      --hover-fill-color: #174EA6;\n",
              "      --disabled-fill-color: #AAA;\n",
              "      --disabled-bg-color: #DDD;\n",
              "  }\n",
              "\n",
              "  [theme=dark] .colab-df-quickchart {\n",
              "      --bg-color: #3B4455;\n",
              "      --fill-color: #D2E3FC;\n",
              "      --hover-bg-color: #434B5C;\n",
              "      --hover-fill-color: #FFFFFF;\n",
              "      --disabled-bg-color: #3B4455;\n",
              "      --disabled-fill-color: #666;\n",
              "  }\n",
              "\n",
              "  .colab-df-quickchart {\n",
              "    background-color: var(--bg-color);\n",
              "    border: none;\n",
              "    border-radius: 50%;\n",
              "    cursor: pointer;\n",
              "    display: none;\n",
              "    fill: var(--fill-color);\n",
              "    height: 32px;\n",
              "    padding: 0;\n",
              "    width: 32px;\n",
              "  }\n",
              "\n",
              "  .colab-df-quickchart:hover {\n",
              "    background-color: var(--hover-bg-color);\n",
              "    box-shadow: 0 1px 2px rgba(60, 64, 67, 0.3), 0 1px 3px 1px rgba(60, 64, 67, 0.15);\n",
              "    fill: var(--button-hover-fill-color);\n",
              "  }\n",
              "\n",
              "  .colab-df-quickchart-complete:disabled,\n",
              "  .colab-df-quickchart-complete:disabled:hover {\n",
              "    background-color: var(--disabled-bg-color);\n",
              "    fill: var(--disabled-fill-color);\n",
              "    box-shadow: none;\n",
              "  }\n",
              "\n",
              "  .colab-df-spinner {\n",
              "    border: 2px solid var(--fill-color);\n",
              "    border-color: transparent;\n",
              "    border-bottom-color: var(--fill-color);\n",
              "    animation:\n",
              "      spin 1s steps(1) infinite;\n",
              "  }\n",
              "\n",
              "  @keyframes spin {\n",
              "    0% {\n",
              "      border-color: transparent;\n",
              "      border-bottom-color: var(--fill-color);\n",
              "      border-left-color: var(--fill-color);\n",
              "    }\n",
              "    20% {\n",
              "      border-color: transparent;\n",
              "      border-left-color: var(--fill-color);\n",
              "      border-top-color: var(--fill-color);\n",
              "    }\n",
              "    30% {\n",
              "      border-color: transparent;\n",
              "      border-left-color: var(--fill-color);\n",
              "      border-top-color: var(--fill-color);\n",
              "      border-right-color: var(--fill-color);\n",
              "    }\n",
              "    40% {\n",
              "      border-color: transparent;\n",
              "      border-right-color: var(--fill-color);\n",
              "      border-top-color: var(--fill-color);\n",
              "    }\n",
              "    60% {\n",
              "      border-color: transparent;\n",
              "      border-right-color: var(--fill-color);\n",
              "    }\n",
              "    80% {\n",
              "      border-color: transparent;\n",
              "      border-right-color: var(--fill-color);\n",
              "      border-bottom-color: var(--fill-color);\n",
              "    }\n",
              "    90% {\n",
              "      border-color: transparent;\n",
              "      border-bottom-color: var(--fill-color);\n",
              "    }\n",
              "  }\n",
              "</style>\n",
              "\n",
              "      <script>\n",
              "        async function quickchart(key) {\n",
              "          const quickchartButtonEl =\n",
              "            document.querySelector('#' + key + ' button');\n",
              "          quickchartButtonEl.disabled = true;  // To prevent multiple clicks.\n",
              "          quickchartButtonEl.classList.add('colab-df-spinner');\n",
              "          try {\n",
              "            const charts = await google.colab.kernel.invokeFunction(\n",
              "                'suggestCharts', [key], {});\n",
              "          } catch (error) {\n",
              "            console.error('Error during call to suggestCharts:', error);\n",
              "          }\n",
              "          quickchartButtonEl.classList.remove('colab-df-spinner');\n",
              "          quickchartButtonEl.classList.add('colab-df-quickchart-complete');\n",
              "        }\n",
              "        (() => {\n",
              "          let quickchartButtonEl =\n",
              "            document.querySelector('#df-1ee8449c-ff06-4bea-9256-5a66d8e72ec2 button');\n",
              "          quickchartButtonEl.style.display =\n",
              "            google.colab.kernel.accessAllowed ? 'block' : 'none';\n",
              "        })();\n",
              "      </script>\n",
              "    </div>\n",
              "\n",
              "    </div>\n",
              "  </div>\n"
            ],
            "application/vnd.google.colaboratory.intrinsic+json": {
              "type": "dataframe",
              "summary": "{\n  \"name\": \"X_train_t_numoutscal\",\n  \"rows\": 15,\n  \"fields\": [\n    {\n      \"column\": \"count\",\n      \"properties\": {\n        \"dtype\": \"number\",\n        \"std\": 0.0,\n        \"min\": 22360.0,\n        \"max\": 22360.0,\n        \"num_unique_values\": 1,\n        \"samples\": [\n          22360.0\n        ],\n        \"semantic_type\": \"\",\n        \"description\": \"\"\n      }\n    },\n    {\n      \"column\": \"mean\",\n      \"properties\": {\n        \"dtype\": \"number\",\n        \"std\": 0.5830301226970193,\n        \"min\": -0.9440966010733453,\n        \"max\": 1.270438282647585,\n        \"num_unique_values\": 15,\n        \"samples\": [\n          1.1477942346699745\n        ],\n        \"semantic_type\": \"\",\n        \"description\": \"\"\n      }\n    },\n    {\n      \"column\": \"std\",\n      \"properties\": {\n        \"dtype\": \"number\",\n        \"std\": 1.0660007661985709,\n        \"min\": 0.554498092073891,\n        \"max\": 4.230889688365679,\n        \"num_unique_values\": 15,\n        \"samples\": [\n          2.853148756190277\n        ],\n        \"semantic_type\": \"\",\n        \"description\": \"\"\n      }\n    },\n    {\n      \"column\": \"min\",\n      \"properties\": {\n        \"dtype\": \"number\",\n        \"std\": 1.4870720097534313,\n        \"min\": -6.0,\n        \"max\": 0.0,\n        \"num_unique_values\": 13,\n        \"samples\": [\n          -0.7505518763796909\n        ],\n        \"semantic_type\": \"\",\n        \"description\": \"\"\n      }\n    },\n    {\n      \"column\": \"25%\",\n      \"properties\": {\n        \"dtype\": \"number\",\n        \"std\": 0.3491191563162455,\n        \"min\": -1.0,\n        \"max\": 0.0,\n        \"num_unique_values\": 11,\n        \"samples\": [\n          -0.11425021098204832\n        ],\n        \"semantic_type\": \"\",\n        \"description\": \"\"\n      }\n    },\n    {\n      \"column\": \"50%\",\n      \"properties\": {\n        \"dtype\": \"number\",\n        \"std\": 1.5557741859153492e-17,\n        \"min\": 0.0,\n        \"max\": 5.833685314329817e-17,\n        \"num_unique_values\": 3,\n        \"samples\": [\n          0.0\n        ],\n        \"semantic_type\": \"\",\n        \"description\": \"\"\n      }\n    },\n    {\n      \"column\": \"75%\",\n      \"properties\": {\n        \"dtype\": \"number\",\n        \"std\": 0.3564297268644508,\n        \"min\": 0.0,\n        \"max\": 0.8857497890179518,\n        \"num_unique_values\": 10,\n        \"samples\": [\n          0.5851452460489558\n        ],\n        \"semantic_type\": \"\",\n        \"description\": \"\"\n      }\n    },\n    {\n      \"column\": \"max\",\n      \"properties\": {\n        \"dtype\": \"number\",\n        \"std\": 7.576411506167468,\n        \"min\": 0.0,\n        \"max\": 25.0,\n        \"num_unique_values\": 14,\n        \"samples\": [\n          5.639764248259063\n        ],\n        \"semantic_type\": \"\",\n        \"description\": \"\"\n      }\n    }\n  ]\n}"
            }
          },
          "metadata": {},
          "execution_count": 62
        }
      ],
      "source": [
        "X_train_t_numoutscal.describe().T"
      ]
    },
    {
      "cell_type": "code",
      "execution_count": 63,
      "metadata": {
        "id": "dtqIAzPc59R1"
      },
      "outputs": [],
      "source": [
        "from sklearn.compose import ColumnTransformer"
      ]
    },
    {
      "cell_type": "code",
      "execution_count": 64,
      "metadata": {
        "id": "h6BMkmNq59R1"
      },
      "outputs": [],
      "source": [
        "# Actualicemos nuestro pipeline\n",
        "pipe_4 = Pipeline(\n",
        "    [\n",
        "        (\n",
        "            \"median_imputer\",\n",
        "            MeanMedianImputer(imputation_method=\"median\", variables=['LINEA_DE_TC','EDAD_T','INGRESO_CLIENTE'])\n",
        "        ),\n",
        "        (\n",
        "            \"arbitrary_imputer\",\n",
        "            ArbitraryNumberImputer(arbitrary_number=0, variables=['CUOTA', 'DEUDA_TOTAL_SISTEMA', 'MEDIANA_AHORROS_ULT_6M', 'MESES_AHORROS_ULT_6M', 'ATRASO_MAXIMO_ULT_24M','ATRASO_MAXIMO_ULT_12M','MONTO_TC_MEMBRESIA']),\n",
        "        ),\n",
        "        (   \"mode_imputer\",\n",
        "           CategoricalImputer(imputation_method=\"frequent\", variables=['PROFESION','ZONA_DEL_DESEMBOLSO','ESTADO_CIVIL'])\n",
        "        ),\n",
        "        (\n",
        "            \"rare_encoder\",\n",
        "            RareLabelEncoder(tol=0.01,n_categories=5,variables=[\"PROFESION\",\"SEGMENTOCLIENTE\",])\n",
        "        ),\n",
        "        (   \"capper\",\n",
        "            Winsorizer(variables=['DEUDA', 'ATRASO_MAXIMO_ULT_6M','ATRASO_MAXIMO_ULT_12M', 'ATRASO_MAXIMO_ULT_24M',\n",
        "          'MEDIANA_AHORROS_ULT_6M', 'DEUDA_TOTAL_SISTEMA', 'MONTO_TC_SISTEMA', 'INGRESO_CLIENTE','EDAD_T','CUOTA',\n",
        "          'LINEA_DE_TC', 'MONTO_TC_MEMBRESIA'], capping_method=\"quantiles\", tail=\"right\", fold=0.01)\n",
        "        ),\n",
        "        (   \"scaler\",\n",
        "            ColumnTransformer(transformers=[('e', RobustScaler(), ['DEUDA', 'PLAZO_CREDITO', 'ATRASO_MAXIMO_ULT_6M','ATRASO_MAXIMO_ULT_12M', 'ATRASO_MAXIMO_ULT_24M','MESES_AHORROS_ULT_6M',\n",
        "          'MEDIANA_AHORROS_ULT_6M', 'DEUDA_TOTAL_SISTEMA','NUMERO_DE_PAGOS_PDH', 'MONTO_TC_SISTEMA', 'INGRESO_CLIENTE', 'EDAD_T','CUOTA',\n",
        "          'LINEA_DE_TC', 'MONTO_TC_MEMBRESIA'])],remainder='passthrough',verbose_feature_names_out=False).set_output(transform=\"pandas\")\n",
        "\n",
        "        )\n",
        "    ]\n",
        ")"
      ]
    },
    {
      "cell_type": "code",
      "execution_count": 65,
      "metadata": {
        "colab": {
          "base_uri": "https://localhost:8080/",
          "height": 406
        },
        "id": "jcy3BiSm59R1",
        "outputId": "d781b82f-7b34-43ae-ade9-2ff330030aac"
      },
      "outputs": [
        {
          "output_type": "execute_result",
          "data": {
            "text/plain": [
              "Pipeline(steps=[('median_imputer',\n",
              "                 MeanMedianImputer(variables=['LINEA_DE_TC', 'EDAD_T',\n",
              "                                              'INGRESO_CLIENTE'])),\n",
              "                ('arbitrary_imputer',\n",
              "                 ArbitraryNumberImputer(arbitrary_number=0,\n",
              "                                        variables=['CUOTA',\n",
              "                                                   'DEUDA_TOTAL_SISTEMA',\n",
              "                                                   'MEDIANA_AHORROS_ULT_6M',\n",
              "                                                   'MESES_AHORROS_ULT_6M',\n",
              "                                                   'ATRASO_MAXIMO_ULT_24M',\n",
              "                                                   'ATRASO_MAXIMO_ULT_12M',\n",
              "                                                   'MONTO_TC_MEMBRESIA'])),\n",
              "                ('mode_imputer',\n",
              "                 Cat...\n",
              "                 ColumnTransformer(remainder='passthrough',\n",
              "                                   transformers=[('e', RobustScaler(),\n",
              "                                                  ['DEUDA', 'PLAZO_CREDITO',\n",
              "                                                   'ATRASO_MAXIMO_ULT_6M',\n",
              "                                                   'ATRASO_MAXIMO_ULT_12M',\n",
              "                                                   'ATRASO_MAXIMO_ULT_24M',\n",
              "                                                   'MESES_AHORROS_ULT_6M',\n",
              "                                                   'MEDIANA_AHORROS_ULT_6M',\n",
              "                                                   'DEUDA_TOTAL_SISTEMA',\n",
              "                                                   'NUMERO_DE_PAGOS_PDH',\n",
              "                                                   'MONTO_TC_SISTEMA',\n",
              "                                                   'INGRESO_CLIENTE', 'EDAD_T',\n",
              "                                                   'CUOTA', 'LINEA_DE_TC',\n",
              "                                                   'MONTO_TC_MEMBRESIA'])],\n",
              "                                   verbose_feature_names_out=False))])"
            ],
            "text/html": [
              "<style>#sk-container-id-4 {\n",
              "  /* Definition of color scheme common for light and dark mode */\n",
              "  --sklearn-color-text: #000;\n",
              "  --sklearn-color-text-muted: #666;\n",
              "  --sklearn-color-line: gray;\n",
              "  /* Definition of color scheme for unfitted estimators */\n",
              "  --sklearn-color-unfitted-level-0: #fff5e6;\n",
              "  --sklearn-color-unfitted-level-1: #f6e4d2;\n",
              "  --sklearn-color-unfitted-level-2: #ffe0b3;\n",
              "  --sklearn-color-unfitted-level-3: chocolate;\n",
              "  /* Definition of color scheme for fitted estimators */\n",
              "  --sklearn-color-fitted-level-0: #f0f8ff;\n",
              "  --sklearn-color-fitted-level-1: #d4ebff;\n",
              "  --sklearn-color-fitted-level-2: #b3dbfd;\n",
              "  --sklearn-color-fitted-level-3: cornflowerblue;\n",
              "\n",
              "  /* Specific color for light theme */\n",
              "  --sklearn-color-text-on-default-background: var(--sg-text-color, var(--theme-code-foreground, var(--jp-content-font-color1, black)));\n",
              "  --sklearn-color-background: var(--sg-background-color, var(--theme-background, var(--jp-layout-color0, white)));\n",
              "  --sklearn-color-border-box: var(--sg-text-color, var(--theme-code-foreground, var(--jp-content-font-color1, black)));\n",
              "  --sklearn-color-icon: #696969;\n",
              "\n",
              "  @media (prefers-color-scheme: dark) {\n",
              "    /* Redefinition of color scheme for dark theme */\n",
              "    --sklearn-color-text-on-default-background: var(--sg-text-color, var(--theme-code-foreground, var(--jp-content-font-color1, white)));\n",
              "    --sklearn-color-background: var(--sg-background-color, var(--theme-background, var(--jp-layout-color0, #111)));\n",
              "    --sklearn-color-border-box: var(--sg-text-color, var(--theme-code-foreground, var(--jp-content-font-color1, white)));\n",
              "    --sklearn-color-icon: #878787;\n",
              "  }\n",
              "}\n",
              "\n",
              "#sk-container-id-4 {\n",
              "  color: var(--sklearn-color-text);\n",
              "}\n",
              "\n",
              "#sk-container-id-4 pre {\n",
              "  padding: 0;\n",
              "}\n",
              "\n",
              "#sk-container-id-4 input.sk-hidden--visually {\n",
              "  border: 0;\n",
              "  clip: rect(1px 1px 1px 1px);\n",
              "  clip: rect(1px, 1px, 1px, 1px);\n",
              "  height: 1px;\n",
              "  margin: -1px;\n",
              "  overflow: hidden;\n",
              "  padding: 0;\n",
              "  position: absolute;\n",
              "  width: 1px;\n",
              "}\n",
              "\n",
              "#sk-container-id-4 div.sk-dashed-wrapped {\n",
              "  border: 1px dashed var(--sklearn-color-line);\n",
              "  margin: 0 0.4em 0.5em 0.4em;\n",
              "  box-sizing: border-box;\n",
              "  padding-bottom: 0.4em;\n",
              "  background-color: var(--sklearn-color-background);\n",
              "}\n",
              "\n",
              "#sk-container-id-4 div.sk-container {\n",
              "  /* jupyter's `normalize.less` sets `[hidden] { display: none; }`\n",
              "     but bootstrap.min.css set `[hidden] { display: none !important; }`\n",
              "     so we also need the `!important` here to be able to override the\n",
              "     default hidden behavior on the sphinx rendered scikit-learn.org.\n",
              "     See: https://github.com/scikit-learn/scikit-learn/issues/21755 */\n",
              "  display: inline-block !important;\n",
              "  position: relative;\n",
              "}\n",
              "\n",
              "#sk-container-id-4 div.sk-text-repr-fallback {\n",
              "  display: none;\n",
              "}\n",
              "\n",
              "div.sk-parallel-item,\n",
              "div.sk-serial,\n",
              "div.sk-item {\n",
              "  /* draw centered vertical line to link estimators */\n",
              "  background-image: linear-gradient(var(--sklearn-color-text-on-default-background), var(--sklearn-color-text-on-default-background));\n",
              "  background-size: 2px 100%;\n",
              "  background-repeat: no-repeat;\n",
              "  background-position: center center;\n",
              "}\n",
              "\n",
              "/* Parallel-specific style estimator block */\n",
              "\n",
              "#sk-container-id-4 div.sk-parallel-item::after {\n",
              "  content: \"\";\n",
              "  width: 100%;\n",
              "  border-bottom: 2px solid var(--sklearn-color-text-on-default-background);\n",
              "  flex-grow: 1;\n",
              "}\n",
              "\n",
              "#sk-container-id-4 div.sk-parallel {\n",
              "  display: flex;\n",
              "  align-items: stretch;\n",
              "  justify-content: center;\n",
              "  background-color: var(--sklearn-color-background);\n",
              "  position: relative;\n",
              "}\n",
              "\n",
              "#sk-container-id-4 div.sk-parallel-item {\n",
              "  display: flex;\n",
              "  flex-direction: column;\n",
              "}\n",
              "\n",
              "#sk-container-id-4 div.sk-parallel-item:first-child::after {\n",
              "  align-self: flex-end;\n",
              "  width: 50%;\n",
              "}\n",
              "\n",
              "#sk-container-id-4 div.sk-parallel-item:last-child::after {\n",
              "  align-self: flex-start;\n",
              "  width: 50%;\n",
              "}\n",
              "\n",
              "#sk-container-id-4 div.sk-parallel-item:only-child::after {\n",
              "  width: 0;\n",
              "}\n",
              "\n",
              "/* Serial-specific style estimator block */\n",
              "\n",
              "#sk-container-id-4 div.sk-serial {\n",
              "  display: flex;\n",
              "  flex-direction: column;\n",
              "  align-items: center;\n",
              "  background-color: var(--sklearn-color-background);\n",
              "  padding-right: 1em;\n",
              "  padding-left: 1em;\n",
              "}\n",
              "\n",
              "\n",
              "/* Toggleable style: style used for estimator/Pipeline/ColumnTransformer box that is\n",
              "clickable and can be expanded/collapsed.\n",
              "- Pipeline and ColumnTransformer use this feature and define the default style\n",
              "- Estimators will overwrite some part of the style using the `sk-estimator` class\n",
              "*/\n",
              "\n",
              "/* Pipeline and ColumnTransformer style (default) */\n",
              "\n",
              "#sk-container-id-4 div.sk-toggleable {\n",
              "  /* Default theme specific background. It is overwritten whether we have a\n",
              "  specific estimator or a Pipeline/ColumnTransformer */\n",
              "  background-color: var(--sklearn-color-background);\n",
              "}\n",
              "\n",
              "/* Toggleable label */\n",
              "#sk-container-id-4 label.sk-toggleable__label {\n",
              "  cursor: pointer;\n",
              "  display: flex;\n",
              "  width: 100%;\n",
              "  margin-bottom: 0;\n",
              "  padding: 0.5em;\n",
              "  box-sizing: border-box;\n",
              "  text-align: center;\n",
              "  align-items: start;\n",
              "  justify-content: space-between;\n",
              "  gap: 0.5em;\n",
              "}\n",
              "\n",
              "#sk-container-id-4 label.sk-toggleable__label .caption {\n",
              "  font-size: 0.6rem;\n",
              "  font-weight: lighter;\n",
              "  color: var(--sklearn-color-text-muted);\n",
              "}\n",
              "\n",
              "#sk-container-id-4 label.sk-toggleable__label-arrow:before {\n",
              "  /* Arrow on the left of the label */\n",
              "  content: \"▸\";\n",
              "  float: left;\n",
              "  margin-right: 0.25em;\n",
              "  color: var(--sklearn-color-icon);\n",
              "}\n",
              "\n",
              "#sk-container-id-4 label.sk-toggleable__label-arrow:hover:before {\n",
              "  color: var(--sklearn-color-text);\n",
              "}\n",
              "\n",
              "/* Toggleable content - dropdown */\n",
              "\n",
              "#sk-container-id-4 div.sk-toggleable__content {\n",
              "  max-height: 0;\n",
              "  max-width: 0;\n",
              "  overflow: hidden;\n",
              "  text-align: left;\n",
              "  /* unfitted */\n",
              "  background-color: var(--sklearn-color-unfitted-level-0);\n",
              "}\n",
              "\n",
              "#sk-container-id-4 div.sk-toggleable__content.fitted {\n",
              "  /* fitted */\n",
              "  background-color: var(--sklearn-color-fitted-level-0);\n",
              "}\n",
              "\n",
              "#sk-container-id-4 div.sk-toggleable__content pre {\n",
              "  margin: 0.2em;\n",
              "  border-radius: 0.25em;\n",
              "  color: var(--sklearn-color-text);\n",
              "  /* unfitted */\n",
              "  background-color: var(--sklearn-color-unfitted-level-0);\n",
              "}\n",
              "\n",
              "#sk-container-id-4 div.sk-toggleable__content.fitted pre {\n",
              "  /* unfitted */\n",
              "  background-color: var(--sklearn-color-fitted-level-0);\n",
              "}\n",
              "\n",
              "#sk-container-id-4 input.sk-toggleable__control:checked~div.sk-toggleable__content {\n",
              "  /* Expand drop-down */\n",
              "  max-height: 200px;\n",
              "  max-width: 100%;\n",
              "  overflow: auto;\n",
              "}\n",
              "\n",
              "#sk-container-id-4 input.sk-toggleable__control:checked~label.sk-toggleable__label-arrow:before {\n",
              "  content: \"▾\";\n",
              "}\n",
              "\n",
              "/* Pipeline/ColumnTransformer-specific style */\n",
              "\n",
              "#sk-container-id-4 div.sk-label input.sk-toggleable__control:checked~label.sk-toggleable__label {\n",
              "  color: var(--sklearn-color-text);\n",
              "  background-color: var(--sklearn-color-unfitted-level-2);\n",
              "}\n",
              "\n",
              "#sk-container-id-4 div.sk-label.fitted input.sk-toggleable__control:checked~label.sk-toggleable__label {\n",
              "  background-color: var(--sklearn-color-fitted-level-2);\n",
              "}\n",
              "\n",
              "/* Estimator-specific style */\n",
              "\n",
              "/* Colorize estimator box */\n",
              "#sk-container-id-4 div.sk-estimator input.sk-toggleable__control:checked~label.sk-toggleable__label {\n",
              "  /* unfitted */\n",
              "  background-color: var(--sklearn-color-unfitted-level-2);\n",
              "}\n",
              "\n",
              "#sk-container-id-4 div.sk-estimator.fitted input.sk-toggleable__control:checked~label.sk-toggleable__label {\n",
              "  /* fitted */\n",
              "  background-color: var(--sklearn-color-fitted-level-2);\n",
              "}\n",
              "\n",
              "#sk-container-id-4 div.sk-label label.sk-toggleable__label,\n",
              "#sk-container-id-4 div.sk-label label {\n",
              "  /* The background is the default theme color */\n",
              "  color: var(--sklearn-color-text-on-default-background);\n",
              "}\n",
              "\n",
              "/* On hover, darken the color of the background */\n",
              "#sk-container-id-4 div.sk-label:hover label.sk-toggleable__label {\n",
              "  color: var(--sklearn-color-text);\n",
              "  background-color: var(--sklearn-color-unfitted-level-2);\n",
              "}\n",
              "\n",
              "/* Label box, darken color on hover, fitted */\n",
              "#sk-container-id-4 div.sk-label.fitted:hover label.sk-toggleable__label.fitted {\n",
              "  color: var(--sklearn-color-text);\n",
              "  background-color: var(--sklearn-color-fitted-level-2);\n",
              "}\n",
              "\n",
              "/* Estimator label */\n",
              "\n",
              "#sk-container-id-4 div.sk-label label {\n",
              "  font-family: monospace;\n",
              "  font-weight: bold;\n",
              "  display: inline-block;\n",
              "  line-height: 1.2em;\n",
              "}\n",
              "\n",
              "#sk-container-id-4 div.sk-label-container {\n",
              "  text-align: center;\n",
              "}\n",
              "\n",
              "/* Estimator-specific */\n",
              "#sk-container-id-4 div.sk-estimator {\n",
              "  font-family: monospace;\n",
              "  border: 1px dotted var(--sklearn-color-border-box);\n",
              "  border-radius: 0.25em;\n",
              "  box-sizing: border-box;\n",
              "  margin-bottom: 0.5em;\n",
              "  /* unfitted */\n",
              "  background-color: var(--sklearn-color-unfitted-level-0);\n",
              "}\n",
              "\n",
              "#sk-container-id-4 div.sk-estimator.fitted {\n",
              "  /* fitted */\n",
              "  background-color: var(--sklearn-color-fitted-level-0);\n",
              "}\n",
              "\n",
              "/* on hover */\n",
              "#sk-container-id-4 div.sk-estimator:hover {\n",
              "  /* unfitted */\n",
              "  background-color: var(--sklearn-color-unfitted-level-2);\n",
              "}\n",
              "\n",
              "#sk-container-id-4 div.sk-estimator.fitted:hover {\n",
              "  /* fitted */\n",
              "  background-color: var(--sklearn-color-fitted-level-2);\n",
              "}\n",
              "\n",
              "/* Specification for estimator info (e.g. \"i\" and \"?\") */\n",
              "\n",
              "/* Common style for \"i\" and \"?\" */\n",
              "\n",
              ".sk-estimator-doc-link,\n",
              "a:link.sk-estimator-doc-link,\n",
              "a:visited.sk-estimator-doc-link {\n",
              "  float: right;\n",
              "  font-size: smaller;\n",
              "  line-height: 1em;\n",
              "  font-family: monospace;\n",
              "  background-color: var(--sklearn-color-background);\n",
              "  border-radius: 1em;\n",
              "  height: 1em;\n",
              "  width: 1em;\n",
              "  text-decoration: none !important;\n",
              "  margin-left: 0.5em;\n",
              "  text-align: center;\n",
              "  /* unfitted */\n",
              "  border: var(--sklearn-color-unfitted-level-1) 1pt solid;\n",
              "  color: var(--sklearn-color-unfitted-level-1);\n",
              "}\n",
              "\n",
              ".sk-estimator-doc-link.fitted,\n",
              "a:link.sk-estimator-doc-link.fitted,\n",
              "a:visited.sk-estimator-doc-link.fitted {\n",
              "  /* fitted */\n",
              "  border: var(--sklearn-color-fitted-level-1) 1pt solid;\n",
              "  color: var(--sklearn-color-fitted-level-1);\n",
              "}\n",
              "\n",
              "/* On hover */\n",
              "div.sk-estimator:hover .sk-estimator-doc-link:hover,\n",
              ".sk-estimator-doc-link:hover,\n",
              "div.sk-label-container:hover .sk-estimator-doc-link:hover,\n",
              ".sk-estimator-doc-link:hover {\n",
              "  /* unfitted */\n",
              "  background-color: var(--sklearn-color-unfitted-level-3);\n",
              "  color: var(--sklearn-color-background);\n",
              "  text-decoration: none;\n",
              "}\n",
              "\n",
              "div.sk-estimator.fitted:hover .sk-estimator-doc-link.fitted:hover,\n",
              ".sk-estimator-doc-link.fitted:hover,\n",
              "div.sk-label-container:hover .sk-estimator-doc-link.fitted:hover,\n",
              ".sk-estimator-doc-link.fitted:hover {\n",
              "  /* fitted */\n",
              "  background-color: var(--sklearn-color-fitted-level-3);\n",
              "  color: var(--sklearn-color-background);\n",
              "  text-decoration: none;\n",
              "}\n",
              "\n",
              "/* Span, style for the box shown on hovering the info icon */\n",
              ".sk-estimator-doc-link span {\n",
              "  display: none;\n",
              "  z-index: 9999;\n",
              "  position: relative;\n",
              "  font-weight: normal;\n",
              "  right: .2ex;\n",
              "  padding: .5ex;\n",
              "  margin: .5ex;\n",
              "  width: min-content;\n",
              "  min-width: 20ex;\n",
              "  max-width: 50ex;\n",
              "  color: var(--sklearn-color-text);\n",
              "  box-shadow: 2pt 2pt 4pt #999;\n",
              "  /* unfitted */\n",
              "  background: var(--sklearn-color-unfitted-level-0);\n",
              "  border: .5pt solid var(--sklearn-color-unfitted-level-3);\n",
              "}\n",
              "\n",
              ".sk-estimator-doc-link.fitted span {\n",
              "  /* fitted */\n",
              "  background: var(--sklearn-color-fitted-level-0);\n",
              "  border: var(--sklearn-color-fitted-level-3);\n",
              "}\n",
              "\n",
              ".sk-estimator-doc-link:hover span {\n",
              "  display: block;\n",
              "}\n",
              "\n",
              "/* \"?\"-specific style due to the `<a>` HTML tag */\n",
              "\n",
              "#sk-container-id-4 a.estimator_doc_link {\n",
              "  float: right;\n",
              "  font-size: 1rem;\n",
              "  line-height: 1em;\n",
              "  font-family: monospace;\n",
              "  background-color: var(--sklearn-color-background);\n",
              "  border-radius: 1rem;\n",
              "  height: 1rem;\n",
              "  width: 1rem;\n",
              "  text-decoration: none;\n",
              "  /* unfitted */\n",
              "  color: var(--sklearn-color-unfitted-level-1);\n",
              "  border: var(--sklearn-color-unfitted-level-1) 1pt solid;\n",
              "}\n",
              "\n",
              "#sk-container-id-4 a.estimator_doc_link.fitted {\n",
              "  /* fitted */\n",
              "  border: var(--sklearn-color-fitted-level-1) 1pt solid;\n",
              "  color: var(--sklearn-color-fitted-level-1);\n",
              "}\n",
              "\n",
              "/* On hover */\n",
              "#sk-container-id-4 a.estimator_doc_link:hover {\n",
              "  /* unfitted */\n",
              "  background-color: var(--sklearn-color-unfitted-level-3);\n",
              "  color: var(--sklearn-color-background);\n",
              "  text-decoration: none;\n",
              "}\n",
              "\n",
              "#sk-container-id-4 a.estimator_doc_link.fitted:hover {\n",
              "  /* fitted */\n",
              "  background-color: var(--sklearn-color-fitted-level-3);\n",
              "}\n",
              "</style><div id=\"sk-container-id-4\" class=\"sk-top-container\"><div class=\"sk-text-repr-fallback\"><pre>Pipeline(steps=[(&#x27;median_imputer&#x27;,\n",
              "                 MeanMedianImputer(variables=[&#x27;LINEA_DE_TC&#x27;, &#x27;EDAD_T&#x27;,\n",
              "                                              &#x27;INGRESO_CLIENTE&#x27;])),\n",
              "                (&#x27;arbitrary_imputer&#x27;,\n",
              "                 ArbitraryNumberImputer(arbitrary_number=0,\n",
              "                                        variables=[&#x27;CUOTA&#x27;,\n",
              "                                                   &#x27;DEUDA_TOTAL_SISTEMA&#x27;,\n",
              "                                                   &#x27;MEDIANA_AHORROS_ULT_6M&#x27;,\n",
              "                                                   &#x27;MESES_AHORROS_ULT_6M&#x27;,\n",
              "                                                   &#x27;ATRASO_MAXIMO_ULT_24M&#x27;,\n",
              "                                                   &#x27;ATRASO_MAXIMO_ULT_12M&#x27;,\n",
              "                                                   &#x27;MONTO_TC_MEMBRESIA&#x27;])),\n",
              "                (&#x27;mode_imputer&#x27;,\n",
              "                 Cat...\n",
              "                 ColumnTransformer(remainder=&#x27;passthrough&#x27;,\n",
              "                                   transformers=[(&#x27;e&#x27;, RobustScaler(),\n",
              "                                                  [&#x27;DEUDA&#x27;, &#x27;PLAZO_CREDITO&#x27;,\n",
              "                                                   &#x27;ATRASO_MAXIMO_ULT_6M&#x27;,\n",
              "                                                   &#x27;ATRASO_MAXIMO_ULT_12M&#x27;,\n",
              "                                                   &#x27;ATRASO_MAXIMO_ULT_24M&#x27;,\n",
              "                                                   &#x27;MESES_AHORROS_ULT_6M&#x27;,\n",
              "                                                   &#x27;MEDIANA_AHORROS_ULT_6M&#x27;,\n",
              "                                                   &#x27;DEUDA_TOTAL_SISTEMA&#x27;,\n",
              "                                                   &#x27;NUMERO_DE_PAGOS_PDH&#x27;,\n",
              "                                                   &#x27;MONTO_TC_SISTEMA&#x27;,\n",
              "                                                   &#x27;INGRESO_CLIENTE&#x27;, &#x27;EDAD_T&#x27;,\n",
              "                                                   &#x27;CUOTA&#x27;, &#x27;LINEA_DE_TC&#x27;,\n",
              "                                                   &#x27;MONTO_TC_MEMBRESIA&#x27;])],\n",
              "                                   verbose_feature_names_out=False))])</pre><b>In a Jupyter environment, please rerun this cell to show the HTML representation or trust the notebook. <br />On GitHub, the HTML representation is unable to render, please try loading this page with nbviewer.org.</b></div><div class=\"sk-container\" hidden><div class=\"sk-item sk-dashed-wrapped\"><div class=\"sk-label-container\"><div class=\"sk-label fitted sk-toggleable\"><input class=\"sk-toggleable__control sk-hidden--visually\" id=\"sk-estimator-id-11\" type=\"checkbox\" ><label for=\"sk-estimator-id-11\" class=\"sk-toggleable__label fitted sk-toggleable__label-arrow\"><div><div>Pipeline</div></div><div><a class=\"sk-estimator-doc-link fitted\" rel=\"noreferrer\" target=\"_blank\" href=\"https://scikit-learn.org/1.6/modules/generated/sklearn.pipeline.Pipeline.html\">?<span>Documentation for Pipeline</span></a><span class=\"sk-estimator-doc-link fitted\">i<span>Fitted</span></span></div></label><div class=\"sk-toggleable__content fitted\"><pre>Pipeline(steps=[(&#x27;median_imputer&#x27;,\n",
              "                 MeanMedianImputer(variables=[&#x27;LINEA_DE_TC&#x27;, &#x27;EDAD_T&#x27;,\n",
              "                                              &#x27;INGRESO_CLIENTE&#x27;])),\n",
              "                (&#x27;arbitrary_imputer&#x27;,\n",
              "                 ArbitraryNumberImputer(arbitrary_number=0,\n",
              "                                        variables=[&#x27;CUOTA&#x27;,\n",
              "                                                   &#x27;DEUDA_TOTAL_SISTEMA&#x27;,\n",
              "                                                   &#x27;MEDIANA_AHORROS_ULT_6M&#x27;,\n",
              "                                                   &#x27;MESES_AHORROS_ULT_6M&#x27;,\n",
              "                                                   &#x27;ATRASO_MAXIMO_ULT_24M&#x27;,\n",
              "                                                   &#x27;ATRASO_MAXIMO_ULT_12M&#x27;,\n",
              "                                                   &#x27;MONTO_TC_MEMBRESIA&#x27;])),\n",
              "                (&#x27;mode_imputer&#x27;,\n",
              "                 Cat...\n",
              "                 ColumnTransformer(remainder=&#x27;passthrough&#x27;,\n",
              "                                   transformers=[(&#x27;e&#x27;, RobustScaler(),\n",
              "                                                  [&#x27;DEUDA&#x27;, &#x27;PLAZO_CREDITO&#x27;,\n",
              "                                                   &#x27;ATRASO_MAXIMO_ULT_6M&#x27;,\n",
              "                                                   &#x27;ATRASO_MAXIMO_ULT_12M&#x27;,\n",
              "                                                   &#x27;ATRASO_MAXIMO_ULT_24M&#x27;,\n",
              "                                                   &#x27;MESES_AHORROS_ULT_6M&#x27;,\n",
              "                                                   &#x27;MEDIANA_AHORROS_ULT_6M&#x27;,\n",
              "                                                   &#x27;DEUDA_TOTAL_SISTEMA&#x27;,\n",
              "                                                   &#x27;NUMERO_DE_PAGOS_PDH&#x27;,\n",
              "                                                   &#x27;MONTO_TC_SISTEMA&#x27;,\n",
              "                                                   &#x27;INGRESO_CLIENTE&#x27;, &#x27;EDAD_T&#x27;,\n",
              "                                                   &#x27;CUOTA&#x27;, &#x27;LINEA_DE_TC&#x27;,\n",
              "                                                   &#x27;MONTO_TC_MEMBRESIA&#x27;])],\n",
              "                                   verbose_feature_names_out=False))])</pre></div> </div></div><div class=\"sk-serial\"><div class=\"sk-item\"><div class=\"sk-estimator fitted sk-toggleable\"><input class=\"sk-toggleable__control sk-hidden--visually\" id=\"sk-estimator-id-12\" type=\"checkbox\" ><label for=\"sk-estimator-id-12\" class=\"sk-toggleable__label fitted sk-toggleable__label-arrow\"><div><div>MeanMedianImputer</div></div></label><div class=\"sk-toggleable__content fitted\"><pre>MeanMedianImputer(variables=[&#x27;LINEA_DE_TC&#x27;, &#x27;EDAD_T&#x27;, &#x27;INGRESO_CLIENTE&#x27;])</pre></div> </div></div><div class=\"sk-item\"><div class=\"sk-estimator fitted sk-toggleable\"><input class=\"sk-toggleable__control sk-hidden--visually\" id=\"sk-estimator-id-13\" type=\"checkbox\" ><label for=\"sk-estimator-id-13\" class=\"sk-toggleable__label fitted sk-toggleable__label-arrow\"><div><div>ArbitraryNumberImputer</div></div></label><div class=\"sk-toggleable__content fitted\"><pre>ArbitraryNumberImputer(arbitrary_number=0,\n",
              "                       variables=[&#x27;CUOTA&#x27;, &#x27;DEUDA_TOTAL_SISTEMA&#x27;,\n",
              "                                  &#x27;MEDIANA_AHORROS_ULT_6M&#x27;,\n",
              "                                  &#x27;MESES_AHORROS_ULT_6M&#x27;,\n",
              "                                  &#x27;ATRASO_MAXIMO_ULT_24M&#x27;,\n",
              "                                  &#x27;ATRASO_MAXIMO_ULT_12M&#x27;,\n",
              "                                  &#x27;MONTO_TC_MEMBRESIA&#x27;])</pre></div> </div></div><div class=\"sk-item\"><div class=\"sk-estimator fitted sk-toggleable\"><input class=\"sk-toggleable__control sk-hidden--visually\" id=\"sk-estimator-id-14\" type=\"checkbox\" ><label for=\"sk-estimator-id-14\" class=\"sk-toggleable__label fitted sk-toggleable__label-arrow\"><div><div>CategoricalImputer</div></div></label><div class=\"sk-toggleable__content fitted\"><pre>CategoricalImputer(imputation_method=&#x27;frequent&#x27;,\n",
              "                   variables=[&#x27;PROFESION&#x27;, &#x27;ZONA_DEL_DESEMBOLSO&#x27;,\n",
              "                              &#x27;ESTADO_CIVIL&#x27;])</pre></div> </div></div><div class=\"sk-item\"><div class=\"sk-estimator fitted sk-toggleable\"><input class=\"sk-toggleable__control sk-hidden--visually\" id=\"sk-estimator-id-15\" type=\"checkbox\" ><label for=\"sk-estimator-id-15\" class=\"sk-toggleable__label fitted sk-toggleable__label-arrow\"><div><div>RareLabelEncoder</div></div></label><div class=\"sk-toggleable__content fitted\"><pre>RareLabelEncoder(n_categories=5, tol=0.01,\n",
              "                 variables=[&#x27;PROFESION&#x27;, &#x27;SEGMENTOCLIENTE&#x27;])</pre></div> </div></div><div class=\"sk-item\"><div class=\"sk-estimator fitted sk-toggleable\"><input class=\"sk-toggleable__control sk-hidden--visually\" id=\"sk-estimator-id-16\" type=\"checkbox\" ><label for=\"sk-estimator-id-16\" class=\"sk-toggleable__label fitted sk-toggleable__label-arrow\"><div><div>Winsorizer</div></div></label><div class=\"sk-toggleable__content fitted\"><pre>Winsorizer(capping_method=&#x27;quantiles&#x27;, fold=0.01,\n",
              "           variables=[&#x27;DEUDA&#x27;, &#x27;ATRASO_MAXIMO_ULT_6M&#x27;, &#x27;ATRASO_MAXIMO_ULT_12M&#x27;,\n",
              "                      &#x27;ATRASO_MAXIMO_ULT_24M&#x27;, &#x27;MEDIANA_AHORROS_ULT_6M&#x27;,\n",
              "                      &#x27;DEUDA_TOTAL_SISTEMA&#x27;, &#x27;MONTO_TC_SISTEMA&#x27;,\n",
              "                      &#x27;INGRESO_CLIENTE&#x27;, &#x27;EDAD_T&#x27;, &#x27;CUOTA&#x27;, &#x27;LINEA_DE_TC&#x27;,\n",
              "                      &#x27;MONTO_TC_MEMBRESIA&#x27;])</pre></div> </div></div><div class=\"sk-item sk-dashed-wrapped\"><div class=\"sk-label-container\"><div class=\"sk-label fitted sk-toggleable\"><input class=\"sk-toggleable__control sk-hidden--visually\" id=\"sk-estimator-id-17\" type=\"checkbox\" ><label for=\"sk-estimator-id-17\" class=\"sk-toggleable__label fitted sk-toggleable__label-arrow\"><div><div>scaler: ColumnTransformer</div></div><div><a class=\"sk-estimator-doc-link fitted\" rel=\"noreferrer\" target=\"_blank\" href=\"https://scikit-learn.org/1.6/modules/generated/sklearn.compose.ColumnTransformer.html\">?<span>Documentation for scaler: ColumnTransformer</span></a></div></label><div class=\"sk-toggleable__content fitted\"><pre>ColumnTransformer(remainder=&#x27;passthrough&#x27;,\n",
              "                  transformers=[(&#x27;e&#x27;, RobustScaler(),\n",
              "                                 [&#x27;DEUDA&#x27;, &#x27;PLAZO_CREDITO&#x27;,\n",
              "                                  &#x27;ATRASO_MAXIMO_ULT_6M&#x27;,\n",
              "                                  &#x27;ATRASO_MAXIMO_ULT_12M&#x27;,\n",
              "                                  &#x27;ATRASO_MAXIMO_ULT_24M&#x27;,\n",
              "                                  &#x27;MESES_AHORROS_ULT_6M&#x27;,\n",
              "                                  &#x27;MEDIANA_AHORROS_ULT_6M&#x27;,\n",
              "                                  &#x27;DEUDA_TOTAL_SISTEMA&#x27;, &#x27;NUMERO_DE_PAGOS_PDH&#x27;,\n",
              "                                  &#x27;MONTO_TC_SISTEMA&#x27;, &#x27;INGRESO_CLIENTE&#x27;,\n",
              "                                  &#x27;EDAD_T&#x27;, &#x27;CUOTA&#x27;, &#x27;LINEA_DE_TC&#x27;,\n",
              "                                  &#x27;MONTO_TC_MEMBRESIA&#x27;])],\n",
              "                  verbose_feature_names_out=False)</pre></div> </div></div><div class=\"sk-parallel\"><div class=\"sk-parallel-item\"><div class=\"sk-item\"><div class=\"sk-label-container\"><div class=\"sk-label fitted sk-toggleable\"><input class=\"sk-toggleable__control sk-hidden--visually\" id=\"sk-estimator-id-18\" type=\"checkbox\" ><label for=\"sk-estimator-id-18\" class=\"sk-toggleable__label fitted sk-toggleable__label-arrow\"><div><div>e</div></div></label><div class=\"sk-toggleable__content fitted\"><pre>[&#x27;DEUDA&#x27;, &#x27;PLAZO_CREDITO&#x27;, &#x27;ATRASO_MAXIMO_ULT_6M&#x27;, &#x27;ATRASO_MAXIMO_ULT_12M&#x27;, &#x27;ATRASO_MAXIMO_ULT_24M&#x27;, &#x27;MESES_AHORROS_ULT_6M&#x27;, &#x27;MEDIANA_AHORROS_ULT_6M&#x27;, &#x27;DEUDA_TOTAL_SISTEMA&#x27;, &#x27;NUMERO_DE_PAGOS_PDH&#x27;, &#x27;MONTO_TC_SISTEMA&#x27;, &#x27;INGRESO_CLIENTE&#x27;, &#x27;EDAD_T&#x27;, &#x27;CUOTA&#x27;, &#x27;LINEA_DE_TC&#x27;, &#x27;MONTO_TC_MEMBRESIA&#x27;]</pre></div> </div></div><div class=\"sk-serial\"><div class=\"sk-item\"><div class=\"sk-estimator fitted sk-toggleable\"><input class=\"sk-toggleable__control sk-hidden--visually\" id=\"sk-estimator-id-19\" type=\"checkbox\" ><label for=\"sk-estimator-id-19\" class=\"sk-toggleable__label fitted sk-toggleable__label-arrow\"><div><div>RobustScaler</div></div><div><a class=\"sk-estimator-doc-link fitted\" rel=\"noreferrer\" target=\"_blank\" href=\"https://scikit-learn.org/1.6/modules/generated/sklearn.preprocessing.RobustScaler.html\">?<span>Documentation for RobustScaler</span></a></div></label><div class=\"sk-toggleable__content fitted\"><pre>RobustScaler()</pre></div> </div></div></div></div></div><div class=\"sk-parallel-item\"><div class=\"sk-item\"><div class=\"sk-label-container\"><div class=\"sk-label fitted sk-toggleable\"><input class=\"sk-toggleable__control sk-hidden--visually\" id=\"sk-estimator-id-20\" type=\"checkbox\" ><label for=\"sk-estimator-id-20\" class=\"sk-toggleable__label fitted sk-toggleable__label-arrow\"><div><div>remainder</div></div></label><div class=\"sk-toggleable__content fitted\"><pre>[&#x27;CODMES&#x27;, &#x27;CODSOLICITUD&#x27;, &#x27;FLG_GARANTIA&#x27;, &#x27;MIN_MES_DE_DEFAULT&#x27;, &#x27;SEGMENTOCLIENTE&#x27;, &#x27;TARJETA_RELACIONADA&#x27;, &#x27;VEHICULAR_RELACIONADA&#x27;, &#x27;HIPOTECARIO_RELACIONADA&#x27;, &#x27;CLASIF_SISTEMA_ULT_12M&#x27;, &#x27;FLG_PDH&#x27;, &#x27;PROFESION&#x27;, &#x27;ZONA_DEL_DESEMBOLSO&#x27;, &#x27;ESTADO_CIVIL&#x27;, &#x27;FLG_TC_VISA&#x27;, &#x27;FLG_TC_MC&#x27;]</pre></div> </div></div><div class=\"sk-serial\"><div class=\"sk-item\"><div class=\"sk-estimator fitted sk-toggleable\"><input class=\"sk-toggleable__control sk-hidden--visually\" id=\"sk-estimator-id-21\" type=\"checkbox\" ><label for=\"sk-estimator-id-21\" class=\"sk-toggleable__label fitted sk-toggleable__label-arrow\"><div><div>passthrough</div></div></label><div class=\"sk-toggleable__content fitted\"><pre>passthrough</pre></div> </div></div></div></div></div></div></div></div></div></div></div>"
            ]
          },
          "metadata": {},
          "execution_count": 65
        }
      ],
      "source": [
        "pipe_4.fit(X_train)"
      ]
    },
    {
      "cell_type": "code",
      "execution_count": 66,
      "metadata": {
        "id": "tWd9EBm-59R1"
      },
      "outputs": [],
      "source": [
        "X_train_t = pipe_4.transform(X_train)\n",
        "X_test_t = pipe_4.transform(X_test)"
      ]
    },
    {
      "cell_type": "code",
      "execution_count": 67,
      "metadata": {
        "colab": {
          "base_uri": "https://localhost:8080/",
          "height": 519
        },
        "id": "HY90brMu4odY",
        "outputId": "c11d7f01-3ce8-4ec9-d2fa-add880600d67"
      },
      "outputs": [
        {
          "output_type": "execute_result",
          "data": {
            "text/plain": [
              "                          count      mean       std       min       25%  \\\n",
              "DEUDA                   22360.0  0.319696  0.905446 -0.601130 -0.344306   \n",
              "PLAZO_CREDITO           22360.0 -0.329496  0.647794 -1.750000 -1.000000   \n",
              "ATRASO_MAXIMO_ULT_6M    22360.0  0.130188  0.615047  0.000000  0.000000   \n",
              "ATRASO_MAXIMO_ULT_12M   22360.0  0.592576  2.510538  0.000000  0.000000   \n",
              "ATRASO_MAXIMO_ULT_24M   22360.0  1.270438  4.230890  0.000000  0.000000   \n",
              "MESES_AHORROS_ULT_6M    22360.0 -0.944097  1.605819 -6.000000 -1.000000   \n",
              "MEDIANA_AHORROS_ULT_6M  22360.0  0.357095  0.932930 -0.559693 -0.340036   \n",
              "DEUDA_TOTAL_SISTEMA     22360.0  0.854122  2.427562 -0.285436 -0.254493   \n",
              "NUMERO_DE_PAGOS_PDH     22360.0 -0.455204  0.554498 -1.411765 -1.000000   \n",
              "MONTO_TC_SISTEMA        22360.0  1.147794  2.853149 -0.114250 -0.114250   \n",
              "INGRESO_CLIENTE         22360.0  0.474257  1.234285 -0.910264 -0.294450   \n",
              "EDAD_T                  22360.0  0.136934  0.746285 -1.153846 -0.461538   \n",
              "CUOTA                   22360.0  0.600409  1.492545 -0.309936 -0.259179   \n",
              "LINEA_DE_TC             22360.0  0.214921  0.885335 -0.750552 -0.414855   \n",
              "MONTO_TC_MEMBRESIA      22360.0  0.228426  0.703714 -0.881818 -0.336364   \n",
              "\n",
              "                                 50%       75%        max  \n",
              "DEUDA                   0.000000e+00  0.655694   3.166974  \n",
              "PLAZO_CREDITO           0.000000e+00  0.000000   0.500000  \n",
              "ATRASO_MAXIMO_ULT_6M    0.000000e+00  0.000000   5.000000  \n",
              "ATRASO_MAXIMO_ULT_12M   0.000000e+00  0.000000  16.000000  \n",
              "ATRASO_MAXIMO_ULT_24M   0.000000e+00  0.000000  25.000000  \n",
              "MESES_AHORROS_ULT_6M    0.000000e+00  0.000000   0.000000  \n",
              "MEDIANA_AHORROS_ULT_6M  5.833685e-17  0.659964   2.527535  \n",
              "DEUDA_TOTAL_SISTEMA     0.000000e+00  0.745507  15.279806  \n",
              "NUMERO_DE_PAGOS_PDH     0.000000e+00  0.000000   0.000000  \n",
              "MONTO_TC_SISTEMA        0.000000e+00  0.885750  17.079923  \n",
              "INGRESO_CLIENTE         0.000000e+00  0.705550   5.639764  \n",
              "EDAD_T                  0.000000e+00  0.538462   2.307692  \n",
              "CUOTA                   1.981379e-17  0.740821   7.978190  \n",
              "LINEA_DE_TC             0.000000e+00  0.585145   4.332837  \n",
              "MONTO_TC_MEMBRESIA      0.000000e+00  0.663636   2.754545  "
            ],
            "text/html": [
              "\n",
              "  <div id=\"df-0a1f8ff1-25db-4a8e-8f87-74b7b77aa3d4\" class=\"colab-df-container\">\n",
              "    <div>\n",
              "<style scoped>\n",
              "    .dataframe tbody tr th:only-of-type {\n",
              "        vertical-align: middle;\n",
              "    }\n",
              "\n",
              "    .dataframe tbody tr th {\n",
              "        vertical-align: top;\n",
              "    }\n",
              "\n",
              "    .dataframe thead th {\n",
              "        text-align: right;\n",
              "    }\n",
              "</style>\n",
              "<table border=\"1\" class=\"dataframe\">\n",
              "  <thead>\n",
              "    <tr style=\"text-align: right;\">\n",
              "      <th></th>\n",
              "      <th>count</th>\n",
              "      <th>mean</th>\n",
              "      <th>std</th>\n",
              "      <th>min</th>\n",
              "      <th>25%</th>\n",
              "      <th>50%</th>\n",
              "      <th>75%</th>\n",
              "      <th>max</th>\n",
              "    </tr>\n",
              "  </thead>\n",
              "  <tbody>\n",
              "    <tr>\n",
              "      <th>DEUDA</th>\n",
              "      <td>22360.0</td>\n",
              "      <td>0.319696</td>\n",
              "      <td>0.905446</td>\n",
              "      <td>-0.601130</td>\n",
              "      <td>-0.344306</td>\n",
              "      <td>0.000000e+00</td>\n",
              "      <td>0.655694</td>\n",
              "      <td>3.166974</td>\n",
              "    </tr>\n",
              "    <tr>\n",
              "      <th>PLAZO_CREDITO</th>\n",
              "      <td>22360.0</td>\n",
              "      <td>-0.329496</td>\n",
              "      <td>0.647794</td>\n",
              "      <td>-1.750000</td>\n",
              "      <td>-1.000000</td>\n",
              "      <td>0.000000e+00</td>\n",
              "      <td>0.000000</td>\n",
              "      <td>0.500000</td>\n",
              "    </tr>\n",
              "    <tr>\n",
              "      <th>ATRASO_MAXIMO_ULT_6M</th>\n",
              "      <td>22360.0</td>\n",
              "      <td>0.130188</td>\n",
              "      <td>0.615047</td>\n",
              "      <td>0.000000</td>\n",
              "      <td>0.000000</td>\n",
              "      <td>0.000000e+00</td>\n",
              "      <td>0.000000</td>\n",
              "      <td>5.000000</td>\n",
              "    </tr>\n",
              "    <tr>\n",
              "      <th>ATRASO_MAXIMO_ULT_12M</th>\n",
              "      <td>22360.0</td>\n",
              "      <td>0.592576</td>\n",
              "      <td>2.510538</td>\n",
              "      <td>0.000000</td>\n",
              "      <td>0.000000</td>\n",
              "      <td>0.000000e+00</td>\n",
              "      <td>0.000000</td>\n",
              "      <td>16.000000</td>\n",
              "    </tr>\n",
              "    <tr>\n",
              "      <th>ATRASO_MAXIMO_ULT_24M</th>\n",
              "      <td>22360.0</td>\n",
              "      <td>1.270438</td>\n",
              "      <td>4.230890</td>\n",
              "      <td>0.000000</td>\n",
              "      <td>0.000000</td>\n",
              "      <td>0.000000e+00</td>\n",
              "      <td>0.000000</td>\n",
              "      <td>25.000000</td>\n",
              "    </tr>\n",
              "    <tr>\n",
              "      <th>MESES_AHORROS_ULT_6M</th>\n",
              "      <td>22360.0</td>\n",
              "      <td>-0.944097</td>\n",
              "      <td>1.605819</td>\n",
              "      <td>-6.000000</td>\n",
              "      <td>-1.000000</td>\n",
              "      <td>0.000000e+00</td>\n",
              "      <td>0.000000</td>\n",
              "      <td>0.000000</td>\n",
              "    </tr>\n",
              "    <tr>\n",
              "      <th>MEDIANA_AHORROS_ULT_6M</th>\n",
              "      <td>22360.0</td>\n",
              "      <td>0.357095</td>\n",
              "      <td>0.932930</td>\n",
              "      <td>-0.559693</td>\n",
              "      <td>-0.340036</td>\n",
              "      <td>5.833685e-17</td>\n",
              "      <td>0.659964</td>\n",
              "      <td>2.527535</td>\n",
              "    </tr>\n",
              "    <tr>\n",
              "      <th>DEUDA_TOTAL_SISTEMA</th>\n",
              "      <td>22360.0</td>\n",
              "      <td>0.854122</td>\n",
              "      <td>2.427562</td>\n",
              "      <td>-0.285436</td>\n",
              "      <td>-0.254493</td>\n",
              "      <td>0.000000e+00</td>\n",
              "      <td>0.745507</td>\n",
              "      <td>15.279806</td>\n",
              "    </tr>\n",
              "    <tr>\n",
              "      <th>NUMERO_DE_PAGOS_PDH</th>\n",
              "      <td>22360.0</td>\n",
              "      <td>-0.455204</td>\n",
              "      <td>0.554498</td>\n",
              "      <td>-1.411765</td>\n",
              "      <td>-1.000000</td>\n",
              "      <td>0.000000e+00</td>\n",
              "      <td>0.000000</td>\n",
              "      <td>0.000000</td>\n",
              "    </tr>\n",
              "    <tr>\n",
              "      <th>MONTO_TC_SISTEMA</th>\n",
              "      <td>22360.0</td>\n",
              "      <td>1.147794</td>\n",
              "      <td>2.853149</td>\n",
              "      <td>-0.114250</td>\n",
              "      <td>-0.114250</td>\n",
              "      <td>0.000000e+00</td>\n",
              "      <td>0.885750</td>\n",
              "      <td>17.079923</td>\n",
              "    </tr>\n",
              "    <tr>\n",
              "      <th>INGRESO_CLIENTE</th>\n",
              "      <td>22360.0</td>\n",
              "      <td>0.474257</td>\n",
              "      <td>1.234285</td>\n",
              "      <td>-0.910264</td>\n",
              "      <td>-0.294450</td>\n",
              "      <td>0.000000e+00</td>\n",
              "      <td>0.705550</td>\n",
              "      <td>5.639764</td>\n",
              "    </tr>\n",
              "    <tr>\n",
              "      <th>EDAD_T</th>\n",
              "      <td>22360.0</td>\n",
              "      <td>0.136934</td>\n",
              "      <td>0.746285</td>\n",
              "      <td>-1.153846</td>\n",
              "      <td>-0.461538</td>\n",
              "      <td>0.000000e+00</td>\n",
              "      <td>0.538462</td>\n",
              "      <td>2.307692</td>\n",
              "    </tr>\n",
              "    <tr>\n",
              "      <th>CUOTA</th>\n",
              "      <td>22360.0</td>\n",
              "      <td>0.600409</td>\n",
              "      <td>1.492545</td>\n",
              "      <td>-0.309936</td>\n",
              "      <td>-0.259179</td>\n",
              "      <td>1.981379e-17</td>\n",
              "      <td>0.740821</td>\n",
              "      <td>7.978190</td>\n",
              "    </tr>\n",
              "    <tr>\n",
              "      <th>LINEA_DE_TC</th>\n",
              "      <td>22360.0</td>\n",
              "      <td>0.214921</td>\n",
              "      <td>0.885335</td>\n",
              "      <td>-0.750552</td>\n",
              "      <td>-0.414855</td>\n",
              "      <td>0.000000e+00</td>\n",
              "      <td>0.585145</td>\n",
              "      <td>4.332837</td>\n",
              "    </tr>\n",
              "    <tr>\n",
              "      <th>MONTO_TC_MEMBRESIA</th>\n",
              "      <td>22360.0</td>\n",
              "      <td>0.228426</td>\n",
              "      <td>0.703714</td>\n",
              "      <td>-0.881818</td>\n",
              "      <td>-0.336364</td>\n",
              "      <td>0.000000e+00</td>\n",
              "      <td>0.663636</td>\n",
              "      <td>2.754545</td>\n",
              "    </tr>\n",
              "  </tbody>\n",
              "</table>\n",
              "</div>\n",
              "    <div class=\"colab-df-buttons\">\n",
              "\n",
              "  <div class=\"colab-df-container\">\n",
              "    <button class=\"colab-df-convert\" onclick=\"convertToInteractive('df-0a1f8ff1-25db-4a8e-8f87-74b7b77aa3d4')\"\n",
              "            title=\"Convert this dataframe to an interactive table.\"\n",
              "            style=\"display:none;\">\n",
              "\n",
              "  <svg xmlns=\"http://www.w3.org/2000/svg\" height=\"24px\" viewBox=\"0 -960 960 960\">\n",
              "    <path d=\"M120-120v-720h720v720H120Zm60-500h600v-160H180v160Zm220 220h160v-160H400v160Zm0 220h160v-160H400v160ZM180-400h160v-160H180v160Zm440 0h160v-160H620v160ZM180-180h160v-160H180v160Zm440 0h160v-160H620v160Z\"/>\n",
              "  </svg>\n",
              "    </button>\n",
              "\n",
              "  <style>\n",
              "    .colab-df-container {\n",
              "      display:flex;\n",
              "      gap: 12px;\n",
              "    }\n",
              "\n",
              "    .colab-df-convert {\n",
              "      background-color: #E8F0FE;\n",
              "      border: none;\n",
              "      border-radius: 50%;\n",
              "      cursor: pointer;\n",
              "      display: none;\n",
              "      fill: #1967D2;\n",
              "      height: 32px;\n",
              "      padding: 0 0 0 0;\n",
              "      width: 32px;\n",
              "    }\n",
              "\n",
              "    .colab-df-convert:hover {\n",
              "      background-color: #E2EBFA;\n",
              "      box-shadow: 0px 1px 2px rgba(60, 64, 67, 0.3), 0px 1px 3px 1px rgba(60, 64, 67, 0.15);\n",
              "      fill: #174EA6;\n",
              "    }\n",
              "\n",
              "    .colab-df-buttons div {\n",
              "      margin-bottom: 4px;\n",
              "    }\n",
              "\n",
              "    [theme=dark] .colab-df-convert {\n",
              "      background-color: #3B4455;\n",
              "      fill: #D2E3FC;\n",
              "    }\n",
              "\n",
              "    [theme=dark] .colab-df-convert:hover {\n",
              "      background-color: #434B5C;\n",
              "      box-shadow: 0px 1px 3px 1px rgba(0, 0, 0, 0.15);\n",
              "      filter: drop-shadow(0px 1px 2px rgba(0, 0, 0, 0.3));\n",
              "      fill: #FFFFFF;\n",
              "    }\n",
              "  </style>\n",
              "\n",
              "    <script>\n",
              "      const buttonEl =\n",
              "        document.querySelector('#df-0a1f8ff1-25db-4a8e-8f87-74b7b77aa3d4 button.colab-df-convert');\n",
              "      buttonEl.style.display =\n",
              "        google.colab.kernel.accessAllowed ? 'block' : 'none';\n",
              "\n",
              "      async function convertToInteractive(key) {\n",
              "        const element = document.querySelector('#df-0a1f8ff1-25db-4a8e-8f87-74b7b77aa3d4');\n",
              "        const dataTable =\n",
              "          await google.colab.kernel.invokeFunction('convertToInteractive',\n",
              "                                                    [key], {});\n",
              "        if (!dataTable) return;\n",
              "\n",
              "        const docLinkHtml = 'Like what you see? Visit the ' +\n",
              "          '<a target=\"_blank\" href=https://colab.research.google.com/notebooks/data_table.ipynb>data table notebook</a>'\n",
              "          + ' to learn more about interactive tables.';\n",
              "        element.innerHTML = '';\n",
              "        dataTable['output_type'] = 'display_data';\n",
              "        await google.colab.output.renderOutput(dataTable, element);\n",
              "        const docLink = document.createElement('div');\n",
              "        docLink.innerHTML = docLinkHtml;\n",
              "        element.appendChild(docLink);\n",
              "      }\n",
              "    </script>\n",
              "  </div>\n",
              "\n",
              "\n",
              "    <div id=\"df-63235904-e4ad-425e-a9d6-c9283f1e9b10\">\n",
              "      <button class=\"colab-df-quickchart\" onclick=\"quickchart('df-63235904-e4ad-425e-a9d6-c9283f1e9b10')\"\n",
              "                title=\"Suggest charts\"\n",
              "                style=\"display:none;\">\n",
              "\n",
              "<svg xmlns=\"http://www.w3.org/2000/svg\" height=\"24px\"viewBox=\"0 0 24 24\"\n",
              "     width=\"24px\">\n",
              "    <g>\n",
              "        <path d=\"M19 3H5c-1.1 0-2 .9-2 2v14c0 1.1.9 2 2 2h14c1.1 0 2-.9 2-2V5c0-1.1-.9-2-2-2zM9 17H7v-7h2v7zm4 0h-2V7h2v10zm4 0h-2v-4h2v4z\"/>\n",
              "    </g>\n",
              "</svg>\n",
              "      </button>\n",
              "\n",
              "<style>\n",
              "  .colab-df-quickchart {\n",
              "      --bg-color: #E8F0FE;\n",
              "      --fill-color: #1967D2;\n",
              "      --hover-bg-color: #E2EBFA;\n",
              "      --hover-fill-color: #174EA6;\n",
              "      --disabled-fill-color: #AAA;\n",
              "      --disabled-bg-color: #DDD;\n",
              "  }\n",
              "\n",
              "  [theme=dark] .colab-df-quickchart {\n",
              "      --bg-color: #3B4455;\n",
              "      --fill-color: #D2E3FC;\n",
              "      --hover-bg-color: #434B5C;\n",
              "      --hover-fill-color: #FFFFFF;\n",
              "      --disabled-bg-color: #3B4455;\n",
              "      --disabled-fill-color: #666;\n",
              "  }\n",
              "\n",
              "  .colab-df-quickchart {\n",
              "    background-color: var(--bg-color);\n",
              "    border: none;\n",
              "    border-radius: 50%;\n",
              "    cursor: pointer;\n",
              "    display: none;\n",
              "    fill: var(--fill-color);\n",
              "    height: 32px;\n",
              "    padding: 0;\n",
              "    width: 32px;\n",
              "  }\n",
              "\n",
              "  .colab-df-quickchart:hover {\n",
              "    background-color: var(--hover-bg-color);\n",
              "    box-shadow: 0 1px 2px rgba(60, 64, 67, 0.3), 0 1px 3px 1px rgba(60, 64, 67, 0.15);\n",
              "    fill: var(--button-hover-fill-color);\n",
              "  }\n",
              "\n",
              "  .colab-df-quickchart-complete:disabled,\n",
              "  .colab-df-quickchart-complete:disabled:hover {\n",
              "    background-color: var(--disabled-bg-color);\n",
              "    fill: var(--disabled-fill-color);\n",
              "    box-shadow: none;\n",
              "  }\n",
              "\n",
              "  .colab-df-spinner {\n",
              "    border: 2px solid var(--fill-color);\n",
              "    border-color: transparent;\n",
              "    border-bottom-color: var(--fill-color);\n",
              "    animation:\n",
              "      spin 1s steps(1) infinite;\n",
              "  }\n",
              "\n",
              "  @keyframes spin {\n",
              "    0% {\n",
              "      border-color: transparent;\n",
              "      border-bottom-color: var(--fill-color);\n",
              "      border-left-color: var(--fill-color);\n",
              "    }\n",
              "    20% {\n",
              "      border-color: transparent;\n",
              "      border-left-color: var(--fill-color);\n",
              "      border-top-color: var(--fill-color);\n",
              "    }\n",
              "    30% {\n",
              "      border-color: transparent;\n",
              "      border-left-color: var(--fill-color);\n",
              "      border-top-color: var(--fill-color);\n",
              "      border-right-color: var(--fill-color);\n",
              "    }\n",
              "    40% {\n",
              "      border-color: transparent;\n",
              "      border-right-color: var(--fill-color);\n",
              "      border-top-color: var(--fill-color);\n",
              "    }\n",
              "    60% {\n",
              "      border-color: transparent;\n",
              "      border-right-color: var(--fill-color);\n",
              "    }\n",
              "    80% {\n",
              "      border-color: transparent;\n",
              "      border-right-color: var(--fill-color);\n",
              "      border-bottom-color: var(--fill-color);\n",
              "    }\n",
              "    90% {\n",
              "      border-color: transparent;\n",
              "      border-bottom-color: var(--fill-color);\n",
              "    }\n",
              "  }\n",
              "</style>\n",
              "\n",
              "      <script>\n",
              "        async function quickchart(key) {\n",
              "          const quickchartButtonEl =\n",
              "            document.querySelector('#' + key + ' button');\n",
              "          quickchartButtonEl.disabled = true;  // To prevent multiple clicks.\n",
              "          quickchartButtonEl.classList.add('colab-df-spinner');\n",
              "          try {\n",
              "            const charts = await google.colab.kernel.invokeFunction(\n",
              "                'suggestCharts', [key], {});\n",
              "          } catch (error) {\n",
              "            console.error('Error during call to suggestCharts:', error);\n",
              "          }\n",
              "          quickchartButtonEl.classList.remove('colab-df-spinner');\n",
              "          quickchartButtonEl.classList.add('colab-df-quickchart-complete');\n",
              "        }\n",
              "        (() => {\n",
              "          let quickchartButtonEl =\n",
              "            document.querySelector('#df-63235904-e4ad-425e-a9d6-c9283f1e9b10 button');\n",
              "          quickchartButtonEl.style.display =\n",
              "            google.colab.kernel.accessAllowed ? 'block' : 'none';\n",
              "        })();\n",
              "      </script>\n",
              "    </div>\n",
              "\n",
              "    </div>\n",
              "  </div>\n"
            ],
            "application/vnd.google.colaboratory.intrinsic+json": {
              "type": "dataframe",
              "summary": "{\n  \"name\": \"X_train_t\",\n  \"rows\": 15,\n  \"fields\": [\n    {\n      \"column\": \"count\",\n      \"properties\": {\n        \"dtype\": \"number\",\n        \"std\": 0.0,\n        \"min\": 22360.0,\n        \"max\": 22360.0,\n        \"num_unique_values\": 1,\n        \"samples\": [\n          22360.0\n        ],\n        \"semantic_type\": \"\",\n        \"description\": \"\"\n      }\n    },\n    {\n      \"column\": \"mean\",\n      \"properties\": {\n        \"dtype\": \"number\",\n        \"std\": 0.5830301226970193,\n        \"min\": -0.9440966010733453,\n        \"max\": 1.270438282647585,\n        \"num_unique_values\": 15,\n        \"samples\": [\n          1.1477942346699745\n        ],\n        \"semantic_type\": \"\",\n        \"description\": \"\"\n      }\n    },\n    {\n      \"column\": \"std\",\n      \"properties\": {\n        \"dtype\": \"number\",\n        \"std\": 1.0660007661985709,\n        \"min\": 0.554498092073891,\n        \"max\": 4.230889688365679,\n        \"num_unique_values\": 15,\n        \"samples\": [\n          2.853148756190277\n        ],\n        \"semantic_type\": \"\",\n        \"description\": \"\"\n      }\n    },\n    {\n      \"column\": \"min\",\n      \"properties\": {\n        \"dtype\": \"number\",\n        \"std\": 1.4870720097534313,\n        \"min\": -6.0,\n        \"max\": 0.0,\n        \"num_unique_values\": 13,\n        \"samples\": [\n          -0.7505518763796909\n        ],\n        \"semantic_type\": \"\",\n        \"description\": \"\"\n      }\n    },\n    {\n      \"column\": \"25%\",\n      \"properties\": {\n        \"dtype\": \"number\",\n        \"std\": 0.3491191563162455,\n        \"min\": -1.0,\n        \"max\": 0.0,\n        \"num_unique_values\": 11,\n        \"samples\": [\n          -0.11425021098204832\n        ],\n        \"semantic_type\": \"\",\n        \"description\": \"\"\n      }\n    },\n    {\n      \"column\": \"50%\",\n      \"properties\": {\n        \"dtype\": \"number\",\n        \"std\": 1.5557741859153492e-17,\n        \"min\": 0.0,\n        \"max\": 5.833685314329817e-17,\n        \"num_unique_values\": 3,\n        \"samples\": [\n          0.0\n        ],\n        \"semantic_type\": \"\",\n        \"description\": \"\"\n      }\n    },\n    {\n      \"column\": \"75%\",\n      \"properties\": {\n        \"dtype\": \"number\",\n        \"std\": 0.3564297268644508,\n        \"min\": 0.0,\n        \"max\": 0.8857497890179518,\n        \"num_unique_values\": 10,\n        \"samples\": [\n          0.5851452460489558\n        ],\n        \"semantic_type\": \"\",\n        \"description\": \"\"\n      }\n    },\n    {\n      \"column\": \"max\",\n      \"properties\": {\n        \"dtype\": \"number\",\n        \"std\": 7.576411506167468,\n        \"min\": 0.0,\n        \"max\": 25.0,\n        \"num_unique_values\": 14,\n        \"samples\": [\n          5.639764248259063\n        ],\n        \"semantic_type\": \"\",\n        \"description\": \"\"\n      }\n    }\n  ]\n}"
            }
          },
          "metadata": {},
          "execution_count": 67
        }
      ],
      "source": [
        "X_train_t.describe().transpose()"
      ]
    },
    {
      "cell_type": "markdown",
      "metadata": {
        "id": "ljtYIk9VGDks"
      },
      "source": [
        "## **4. Feature Selection**\n"
      ]
    },
    {
      "cell_type": "markdown",
      "source": [
        "###Planteemos algunos filtros básicos inicialmente"
      ],
      "metadata": {
        "id": "xGO9f315pSKo"
      }
    },
    {
      "cell_type": "markdown",
      "source": [
        "#### Constantes"
      ],
      "metadata": {
        "id": "tGjF3tU3tbIc"
      }
    },
    {
      "cell_type": "code",
      "source": [
        "constant_features_num = [feat for feat in X_train_t[num_cols].columns if X_train_t[feat].std() == 0]\n",
        "len(constant_features_num)"
      ],
      "metadata": {
        "colab": {
          "base_uri": "https://localhost:8080/"
        },
        "id": "brk_O2s9sEKP",
        "outputId": "ec98101b-f559-40df-b89f-0c4eb2728c24"
      },
      "execution_count": 90,
      "outputs": [
        {
          "output_type": "execute_result",
          "data": {
            "text/plain": [
              "0"
            ]
          },
          "metadata": {},
          "execution_count": 90
        }
      ]
    },
    {
      "cell_type": "code",
      "source": [
        "#X_train_t.drop(labels=constant_features_num, axis=1, inplace=True)\n",
        "#X_test_t.drop(labels=constant_features_num, axis=1, inplace=True)\n",
        "#X_train_t.shape, X_test_t.shape"
      ],
      "metadata": {
        "id": "5Lx4Jc3YsYfT"
      },
      "execution_count": null,
      "outputs": []
    },
    {
      "cell_type": "code",
      "source": [
        "constant_features_cat = [feat for feat in X_train_t[cat_cols].columns if X_train_t[feat].nunique() == 1]\n",
        "len(constant_features_cat)"
      ],
      "metadata": {
        "colab": {
          "base_uri": "https://localhost:8080/"
        },
        "id": "qrHczM2rsvqO",
        "outputId": "6070bdc3-9aae-479a-ffd6-6036f4bbfefb"
      },
      "execution_count": 91,
      "outputs": [
        {
          "output_type": "execute_result",
          "data": {
            "text/plain": [
              "0"
            ]
          },
          "metadata": {},
          "execution_count": 91
        }
      ]
    },
    {
      "cell_type": "code",
      "source": [
        "#X_train_t.drop(labels=constant_features_cat, axis=1, inplace=True)\n",
        "#X_test_t.drop(labels=constant_features_cat, axis=1, inplace=True)\n",
        "#X_train_t.shape, X_test_t.shape"
      ],
      "metadata": {
        "id": "8mLMIhXptDuo"
      },
      "execution_count": null,
      "outputs": []
    },
    {
      "cell_type": "markdown",
      "source": [
        "#### Cuasi constante"
      ],
      "metadata": {
        "id": "ar8ZNOJVt6Qv"
      }
    },
    {
      "cell_type": "code",
      "source": [
        "from sklearn.feature_selection import VarianceThreshold"
      ],
      "metadata": {
        "id": "Ee7lDoQ9t1H3"
      },
      "execution_count": 92,
      "outputs": []
    },
    {
      "cell_type": "code",
      "source": [
        "sel = VarianceThreshold(threshold=0.01)\n",
        "sel.fit(X_train_t[num_cols])"
      ],
      "metadata": {
        "colab": {
          "base_uri": "https://localhost:8080/",
          "height": 80
        },
        "id": "DHVup6f_t1FB",
        "outputId": "156ad05b-e38a-4789-c67a-e04cd9d68b41"
      },
      "execution_count": 93,
      "outputs": [
        {
          "output_type": "execute_result",
          "data": {
            "text/plain": [
              "VarianceThreshold(threshold=0.01)"
            ],
            "text/html": [
              "<style>#sk-container-id-8 {\n",
              "  /* Definition of color scheme common for light and dark mode */\n",
              "  --sklearn-color-text: #000;\n",
              "  --sklearn-color-text-muted: #666;\n",
              "  --sklearn-color-line: gray;\n",
              "  /* Definition of color scheme for unfitted estimators */\n",
              "  --sklearn-color-unfitted-level-0: #fff5e6;\n",
              "  --sklearn-color-unfitted-level-1: #f6e4d2;\n",
              "  --sklearn-color-unfitted-level-2: #ffe0b3;\n",
              "  --sklearn-color-unfitted-level-3: chocolate;\n",
              "  /* Definition of color scheme for fitted estimators */\n",
              "  --sklearn-color-fitted-level-0: #f0f8ff;\n",
              "  --sklearn-color-fitted-level-1: #d4ebff;\n",
              "  --sklearn-color-fitted-level-2: #b3dbfd;\n",
              "  --sklearn-color-fitted-level-3: cornflowerblue;\n",
              "\n",
              "  /* Specific color for light theme */\n",
              "  --sklearn-color-text-on-default-background: var(--sg-text-color, var(--theme-code-foreground, var(--jp-content-font-color1, black)));\n",
              "  --sklearn-color-background: var(--sg-background-color, var(--theme-background, var(--jp-layout-color0, white)));\n",
              "  --sklearn-color-border-box: var(--sg-text-color, var(--theme-code-foreground, var(--jp-content-font-color1, black)));\n",
              "  --sklearn-color-icon: #696969;\n",
              "\n",
              "  @media (prefers-color-scheme: dark) {\n",
              "    /* Redefinition of color scheme for dark theme */\n",
              "    --sklearn-color-text-on-default-background: var(--sg-text-color, var(--theme-code-foreground, var(--jp-content-font-color1, white)));\n",
              "    --sklearn-color-background: var(--sg-background-color, var(--theme-background, var(--jp-layout-color0, #111)));\n",
              "    --sklearn-color-border-box: var(--sg-text-color, var(--theme-code-foreground, var(--jp-content-font-color1, white)));\n",
              "    --sklearn-color-icon: #878787;\n",
              "  }\n",
              "}\n",
              "\n",
              "#sk-container-id-8 {\n",
              "  color: var(--sklearn-color-text);\n",
              "}\n",
              "\n",
              "#sk-container-id-8 pre {\n",
              "  padding: 0;\n",
              "}\n",
              "\n",
              "#sk-container-id-8 input.sk-hidden--visually {\n",
              "  border: 0;\n",
              "  clip: rect(1px 1px 1px 1px);\n",
              "  clip: rect(1px, 1px, 1px, 1px);\n",
              "  height: 1px;\n",
              "  margin: -1px;\n",
              "  overflow: hidden;\n",
              "  padding: 0;\n",
              "  position: absolute;\n",
              "  width: 1px;\n",
              "}\n",
              "\n",
              "#sk-container-id-8 div.sk-dashed-wrapped {\n",
              "  border: 1px dashed var(--sklearn-color-line);\n",
              "  margin: 0 0.4em 0.5em 0.4em;\n",
              "  box-sizing: border-box;\n",
              "  padding-bottom: 0.4em;\n",
              "  background-color: var(--sklearn-color-background);\n",
              "}\n",
              "\n",
              "#sk-container-id-8 div.sk-container {\n",
              "  /* jupyter's `normalize.less` sets `[hidden] { display: none; }`\n",
              "     but bootstrap.min.css set `[hidden] { display: none !important; }`\n",
              "     so we also need the `!important` here to be able to override the\n",
              "     default hidden behavior on the sphinx rendered scikit-learn.org.\n",
              "     See: https://github.com/scikit-learn/scikit-learn/issues/21755 */\n",
              "  display: inline-block !important;\n",
              "  position: relative;\n",
              "}\n",
              "\n",
              "#sk-container-id-8 div.sk-text-repr-fallback {\n",
              "  display: none;\n",
              "}\n",
              "\n",
              "div.sk-parallel-item,\n",
              "div.sk-serial,\n",
              "div.sk-item {\n",
              "  /* draw centered vertical line to link estimators */\n",
              "  background-image: linear-gradient(var(--sklearn-color-text-on-default-background), var(--sklearn-color-text-on-default-background));\n",
              "  background-size: 2px 100%;\n",
              "  background-repeat: no-repeat;\n",
              "  background-position: center center;\n",
              "}\n",
              "\n",
              "/* Parallel-specific style estimator block */\n",
              "\n",
              "#sk-container-id-8 div.sk-parallel-item::after {\n",
              "  content: \"\";\n",
              "  width: 100%;\n",
              "  border-bottom: 2px solid var(--sklearn-color-text-on-default-background);\n",
              "  flex-grow: 1;\n",
              "}\n",
              "\n",
              "#sk-container-id-8 div.sk-parallel {\n",
              "  display: flex;\n",
              "  align-items: stretch;\n",
              "  justify-content: center;\n",
              "  background-color: var(--sklearn-color-background);\n",
              "  position: relative;\n",
              "}\n",
              "\n",
              "#sk-container-id-8 div.sk-parallel-item {\n",
              "  display: flex;\n",
              "  flex-direction: column;\n",
              "}\n",
              "\n",
              "#sk-container-id-8 div.sk-parallel-item:first-child::after {\n",
              "  align-self: flex-end;\n",
              "  width: 50%;\n",
              "}\n",
              "\n",
              "#sk-container-id-8 div.sk-parallel-item:last-child::after {\n",
              "  align-self: flex-start;\n",
              "  width: 50%;\n",
              "}\n",
              "\n",
              "#sk-container-id-8 div.sk-parallel-item:only-child::after {\n",
              "  width: 0;\n",
              "}\n",
              "\n",
              "/* Serial-specific style estimator block */\n",
              "\n",
              "#sk-container-id-8 div.sk-serial {\n",
              "  display: flex;\n",
              "  flex-direction: column;\n",
              "  align-items: center;\n",
              "  background-color: var(--sklearn-color-background);\n",
              "  padding-right: 1em;\n",
              "  padding-left: 1em;\n",
              "}\n",
              "\n",
              "\n",
              "/* Toggleable style: style used for estimator/Pipeline/ColumnTransformer box that is\n",
              "clickable and can be expanded/collapsed.\n",
              "- Pipeline and ColumnTransformer use this feature and define the default style\n",
              "- Estimators will overwrite some part of the style using the `sk-estimator` class\n",
              "*/\n",
              "\n",
              "/* Pipeline and ColumnTransformer style (default) */\n",
              "\n",
              "#sk-container-id-8 div.sk-toggleable {\n",
              "  /* Default theme specific background. It is overwritten whether we have a\n",
              "  specific estimator or a Pipeline/ColumnTransformer */\n",
              "  background-color: var(--sklearn-color-background);\n",
              "}\n",
              "\n",
              "/* Toggleable label */\n",
              "#sk-container-id-8 label.sk-toggleable__label {\n",
              "  cursor: pointer;\n",
              "  display: flex;\n",
              "  width: 100%;\n",
              "  margin-bottom: 0;\n",
              "  padding: 0.5em;\n",
              "  box-sizing: border-box;\n",
              "  text-align: center;\n",
              "  align-items: start;\n",
              "  justify-content: space-between;\n",
              "  gap: 0.5em;\n",
              "}\n",
              "\n",
              "#sk-container-id-8 label.sk-toggleable__label .caption {\n",
              "  font-size: 0.6rem;\n",
              "  font-weight: lighter;\n",
              "  color: var(--sklearn-color-text-muted);\n",
              "}\n",
              "\n",
              "#sk-container-id-8 label.sk-toggleable__label-arrow:before {\n",
              "  /* Arrow on the left of the label */\n",
              "  content: \"▸\";\n",
              "  float: left;\n",
              "  margin-right: 0.25em;\n",
              "  color: var(--sklearn-color-icon);\n",
              "}\n",
              "\n",
              "#sk-container-id-8 label.sk-toggleable__label-arrow:hover:before {\n",
              "  color: var(--sklearn-color-text);\n",
              "}\n",
              "\n",
              "/* Toggleable content - dropdown */\n",
              "\n",
              "#sk-container-id-8 div.sk-toggleable__content {\n",
              "  max-height: 0;\n",
              "  max-width: 0;\n",
              "  overflow: hidden;\n",
              "  text-align: left;\n",
              "  /* unfitted */\n",
              "  background-color: var(--sklearn-color-unfitted-level-0);\n",
              "}\n",
              "\n",
              "#sk-container-id-8 div.sk-toggleable__content.fitted {\n",
              "  /* fitted */\n",
              "  background-color: var(--sklearn-color-fitted-level-0);\n",
              "}\n",
              "\n",
              "#sk-container-id-8 div.sk-toggleable__content pre {\n",
              "  margin: 0.2em;\n",
              "  border-radius: 0.25em;\n",
              "  color: var(--sklearn-color-text);\n",
              "  /* unfitted */\n",
              "  background-color: var(--sklearn-color-unfitted-level-0);\n",
              "}\n",
              "\n",
              "#sk-container-id-8 div.sk-toggleable__content.fitted pre {\n",
              "  /* unfitted */\n",
              "  background-color: var(--sklearn-color-fitted-level-0);\n",
              "}\n",
              "\n",
              "#sk-container-id-8 input.sk-toggleable__control:checked~div.sk-toggleable__content {\n",
              "  /* Expand drop-down */\n",
              "  max-height: 200px;\n",
              "  max-width: 100%;\n",
              "  overflow: auto;\n",
              "}\n",
              "\n",
              "#sk-container-id-8 input.sk-toggleable__control:checked~label.sk-toggleable__label-arrow:before {\n",
              "  content: \"▾\";\n",
              "}\n",
              "\n",
              "/* Pipeline/ColumnTransformer-specific style */\n",
              "\n",
              "#sk-container-id-8 div.sk-label input.sk-toggleable__control:checked~label.sk-toggleable__label {\n",
              "  color: var(--sklearn-color-text);\n",
              "  background-color: var(--sklearn-color-unfitted-level-2);\n",
              "}\n",
              "\n",
              "#sk-container-id-8 div.sk-label.fitted input.sk-toggleable__control:checked~label.sk-toggleable__label {\n",
              "  background-color: var(--sklearn-color-fitted-level-2);\n",
              "}\n",
              "\n",
              "/* Estimator-specific style */\n",
              "\n",
              "/* Colorize estimator box */\n",
              "#sk-container-id-8 div.sk-estimator input.sk-toggleable__control:checked~label.sk-toggleable__label {\n",
              "  /* unfitted */\n",
              "  background-color: var(--sklearn-color-unfitted-level-2);\n",
              "}\n",
              "\n",
              "#sk-container-id-8 div.sk-estimator.fitted input.sk-toggleable__control:checked~label.sk-toggleable__label {\n",
              "  /* fitted */\n",
              "  background-color: var(--sklearn-color-fitted-level-2);\n",
              "}\n",
              "\n",
              "#sk-container-id-8 div.sk-label label.sk-toggleable__label,\n",
              "#sk-container-id-8 div.sk-label label {\n",
              "  /* The background is the default theme color */\n",
              "  color: var(--sklearn-color-text-on-default-background);\n",
              "}\n",
              "\n",
              "/* On hover, darken the color of the background */\n",
              "#sk-container-id-8 div.sk-label:hover label.sk-toggleable__label {\n",
              "  color: var(--sklearn-color-text);\n",
              "  background-color: var(--sklearn-color-unfitted-level-2);\n",
              "}\n",
              "\n",
              "/* Label box, darken color on hover, fitted */\n",
              "#sk-container-id-8 div.sk-label.fitted:hover label.sk-toggleable__label.fitted {\n",
              "  color: var(--sklearn-color-text);\n",
              "  background-color: var(--sklearn-color-fitted-level-2);\n",
              "}\n",
              "\n",
              "/* Estimator label */\n",
              "\n",
              "#sk-container-id-8 div.sk-label label {\n",
              "  font-family: monospace;\n",
              "  font-weight: bold;\n",
              "  display: inline-block;\n",
              "  line-height: 1.2em;\n",
              "}\n",
              "\n",
              "#sk-container-id-8 div.sk-label-container {\n",
              "  text-align: center;\n",
              "}\n",
              "\n",
              "/* Estimator-specific */\n",
              "#sk-container-id-8 div.sk-estimator {\n",
              "  font-family: monospace;\n",
              "  border: 1px dotted var(--sklearn-color-border-box);\n",
              "  border-radius: 0.25em;\n",
              "  box-sizing: border-box;\n",
              "  margin-bottom: 0.5em;\n",
              "  /* unfitted */\n",
              "  background-color: var(--sklearn-color-unfitted-level-0);\n",
              "}\n",
              "\n",
              "#sk-container-id-8 div.sk-estimator.fitted {\n",
              "  /* fitted */\n",
              "  background-color: var(--sklearn-color-fitted-level-0);\n",
              "}\n",
              "\n",
              "/* on hover */\n",
              "#sk-container-id-8 div.sk-estimator:hover {\n",
              "  /* unfitted */\n",
              "  background-color: var(--sklearn-color-unfitted-level-2);\n",
              "}\n",
              "\n",
              "#sk-container-id-8 div.sk-estimator.fitted:hover {\n",
              "  /* fitted */\n",
              "  background-color: var(--sklearn-color-fitted-level-2);\n",
              "}\n",
              "\n",
              "/* Specification for estimator info (e.g. \"i\" and \"?\") */\n",
              "\n",
              "/* Common style for \"i\" and \"?\" */\n",
              "\n",
              ".sk-estimator-doc-link,\n",
              "a:link.sk-estimator-doc-link,\n",
              "a:visited.sk-estimator-doc-link {\n",
              "  float: right;\n",
              "  font-size: smaller;\n",
              "  line-height: 1em;\n",
              "  font-family: monospace;\n",
              "  background-color: var(--sklearn-color-background);\n",
              "  border-radius: 1em;\n",
              "  height: 1em;\n",
              "  width: 1em;\n",
              "  text-decoration: none !important;\n",
              "  margin-left: 0.5em;\n",
              "  text-align: center;\n",
              "  /* unfitted */\n",
              "  border: var(--sklearn-color-unfitted-level-1) 1pt solid;\n",
              "  color: var(--sklearn-color-unfitted-level-1);\n",
              "}\n",
              "\n",
              ".sk-estimator-doc-link.fitted,\n",
              "a:link.sk-estimator-doc-link.fitted,\n",
              "a:visited.sk-estimator-doc-link.fitted {\n",
              "  /* fitted */\n",
              "  border: var(--sklearn-color-fitted-level-1) 1pt solid;\n",
              "  color: var(--sklearn-color-fitted-level-1);\n",
              "}\n",
              "\n",
              "/* On hover */\n",
              "div.sk-estimator:hover .sk-estimator-doc-link:hover,\n",
              ".sk-estimator-doc-link:hover,\n",
              "div.sk-label-container:hover .sk-estimator-doc-link:hover,\n",
              ".sk-estimator-doc-link:hover {\n",
              "  /* unfitted */\n",
              "  background-color: var(--sklearn-color-unfitted-level-3);\n",
              "  color: var(--sklearn-color-background);\n",
              "  text-decoration: none;\n",
              "}\n",
              "\n",
              "div.sk-estimator.fitted:hover .sk-estimator-doc-link.fitted:hover,\n",
              ".sk-estimator-doc-link.fitted:hover,\n",
              "div.sk-label-container:hover .sk-estimator-doc-link.fitted:hover,\n",
              ".sk-estimator-doc-link.fitted:hover {\n",
              "  /* fitted */\n",
              "  background-color: var(--sklearn-color-fitted-level-3);\n",
              "  color: var(--sklearn-color-background);\n",
              "  text-decoration: none;\n",
              "}\n",
              "\n",
              "/* Span, style for the box shown on hovering the info icon */\n",
              ".sk-estimator-doc-link span {\n",
              "  display: none;\n",
              "  z-index: 9999;\n",
              "  position: relative;\n",
              "  font-weight: normal;\n",
              "  right: .2ex;\n",
              "  padding: .5ex;\n",
              "  margin: .5ex;\n",
              "  width: min-content;\n",
              "  min-width: 20ex;\n",
              "  max-width: 50ex;\n",
              "  color: var(--sklearn-color-text);\n",
              "  box-shadow: 2pt 2pt 4pt #999;\n",
              "  /* unfitted */\n",
              "  background: var(--sklearn-color-unfitted-level-0);\n",
              "  border: .5pt solid var(--sklearn-color-unfitted-level-3);\n",
              "}\n",
              "\n",
              ".sk-estimator-doc-link.fitted span {\n",
              "  /* fitted */\n",
              "  background: var(--sklearn-color-fitted-level-0);\n",
              "  border: var(--sklearn-color-fitted-level-3);\n",
              "}\n",
              "\n",
              ".sk-estimator-doc-link:hover span {\n",
              "  display: block;\n",
              "}\n",
              "\n",
              "/* \"?\"-specific style due to the `<a>` HTML tag */\n",
              "\n",
              "#sk-container-id-8 a.estimator_doc_link {\n",
              "  float: right;\n",
              "  font-size: 1rem;\n",
              "  line-height: 1em;\n",
              "  font-family: monospace;\n",
              "  background-color: var(--sklearn-color-background);\n",
              "  border-radius: 1rem;\n",
              "  height: 1rem;\n",
              "  width: 1rem;\n",
              "  text-decoration: none;\n",
              "  /* unfitted */\n",
              "  color: var(--sklearn-color-unfitted-level-1);\n",
              "  border: var(--sklearn-color-unfitted-level-1) 1pt solid;\n",
              "}\n",
              "\n",
              "#sk-container-id-8 a.estimator_doc_link.fitted {\n",
              "  /* fitted */\n",
              "  border: var(--sklearn-color-fitted-level-1) 1pt solid;\n",
              "  color: var(--sklearn-color-fitted-level-1);\n",
              "}\n",
              "\n",
              "/* On hover */\n",
              "#sk-container-id-8 a.estimator_doc_link:hover {\n",
              "  /* unfitted */\n",
              "  background-color: var(--sklearn-color-unfitted-level-3);\n",
              "  color: var(--sklearn-color-background);\n",
              "  text-decoration: none;\n",
              "}\n",
              "\n",
              "#sk-container-id-8 a.estimator_doc_link.fitted:hover {\n",
              "  /* fitted */\n",
              "  background-color: var(--sklearn-color-fitted-level-3);\n",
              "}\n",
              "</style><div id=\"sk-container-id-8\" class=\"sk-top-container\"><div class=\"sk-text-repr-fallback\"><pre>VarianceThreshold(threshold=0.01)</pre><b>In a Jupyter environment, please rerun this cell to show the HTML representation or trust the notebook. <br />On GitHub, the HTML representation is unable to render, please try loading this page with nbviewer.org.</b></div><div class=\"sk-container\" hidden><div class=\"sk-item\"><div class=\"sk-estimator fitted sk-toggleable\"><input class=\"sk-toggleable__control sk-hidden--visually\" id=\"sk-estimator-id-25\" type=\"checkbox\" checked><label for=\"sk-estimator-id-25\" class=\"sk-toggleable__label fitted sk-toggleable__label-arrow\"><div><div>VarianceThreshold</div></div><div><a class=\"sk-estimator-doc-link fitted\" rel=\"noreferrer\" target=\"_blank\" href=\"https://scikit-learn.org/1.6/modules/generated/sklearn.feature_selection.VarianceThreshold.html\">?<span>Documentation for VarianceThreshold</span></a><span class=\"sk-estimator-doc-link fitted\">i<span>Fitted</span></span></div></label><div class=\"sk-toggleable__content fitted\"><pre>VarianceThreshold(threshold=0.01)</pre></div> </div></div></div></div>"
            ]
          },
          "metadata": {},
          "execution_count": 93
        }
      ]
    },
    {
      "cell_type": "code",
      "source": [
        "sum(sel.get_support())"
      ],
      "metadata": {
        "colab": {
          "base_uri": "https://localhost:8080/"
        },
        "id": "bPySvkPbt08K",
        "outputId": "9589445e-0049-43c0-b695-2bbb5a8562a5"
      },
      "execution_count": 94,
      "outputs": [
        {
          "output_type": "execute_result",
          "data": {
            "text/plain": [
              "np.int64(15)"
            ]
          },
          "metadata": {},
          "execution_count": 94
        }
      ]
    },
    {
      "cell_type": "code",
      "source": [
        "quasi_constant = X_train_t[num_cols].columns[~sel.get_support()]\n",
        "len(quasi_constant)"
      ],
      "metadata": {
        "colab": {
          "base_uri": "https://localhost:8080/"
        },
        "id": "tW2nExzft0kg",
        "outputId": "efc1a8ad-47dd-41c4-9062-0dd6aea982cc"
      },
      "execution_count": 95,
      "outputs": [
        {
          "output_type": "execute_result",
          "data": {
            "text/plain": [
              "0"
            ]
          },
          "metadata": {},
          "execution_count": 95
        }
      ]
    },
    {
      "cell_type": "code",
      "source": [
        "quasi_constant_feat = []\n",
        "for feature in X_train_t[cat_cols].columns:\n",
        "    predominant = X_train[feature].value_counts(\n",
        "        normalize=True).sort_values(ascending=False).values[0]\n",
        "    if predominant > 0.99:\n",
        "        quasi_constant_feat.append(feature)\n",
        "len(quasi_constant_feat)"
      ],
      "metadata": {
        "colab": {
          "base_uri": "https://localhost:8080/"
        },
        "id": "BYq2PQW-wQqa",
        "outputId": "3b792201-c631-4b85-e97c-807d6b2028a9"
      },
      "execution_count": 96,
      "outputs": [
        {
          "output_type": "execute_result",
          "data": {
            "text/plain": [
              "0"
            ]
          },
          "metadata": {},
          "execution_count": 96
        }
      ]
    },
    {
      "cell_type": "markdown",
      "source": [
        "### Empecemos a filtrar en función de su grado de aporte predictivo"
      ],
      "metadata": {
        "id": "Pdw9K8glvAAr"
      }
    },
    {
      "cell_type": "markdown",
      "source": [
        "### Ahora, podemos determinar cuanto aportan estas variables? para esto calculemos su IV"
      ],
      "metadata": {
        "id": "alsGCAcLpPfx"
      }
    },
    {
      "cell_type": "code",
      "execution_count": null,
      "metadata": {
        "id": "Hbk61CO_HY4B"
      },
      "outputs": [],
      "source": [
        "tot_train_t=pd.concat([X_train_t[cat_cols], y_train], axis=1)\n",
        "tot_train_t.head()"
      ]
    },
    {
      "cell_type": "code",
      "execution_count": null,
      "metadata": {
        "id": "axrO1Wt3GC4K"
      },
      "outputs": [],
      "source": [
        "def calculate_woe_iv(dataset, feature_cat, target):\n",
        "    lst = []\n",
        "    feature=feature_cat\n",
        "    for i in range(dataset[feature].nunique()):\n",
        "        val = list(dataset[feature].unique())[i]\n",
        "        lst.append({\n",
        "            'Value': val,\n",
        "            'All': dataset[dataset[feature] == val].count()[feature],\n",
        "            'Good': dataset[(dataset[feature] == val) & (dataset[target] == 0)].count()[feature],\n",
        "            'Bad': dataset[(dataset[feature] == val) & (dataset[target] == 1)].count()[feature]\n",
        "        })\n",
        "    dset = pd.DataFrame(lst)\n",
        "    dset['Distr_Good'] = dset['Good'] / dset['Good'].sum()\n",
        "    dset['Distr_Bad'] = dset['Bad'] / dset['Bad'].sum()\n",
        "    dset['WoE'] = np.log(dset['Distr_Good'] / dset['Distr_Bad'])\n",
        "    dset = dset.replace({'WoE': {np.inf: 0, -np.inf: 0}})\n",
        "    dset['IV'] = (dset['Distr_Good'] - dset['Distr_Bad']) * dset['WoE']\n",
        "    iv = dset['IV'].sum()\n",
        "    dset = dset.sort_values(by='WoE')\n",
        "    return iv, dset"
      ]
    },
    {
      "cell_type": "code",
      "execution_count": null,
      "metadata": {
        "id": "qx6JwfhiRp5s"
      },
      "outputs": [],
      "source": [
        "def plot_by_woe(df_WoE, rotation_of_x_axis_labels = 0):\n",
        "    x = np.array(df_WoE.iloc[:, 0].apply(str))\n",
        "    y = df_WoE['WoE']\n",
        "    plt.figure(figsize=(18, 6))\n",
        "    plt.plot(x, y, marker = 'o', linestyle = '--', color = 'k')\n",
        "    plt.xlabel(df_WoE.columns[0])\n",
        "    plt.ylabel('WOE')\n",
        "    plt.title(str('WOE por ' + df_WoE.columns[0]))\n",
        "    plt.xticks(rotation = rotation_of_x_axis_labels)"
      ]
    },
    {
      "cell_type": "markdown",
      "metadata": {
        "id": "aIRnJYumZ91Q"
      },
      "source": [
        "### Generemos un reporte con todas los IVs"
      ]
    },
    {
      "cell_type": "code",
      "execution_count": null,
      "metadata": {
        "id": "6EK9JgS_Y8gs"
      },
      "outputs": [],
      "source": [
        "def getFeatureIV_Importance(df,features,target):\n",
        "    featureIV_Importance=list()\n",
        "    for v in features:\n",
        "      iv, rep=calculate_woe_iv(df,v,target)\n",
        "      featureIV_Importance.append(iv)\n",
        "    display(pd.DataFrame({\"Feature\":features, \"IV\":featureIV_Importance}).sort_values(\"IV\",ascending=False))"
      ]
    },
    {
      "cell_type": "markdown",
      "metadata": {
        "id": "Old8w51TDxIS"
      },
      "source": [
        "### 4.1 Variables Categóricas"
      ]
    },
    {
      "cell_type": "code",
      "execution_count": null,
      "metadata": {
        "id": "T8LskV-5bp6e"
      },
      "outputs": [],
      "source": [
        "getFeatureIV_Importance(tot_train_t,cat_cols,\"FLG_DEFAULT_12M\")"
      ]
    },
    {
      "cell_type": "markdown",
      "metadata": {
        "id": "t6IJKTQQdcgp"
      },
      "source": [
        "### En este punto, quedémonos solo con las variables cuyo IV es mayor al 2% y menor a 50%"
      ]
    },
    {
      "cell_type": "code",
      "execution_count": null,
      "metadata": {
        "id": "Fv3RivJA8I5t"
      },
      "outputs": [],
      "source": [
        "len(cat_cols)"
      ]
    },
    {
      "cell_type": "code",
      "execution_count": null,
      "metadata": {
        "id": "zC1QlXI_dbl1"
      },
      "outputs": [],
      "source": [
        "cat_cols_2=['SEGMENTOCLIENTE','CLASIF_SISTEMA_ULT_12M','FLG_PDH','PROFESION','ZONA_DEL_DESEMBOLSO','ESTADO_CIVIL','FLG_GARANTIA','HIPOTECARIO_RELACIONADA']"
      ]
    },
    {
      "cell_type": "code",
      "execution_count": null,
      "metadata": {
        "id": "_xZL0GlU8Wb0"
      },
      "outputs": [],
      "source": [
        "len(cat_cols_2)"
      ]
    },
    {
      "cell_type": "code",
      "execution_count": null,
      "metadata": {
        "id": "WH8L--eNoGgo"
      },
      "outputs": [],
      "source": [
        "IV_v1, ReporteWoe_v1=calculate_woe_iv(tot_train_t, 'SEGMENTOCLIENTE', 'FLG_DEFAULT_12M')\n",
        "plot_by_woe(ReporteWoe_v1)"
      ]
    },
    {
      "cell_type": "code",
      "execution_count": null,
      "metadata": {
        "id": "NLOE5F3noScT"
      },
      "outputs": [],
      "source": [
        "IV_v2, ReporteWoe_v2=calculate_woe_iv(tot_train_t, 'CLASIF_SISTEMA_ULT_12M', 'FLG_DEFAULT_12M')\n",
        "plot_by_woe(ReporteWoe_v2)"
      ]
    },
    {
      "cell_type": "code",
      "execution_count": null,
      "metadata": {
        "id": "NJ2_LhHmoxKv"
      },
      "outputs": [],
      "source": [
        "IV_v3, ReporteWoe_v3=calculate_woe_iv(tot_train_t, 'FLG_PDH', 'FLG_DEFAULT_12M')\n",
        "plot_by_woe(ReporteWoe_v3)"
      ]
    },
    {
      "cell_type": "code",
      "execution_count": null,
      "metadata": {
        "id": "N1PEKtPWpsv4"
      },
      "outputs": [],
      "source": [
        "IV_v4, ReporteWoe_v4=calculate_woe_iv(tot_train_t, 'PROFESION', 'FLG_DEFAULT_12M')\n",
        "plot_by_woe(ReporteWoe_v4)"
      ]
    },
    {
      "cell_type": "code",
      "execution_count": null,
      "metadata": {
        "id": "drgncQtHp4FE"
      },
      "outputs": [],
      "source": [
        "IV_v5, ReporteWoe_v5=calculate_woe_iv(tot_train_t, 'ZONA_DEL_DESEMBOLSO', 'FLG_DEFAULT_12M')\n",
        "plot_by_woe(ReporteWoe_v5)"
      ]
    },
    {
      "cell_type": "code",
      "execution_count": null,
      "metadata": {
        "id": "fNOrbe7JqRd-"
      },
      "outputs": [],
      "source": [
        "IV_v6, ReporteWoe_v6=calculate_woe_iv(tot_train_t, 'ESTADO_CIVIL', 'FLG_DEFAULT_12M')\n",
        "plot_by_woe(ReporteWoe_v6)"
      ]
    },
    {
      "cell_type": "markdown",
      "metadata": {
        "id": "PTh6ioBKNOxn"
      },
      "source": [
        "### 4.2 Variables numéricas"
      ]
    },
    {
      "cell_type": "markdown",
      "metadata": {
        "id": "8psoLfeKHJbI"
      },
      "source": [
        "#### En este punto discretizo para luego encontrar el IV de las variables"
      ]
    },
    {
      "cell_type": "code",
      "execution_count": null,
      "metadata": {
        "id": "kFci4lftPSGC"
      },
      "outputs": [],
      "source": [
        "from feature_engine.discretisation import EqualFrequencyDiscretiser"
      ]
    },
    {
      "cell_type": "code",
      "execution_count": null,
      "metadata": {
        "id": "PBXnCKSdHwHk"
      },
      "outputs": [],
      "source": [
        "disc1 = EqualFrequencyDiscretiser(q=10,\n",
        "                                  variables=num_cols,\n",
        "                                  return_boundaries=True,)\n",
        "disc1.fit(X_train_t[num_cols])"
      ]
    },
    {
      "cell_type": "code",
      "execution_count": null,
      "metadata": {
        "id": "3a85vYL_HwDZ"
      },
      "outputs": [],
      "source": [
        "X_train_t_numdisc=disc1.transform(X_train_t[num_cols])\n",
        "X_test_t_numdisc=disc1.transform(X_test_t[num_cols])"
      ]
    },
    {
      "cell_type": "code",
      "execution_count": null,
      "metadata": {
        "id": "Hqpt_LTHHv-w"
      },
      "outputs": [],
      "source": [
        "X_train_t_numdisc.head()"
      ]
    },
    {
      "cell_type": "markdown",
      "metadata": {
        "id": "rV-SooDrhAcX"
      },
      "source": [
        "### Veamos cuales son las variables numéricas más importantes, basado en su IV"
      ]
    },
    {
      "cell_type": "code",
      "execution_count": null,
      "metadata": {
        "id": "DXgSZiPnL3jt"
      },
      "outputs": [],
      "source": [
        "tot_train_t2=pd.concat([X_train_t_numdisc, y_train], axis=1)\n",
        "tot_train_t2.head()"
      ]
    },
    {
      "cell_type": "code",
      "execution_count": null,
      "metadata": {
        "id": "OMvQHBNNcUkB"
      },
      "outputs": [],
      "source": [
        "getFeatureIV_Importance(tot_train_t2,num_cols,\"FLG_DEFAULT_12M\")"
      ]
    },
    {
      "cell_type": "markdown",
      "metadata": {
        "id": "0iwE3WRyjxh9"
      },
      "source": [
        "### Nuevamente, en este punto también solo quedémonos con las variables numéricas con IV mayor a 2% y menor a 50%"
      ]
    },
    {
      "cell_type": "code",
      "execution_count": null,
      "metadata": {
        "id": "Es9MbRbj8c1Q"
      },
      "outputs": [],
      "source": [
        "len(num_cols)"
      ]
    },
    {
      "cell_type": "code",
      "execution_count": null,
      "metadata": {
        "id": "bs3t5gM8cUb8"
      },
      "outputs": [],
      "source": [
        "num_cols_2=['MEDIANA_AHORROS_ULT_6M','INGRESO_CLIENTE','MESES_AHORROS_ULT_6M','NUMERO_DE_PAGOS_PDH','PLAZO_CREDITO','LINEA_DE_TC','EDAD_T',\n",
        "            'MONTO_TC_MEMBRESIA','DEUDA','ATRASO_MAXIMO_ULT_24M','DEUDA_TOTAL_SISTEMA','ATRASO_MAXIMO_ULT_12M']"
      ]
    },
    {
      "cell_type": "code",
      "execution_count": null,
      "metadata": {
        "id": "LDATtV3F8fDw"
      },
      "outputs": [],
      "source": [
        "len(num_cols_2)"
      ]
    },
    {
      "cell_type": "code",
      "execution_count": null,
      "metadata": {
        "id": "wsYEfHmsqsqX"
      },
      "outputs": [],
      "source": [
        "IV_v1, ReporteWoe_v1=calculate_woe_iv(tot_train_t2, 'MEDIANA_AHORROS_ULT_6M', 'FLG_DEFAULT_12M')\n",
        "plot_by_woe(ReporteWoe_v1)"
      ]
    },
    {
      "cell_type": "code",
      "execution_count": null,
      "metadata": {
        "id": "eHthOLvsqsm-"
      },
      "outputs": [],
      "source": [
        "IV_v2, ReporteWoe_v2=calculate_woe_iv(tot_train_t2, 'INGRESO_CLIENTE', 'FLG_DEFAULT_12M')\n",
        "plot_by_woe(ReporteWoe_v2)"
      ]
    },
    {
      "cell_type": "code",
      "execution_count": null,
      "metadata": {
        "id": "rB0wu0q-qsjL"
      },
      "outputs": [],
      "source": [
        "IV_v3, ReporteWoe_v3=calculate_woe_iv(tot_train_t2, 'MESES_AHORROS_ULT_6M', 'FLG_DEFAULT_12M')\n",
        "plot_by_woe(ReporteWoe_v3)"
      ]
    },
    {
      "cell_type": "code",
      "execution_count": null,
      "metadata": {
        "id": "iceQDEqALYK4"
      },
      "outputs": [],
      "source": [
        "IV_v4, ReporteWoe_v4=calculate_woe_iv(tot_train_t2, 'EDAD_T', 'FLG_DEFAULT_12M')\n",
        "plot_by_woe(ReporteWoe_v4)"
      ]
    },
    {
      "cell_type": "markdown",
      "metadata": {
        "id": "0pYkFqcLrlSk"
      },
      "source": [
        "### 4.3 Codificación de variables"
      ]
    },
    {
      "cell_type": "markdown",
      "metadata": {
        "id": "rmv54slND4WC"
      },
      "source": [
        "#### Variables Categóricas"
      ]
    },
    {
      "cell_type": "code",
      "execution_count": null,
      "metadata": {
        "id": "knZ2W99r_fU3"
      },
      "outputs": [],
      "source": [
        "from feature_engine.encoding import WoEEncoder"
      ]
    },
    {
      "cell_type": "code",
      "execution_count": null,
      "metadata": {
        "id": "RJM_1hEDGtX_"
      },
      "outputs": [],
      "source": [
        "encoder_2 = WoEEncoder(variables=cat_cols,\n",
        "                       fill_value=0) #ignore_format=False\n",
        "encoder_2.fit(X_train_t[cat_cols], y_train)"
      ]
    },
    {
      "cell_type": "code",
      "execution_count": null,
      "metadata": {
        "id": "gzCO1Sj-OcmU"
      },
      "outputs": [],
      "source": [
        "X_train_woe_enc = encoder_2.transform(X_train_t[cat_cols])\n",
        "X_test_woe_enc = encoder_2.transform(X_test_t[cat_cols])"
      ]
    },
    {
      "cell_type": "code",
      "execution_count": null,
      "metadata": {
        "id": "d_2KTs5HOceR"
      },
      "outputs": [],
      "source": [
        "X_train_woe_enc.head()"
      ]
    },
    {
      "cell_type": "markdown",
      "metadata": {
        "id": "buleY20fnNzm"
      },
      "source": [
        "### Actualizamos nuestro pipeline con todo el flujo de tratamiento de datos"
      ]
    },
    {
      "cell_type": "code",
      "execution_count": null,
      "metadata": {
        "id": "JWiSx_y5IVtm"
      },
      "outputs": [],
      "source": [
        "pipe_5 = Pipeline(\n",
        "    [\n",
        "        (   \"median_imputer\",\n",
        "            MeanMedianImputer(imputation_method=\"median\", variables=['LINEA_DE_TC','EDAD_T','INGRESO_CLIENTE'])\n",
        "        ),\n",
        "        (   \"arbitrary_imputer\",\n",
        "            ArbitraryNumberImputer(arbitrary_number=0, variables=['CUOTA', 'DEUDA_TOTAL_SISTEMA', 'MEDIANA_AHORROS_ULT_6M', 'MESES_AHORROS_ULT_6M', 'ATRASO_MAXIMO_ULT_24M','ATRASO_MAXIMO_ULT_12M','MONTO_TC_MEMBRESIA']),\n",
        "        ),\n",
        "        (   \"mode_imputer\",\n",
        "           CategoricalImputer(imputation_method=\"frequent\", variables=['PROFESION','ZONA_DEL_DESEMBOLSO','ESTADO_CIVIL'])\n",
        "        ),\n",
        "        (   \"rare_encoder\",\n",
        "            RareLabelEncoder(tol=0.01,n_categories=5,variables=[\"PROFESION\",\"SEGMENTOCLIENTE\",])\n",
        "        ),\n",
        "        (   \"capper\",\n",
        "            Winsorizer(variables=['DEUDA', 'ATRASO_MAXIMO_ULT_6M','ATRASO_MAXIMO_ULT_12M', 'ATRASO_MAXIMO_ULT_24M',\n",
        "          'MEDIANA_AHORROS_ULT_6M', 'DEUDA_TOTAL_SISTEMA', 'MONTO_TC_SISTEMA', 'INGRESO_CLIENTE','EDAD_T','CUOTA',\n",
        "          'LINEA_DE_TC', 'MONTO_TC_MEMBRESIA'], capping_method=\"quantiles\", tail=\"right\", fold=0.01)\n",
        "        ),\n",
        "        (   \"scaler\",\n",
        "            ColumnTransformer(transformers=[('e', RobustScaler(), ['DEUDA', 'PLAZO_CREDITO', 'ATRASO_MAXIMO_ULT_6M','ATRASO_MAXIMO_ULT_12M', 'ATRASO_MAXIMO_ULT_24M','MESES_AHORROS_ULT_6M',\n",
        "          'MEDIANA_AHORROS_ULT_6M', 'DEUDA_TOTAL_SISTEMA','NUMERO_DE_PAGOS_PDH', 'MONTO_TC_SISTEMA', 'INGRESO_CLIENTE', 'EDAD_T','CUOTA',\n",
        "          'LINEA_DE_TC', 'MONTO_TC_MEMBRESIA'])],remainder='passthrough',verbose_feature_names_out=False).set_output(transform=\"pandas\")\n",
        "        ),\n",
        "        (   \"encoder_2\",\n",
        "            WoEEncoder(variables=['FLG_GARANTIA','SEGMENTOCLIENTE','TARJETA_RELACIONADA','VEHICULAR_RELACIONADA','HIPOTECARIO_RELACIONADA','CLASIF_SISTEMA_ULT_12M',\n",
        "          'FLG_PDH','PROFESION','ZONA_DEL_DESEMBOLSO','ESTADO_CIVIL','FLG_TC_VISA','FLG_TC_MC'],\n",
        "                       fill_value=0)\n",
        "        ),\n",
        "    ]\n",
        ")"
      ]
    },
    {
      "cell_type": "code",
      "execution_count": null,
      "metadata": {
        "id": "fRm0VWAJo2Os"
      },
      "outputs": [],
      "source": [
        "pipe_5.fit(X_train,y_train)"
      ]
    },
    {
      "cell_type": "code",
      "execution_count": null,
      "metadata": {
        "id": "w7c2WUG7o2MG"
      },
      "outputs": [],
      "source": [
        "X_train_t_p = pipe_5.transform(X_train)\n",
        "X_test_t_p = pipe_5.transform(X_test)"
      ]
    },
    {
      "cell_type": "code",
      "execution_count": null,
      "metadata": {
        "id": "7qbNSBW5GHup"
      },
      "outputs": [],
      "source": [
        "X_train_t_p.head()"
      ]
    },
    {
      "cell_type": "markdown",
      "metadata": {
        "id": "Y14B14kp8yR8"
      },
      "source": [
        "### 4.4 Análisis de Correlaciones\n",
        "En este punto, verifiquemos si existe correlación en las variables predictoras que hemos elegido, con el fin de depurarlas"
      ]
    },
    {
      "cell_type": "code",
      "execution_count": null,
      "metadata": {
        "id": "sMh5mKAs_5ow"
      },
      "outputs": [],
      "source": [
        "# Creemos una función para identificar de manera masiva a las variables correlacionadas, en caso de tener un mayor volumen de variables\n",
        "def correlation(dataset, threshold):\n",
        "    col_corr = set()\n",
        "    corr_matrix = dataset.corr()\n",
        "    for i in range(len(corr_matrix.columns)):\n",
        "        for j in range(i):\n",
        "            if abs(corr_matrix.iloc[i, j]) > threshold: # we are interested in absolute coeff value\n",
        "                print(abs(corr_matrix.iloc[i, j]), corr_matrix.columns[i], corr_matrix.columns[j])\n",
        "                colname = corr_matrix.columns[j]\n",
        "                col_corr.add(colname)\n",
        "    return col_corr"
      ]
    },
    {
      "cell_type": "code",
      "execution_count": null,
      "metadata": {
        "id": "w704NZvLD4Ar"
      },
      "outputs": [],
      "source": [
        "X_train_t2=pd.concat([X_train_t_p[cat_cols_2], X_train_t_p[num_cols_2]], axis=1)\n",
        "X_test_t2=pd.concat([X_test_t_p[cat_cols_2], X_test_t_p[num_cols_2]], axis=1)\n",
        "X_train_t2.head()"
      ]
    },
    {
      "cell_type": "code",
      "execution_count": null,
      "metadata": {
        "id": "JD_rOp2tD31X"
      },
      "outputs": [],
      "source": [
        "corr_features = correlation(X_train_t2, 0.5)\n",
        "len(set(corr_features))"
      ]
    },
    {
      "cell_type": "code",
      "execution_count": null,
      "metadata": {
        "id": "MYsLVBwO6zmC"
      },
      "outputs": [],
      "source": [
        "from feature_engine.selection import DropCorrelatedFeatures\n",
        "sel = DropCorrelatedFeatures(\n",
        "    threshold=0.5,\n",
        "    method='pearson',\n",
        "    missing_values='ignore'\n",
        ")\n",
        "sel.fit(X_train_t2)"
      ]
    },
    {
      "cell_type": "code",
      "execution_count": null,
      "metadata": {
        "id": "nRCkT8k_AFRH"
      },
      "outputs": [],
      "source": [
        "X_train_t2_p = sel.transform(X_train_t2)\n",
        "X_test_t2_p = sel.transform(X_test_t2)"
      ]
    },
    {
      "cell_type": "code",
      "execution_count": null,
      "metadata": {
        "id": "momp-6kQG258"
      },
      "outputs": [],
      "source": [
        "X_train_t2_p.shape, X_test_t2_p.shape"
      ]
    },
    {
      "cell_type": "code",
      "execution_count": null,
      "metadata": {
        "id": "SCyJj_NGJA0k"
      },
      "outputs": [],
      "source": [
        "X_train_t2_p.columns"
      ]
    },
    {
      "cell_type": "code",
      "execution_count": null,
      "metadata": {
        "id": "ZdXRIjxYJER6"
      },
      "outputs": [],
      "source": [
        "cat_cols_3=['SEGMENTOCLIENTE', 'CLASIF_SISTEMA_ULT_12M', 'FLG_PDH', 'PROFESION', 'ZONA_DEL_DESEMBOLSO', 'ESTADO_CIVIL', 'FLG_GARANTIA']"
      ]
    },
    {
      "cell_type": "code",
      "execution_count": null,
      "metadata": {
        "id": "4vVAPtVZJWWh"
      },
      "outputs": [],
      "source": [
        "num_cols_3=['MEDIANA_AHORROS_ULT_6M', 'MESES_AHORROS_ULT_6M', 'LINEA_DE_TC', 'EDAD_T', 'DEUDA', 'DEUDA_TOTAL_SISTEMA', 'ATRASO_MAXIMO_ULT_12M']"
      ]
    },
    {
      "cell_type": "markdown",
      "metadata": {
        "id": "FMNjQHF5hrwg"
      },
      "source": [
        "### Alternativamente usaremos las variables numéricas discretizadas y codificadas"
      ]
    },
    {
      "cell_type": "code",
      "execution_count": null,
      "metadata": {
        "id": "Ys1tBhr7HWxd"
      },
      "outputs": [],
      "source": [
        "X_train_t_numdisc.columns"
      ]
    },
    {
      "cell_type": "code",
      "execution_count": null,
      "metadata": {
        "id": "YPU0R6qOLLYB"
      },
      "outputs": [],
      "source": [
        "X_train_t_numdisc.shape"
      ]
    },
    {
      "cell_type": "code",
      "execution_count": null,
      "metadata": {
        "id": "KYAQaTX6io5O"
      },
      "outputs": [],
      "source": [
        "encoder_4 = WoEEncoder(#variables=num_cols,\n",
        "                       fill_value=0) #ignore_format=False\n",
        "encoder_4.fit(X_train_t_numdisc, y_train)"
      ]
    },
    {
      "cell_type": "code",
      "execution_count": null,
      "metadata": {
        "id": "RiDQHMEVio2I"
      },
      "outputs": [],
      "source": [
        "X_train_woe_enc2 = encoder_4.transform(X_train_t_numdisc)\n",
        "X_test_woe_enc2 = encoder_4.transform(X_test_t_numdisc)"
      ]
    },
    {
      "cell_type": "code",
      "execution_count": null,
      "metadata": {
        "id": "gOnNKYa7QfRO"
      },
      "outputs": [],
      "source": [
        "X_train_woe_enc2.head()"
      ]
    },
    {
      "cell_type": "code",
      "execution_count": null,
      "metadata": {
        "id": "84OlHz5kKrm1"
      },
      "outputs": [],
      "source": [
        "X_train_t3_p=pd.concat([X_train_t2_p[cat_cols_3], X_train_woe_enc2[num_cols_3]], axis=1)\n",
        "X_test_t3_p=pd.concat([X_test_t2_p[cat_cols_3], X_test_woe_enc2[num_cols_3]], axis=1)"
      ]
    },
    {
      "cell_type": "markdown",
      "metadata": {
        "id": "jJZfHh9gABX_"
      },
      "source": [
        "### Actualizamos nuestro pipeline con todo el flujo de tratamiento de datos"
      ]
    },
    {
      "cell_type": "code",
      "execution_count": null,
      "metadata": {
        "id": "0EiuxaHK_5ZR"
      },
      "outputs": [],
      "source": [
        "pipe_6 = Pipeline(\n",
        "    [\n",
        "        (   \"median_imputer\",\n",
        "            MeanMedianImputer(imputation_method=\"median\", variables=['LINEA_DE_TC','EDAD_T','INGRESO_CLIENTE'])\n",
        "        ),\n",
        "        (   \"arbitrary_imputer\",\n",
        "            ArbitraryNumberImputer(arbitrary_number=0, variables=['CUOTA', 'DEUDA_TOTAL_SISTEMA', 'MEDIANA_AHORROS_ULT_6M', 'MESES_AHORROS_ULT_6M', 'ATRASO_MAXIMO_ULT_24M','ATRASO_MAXIMO_ULT_12M','MONTO_TC_MEMBRESIA']),\n",
        "        ),\n",
        "        (   \"mode_imputer\",\n",
        "           CategoricalImputer(imputation_method=\"frequent\", variables=['PROFESION','ZONA_DEL_DESEMBOLSO','ESTADO_CIVIL'])\n",
        "        ),\n",
        "        (   \"rare_encoder\",\n",
        "            RareLabelEncoder(tol=0.01,n_categories=5,variables=[\"PROFESION\",\"SEGMENTOCLIENTE\",])\n",
        "        ),\n",
        "        (   \"capper\",\n",
        "            Winsorizer(variables=['DEUDA', 'ATRASO_MAXIMO_ULT_6M','ATRASO_MAXIMO_ULT_12M', 'ATRASO_MAXIMO_ULT_24M',\n",
        "          'MEDIANA_AHORROS_ULT_6M', 'DEUDA_TOTAL_SISTEMA', 'MONTO_TC_SISTEMA', 'INGRESO_CLIENTE','EDAD_T','CUOTA',\n",
        "          'LINEA_DE_TC', 'MONTO_TC_MEMBRESIA'], capping_method=\"quantiles\", tail=\"right\", fold=0.01)\n",
        "        ),\n",
        "        (   \"scaler\",\n",
        "            ColumnTransformer(transformers=[('e', RobustScaler(), ['DEUDA', 'PLAZO_CREDITO', 'ATRASO_MAXIMO_ULT_6M','ATRASO_MAXIMO_ULT_12M', 'ATRASO_MAXIMO_ULT_24M','MESES_AHORROS_ULT_6M',\n",
        "          'MEDIANA_AHORROS_ULT_6M', 'DEUDA_TOTAL_SISTEMA','NUMERO_DE_PAGOS_PDH', 'MONTO_TC_SISTEMA', 'INGRESO_CLIENTE', 'EDAD_T','CUOTA',\n",
        "          'LINEA_DE_TC', 'MONTO_TC_MEMBRESIA'])],remainder='passthrough', verbose_feature_names_out=False).set_output(transform=\"pandas\")\n",
        "        ),\n",
        "        (   \"encoder_2\",\n",
        "            WoEEncoder(variables=['FLG_GARANTIA','SEGMENTOCLIENTE','TARJETA_RELACIONADA','VEHICULAR_RELACIONADA','HIPOTECARIO_RELACIONADA','CLASIF_SISTEMA_ULT_12M',\n",
        "          'FLG_PDH','PROFESION','ZONA_DEL_DESEMBOLSO','ESTADO_CIVIL','FLG_TC_VISA','FLG_TC_MC'],\n",
        "                       fill_value=0)\n",
        "        ),\n",
        "        (   \"discretiser_1\",\n",
        "            EqualFrequencyDiscretiser(q=10, variables=['DEUDA','PLAZO_CREDITO','ATRASO_MAXIMO_ULT_6M','ATRASO_MAXIMO_ULT_12M','ATRASO_MAXIMO_ULT_24M','MESES_AHORROS_ULT_6M','MEDIANA_AHORROS_ULT_6M',\n",
        "                                                       'DEUDA_TOTAL_SISTEMA','NUMERO_DE_PAGOS_PDH','MONTO_TC_SISTEMA','INGRESO_CLIENTE','EDAD_T','CUOTA','LINEA_DE_TC','MONTO_TC_MEMBRESIA'],\n",
        "                                      return_boundaries=True)\n",
        "        ),\n",
        "        (   \"encoder_4\",\n",
        "            WoEEncoder(variables=['DEUDA','PLAZO_CREDITO','ATRASO_MAXIMO_ULT_6M','ATRASO_MAXIMO_ULT_12M','ATRASO_MAXIMO_ULT_24M','MESES_AHORROS_ULT_6M','MEDIANA_AHORROS_ULT_6M','DEUDA_TOTAL_SISTEMA','NUMERO_DE_PAGOS_PDH',\n",
        "                                  'MONTO_TC_SISTEMA','INGRESO_CLIENTE','EDAD_T','CUOTA','LINEA_DE_TC','MONTO_TC_MEMBRESIA'],\n",
        "                       fill_value=0)\n",
        "        ),\n",
        "        (   \"var_selector\",\n",
        "            ColumnTransformer([('selector', 'passthrough', ['SEGMENTOCLIENTE','CLASIF_SISTEMA_ULT_12M', 'FLG_PDH', 'PROFESION','ZONA_DEL_DESEMBOLSO', 'ESTADO_CIVIL', 'FLG_GARANTIA','MEDIANA_AHORROS_ULT_6M', 'MESES_AHORROS_ULT_6M',\n",
        "                                                            'LINEA_DE_TC','EDAD_T', 'DEUDA', 'DEUDA_TOTAL_SISTEMA', 'ATRASO_MAXIMO_ULT_12M'])], remainder='drop', verbose_feature_names_out=False).set_output(transform=\"pandas\")\n",
        "        )\n",
        "    ]\n",
        ")"
      ]
    },
    {
      "cell_type": "code",
      "execution_count": null,
      "metadata": {
        "id": "9rzhRaXT_5WQ"
      },
      "outputs": [],
      "source": [
        "pipe_6.fit(X_train,y_train)"
      ]
    },
    {
      "cell_type": "code",
      "execution_count": null,
      "metadata": {
        "id": "KMzAm6R6ERd0"
      },
      "outputs": [],
      "source": [
        "X_train_t_p = pipe_6.transform(X_train)\n",
        "X_test_t_p = pipe_6.transform(X_test)"
      ]
    },
    {
      "cell_type": "markdown",
      "metadata": {
        "id": "Oqmlgf39pC6B"
      },
      "source": [
        "#### A partir de aqui X_train_t3_p o X_train_t_p se pueden usar indistintamente dado que generan la misma base, lo mismo con los test"
      ]
    },
    {
      "cell_type": "markdown",
      "metadata": {
        "id": "Dyk77sp7mCM-"
      },
      "source": [
        "## **5. Entrenamiento del Modelo**\n",
        "En esta sección construiremos tres tipos de modelos y los evaluaremos para quedarnos con el mejor de ellos"
      ]
    },
    {
      "cell_type": "code",
      "execution_count": null,
      "metadata": {
        "id": "Hmu_8mpNEhyD"
      },
      "outputs": [],
      "source": [
        "from sklearn.linear_model import LogisticRegression\n",
        "from sklearn.ensemble import RandomForestClassifier\n",
        "from sklearn.ensemble import GradientBoostingClassifier\n",
        "from sklearn.metrics import roc_auc_score"
      ]
    },
    {
      "cell_type": "code",
      "execution_count": null,
      "metadata": {
        "id": "jz5ILFJCVsrd"
      },
      "outputs": [],
      "source": [
        "logit = LogisticRegression()\n",
        "logit.fit(X_train_t2_p, y_train)\n",
        "pred_train_logit = logit.predict_proba(X_train_t2_p)\n",
        "pred_test_logit = logit.predict_proba(X_test_t2_p)\n",
        "print('Train set')\n",
        "print('Logistic regression roc-auc: {}'.format(roc_auc_score(y_train, pred_train_logit[:,1])))\n",
        "print('Test set')\n",
        "print('Logistic regression roc-auc: {}'.format(roc_auc_score(y_test, pred_test_logit[:,1])))"
      ]
    },
    {
      "cell_type": "code",
      "execution_count": null,
      "metadata": {
        "id": "WyrXpRkXGZ_7"
      },
      "outputs": [],
      "source": [
        "fi=pd.Series(logit.coef_[0],index=logit.feature_names_in_)\n",
        "fi.sort_values(ascending=True, inplace=True)\n",
        "fi.plot.barh(color='blue')\n",
        "plt.xlabel(\"Importance\")\n",
        "plt.ylabel(\"Feature\")\n",
        "plt.title(\"Feature Importance\")\n",
        "plt.show ()"
      ]
    },
    {
      "cell_type": "code",
      "execution_count": null,
      "metadata": {
        "id": "BMC8g5WLKYdh"
      },
      "outputs": [],
      "source": [
        "logit_2 = LogisticRegression()\n",
        "logit_2.fit(X_train_t3_p, y_train)\n",
        "pred_train_logit_2 = logit_2.predict_proba(X_train_t3_p)\n",
        "pred_test_logit_2 = logit_2.predict_proba(X_test_t3_p)\n",
        "print('Train set')\n",
        "print('Logistic regression roc-auc: {}'.format(roc_auc_score(y_train, pred_train_logit_2[:,1])))\n",
        "print('Test set')\n",
        "print('Logistic regression roc-auc: {}'.format(roc_auc_score(y_test, pred_test_logit_2[:,1])))"
      ]
    },
    {
      "cell_type": "code",
      "execution_count": null,
      "metadata": {
        "id": "fTddQ1BCGqgv"
      },
      "outputs": [],
      "source": [
        "fi=pd.Series(logit_2.coef_[0],index=logit_2.feature_names_in_)\n",
        "fi.sort_values(ascending=True, inplace=True)\n",
        "fi.plot.barh(color='blue')\n",
        "plt.xlabel(\"Importance\")\n",
        "plt.ylabel(\"Feature\")\n",
        "plt.title(\"Feature Importance\")\n",
        "plt.show ()"
      ]
    },
    {
      "cell_type": "code",
      "execution_count": null,
      "metadata": {
        "id": "8g51Vf4cHcOb"
      },
      "outputs": [],
      "source": [
        "logit_3 = LogisticRegression()\n",
        "logit_3.fit(X_train_t_p, y_train)\n",
        "pred_train_logit_3 = logit_3.predict_proba(X_train_t_p)\n",
        "pred_test_logit_3 = logit_3.predict_proba(X_test_t_p)\n",
        "print('Train set')\n",
        "print('Logistic regression roc-auc: {}'.format(roc_auc_score(y_train, pred_train_logit_3[:,1])))\n",
        "print('Test set')\n",
        "print('Logistic regression roc-auc: {}'.format(roc_auc_score(y_test, pred_test_logit_3[:,1])))\n"
      ]
    },
    {
      "cell_type": "code",
      "execution_count": null,
      "metadata": {
        "id": "FvvKACyjEgDq"
      },
      "outputs": [],
      "source": [
        "rf = RandomForestClassifier(random_state=39)\n",
        "rf.fit(X_train_t2_p, y_train)\n",
        "pred_train_rf = rf.predict_proba(X_train_t2_p)\n",
        "pred_test_rf = rf.predict_proba(X_test_t2_p)\n",
        "print('Train set')\n",
        "print('Random Forests roc-auc: {}'.format(roc_auc_score(y_train, pred_train_rf[:,1])))\n",
        "print('Test set')\n",
        "print('Random Forests roc-auc: {}'.format(roc_auc_score(y_test, pred_test_rf[:,1])))"
      ]
    },
    {
      "cell_type": "code",
      "execution_count": null,
      "metadata": {
        "id": "VeUEKzUbFZg2"
      },
      "outputs": [],
      "source": [
        "gbc = GradientBoostingClassifier(random_state=44)\n",
        "gbc.fit(X_train_t2_p, y_train)\n",
        "pred_train_gbc = gbc.predict_proba(X_train_t2_p)\n",
        "pred_test_gbc = gbc.predict_proba(X_test_t2_p)\n",
        "print('Train set')\n",
        "print('Gradient Boosted Trees roc-auc: {}'.format(roc_auc_score(y_train, pred_train_gbc[:,1])))\n",
        "print('Test set')\n",
        "print('Gradient Boosted Trees roc-auc: {}'.format(roc_auc_score(y_test, pred_test_gbc[:,1])))"
      ]
    },
    {
      "cell_type": "markdown",
      "metadata": {
        "id": "w6QhsymfBxwB"
      },
      "source": [
        "### En este punto haremos un zoom en las técnicas tanto tradicionales (en este caso Regresión Logística) como las Técnicas Avanzadas (Random Forest, Gradient Boosting, etc)"
      ]
    },
    {
      "cell_type": "markdown",
      "metadata": {
        "id": "aN8P7-g0CM-E"
      },
      "source": [
        "## **5.1. Regresión Logística**"
      ]
    },
    {
      "cell_type": "markdown",
      "metadata": {
        "id": "9khnR9x3RIb9"
      },
      "source": [
        "### Usemos statmodels"
      ]
    },
    {
      "cell_type": "code",
      "execution_count": null,
      "metadata": {
        "id": "tfojLnchBxAN"
      },
      "outputs": [],
      "source": [
        "import statsmodels.api as sm"
      ]
    },
    {
      "cell_type": "code",
      "execution_count": null,
      "metadata": {
        "id": "6o9HsO_PBw68"
      },
      "outputs": [],
      "source": [
        "X_train_t3_p_addcons = sm.add_constant(X_train_t3_p)\n",
        "logit_sm = sm.Logit(y_train,X_train_t3_p_addcons)\n",
        "results_logit_sm = logit_sm.fit()"
      ]
    },
    {
      "cell_type": "code",
      "execution_count": null,
      "metadata": {
        "id": "IpmdvR49Bw1Q"
      },
      "outputs": [],
      "source": [
        "results_logit_sm.summary()"
      ]
    },
    {
      "cell_type": "code",
      "execution_count": null,
      "metadata": {
        "id": "qveCQIiNel9j"
      },
      "outputs": [],
      "source": [
        "X_test_t3_p_addcons = sm.add_constant(X_test_t3_p)"
      ]
    },
    {
      "cell_type": "code",
      "execution_count": null,
      "metadata": {
        "id": "sE-wzvUuiHxV"
      },
      "outputs": [],
      "source": [
        "y_test.value_counts()"
      ]
    },
    {
      "cell_type": "code",
      "execution_count": null,
      "metadata": {
        "id": "Ddy9N0LTLV0W"
      },
      "outputs": [],
      "source": [
        "607/(8977+607)"
      ]
    },
    {
      "cell_type": "code",
      "execution_count": null,
      "metadata": {
        "id": "EQNo4fMVixv9"
      },
      "outputs": [],
      "source": [
        "results_logit_sm.predict(X_test_t3_p_addcons).hist(figsize = (5, 3))\n",
        "plt.show()"
      ]
    },
    {
      "cell_type": "code",
      "execution_count": null,
      "metadata": {
        "id": "bMy6Z1yPgPDd"
      },
      "outputs": [],
      "source": [
        "tr = 0.5\n",
        "pred_test_logit_sm = np.where(results_logit_sm.predict(X_test_t3_p_addcons) > tr, 1, 0)\n",
        "pred_test_logit_sm"
      ]
    },
    {
      "cell_type": "code",
      "execution_count": null,
      "metadata": {
        "id": "v8XthqyVgR9G"
      },
      "outputs": [],
      "source": [
        "pd.crosstab(y_test, pred_test_logit_sm , rownames = ['Actual'], colnames = ['Predicted'])"
      ]
    },
    {
      "cell_type": "code",
      "execution_count": null,
      "metadata": {
        "id": "U1B0yzEnhjHC"
      },
      "outputs": [],
      "source": [
        "pd.crosstab(y_test, pred_test_logit_sm , rownames = ['Actual'], colnames = ['Predicted'])/y_test.shape[0]"
      ]
    },
    {
      "cell_type": "markdown",
      "metadata": {
        "id": "9odkUc_xROMv"
      },
      "source": [
        "### Usemos scikitlearn"
      ]
    },
    {
      "cell_type": "code",
      "execution_count": null,
      "metadata": {
        "id": "5VrsNCatlywO"
      },
      "outputs": [],
      "source": [
        "logit_skl = LogisticRegression(penalty='l2', class_weight='balanced') #class_weight='balanced' ; #penalty='l2' (por default)\n",
        "logit_skl.fit(X_train_t3_p, y_train)"
      ]
    },
    {
      "cell_type": "code",
      "execution_count": null,
      "metadata": {
        "id": "XaDA2KLPEUeu"
      },
      "outputs": [],
      "source": [
        "logit_skl.intercept_"
      ]
    },
    {
      "cell_type": "code",
      "execution_count": null,
      "metadata": {
        "id": "XSN7gPIzlyt4"
      },
      "outputs": [],
      "source": [
        "logit_skl_summary = pd.DataFrame(X_train_t3_p.columns.values, columns=['Features'])\n",
        "logit_skl_summary['Weights'] = logit_skl.coef_[0]\n",
        "logit_skl_summary"
      ]
    },
    {
      "cell_type": "code",
      "execution_count": null,
      "metadata": {
        "id": "nUh7ac6gOrjx"
      },
      "outputs": [],
      "source": [
        "tr = 0.5\n",
        "pred_test_logit_skl = np.where(logit_skl.predict_proba(X_test_t3_p)[:,1] > tr, 1, 0)\n",
        "pred_test_logit_skl"
      ]
    },
    {
      "cell_type": "code",
      "execution_count": null,
      "metadata": {
        "id": "BsrPSEGvOrX6"
      },
      "outputs": [],
      "source": [
        "pd.crosstab(y_test, pred_test_logit_skl , rownames = ['Actual'], colnames = ['Predicted'])"
      ]
    },
    {
      "cell_type": "code",
      "execution_count": null,
      "metadata": {
        "id": "73DPfhocPwd5"
      },
      "outputs": [],
      "source": [
        "pd.crosstab(y_test, pred_test_logit_skl , rownames = ['Actual'], colnames = ['Predicted'])/y_test.shape[0]"
      ]
    },
    {
      "cell_type": "markdown",
      "metadata": {
        "id": "P1NHm76UP7WO"
      },
      "source": [
        "#### Tambien podemos sacar esto de forma directa con las clases accuracy score y confusion matrix de scikitlearn"
      ]
    },
    {
      "cell_type": "code",
      "execution_count": null,
      "metadata": {
        "id": "rCUbYGbUHuNt"
      },
      "outputs": [],
      "source": [
        "from sklearn.metrics import accuracy_score, confusion_matrix, balanced_accuracy_score"
      ]
    },
    {
      "cell_type": "code",
      "execution_count": null,
      "metadata": {
        "id": "JYunKN9UHuLB"
      },
      "outputs": [],
      "source": [
        "accuracy_score(y_test, logit_skl.predict(X_test_t3_p))"
      ]
    },
    {
      "cell_type": "code",
      "execution_count": null,
      "metadata": {
        "id": "a5vBiJ57T9kk"
      },
      "outputs": [],
      "source": [
        "balanced_accuracy_score(y_test, logit_skl.predict(X_test_t3_p))"
      ]
    },
    {
      "cell_type": "code",
      "execution_count": null,
      "metadata": {
        "id": "ptYyCKO9FQkM"
      },
      "outputs": [],
      "source": [
        "confusion_matrix(y_test, logit_skl.predict(X_test_t3_p), labels=[0,1])"
      ]
    },
    {
      "cell_type": "markdown",
      "metadata": {
        "id": "wSn5_wudQ1-O"
      },
      "source": [
        "TN | FP\n",
        "\n",
        "FN | TP"
      ]
    },
    {
      "cell_type": "code",
      "execution_count": null,
      "metadata": {
        "id": "j5sJ0OIjFQhh"
      },
      "outputs": [],
      "source": [
        "pred_train_logit_skl = logit_skl.predict_proba(X_train_t_p)\n",
        "pred_test_logit_skl = logit_skl.predict_proba(X_test_t_p)\n",
        "print('Train set')\n",
        "print('Logistic regression roc-auc: {}'.format(roc_auc_score(y_train, pred_train_logit_skl[:,1])))\n",
        "print('Test set')\n",
        "print('Logistic regression roc-auc: {}'.format(roc_auc_score(y_test, pred_test_logit_skl[:,1])))"
      ]
    },
    {
      "cell_type": "markdown",
      "metadata": {
        "id": "jyUKKl4Jks3g"
      },
      "source": [
        "### Entrenemos un nuevo modelo de regresión logística usando los dataset procesados por optimal binning"
      ]
    },
    {
      "cell_type": "markdown",
      "metadata": {
        "id": "KDE04yqkp7nP"
      },
      "source": [
        "#### Primero, generemos un nuevo dataset con las variables seleccionadas, ahora aplicando el optimal binning"
      ]
    },
    {
      "cell_type": "code",
      "execution_count": null,
      "metadata": {
        "id": "LDoFCRAyQiyD"
      },
      "outputs": [],
      "source": [
        "pip install optbinning"
      ]
    },
    {
      "cell_type": "code",
      "execution_count": null,
      "metadata": {
        "id": "uQUfF_QYd85Y"
      },
      "outputs": [],
      "source": [
        "from optbinning import OptimalBinning\n",
        "from optbinning import BinningProcess"
      ]
    },
    {
      "cell_type": "code",
      "execution_count": null,
      "metadata": {
        "id": "12KVAWs7iyQG"
      },
      "outputs": [],
      "source": [
        "X_train_t4_p=pd.concat([X_train_t[cat_cols_3], X_train_t[num_cols_3]], axis=1)\n",
        "X_test_t4_p=pd.concat([X_test_t[cat_cols_3], X_test_t[num_cols_3]], axis=1)"
      ]
    },
    {
      "cell_type": "code",
      "execution_count": null,
      "metadata": {
        "id": "TR05H6CHd8zl"
      },
      "outputs": [],
      "source": [
        "binning_process = BinningProcess(variable_names=X_train_t4_p.columns.tolist())"
      ]
    },
    {
      "cell_type": "code",
      "execution_count": null,
      "metadata": {
        "id": "vUikeeFwd8tG"
      },
      "outputs": [],
      "source": [
        "binning_process.fit(X_train_t4_p, y_train)"
      ]
    },
    {
      "cell_type": "code",
      "execution_count": null,
      "metadata": {
        "id": "qoqYZATPfla5"
      },
      "outputs": [],
      "source": [
        "X_train_t4_p_optbinned = binning_process.transform(X_train_t4_p)\n",
        "X_test_t4_p_optbinned = binning_process.transform(X_test_t4_p)"
      ]
    },
    {
      "cell_type": "code",
      "execution_count": null,
      "metadata": {
        "id": "eK5xXaJrflXq"
      },
      "outputs": [],
      "source": [
        "X_train_t4_p_optbinned.head()"
      ]
    },
    {
      "cell_type": "code",
      "execution_count": null,
      "metadata": {
        "id": "00ESSQtTp4l-"
      },
      "outputs": [],
      "source": [
        "for variable in X_train_t4_p.columns:\n",
        "    optb = binning_process.get_binned_variable(name=variable)\n",
        "    binning_table = optb.binning_table.build()\n",
        "    print(f\"Puntos de corte para '{variable}': {optb.splits}\")\n",
        "    print(f\"Tabla de binning para '{variable}':\\n{binning_table}\\n\")"
      ]
    },
    {
      "cell_type": "markdown",
      "metadata": {
        "id": "bLnLRVaiqKvq"
      },
      "source": [
        "#### Ahora entrenemos el modelo y hallemos alguna métricas iniciales"
      ]
    },
    {
      "cell_type": "code",
      "execution_count": null,
      "metadata": {
        "id": "9cp4mhqGksIg"
      },
      "outputs": [],
      "source": [
        "logit_skl_optb = LogisticRegression(penalty='l2', class_weight='balanced') #class_weight='balanced' ; #penalty='l2' (por default)\n",
        "logit_skl_optb.fit(X_train_t4_p_optbinned, y_train)"
      ]
    },
    {
      "cell_type": "code",
      "execution_count": null,
      "metadata": {
        "id": "s6F4qKkHlKOm"
      },
      "outputs": [],
      "source": [
        "logit_skl_optb.intercept_"
      ]
    },
    {
      "cell_type": "code",
      "execution_count": null,
      "metadata": {
        "id": "BL8S40FKlJUt"
      },
      "outputs": [],
      "source": [
        "logit_skl_optb_summary = pd.DataFrame(X_train_t4_p_optbinned.columns.values, columns=['Features'])\n",
        "logit_skl_optb_summary['Weights'] = logit_skl_optb.coef_[0]\n",
        "logit_skl_optb_summary"
      ]
    },
    {
      "cell_type": "code",
      "execution_count": null,
      "metadata": {
        "id": "I1Kt7pfPlJQ0"
      },
      "outputs": [],
      "source": [
        "accuracy_score(y_test, logit_skl_optb.predict(X_test_t4_p_optbinned))"
      ]
    },
    {
      "cell_type": "code",
      "execution_count": null,
      "metadata": {
        "id": "rE-iMM2TiFey"
      },
      "outputs": [],
      "source": [
        "balanced_accuracy_score(y_test, logit_skl_optb.predict(X_test_t4_p_optbinned))"
      ]
    },
    {
      "cell_type": "code",
      "execution_count": null,
      "metadata": {
        "id": "1FNk42qbmT_2"
      },
      "outputs": [],
      "source": [
        "confusion_matrix(y_test, logit_skl_optb.predict(X_test_t4_p_optbinned), labels=[0,1])"
      ]
    },
    {
      "cell_type": "markdown",
      "metadata": {
        "id": "hrHD5aUhmq28"
      },
      "source": [
        "TN | FP\n",
        "\n",
        "FN | TP"
      ]
    },
    {
      "cell_type": "markdown",
      "metadata": {
        "id": "kwPHmuQIrz3V"
      },
      "source": [
        "#### CONCLUSION LOGIT"
      ]
    },
    {
      "cell_type": "code",
      "execution_count": null,
      "metadata": {
        "id": "OJ-OxmyVmT8j"
      },
      "outputs": [],
      "source": [
        "pred_train_logit_skl_optb = logit_skl_optb.predict_proba(X_train_t4_p_optbinned)\n",
        "pred_test_logit_skl_optb = logit_skl_optb.predict_proba(X_test_t4_p_optbinned)\n",
        "print('Train set')\n",
        "print('Logistic regression roc-auc: {}'.format(roc_auc_score(y_train, pred_train_logit_skl_optb[:,1])))\n",
        "print('Test set')\n",
        "print('Logistic regression roc-auc: {}'.format(roc_auc_score(y_test, pred_test_logit_skl_optb[:,1])))"
      ]
    },
    {
      "cell_type": "code",
      "execution_count": null,
      "metadata": {
        "id": "_Xr1_N6CWm8L"
      },
      "outputs": [],
      "source": [
        "pred_test_logit_skl_optb[:,1]"
      ]
    },
    {
      "cell_type": "markdown",
      "metadata": {
        "id": "oDVhxdjzCjOz"
      },
      "source": [
        "## **5.2. Modelos Ensamblados (basados en Arboles de Decisión)**"
      ]
    },
    {
      "cell_type": "markdown",
      "metadata": {
        "id": "15EfZE2DOQaP"
      },
      "source": [
        "## **5.2.0 Decision Tree**"
      ]
    },
    {
      "cell_type": "code",
      "execution_count": null,
      "metadata": {
        "id": "ZD3n2udeOpFE"
      },
      "outputs": [],
      "source": [
        "from sklearn.tree import DecisionTreeClassifier, plot_tree"
      ]
    },
    {
      "cell_type": "code",
      "execution_count": null,
      "metadata": {
        "id": "yJ9pkLusOpBo"
      },
      "outputs": [],
      "source": [
        "DTClasif = DecisionTreeClassifier(max_depth=5, random_state=0) #max_depth=5, ccp_alpha=0.001\n",
        "DTClasif.fit(X_train_t3_p, y_train)"
      ]
    },
    {
      "cell_type": "code",
      "execution_count": null,
      "metadata": {
        "id": "ZF0-IjoSXA1u"
      },
      "outputs": [],
      "source": [
        "fi=pd.Series(DTClasif.feature_importances_ , index=DTClasif.feature_names_in_)\n",
        "fi.sort_values(ascending=True, inplace=True)\n",
        "fi.plot.barh(color='blue')\n",
        "plt.xlabel(\"Importance\")\n",
        "plt.ylabel(\"Feature\")\n",
        "plt.title(\"Feature Importance\")\n",
        "plt.show ()"
      ]
    },
    {
      "cell_type": "code",
      "execution_count": null,
      "metadata": {
        "id": "_deSxgq4RbKN"
      },
      "outputs": [],
      "source": [
        "accuracy_score(y_test, DTClasif.predict(X_test_t3_p))"
      ]
    },
    {
      "cell_type": "code",
      "execution_count": null,
      "metadata": {
        "id": "n9REr0DqRb5y"
      },
      "outputs": [],
      "source": [
        "balanced_accuracy_score(y_test, DTClasif.predict(X_test_t3_p))"
      ]
    },
    {
      "cell_type": "code",
      "execution_count": null,
      "metadata": {
        "id": "1y_8CizKRbyO"
      },
      "outputs": [],
      "source": [
        "confusion_matrix(y_test, DTClasif.predict(X_test_t3_p), labels=[0,1])"
      ]
    },
    {
      "cell_type": "markdown",
      "metadata": {
        "id": "X1hRCZqjUoRL"
      },
      "source": [
        "TN | FP\n",
        "\n",
        "FN | TP"
      ]
    },
    {
      "cell_type": "code",
      "execution_count": null,
      "metadata": {
        "id": "Rz5gPbQ1SbOJ"
      },
      "outputs": [],
      "source": [
        "pred_train_DTClasif = DTClasif.predict_proba(X_train_t3_p)\n",
        "pred_test_DTClasif = DTClasif.predict_proba(X_test_t3_p)\n",
        "print('Train set')\n",
        "print('Decision Tree Classifier roc-auc: {}'.format(roc_auc_score(y_train, pred_train_DTClasif[:,1])))\n",
        "print('Test set')\n",
        "print('Decision Tree Classifier roc-auc: {}'.format(roc_auc_score(y_test, pred_test_DTClasif[:,1])))"
      ]
    },
    {
      "cell_type": "code",
      "execution_count": null,
      "metadata": {
        "id": "RThoMbhlOx8m"
      },
      "outputs": [],
      "source": [
        "#Grafiquemos el decision tree\n",
        "#plt.figure(figsize=(15,12))\n",
        "#plot_tree(DTClasif_1, filled=True,\n",
        "#          feature_names=['SEGMENTOCLIENTE', 'CLASIF_SISTEMA_ULT_12M', 'FLG_PDH', 'PROFESION',\n",
        "#                          'ZONA_DEL_DESEMBOLSO', 'ESTADO_CIVIL', 'FLG_GARANTIA',\n",
        "#                          'MEDIANA_AHORROS_ULT_6M', 'MESES_AHORROS_ULT_6M', 'LINEA_DE_TC',\n",
        "#                          'EDAD_T', 'DEUDA', 'DEUDA_TOTAL_SISTEMA', 'ATRASO_MAXIMO_ULT_12M'])\n",
        "#plt.show()"
      ]
    },
    {
      "cell_type": "markdown",
      "metadata": {
        "id": "22Y5cchgdHrx"
      },
      "source": [
        "### Probemos con diferentes combinaciones de hiperparámetros (hiperparameter tuning), esta es la base para encontrar un modelo óptimo."
      ]
    },
    {
      "cell_type": "code",
      "execution_count": null,
      "metadata": {
        "id": "m0KuuNvqZb7a"
      },
      "outputs": [],
      "source": [
        "# import matplotlib.pyplot as plt\n",
        "# from mpl_toolkits import mplot3d\n",
        "from sklearn.model_selection import GridSearchCV, RandomizedSearchCV"
      ]
    },
    {
      "cell_type": "code",
      "execution_count": null,
      "metadata": {
        "id": "00qo68fpdg0g"
      },
      "outputs": [],
      "source": [
        "DTClasif_1 = DecisionTreeClassifier(random_state=0)\n",
        "# combinaciones de hiperparametros\n",
        "dt_param_grid = dict(\n",
        "    max_depth= [None, 5, 10, 20],\n",
        "    min_samples_split= [2, 5, 10],\n",
        "    min_samples_leaf= [1, 2, 5],\n",
        "    ccp_alpha= [0.0, 0.001, 0.01, 0.1]\n",
        ")\n",
        "\n",
        "# Grid Search\n",
        "reg = GridSearchCV(DTClasif_1, dt_param_grid, scoring='roc_auc', return_train_score=True, cv=5, n_jobs=-1)\n",
        "search_dt= reg.fit(X_train_t3_p, y_train)\n",
        "\n",
        "# Resultados\n",
        "print(\"Mejores parámetros (Decision Tree):\", search_dt.best_params_)\n",
        "print(\"Mejor accuracy (Decision Tree):\", search_dt.best_score_)"
      ]
    },
    {
      "cell_type": "code",
      "execution_count": null,
      "metadata": {
        "id": "e0SIhEYxh1-f"
      },
      "outputs": [],
      "source": [
        "results = pd.DataFrame(search_dt.cv_results_)[['params', 'mean_train_score', 'std_train_score','mean_test_score', 'std_test_score']]\n",
        "results.sort_values(by='mean_train_score', ascending=False, inplace=True)\n",
        "results.reset_index(drop=True, inplace=True)\n",
        "results"
      ]
    },
    {
      "cell_type": "code",
      "execution_count": null,
      "metadata": {
        "id": "V41PpWEtiWm7"
      },
      "outputs": [],
      "source": [
        "results['mean_train_score'].plot(yerr=[results['std_train_score'], results['std_train_score']], subplots=True)\n",
        "results['mean_test_score'].plot(yerr=[results['std_test_score'], results['std_test_score']], subplots=True)\n",
        "plt.ylabel('Mean ROC_AUC')\n",
        "plt.xlabel('Hyperparameter space')"
      ]
    },
    {
      "cell_type": "code",
      "execution_count": null,
      "metadata": {
        "id": "nokx3BT9gwaI"
      },
      "outputs": [],
      "source": [
        "DTClasif_2 = DecisionTreeClassifier(random_state=0)\n",
        "# combinaciones de hiperparametros\n",
        "dt_param_grid = dict(\n",
        "    max_depth= [None, 5, 10, 20],\n",
        "    min_samples_split= [2, 5, 10],\n",
        "    min_samples_leaf= [1, 2, 5],\n",
        "    ccp_alpha= [0.0, 0.001, 0.01, 0.1]\n",
        ")\n",
        "\n",
        "# Random Search\n",
        "reg = RandomizedSearchCV(DTClasif_2, dt_param_grid, scoring='roc_auc', return_train_score=True, n_iter = 70, cv=5, n_jobs=-1)\n",
        "search_dt= reg.fit(X_train_t3_p, y_train)\n",
        "\n",
        "# Resultados\n",
        "print(\"Mejores parámetros (Decision Tree):\", search_dt.best_params_)\n",
        "print(\"Mejor accuracy (Decision Tree):\", search_dt.best_score_)"
      ]
    },
    {
      "cell_type": "code",
      "execution_count": null,
      "metadata": {
        "id": "Vo_U9yt8Ox3O"
      },
      "outputs": [],
      "source": [
        "results = pd.DataFrame(search_dt.cv_results_)[['params', 'mean_train_score', 'std_train_score','mean_test_score', 'std_test_score']]\n",
        "results.sort_values(by='mean_train_score', ascending=False, inplace=True)\n",
        "results.reset_index(drop=True, inplace=True)\n",
        "results"
      ]
    },
    {
      "cell_type": "code",
      "execution_count": null,
      "metadata": {
        "id": "DDDBLUGPi-6F"
      },
      "outputs": [],
      "source": [
        "results['mean_train_score'].plot(yerr=[results['std_train_score'], results['std_train_score']], subplots=True)\n",
        "results['mean_test_score'].plot(yerr=[results['std_test_score'], results['std_test_score']], subplots=True)\n",
        "plt.ylabel('Mean ROC_AUC')\n",
        "plt.xlabel('Hyperparameter space')"
      ]
    },
    {
      "cell_type": "markdown",
      "metadata": {
        "id": "kKKmCt5Wfyih"
      },
      "source": [
        "## CONCLUSION DT: Evaluemos como le va al modelo con los hiperparametros elegidos en train y test"
      ]
    },
    {
      "cell_type": "code",
      "execution_count": null,
      "metadata": {
        "id": "J4IgCH40jfud"
      },
      "outputs": [],
      "source": [
        "#{'ccp_alpha': 0.0, 'max_depth': 5, 'min_samples_leaf': 5, 'min_samples_split': 2}\n",
        "DTClasif_1 = DecisionTreeClassifier(ccp_alpha=0.0, max_depth=5, min_samples_leaf=5, min_samples_split=2, random_state=0)\n",
        "DTClasif_1.fit(X_train_t_p, y_train)\n",
        "pred_train_DTClasif = DTClasif_1.predict_proba(X_train_t_p)\n",
        "pred_test_DTClasif = DTClasif_1.predict_proba(X_test_t_p)\n",
        "print('Train set')\n",
        "print('Decision Tree Classifier roc-auc: {}'.format(roc_auc_score(y_train, pred_train_DTClasif[:,1])))\n",
        "print('Test set')\n",
        "print('Decision Tree Classifier roc-auc: {}'.format(roc_auc_score(y_test, pred_test_DTClasif[:,1])))"
      ]
    },
    {
      "cell_type": "markdown",
      "metadata": {
        "id": "kmEtkf7IomdP"
      },
      "source": [
        "## **5.2.1 Bagging: Random Forest**"
      ]
    },
    {
      "cell_type": "markdown",
      "metadata": {
        "id": "BBmf6IG8d4EX"
      },
      "source": [
        "#### Evaluemos que la sensibilidad de cada hiperparámetro"
      ]
    },
    {
      "cell_type": "markdown",
      "metadata": {
        "id": "0ZFRasn4eJCo"
      },
      "source": [
        "#### Nro de árboles\n",
        "\n",
        "\n"
      ]
    },
    {
      "cell_type": "code",
      "execution_count": null,
      "metadata": {
        "id": "3-TmWZS_mHHH"
      },
      "outputs": [],
      "source": [
        "rf = RandomForestClassifier(random_state=0)\n",
        "rf_param_grid = dict(\n",
        "    n_estimators= [10, 20, 50, 100, 200]\n",
        "    #max_depth= [None, 1, 2, 3, 4, 5, 10, 15, 20],\n",
        "    #max_features= ['sqrt', 'log2', 0.5],\n",
        "    #bootstrap= [True, False],\n",
        "    #min_samples_split= [0.01, 0.05, 0.1, 0.2, 0.3, 0.5],\n",
        "    #min_samples_leaf= [1, 2, 5]\n",
        ")\n",
        "\n",
        "# Grid Search\n",
        "reg = GridSearchCV(rf, rf_param_grid, scoring='roc_auc', return_train_score=True, cv=5, n_jobs=-1)\n",
        "search_rf=reg.fit(X_train_t3_p, y_train)\n",
        "\n",
        "# Resultados\n",
        "print(\"Mejores parámetros (Random Forest):\", search_rf.best_params_)\n",
        "print(\"Mejor accuracy (Random Forest):\", search_rf.best_score_)"
      ]
    },
    {
      "cell_type": "code",
      "execution_count": null,
      "metadata": {
        "id": "DV2L3aEXjiO0"
      },
      "outputs": [],
      "source": [
        "results = pd.DataFrame(search_rf.cv_results_)[['params','mean_train_score', 'std_train_score', 'mean_test_score', 'std_test_score']]\n",
        "results"
      ]
    },
    {
      "cell_type": "code",
      "execution_count": null,
      "metadata": {
        "id": "5apY-4X8cwEm"
      },
      "outputs": [],
      "source": [
        "# plot results\n",
        "results.index = rf_param_grid['n_estimators']\n",
        "results['mean_train_score'].plot(yerr=[results['std_train_score'], results['std_train_score']], subplots=True)\n",
        "results['mean_test_score'].plot(yerr=[results['std_test_score'], results['std_test_score']], subplots=True)\n",
        "plt.ylim(0.6, 1.1)\n",
        "plt.ylabel('roc_auc')\n",
        "plt.xlabel('n_estimators')"
      ]
    },
    {
      "cell_type": "markdown",
      "metadata": {
        "id": "Wp1l3dkseNMB"
      },
      "source": [
        "#### Profundidad"
      ]
    },
    {
      "cell_type": "code",
      "execution_count": null,
      "metadata": {
        "id": "my3rnD4McwBN"
      },
      "outputs": [],
      "source": [
        "rf = RandomForestClassifier(random_state=0)\n",
        "rf_param_grid = dict(\n",
        "    #n_estimators= [10, 20, 50, 100, 200]\n",
        "    max_depth= [None, 1, 2, 3, 4, 5, 10, 15, 20]\n",
        "    #max_features= ['sqrt', 'log2', 0.5],\n",
        "    #bootstrap= [True, False],\n",
        "    #min_samples_split= [0.01, 0.05, 0.1, 0.2, 0.3, 0.5],\n",
        "    #min_samples_leaf= [1, 2, 5]\n",
        ")\n",
        "\n",
        "# Grid Search\n",
        "reg = GridSearchCV(rf, rf_param_grid, scoring='roc_auc', return_train_score=True, cv=5, n_jobs=-1)\n",
        "search_rf=reg.fit(X_train_t3_p, y_train)\n",
        "\n",
        "# Resultados\n",
        "print(\"Mejores parámetros (Random Forest):\", search_rf.best_params_)\n",
        "print(\"Mejor accuracy (Random Forest):\", search_rf.best_score_)"
      ]
    },
    {
      "cell_type": "code",
      "execution_count": null,
      "metadata": {
        "id": "1HDlV29ocv-C"
      },
      "outputs": [],
      "source": [
        "results = pd.DataFrame(search_rf.cv_results_)[['params', 'mean_train_score', 'std_train_score', 'mean_test_score', 'std_test_score']]\n",
        "results"
      ]
    },
    {
      "cell_type": "code",
      "execution_count": null,
      "metadata": {
        "id": "WpUn7xNNj_8h"
      },
      "outputs": [],
      "source": [
        "# plot results\n",
        "results.index = rf_param_grid['max_depth']\n",
        "results['mean_train_score'].plot(yerr=[results['std_train_score'], results['std_train_score']], subplots=True)\n",
        "results['mean_test_score'].plot(yerr=[results['std_test_score'], results['std_test_score']], subplots=True)\n",
        "plt.ylim(0.6, 1.1)\n",
        "plt.ylabel('roc_auc')\n",
        "plt.xlabel('max_depth')"
      ]
    },
    {
      "cell_type": "markdown",
      "metadata": {
        "id": "YKsb8i2FeSP3"
      },
      "source": [
        "#### Nro mínimo de observaciones para partir el nodo"
      ]
    },
    {
      "cell_type": "code",
      "execution_count": null,
      "metadata": {
        "id": "T-QT2wFGh5oQ"
      },
      "outputs": [],
      "source": [
        "rf = RandomForestClassifier(random_state=0)\n",
        "rf_param_grid = dict(\n",
        "    #n_estimators= [10, 20, 50, 100, 200]\n",
        "    #max_depth= [None, 1, 2, 3, 4, 5, 10, 15, 20]\n",
        "    #max_features= ['sqrt', 'log2', 0.5],\n",
        "    #bootstrap= [True, False],\n",
        "    min_samples_split= [0.01, 0.05, 0.1, 0.2, 0.3, 0.5]\n",
        "    #min_samples_leaf= [1, 2, 5]\n",
        ")\n",
        "\n",
        "# Grid Search\n",
        "reg = GridSearchCV(rf, rf_param_grid, scoring='roc_auc', return_train_score=True, cv=5, n_jobs=-1)\n",
        "search_rf=reg.fit(X_train_t3_p, y_train)\n",
        "\n",
        "# Resultados\n",
        "print(\"Mejores parámetros (Random Forest):\", search_rf.best_params_)\n",
        "print(\"Mejor accuracy (Random Forest):\", search_rf.best_score_)"
      ]
    },
    {
      "cell_type": "code",
      "execution_count": null,
      "metadata": {
        "id": "4DCz6wjsFZZg"
      },
      "outputs": [],
      "source": [
        "results = pd.DataFrame(search_rf.cv_results_)[['params', 'mean_train_score', 'std_train_score', 'mean_test_score', 'std_test_score']]\n",
        "results"
      ]
    },
    {
      "cell_type": "code",
      "execution_count": null,
      "metadata": {
        "id": "FmRRsKy2kRXw"
      },
      "outputs": [],
      "source": [
        "# plot results\n",
        "results.index = rf_param_grid['min_samples_split']\n",
        "results['mean_train_score'].plot(yerr=[results['std_train_score'], results['std_train_score']], subplots=True)\n",
        "results['mean_test_score'].plot(yerr=[results['std_test_score'], results['std_test_score']], subplots=True)\n",
        "plt.ylim(0.6, 1.1)\n",
        "plt.ylabel('roc_auc')\n",
        "plt.xlabel('min_samples_split')"
      ]
    },
    {
      "cell_type": "markdown",
      "metadata": {
        "id": "TpsEPtIGp2zP"
      },
      "source": [
        "## Veamos el GridSearch con todos los parámetros para evaluar la mejor combinación"
      ]
    },
    {
      "cell_type": "code",
      "execution_count": null,
      "metadata": {
        "id": "wrHX3sjzkRTo"
      },
      "outputs": [],
      "source": [
        "rf = RandomForestClassifier(random_state=0)\n",
        "rf_param_grid = dict(\n",
        "    n_estimators= [10, 20, 50, 100, 200],\n",
        "    max_depth= [None, 1, 2, 3, 4, 5, 10, 15, 20],\n",
        "    max_features= ['sqrt', 'log2', 0.5],\n",
        "    bootstrap= [True, False],\n",
        "    min_samples_split= [0.01, 0.05, 0.1, 0.2, 0.3, 0.5],\n",
        "    min_samples_leaf= [1, 2, 5]\n",
        ")\n",
        "\n",
        "# Grid Search\n",
        "reg = GridSearchCV(rf, rf_param_grid, scoring='roc_auc', return_train_score=True, cv=5, n_jobs=-1)\n",
        "search_rf=reg.fit(X_train_t3_p, y_train)\n",
        "\n",
        "# Resultados\n",
        "print(\"Mejores parámetros (Random Forest):\", search_rf.best_params_)\n",
        "print(\"Mejor accuracy (Random Forest):\", search_rf.best_score_)"
      ]
    },
    {
      "cell_type": "code",
      "execution_count": null,
      "metadata": {
        "id": "Mdh-A7L8kRNT"
      },
      "outputs": [],
      "source": [
        "results = pd.DataFrame(search_rf.cv_results_)[['params', 'mean_train_score', 'std_train_score','mean_test_score', 'std_test_score']]\n",
        "results.sort_values(by='mean_test_score', ascending=False, inplace=True)\n",
        "results.reset_index(drop=True, inplace=True)\n",
        "results"
      ]
    },
    {
      "cell_type": "code",
      "execution_count": null,
      "metadata": {
        "id": "v6avyzSWsizl"
      },
      "outputs": [],
      "source": [
        "results['mean_train_score'].plot(yerr=[results['std_train_score'], results['std_train_score']], subplots=True)\n",
        "results['mean_test_score'].plot(yerr=[results['std_test_score'], results['std_test_score']], subplots=True)\n",
        "plt.ylabel('Mean ROC_AUC')\n",
        "plt.xlabel('Hyperparameter space')"
      ]
    },
    {
      "cell_type": "code",
      "execution_count": null,
      "metadata": {
        "id": "-G8pMiCXFZSa"
      },
      "outputs": [],
      "source": [
        "# Opciones de Cross Validation -> Esto se inserta en el hiperparámetro cv\n",
        "# K-Fold Cross-Validation\n",
        "#kf = KFold(n_splits=5, shuffle=True, random_state=4)\n",
        "# Repeated K-Fold Cross-Validation\n",
        "#rkf = RepeatedKFold(n_splits=5, n_repeats=10,random_state=4)\n",
        "# Leave One Out Cross-Validation\n",
        "#loo = LeaveOneOut()\n",
        "# Leave P Out Cross-Validation\n",
        "#lpo = LeavePOut(p=2)\n",
        "# Stratified K Fold Cross-Validation\n",
        "#skf = StratifiedKFold(n_splits=5, shuffle=True, random_state=4)"
      ]
    },
    {
      "cell_type": "markdown",
      "metadata": {
        "id": "5DzuH29ahpu2"
      },
      "source": [
        "## Veamos el RandomSearch para encontrar la mejor combinación en el Random Forest"
      ]
    },
    {
      "cell_type": "code",
      "execution_count": null,
      "metadata": {
        "id": "mkllp9NJg2N-"
      },
      "outputs": [],
      "source": [
        "rf = RandomForestClassifier(random_state=0)\n",
        "rf_param_grid = dict(\n",
        "    n_estimators= [10, 20, 50, 100, 200],\n",
        "    max_depth= [None, 1, 2, 3, 4, 5, 10, 15, 20],\n",
        "    max_features= ['sqrt', 'log2', 0.5],\n",
        "    bootstrap= [True, False],\n",
        "    min_samples_split= [0.01, 0.05, 0.1, 0.2, 0.3, 0.5],\n",
        "    min_samples_leaf= [1, 2, 5]\n",
        ")\n",
        "\n",
        "# Random Search\n",
        "reg = RandomizedSearchCV(rf, rf_param_grid, scoring='roc_auc', return_train_score=True, cv=5, n_iter = 200, n_jobs=-1)\n",
        "search_rf=reg.fit(X_train_t3_p, y_train)\n",
        "\n",
        "# Resultados\n",
        "print(\"Mejores parámetros (Random Forest):\", search_rf.best_params_)\n",
        "print(\"Mejor accuracy (Random Forest):\", search_rf.best_score_)"
      ]
    },
    {
      "cell_type": "code",
      "execution_count": null,
      "metadata": {
        "id": "SxQk8OSWiuic"
      },
      "outputs": [],
      "source": [
        "results = pd.DataFrame(search_rf.cv_results_)[['params', 'mean_train_score', 'std_train_score','mean_test_score', 'std_test_score']]\n",
        "results.sort_values(by='mean_test_score', ascending=False, inplace=True)\n",
        "results.reset_index(drop=True, inplace=True)\n",
        "results"
      ]
    },
    {
      "cell_type": "code",
      "execution_count": null,
      "metadata": {
        "id": "x0zvAG-riufz"
      },
      "outputs": [],
      "source": [
        "results['mean_train_score'].plot(yerr=[results['std_train_score'], results['std_train_score']], subplots=True)\n",
        "results['mean_test_score'].plot(yerr=[results['std_test_score'], results['std_test_score']], subplots=True)\n",
        "plt.ylabel('Mean ROC_AUC')\n",
        "plt.ylim(0.6, 1.1)\n",
        "plt.xlabel('Hyperparameter space')"
      ]
    },
    {
      "cell_type": "markdown",
      "metadata": {
        "id": "Sl2_RLXXoNPI"
      },
      "source": [
        "## CONCLUSION RF: Evaluemos como le va al modelo con los hiperparametros elegidos en train y test"
      ]
    },
    {
      "cell_type": "code",
      "execution_count": null,
      "metadata": {
        "id": "1Vp23plJnEjx"
      },
      "outputs": [],
      "source": [
        "# Lo dejamos entrenado con los parámetros hallados\n",
        "#{'n_estimators': 200, 'min_samples_split': 0.01, 'min_samples_leaf': 2, 'max_features': 'log2', 'max_depth': 10, 'bootstrap': True}\n",
        "rf = RandomForestClassifier(n_estimators=200, min_samples_split=0.01, min_samples_leaf=2, max_features='log2',\n",
        "                            max_depth=10, bootstrap=True, random_state=0)\n",
        "rf.fit(X_train_t_p, y_train)\n",
        "pred_train_rf = rf.predict_proba(X_train_t_p)\n",
        "pred_test_rf = rf.predict_proba(X_test_t_p)\n",
        "print('Train set')\n",
        "print('Random Forest Classifier roc-auc: {}'.format(roc_auc_score(y_train, pred_train_rf[:,1])))\n",
        "print('Test set')\n",
        "print('Random Forest Classifier roc-auc: {}'.format(roc_auc_score(y_test, pred_test_rf[:,1])))"
      ]
    },
    {
      "cell_type": "markdown",
      "metadata": {
        "id": "3yYhNsOaI1TR"
      },
      "source": [
        "## **5.2.2. Boosting: Gradient Boosting**\n"
      ]
    },
    {
      "cell_type": "markdown",
      "metadata": {
        "id": "Eb8Lo6hOJMG7"
      },
      "source": [
        "#### Evaluemos la sensibilidad de cada parámetro"
      ]
    },
    {
      "cell_type": "markdown",
      "metadata": {
        "id": "cFxyJMFrJPjw"
      },
      "source": [
        "#### Nro de Arboles"
      ]
    },
    {
      "cell_type": "code",
      "execution_count": null,
      "metadata": {
        "id": "99ap-8YQAETp"
      },
      "outputs": [],
      "source": [
        "gbc = GradientBoostingClassifier(random_state=0)\n",
        "# Hiperparámetros\n",
        "gbc_param_grid = dict(\n",
        "    n_estimators= [10, 20, 50, 100, 200, 500]\n",
        "    #learning_rate= [0.01, 0.05, 0.1, 0.2],\n",
        "    #max_depth= [1, 2, 3, 4, 5, 10],\n",
        "    #max_features= ['sqrt', 'log2', 0.5, None],\n",
        "    #subsample= [0.6, 0.8, 1.0],\n",
        "    #min_samples_split= [0.01, 0.05, 0.1, 0.2, 0.3, 0.5],\n",
        "    #min_samples_leaf= [1, 2, 5]\n",
        "    )\n",
        "\n",
        "# Grid Search\n",
        "reg = GridSearchCV(gbc, gbc_param_grid, scoring='roc_auc', return_train_score=True, cv=5, n_jobs=-1)\n",
        "search_gbc = reg.fit(X_train_t3_p, y_train)\n",
        "\n",
        "# Resultados\n",
        "print(\"Mejores parámetros (Gradient Boosting):\", search_gbc.best_params_)\n",
        "print(\"Mejor accuracy (Gradient Boosting):\", search_gbc.best_score_)"
      ]
    },
    {
      "cell_type": "code",
      "execution_count": null,
      "metadata": {
        "id": "4dVVE4MCAEMY"
      },
      "outputs": [],
      "source": [
        "results = pd.DataFrame(search_gbc.cv_results_)[['params', 'mean_train_score', 'std_train_score', 'mean_test_score', 'std_test_score']]\n",
        "results"
      ]
    },
    {
      "cell_type": "code",
      "execution_count": null,
      "metadata": {
        "id": "HxGPowJfAEJP"
      },
      "outputs": [],
      "source": [
        "# plot results\n",
        "results.index = gbc_param_grid['n_estimators']\n",
        "results['mean_train_score'].plot(yerr=[results['std_train_score'], results['std_train_score']], subplots=True)\n",
        "results['mean_test_score'].plot(yerr=[results['std_test_score'], results['std_test_score']], subplots=True)\n",
        "plt.ylim(0.6, 1)\n",
        "plt.ylabel('roc_auc')\n",
        "plt.xlabel('n_estimators')"
      ]
    },
    {
      "cell_type": "markdown",
      "metadata": {
        "id": "py7K-d_QM9Se"
      },
      "source": [
        "#### Learning Rate"
      ]
    },
    {
      "cell_type": "code",
      "execution_count": null,
      "metadata": {
        "id": "fnbETvRmAEF3"
      },
      "outputs": [],
      "source": [
        "gbc = GradientBoostingClassifier(random_state=0)\n",
        "# Hiperparámetros\n",
        "gbc_param_grid = dict(\n",
        "    #n_estimators= [10, 20, 50, 100, 200, 500]\n",
        "    learning_rate= [0.01, 0.05, 0.1, 0.2]\n",
        "    #max_depth= [1, 2, 3, 4, 5, 10],\n",
        "    #max_features= ['sqrt', 'log2', 0.5, None],\n",
        "    #subsample= [0.6, 0.8, 1.0],\n",
        "    #min_samples_split= [0.01, 0.05, 0.1, 0.2, 0.3, 0.5],\n",
        "    #min_samples_leaf= [1, 2, 5]\n",
        "    )\n",
        "\n",
        "# Grid Search\n",
        "reg = GridSearchCV(gbc, gbc_param_grid, scoring='roc_auc', return_train_score=True, cv=5, n_jobs=-1)\n",
        "search_gbc = reg.fit(X_train_t3_p, y_train)\n",
        "\n",
        "# Resultados\n",
        "print(\"Mejores parámetros (Gradient Boosting):\", search_gbc.best_params_)\n",
        "print(\"Mejor accuracy (Gradient Boosting):\", search_gbc.best_score_)"
      ]
    },
    {
      "cell_type": "code",
      "execution_count": null,
      "metadata": {
        "id": "CLX-QgTJAEDA"
      },
      "outputs": [],
      "source": [
        "results = pd.DataFrame(search_gbc.cv_results_)[['params', 'mean_train_score', 'std_train_score', 'mean_test_score', 'std_test_score']]\n",
        "results"
      ]
    },
    {
      "cell_type": "code",
      "execution_count": null,
      "metadata": {
        "id": "RSohnGg8OwUS"
      },
      "outputs": [],
      "source": [
        "# plot results\n",
        "results.index = gbc_param_grid['learning_rate']\n",
        "results['mean_train_score'].plot(yerr=[results['std_train_score'], results['std_train_score']], subplots=True)\n",
        "results['mean_test_score'].plot(yerr=[results['std_test_score'], results['std_test_score']], subplots=True)\n",
        "plt.ylim(0.6, 1)\n",
        "plt.ylabel('roc_auc')\n",
        "plt.xlabel('learning_rate')"
      ]
    },
    {
      "cell_type": "markdown",
      "metadata": {
        "id": "mx-KA9VYUQjx"
      },
      "source": [
        "#### Profundidad"
      ]
    },
    {
      "cell_type": "code",
      "execution_count": null,
      "metadata": {
        "id": "Oqv5rOvIOwRk"
      },
      "outputs": [],
      "source": [
        "gbc = GradientBoostingClassifier(random_state=0)\n",
        "# Hiperparámetros\n",
        "gbc_param_grid = dict(\n",
        "    #n_estimators= [10, 20, 50, 100, 200, 500]\n",
        "    #learning_rate= [0.01, 0.05, 0.1, 0.2]\n",
        "    max_depth= [1, 2, 3, 4, 5, 10]\n",
        "    #max_features= ['sqrt', 'log2', 0.5, None],\n",
        "    #subsample= [0.6, 0.8, 1.0],\n",
        "    #min_samples_split= [0.01, 0.05, 0.1, 0.2, 0.3, 0.5],\n",
        "    #min_samples_leaf= [1, 2, 5]\n",
        "    )\n",
        "\n",
        "# Grid Search\n",
        "reg = GridSearchCV(gbc, gbc_param_grid, scoring='roc_auc', return_train_score=True, cv=5, n_jobs=-1)\n",
        "search_gbc = reg.fit(X_train_t3_p, y_train)\n",
        "\n",
        "# Resultados\n",
        "print(\"Mejores parámetros (Gradient Boosting):\", search_gbc.best_params_)\n",
        "print(\"Mejor accuracy (Gradient Boosting):\", search_gbc.best_score_)"
      ]
    },
    {
      "cell_type": "code",
      "execution_count": null,
      "metadata": {
        "id": "RNABQ_kUOwOs"
      },
      "outputs": [],
      "source": [
        "results = pd.DataFrame(search_gbc.cv_results_)[['params', 'mean_train_score', 'std_train_score', 'mean_test_score', 'std_test_score']]\n",
        "results"
      ]
    },
    {
      "cell_type": "code",
      "execution_count": null,
      "metadata": {
        "id": "i2wE6ekaOwL4"
      },
      "outputs": [],
      "source": [
        "# plot results\n",
        "results.index = gbc_param_grid['max_depth']\n",
        "results['mean_train_score'].plot(yerr=[results['std_train_score'], results['std_train_score']], subplots=True)\n",
        "results['mean_test_score'].plot(yerr=[results['std_test_score'], results['std_test_score']], subplots=True)\n",
        "plt.ylim(0.6, 1)\n",
        "plt.ylabel('roc_auc')\n",
        "plt.xlabel('max_depth')"
      ]
    },
    {
      "cell_type": "markdown",
      "metadata": {
        "id": "gYgJbGLDVGqW"
      },
      "source": [
        "### Veamos al GridSearch con todos los parámetros para evaluar la mejor combinación"
      ]
    },
    {
      "cell_type": "code",
      "execution_count": null,
      "metadata": {
        "id": "UmrmhCLoUn-u"
      },
      "outputs": [],
      "source": [
        "gbc = GradientBoostingClassifier(random_state=0)\n",
        "# Hiperparámetros\n",
        "gbc_param_grid = dict(\n",
        "    n_estimators= [10, 20, 50, 100, 200, 500],\n",
        "    learning_rate= [0.01, 0.05, 0.1, 0.2],\n",
        "    max_depth= [1, 2, 3, 4, 5, 10],\n",
        "    max_features= ['sqrt', 'log2', 0.5, None],\n",
        "    subsample= [0.6, 0.8, 1.0],\n",
        "    min_samples_split= [0.01, 0.05, 0.1, 0.2, 0.3, 0.5],\n",
        "    min_samples_leaf= [1, 2, 5]\n",
        "    )\n",
        "\n",
        "# Grid Search\n",
        "reg = GridSearchCV(gbc, gbc_param_grid, scoring='roc_auc', return_train_score=True, cv=5, n_jobs=-1)\n",
        "search_gbc = reg.fit(X_train_t3_p, y_train)\n",
        "\n",
        "# Resultados\n",
        "print(\"Mejores parámetros (Gradient Boosting):\", search_gbc.best_params_)\n",
        "print(\"Mejor accuracy (Gradient Boosting):\", search_gbc.best_score_)"
      ]
    },
    {
      "cell_type": "code",
      "execution_count": null,
      "metadata": {
        "id": "DdhxzL6XUn0C"
      },
      "outputs": [],
      "source": [
        "results = pd.DataFrame(search_gbc.cv_results_)[['params', 'mean_train_score', 'std_train_score','mean_test_score', 'std_test_score']]\n",
        "results.sort_values(by='mean_test_score', ascending=False, inplace=True)\n",
        "results.reset_index(drop=True, inplace=True)\n",
        "results"
      ]
    },
    {
      "cell_type": "code",
      "execution_count": null,
      "metadata": {
        "id": "bkEwJQdpUnw8"
      },
      "outputs": [],
      "source": [
        "results['mean_train_score'].plot(yerr=[results['std_train_score'], results['std_train_score']], subplots=True)\n",
        "results['mean_test_score'].plot(yerr=[results['std_test_score'], results['std_test_score']], subplots=True)\n",
        "plt.ylabel('Mean ROC_AUC')\n",
        "plt.xlabel('Hyperparameter space')"
      ]
    },
    {
      "cell_type": "markdown",
      "metadata": {
        "id": "EQhBh02pprUm"
      },
      "source": [
        "### Veamos el RandomSearch para encontrar la mejor combinación en el Gradient Boosting"
      ]
    },
    {
      "cell_type": "code",
      "execution_count": null,
      "metadata": {
        "id": "5w3mjFNvr9TO"
      },
      "outputs": [],
      "source": [
        "gbc = GradientBoostingClassifier(random_state=0)\n",
        "# Hiperparámetros\n",
        "gbc_param_grid = dict(\n",
        "    n_estimators= [10, 20, 50, 100, 200, 500],\n",
        "    learning_rate= [0.01, 0.05, 0.1, 0.2],\n",
        "    max_depth= [1, 2, 3, 4, 5, 10],\n",
        "    max_features= ['sqrt', 'log2', 0.5, None],\n",
        "    subsample= [0.6, 0.8, 1.0],\n",
        "    min_samples_split= [0.01, 0.05, 0.1, 0.2, 0.3, 0.5],\n",
        "    min_samples_leaf= [1, 2, 5]\n",
        "    )\n",
        "\n",
        "# Random Search\n",
        "reg = RandomizedSearchCV(gbc, gbc_param_grid, scoring='roc_auc', cv=5, return_train_score=True, n_iter = 200, random_state=10, n_jobs=-1)\n",
        "search_gbc = reg.fit(X_train_t3_p, y_train)\n",
        "\n",
        "# Resultados\n",
        "print(\"Mejores parámetros (Gradient Boosting):\", search_gbc.best_params_)\n",
        "print(\"Mejor accuracy (Gradient Boosting):\", search_gbc.best_score_)"
      ]
    },
    {
      "cell_type": "code",
      "execution_count": null,
      "metadata": {
        "id": "zfoL4k3rX5U3"
      },
      "outputs": [],
      "source": [
        "results = pd.DataFrame(search_gbc.cv_results_)[['params', 'mean_train_score', 'std_train_score','mean_test_score', 'std_test_score']]\n",
        "results.sort_values(by='mean_test_score', ascending=False, inplace=True)\n",
        "results.reset_index(drop=True, inplace=True)\n",
        "results"
      ]
    },
    {
      "cell_type": "code",
      "execution_count": null,
      "metadata": {
        "id": "AyQLohmhX5SB"
      },
      "outputs": [],
      "source": [
        "results['mean_train_score'].plot(yerr=[results['std_train_score'], results['std_train_score']], subplots=True)\n",
        "results['mean_test_score'].plot(yerr=[results['std_test_score'], results['std_test_score']], subplots=True)\n",
        "plt.ylabel('Mean ROC_AUC')\n",
        "plt.xlabel('Hyperparameter space')"
      ]
    },
    {
      "cell_type": "markdown",
      "metadata": {
        "id": "itKgYRqM-Dvh"
      },
      "source": [
        "### **Vamos añadir la técnica de Bayesian Search para Optimización de Hiperparámetros**"
      ]
    },
    {
      "cell_type": "code",
      "execution_count": null,
      "metadata": {
        "id": "WGbjErCi_D7j"
      },
      "outputs": [],
      "source": [
        "pip install scikit-optimize"
      ]
    },
    {
      "cell_type": "code",
      "execution_count": null,
      "metadata": {
        "id": "Ny04W7iq-P0v"
      },
      "outputs": [],
      "source": [
        "from skopt import BayesSearchCV"
      ]
    },
    {
      "cell_type": "code",
      "execution_count": null,
      "metadata": {
        "id": "P7oakeiv-Pvr"
      },
      "outputs": [],
      "source": [
        "gbc_bs = GradientBoostingClassifier(random_state=0)\n",
        "# Hiperparámetros\n",
        "gbc_param_grid = dict(\n",
        "    n_estimators= [10, 20, 50, 100, 200, 500],\n",
        "    learning_rate= [0.01, 0.05, 0.1, 0.2],\n",
        "    max_depth= [1, 2, 3, 4, 5, 10],\n",
        "    max_features= ['sqrt', 'log2', 0.5, None],\n",
        "    subsample= [0.6, 0.8, 1.0],\n",
        "    min_samples_split= [0.01, 0.05, 0.1, 0.2, 0.3, 0.5],\n",
        "    min_samples_leaf= [1, 2, 5]\n",
        "    )\n",
        "\n",
        "#Bayesian Search\n",
        "reg = BayesSearchCV(gbc_bs, gbc_param_grid, scoring='roc_auc', cv=5, n_iter=200, random_state=0, n_jobs=-1, return_train_score=True)\n",
        "search_bs_gbc=reg.fit(X_train_t3_p, y_train)\n",
        "\n",
        "# Resultados\n",
        "print(\"Mejores parámetros (Gradient Boosting):\", search_bs_gbc.best_params_)\n",
        "print(\"Mejor accuracy (Gradient Boosting):\", search_bs_gbc.best_score_)"
      ]
    },
    {
      "cell_type": "code",
      "execution_count": null,
      "metadata": {
        "id": "2f5QuHrhBCEn"
      },
      "outputs": [],
      "source": [
        "results = pd.DataFrame(search_bs_gbc.cv_results_)[['params', 'mean_train_score', 'std_train_score','mean_test_score', 'std_test_score']]\n",
        "results.sort_values(by='mean_test_score', ascending=False, inplace=True)\n",
        "results.reset_index(drop=True, inplace=True)\n",
        "results"
      ]
    },
    {
      "cell_type": "code",
      "execution_count": null,
      "metadata": {
        "id": "WuwmY-d4BCB-"
      },
      "outputs": [],
      "source": [
        "results['mean_train_score'].plot(yerr=[results['std_train_score'], results['std_train_score']], subplots=True)\n",
        "results['mean_test_score'].plot(yerr=[results['std_test_score'], results['std_test_score']], subplots=True)\n",
        "plt.ylabel('Mean ROC_AUC')\n",
        "plt.xlabel('Hyperparameter space')"
      ]
    },
    {
      "cell_type": "markdown",
      "metadata": {
        "id": "y8O1VFkNDWmR"
      },
      "source": [
        "### **OPCIONAL: Utilicemos Optuna**"
      ]
    },
    {
      "cell_type": "code",
      "execution_count": null,
      "metadata": {
        "id": "5OznN8q5G8TR"
      },
      "outputs": [],
      "source": [
        "pip install optuna"
      ]
    },
    {
      "cell_type": "code",
      "execution_count": null,
      "metadata": {
        "id": "hU7oQk9LCu2-"
      },
      "outputs": [],
      "source": [
        "import optuna\n",
        "from sklearn.model_selection import cross_val_score"
      ]
    },
    {
      "cell_type": "code",
      "execution_count": null,
      "metadata": {
        "id": "0INUqsgmBavp"
      },
      "outputs": [],
      "source": [
        "def objective(trial):\n",
        "\n",
        "    gbc_n_estimators = trial.suggest_int(\"gbc_n_estimators\", 100, 1000)\n",
        "    gbc_max_depth = trial.suggest_int(\"gbc_max_depth\", 1, 4)\n",
        "    gbc_min_samples_split = trial.suggest_float(\"gbc_min_samples_split\", 0.01, 1)\n",
        "\n",
        "    model = GradientBoostingClassifier(\n",
        "        n_estimators=gbc_n_estimators,\n",
        "        max_depth=gbc_max_depth,\n",
        "        min_samples_split=gbc_min_samples_split\n",
        "    )\n",
        "\n",
        "    score = cross_val_score(model, X_train_t2_p, y_train, cv=5, scoring='roc_auc')\n",
        "    roc_auc = score.mean()\n",
        "    return roc_auc"
      ]
    },
    {
      "cell_type": "markdown",
      "metadata": {
        "id": "wl79kP9CFy43"
      },
      "source": [
        "### **Como se ejecutaria un Random Search con Optuna**"
      ]
    },
    {
      "cell_type": "code",
      "execution_count": null,
      "metadata": {
        "id": "tk1IDsUcBasi"
      },
      "outputs": [],
      "source": [
        "study = optuna.create_study(\n",
        "    direction=\"maximize\",\n",
        "    sampler=optuna.samplers.RandomSampler(),\n",
        ")\n",
        "\n",
        "study.optimize(objective, n_trials=50)"
      ]
    },
    {
      "cell_type": "code",
      "execution_count": null,
      "metadata": {
        "id": "Iyx7l3N3GAYk"
      },
      "outputs": [],
      "source": [
        "study.best_params"
      ]
    },
    {
      "cell_type": "code",
      "execution_count": null,
      "metadata": {
        "id": "cP21lstKGHqc"
      },
      "outputs": [],
      "source": [
        "study.best_value"
      ]
    },
    {
      "cell_type": "code",
      "execution_count": null,
      "metadata": {
        "id": "rQ5sn65KGHeK"
      },
      "outputs": [],
      "source": [
        "study.trials_dataframe()"
      ]
    },
    {
      "cell_type": "markdown",
      "metadata": {
        "id": "qUWkDDwFvo0Q"
      },
      "source": [
        "### CONCLUSION GBC: Evaluemos como le va al modelo con los parámetros elegidos en train y test"
      ]
    },
    {
      "cell_type": "code",
      "execution_count": null,
      "metadata": {
        "id": "yPVqzLAS4cQl"
      },
      "outputs": [],
      "source": [
        "# Lo dejamos entrenado con los parámetros hallados\n",
        "#{'subsample': 0.8, 'n_estimators': 200, 'min_samples_split': 0.2, 'min_samples_leaf': 1, 'max_features': 0.5, 'max_depth': 5, 'learning_rate': 0.05}\n",
        "gbc = GradientBoostingClassifier(subsample=0.8, n_estimators=200, min_samples_split=0.2, min_samples_leaf=1,\n",
        "                                 max_features=0.5, max_depth=5, learning_rate=0.05, random_state=0)\n",
        "gbc.fit(X_train_t_p, y_train)\n",
        "pred_train_gbc = gbc.predict_proba(X_train_t_p)\n",
        "pred_test_gbc = gbc.predict_proba(X_test_t_p)\n",
        "print('Train roc_auc: ', roc_auc_score(y_train, pred_train_gbc[:,1]))\n",
        "print('Test roc_auc: ', roc_auc_score(y_test, pred_test_gbc[:,1]))"
      ]
    },
    {
      "cell_type": "markdown",
      "metadata": {
        "id": "-0yLJk_SytE9"
      },
      "source": [
        "### Entonces, basado en sus rendimientos en test, cuál es el mejor modelo?"
      ]
    },
    {
      "cell_type": "code",
      "execution_count": null,
      "metadata": {
        "id": "629zxWoby1co"
      },
      "outputs": [],
      "source": [
        "print('Logit Test roc_auc: ', roc_auc_score(y_test, pred_test_logit_skl[:,1]), 'Logit Test GINI: ', 2*roc_auc_score(y_test, pred_test_logit[:,1])-1)\n",
        "print('DT Test roc_auc: ', roc_auc_score(y_test, pred_test_DTClasif[:,1]), 'DT Test GINI: ', 2*roc_auc_score(y_test, pred_test_DTClasif[:,1])-1)\n",
        "print('RF Test roc_auc: ', roc_auc_score(y_test, pred_test_rf[:,1]), 'RF Test GINI: ', 2*roc_auc_score(y_test, pred_test_rf[:,1])-1)\n",
        "print('GBC Test roc_auc: ', roc_auc_score(y_test, pred_test_gbc[:,1]), 'GBC Test GINI: ', 2*roc_auc_score(y_test, pred_test_gbc[:,1])-1)"
      ]
    },
    {
      "cell_type": "markdown",
      "metadata": {
        "id": "kQtsrLrI0Fy0"
      },
      "source": [
        "#### FINALMENTE: Si bien no hay una gran diferencia entre los 4 modelos, en cuanto a performance, el GINI más alto es el correspondiente al Modelo de **Random Forest**"
      ]
    },
    {
      "cell_type": "markdown",
      "metadata": {
        "id": "Sxjnz0D6uWjj"
      },
      "source": [
        "### Añadimos un grafico de ROC AUC sobre el modelo ganador"
      ]
    },
    {
      "cell_type": "code",
      "execution_count": null,
      "metadata": {
        "id": "nBqk--FJt5M_"
      },
      "outputs": [],
      "source": [
        "from yellowbrick.classifier import ROCAUC"
      ]
    },
    {
      "cell_type": "code",
      "execution_count": null,
      "metadata": {
        "id": "LjAA3XVht_1f"
      },
      "outputs": [],
      "source": [
        "visualizer2 = ROCAUC(rf, is_fitted=True, micro=False, macro=False,)\n",
        "visualizer2.fit(X_test_t3_p, y_test)\n",
        "visualizer2.score(X_test_t3_p, y_test)\n",
        "visualizer2.show()"
      ]
    },
    {
      "cell_type": "markdown",
      "metadata": {
        "id": "QyFwlqg0UQp_"
      },
      "source": [
        "## **6. Valoración del Modelo**\n",
        "Empecemos a revisar con el modelo final algunas métricas de valoración del modelo"
      ]
    },
    {
      "cell_type": "markdown",
      "metadata": {
        "id": "hP1NOrLnaRpq"
      },
      "source": [
        "### **Accuracy**\n",
        "Porcentaje de predicciones correctas"
      ]
    },
    {
      "cell_type": "code",
      "execution_count": null,
      "metadata": {
        "id": "xIJoRTagbHQ7"
      },
      "outputs": [],
      "source": [
        "from sklearn.metrics import accuracy_score"
      ]
    },
    {
      "cell_type": "code",
      "execution_count": null,
      "metadata": {
        "id": "epSZ4-AWaTwr"
      },
      "outputs": [],
      "source": [
        "br_test=y_test.value_counts() / len(y_test)\n",
        "br_test"
      ]
    },
    {
      "cell_type": "code",
      "execution_count": null,
      "metadata": {
        "id": "kaM6gEtNbbFI"
      },
      "outputs": [],
      "source": [
        "y_train_base = pd.Series(np.zeros(len(y_train)))\n",
        "y_test_base = pd.Series(np.zeros(len(y_test)))"
      ]
    },
    {
      "cell_type": "code",
      "execution_count": null,
      "metadata": {
        "id": "yvI7th76bghY"
      },
      "outputs": [],
      "source": [
        "print('Accuracy Baseline test: ', accuracy_score(y_test, y_test_base))\n",
        "print('Accuracy Model test:', accuracy_score(y_test, rf.predict(X_test_t3_p)))"
      ]
    },
    {
      "cell_type": "code",
      "execution_count": null,
      "metadata": {
        "id": "Uo7P5uvgpV4G"
      },
      "outputs": [],
      "source": [
        "from sklearn.metrics import (\n",
        "    #accuracy_score,\n",
        "    balanced_accuracy_score,\n",
        "    recall_score,\n",
        ")"
      ]
    },
    {
      "cell_type": "code",
      "execution_count": null,
      "metadata": {
        "id": "4Hn67goDpO4x"
      },
      "outputs": [],
      "source": [
        "print('Balanced accuracy, Baseline test: ', balanced_accuracy_score(y_test, y_test_base))\n",
        "print('Balanced accuracy, Model test:',  balanced_accuracy_score(y_test,rf.predict(X_test_t3_p)))"
      ]
    },
    {
      "cell_type": "markdown",
      "metadata": {
        "id": "3QYZERER2MPy"
      },
      "source": [
        "### Como está prediciendo el modelo?"
      ]
    },
    {
      "cell_type": "code",
      "execution_count": null,
      "metadata": {
        "id": "wFkhESe12LF7"
      },
      "outputs": [],
      "source": [
        "preds_1 = pd.DataFrame(rf.predict(X_test_t3_p), columns = ['loan_status'])\n",
        "preds_1.value_counts()"
      ]
    },
    {
      "cell_type": "code",
      "execution_count": null,
      "metadata": {
        "id": "siodSGo62K6z"
      },
      "outputs": [],
      "source": [
        "preds_2 = pd.DataFrame(rf.predict_proba(X_test_t3_p)[:,1], columns = ['prob_default'])\n",
        "preds_2['loan_status'] = preds_2['prob_default'].apply(lambda x: 1 if x > 0.15 else 0)\n",
        "preds_2['loan_status'].value_counts()"
      ]
    },
    {
      "cell_type": "code",
      "execution_count": null,
      "metadata": {
        "id": "mm4flGIMREVy"
      },
      "outputs": [],
      "source": [
        "493/(493+9091)"
      ]
    },
    {
      "cell_type": "markdown",
      "metadata": {
        "id": "ENGOTnl4ZL5L"
      },
      "source": [
        "### Identificamos un punto de corte óptimo que maximice el F1 Score"
      ]
    },
    {
      "cell_type": "code",
      "execution_count": null,
      "metadata": {
        "id": "MHC_xvyC4Ioz"
      },
      "outputs": [],
      "source": [
        "from sklearn.metrics import f1_score, precision_recall_curve"
      ]
    },
    {
      "cell_type": "code",
      "execution_count": null,
      "metadata": {
        "id": "5BF9W_xL4J1K"
      },
      "outputs": [],
      "source": [
        "precision, recall, thresholds = precision_recall_curve(y_train, pred_train_rf[:,1])"
      ]
    },
    {
      "cell_type": "code",
      "execution_count": null,
      "metadata": {
        "id": "bajX-OB84igL"
      },
      "outputs": [],
      "source": [
        "f1_scores = 2 * (precision * recall) / (precision + recall)"
      ]
    },
    {
      "cell_type": "code",
      "execution_count": null,
      "metadata": {
        "id": "L32dz1BY4lCo"
      },
      "outputs": [],
      "source": [
        "best_index = np.argmax(f1_scores)\n",
        "best_threshold = thresholds[best_index]\n",
        "best_f1_score = f1_scores[best_index]"
      ]
    },
    {
      "cell_type": "code",
      "execution_count": null,
      "metadata": {
        "id": "VECXPm664n93"
      },
      "outputs": [],
      "source": [
        "print(f\"Umbral óptimo: {best_threshold}\")\n",
        "print(f\"Mejor F1 Score: {best_f1_score}\")"
      ]
    },
    {
      "cell_type": "code",
      "execution_count": null,
      "metadata": {
        "id": "3vBgs8Ea5rq4"
      },
      "outputs": [],
      "source": [
        "plt.figure(figsize=(10, 6))\n",
        "plt.plot(thresholds, precision[:-1], 'b--', label='Precisión')\n",
        "plt.plot(thresholds, recall[:-1], 'g-', label='Recall')\n",
        "plt.plot(thresholds, f1_scores[:-1], 'r-', label='F1 Score')\n",
        "plt.xlabel('Umbral')\n",
        "plt.ylabel('Precisión/Recall/F1 Score')\n",
        "plt.title('Curvas de Precisión / Recall / F1 Score en función del Umbral')\n",
        "plt.legend(loc='best')\n",
        "plt.grid()\n",
        "plt.show()"
      ]
    },
    {
      "cell_type": "code",
      "execution_count": null,
      "metadata": {
        "id": "sen6a1lL6RGD"
      },
      "outputs": [],
      "source": [
        "plt.figure(figsize=(8, 6))\n",
        "plt.plot(recall, precision, marker='.', label='Modelo')\n",
        "plt.xlabel('Recall')\n",
        "plt.ylabel('Precision')\n",
        "plt.title('Curva Precision / Recall')\n",
        "plt.legend(loc='best')\n",
        "plt.grid()\n",
        "plt.show()"
      ]
    },
    {
      "cell_type": "code",
      "execution_count": null,
      "metadata": {
        "id": "BSNj2qf26WX4"
      },
      "outputs": [],
      "source": [
        "preds_2 = pd.DataFrame(rf.predict_proba(X_test_t3_p)[:,1], columns = ['prob_default'])\n",
        "preds_2['loan_status'] = preds_2['prob_default'].apply(lambda x: 1 if x > 0.13161198161956192 else 0)\n",
        "preds_2['loan_status'].value_counts()"
      ]
    },
    {
      "cell_type": "markdown",
      "metadata": {
        "id": "mexmrjZ-Z6fN"
      },
      "source": [
        "### Precision, Recall, F-measure, Support\n",
        "\n",
        "- **Precision** = tp / (tp + fp)\n",
        "\n",
        "- **Recall** = tp / (tp + fn)\n",
        "\n",
        "- **F1** = 2 * (precision * recall) / (precision + recall)\n",
        "\n",
        "- **Support** = Number of cases on each class"
      ]
    },
    {
      "cell_type": "code",
      "execution_count": null,
      "metadata": {
        "id": "hja8g8018u84"
      },
      "outputs": [],
      "source": [
        "print('Accuracy Baseline test: ', accuracy_score(y_test, y_test_base))\n",
        "print('Accuracy Model test:', accuracy_score(y_test, rf.predict(X_test_t3_p)))\n",
        "print('Accuracy Model test Corte Optimo:', accuracy_score(y_test, preds_2['loan_status']))"
      ]
    },
    {
      "cell_type": "code",
      "execution_count": null,
      "metadata": {
        "id": "jk6qyydF9OLW"
      },
      "outputs": [],
      "source": [
        "print('Balanced accuracy Baseline test: ', balanced_accuracy_score(y_test, y_test_base))\n",
        "print('Balanced accuracy Model test:',  balanced_accuracy_score(y_test, rf.predict(X_test_t3_p)))\n",
        "print('Balanced accuracy Model test Corte Optimo:',  balanced_accuracy_score(y_test, preds_2['loan_status']))"
      ]
    },
    {
      "cell_type": "code",
      "execution_count": null,
      "metadata": {
        "id": "nAsXYpdGZCmp"
      },
      "outputs": [],
      "source": [
        "from sklearn.metrics import (\n",
        "    precision_score,\n",
        "    recall_score,\n",
        "    f1_score,\n",
        "    precision_recall_fscore_support,\n",
        ")"
      ]
    },
    {
      "cell_type": "code",
      "execution_count": null,
      "metadata": {
        "id": "pNlBArqrZIqc"
      },
      "outputs": [],
      "source": [
        "# Precision\n",
        "print('Precision Baseline test: ', precision_score(y_test, y_test_base))\n",
        "print('Precision Model test:', precision_score(y_test,rf.predict(X_test_t3_p)))\n",
        "print('Precision Model test Corte Optimo:', precision_score(y_test,preds_2['loan_status']))"
      ]
    },
    {
      "cell_type": "code",
      "execution_count": null,
      "metadata": {
        "id": "k_QawKIgZCcL"
      },
      "outputs": [],
      "source": [
        "# Recall\n",
        "print('Recall Baseline test: ', recall_score(y_test, y_test_base))\n",
        "print('Recall Model test:', recall_score(y_test, rf.predict(X_test_t3_p)))\n",
        "print('Recall Model test Corte Optimo:', recall_score(y_test, preds_2['loan_status']))"
      ]
    },
    {
      "cell_type": "code",
      "execution_count": null,
      "metadata": {
        "id": "pkboDmWjZIz_"
      },
      "outputs": [],
      "source": [
        "# F1-Score\n",
        "print('F-measure Baseline test: ', f1_score(y_test, y_test_base))\n",
        "print('F-measure Model test:', f1_score(y_test, rf.predict(X_test_t3_p)))\n",
        "print('F-measure Model test Corte Optimo:', f1_score(y_test, preds_2['loan_status']))"
      ]
    },
    {
      "cell_type": "code",
      "execution_count": null,
      "metadata": {
        "id": "6gS98YKCkZPa"
      },
      "outputs": [],
      "source": [
        "precision, recall, fscore, support = precision_recall_fscore_support(y_test, preds_2['loan_status'])\n",
        "print('Precision: ', precision)\n",
        "print('Recall: ', recall)\n",
        "print('F1-score: ', fscore)"
      ]
    },
    {
      "cell_type": "markdown",
      "metadata": {
        "id": "hs4jnJxVoJG9"
      },
      "source": [
        "### Matriz de Confusión"
      ]
    },
    {
      "cell_type": "markdown",
      "metadata": {
        "id": "JDKAvqpGoB65"
      },
      "source": [
        "TN | FP\n",
        "\n",
        "FN | TP"
      ]
    },
    {
      "cell_type": "code",
      "execution_count": null,
      "metadata": {
        "id": "QoRfLharm3xx"
      },
      "outputs": [],
      "source": [
        "from sklearn.metrics import confusion_matrix"
      ]
    },
    {
      "cell_type": "code",
      "execution_count": null,
      "metadata": {
        "id": "W9REvS0Em5yB"
      },
      "outputs": [],
      "source": [
        "confusion_matrix(y_test, y_test_base, labels=[0,1])"
      ]
    },
    {
      "cell_type": "code",
      "execution_count": null,
      "metadata": {
        "id": "WzeSeGrsVCOS"
      },
      "outputs": [],
      "source": [
        "confusion_matrix(y_test, rf.predict(X_test_t3_p), labels=[0,1])"
      ]
    },
    {
      "cell_type": "code",
      "execution_count": null,
      "metadata": {
        "id": "-A62MpuDoVz6"
      },
      "outputs": [],
      "source": [
        "confusion_matrix(y_test, preds_2['loan_status'], labels=[0,1])"
      ]
    },
    {
      "cell_type": "markdown",
      "metadata": {
        "id": "3F99pmyHZe6l"
      },
      "source": [
        "## **7. Técnicas de balanceo**\n",
        "En este punto, propongamos algunos métodos de balanceo y revisemos su impacto en el performance del modelo candidato"
      ]
    },
    {
      "cell_type": "code",
      "execution_count": null,
      "metadata": {
        "id": "YTrEepHU-_1Q"
      },
      "outputs": [],
      "source": [
        "#df_clase.columns"
      ]
    },
    {
      "cell_type": "code",
      "execution_count": null,
      "metadata": {
        "id": "VEp0H1EcOl0L"
      },
      "outputs": [],
      "source": [
        "from imblearn.over_sampling import RandomOverSampler, SMOTE, ADASYN\n",
        "from imblearn.under_sampling import RandomUnderSampler, NearMiss"
      ]
    },
    {
      "cell_type": "code",
      "execution_count": null,
      "metadata": {
        "id": "ZkU78_2wV4X9"
      },
      "outputs": [],
      "source": [
        "X_train_t3_p.shape, y_train.shape"
      ]
    },
    {
      "cell_type": "code",
      "execution_count": null,
      "metadata": {
        "id": "Bg-Ps7E6WGFr"
      },
      "outputs": [],
      "source": [
        "y_train.value_counts()"
      ]
    },
    {
      "cell_type": "code",
      "execution_count": null,
      "metadata": {
        "id": "94RcvTUEOlxk"
      },
      "outputs": [],
      "source": [
        "# Oversampling: Random Over Sampling\n",
        "ros = RandomOverSampler(random_state=0)\n",
        "X_train_t3_p_ros, y_train_ros = ros.fit_resample(X_train_t3_p, y_train)"
      ]
    },
    {
      "cell_type": "code",
      "execution_count": null,
      "metadata": {
        "id": "-uFGA6q3VXI2"
      },
      "outputs": [],
      "source": [
        "X_train_t3_p_ros.shape, y_train_ros.shape"
      ]
    },
    {
      "cell_type": "code",
      "execution_count": null,
      "metadata": {
        "id": "bV7iGZnvWf6Q"
      },
      "outputs": [],
      "source": [
        "y_train_ros.value_counts()"
      ]
    },
    {
      "cell_type": "code",
      "execution_count": null,
      "metadata": {
        "id": "9-QAKibZS9AE"
      },
      "outputs": [],
      "source": [
        "# Undersampling: Random Under Sampling\n",
        "rus = RandomUnderSampler(random_state=0)\n",
        "X_train_t3_p_rus, y_train_rus = rus.fit_resample(X_train_t3_p, y_train)"
      ]
    },
    {
      "cell_type": "code",
      "execution_count": null,
      "metadata": {
        "id": "SwHcc1AOY-e2"
      },
      "outputs": [],
      "source": [
        "X_train_t3_p_rus.shape, y_train_rus.shape"
      ]
    },
    {
      "cell_type": "code",
      "execution_count": null,
      "metadata": {
        "id": "U28gSq2SOlux"
      },
      "outputs": [],
      "source": [
        "# Oversampling: SMOTE\n",
        "#smote = SMOTE(random_state=0)\n",
        "#X_resampled_smote, y_resampled_smote = smote.fit_resample(X_train, y_train)\n",
        "# Oversampling: ADASYN\n",
        "#adasyn = ADASYN(random_state=0)\n",
        "#X_resampled_adasyn, y_resampled_adasyn = adasyn.fit_resample(X_train, y_train)\n",
        "# Undersampling: NearMiss\n",
        "#nearmiss = NearMiss()\n",
        "#X_resampled_nearmiss, y_resampled_nearmiss = nearmiss.fit_resample(X_train, y_train)"
      ]
    },
    {
      "cell_type": "code",
      "execution_count": null,
      "metadata": {
        "id": "Om2sLFo__z0N"
      },
      "outputs": [],
      "source": [
        "rf_ros = RandomForestClassifier(random_state=0)\n",
        "rf_param_grid = dict(\n",
        "    n_estimators= [10, 20, 50, 100, 200],\n",
        "    max_depth= [None, 1, 2, 3, 4, 5, 10, 15, 20],\n",
        "    max_features= ['sqrt', 'log2', 0.5],\n",
        "    bootstrap= [True, False],\n",
        "    min_samples_split= [0.01, 0.05, 0.1, 0.2, 0.3, 0.5],\n",
        "    min_samples_leaf= [1, 2, 5]\n",
        ")\n",
        "\n",
        "# Random Search\n",
        "reg = RandomizedSearchCV(rf_ros, rf_param_grid, scoring='roc_auc', return_train_score=True, cv=5, n_iter = 200, n_jobs=-1)\n",
        "search_rf_ros=reg.fit(X_train_t3_p_ros, y_train_ros)\n",
        "\n",
        "# Resultados\n",
        "print(\"Mejores parámetros (Random Forest):\", search_rf_ros.best_params_)\n",
        "print(\"Mejor accuracy (Random Forest):\", search_rf_ros.best_score_)"
      ]
    },
    {
      "cell_type": "code",
      "execution_count": null,
      "metadata": {
        "id": "o_OP1pmffWCW"
      },
      "outputs": [],
      "source": [
        "#Mejores parámetros (Random Forest): {'n_estimators': 200, 'min_samples_split': 0.01, 'min_samples_leaf': 1, 'max_features': 0.5, 'max_depth': 20, 'bootstrap': False}"
      ]
    },
    {
      "cell_type": "code",
      "execution_count": null,
      "metadata": {
        "id": "ihUCBM5gfasG"
      },
      "outputs": [],
      "source": [
        "rf_ros = RandomForestClassifier(n_estimators=200, min_samples_split=0.01, min_samples_leaf=1, max_features=0.5,\n",
        "                            max_depth=20, bootstrap=False, random_state=0)\n",
        "rf_ros.fit(X_train_t3_p_ros, y_train_ros)\n",
        "pred_train_rf_ros = rf_ros.predict_proba(X_train_t3_p_ros)\n",
        "print('Train set')\n",
        "print('Random Forest Classifier roc-auc: {}'.format(roc_auc_score(y_train_ros, pred_train_rf_ros[:,1])))"
      ]
    },
    {
      "cell_type": "code",
      "execution_count": null,
      "metadata": {
        "id": "oAqGmnyPBb73"
      },
      "outputs": [],
      "source": [
        "# Modelo con balanceo y sin balanceo\n",
        "pred_train_rf = rf.predict_proba(X_train_t3_p)\n",
        "pred_train_rf_ros = rf_ros.predict_proba(X_train_t3_p)\n",
        "print('Sin Balanceo Train roc_auc: ', roc_auc_score(y_train, pred_train_rf[:,1]), 'GINI Train ', 2*roc_auc_score(y_train, pred_train_rf[:,1])-1)\n",
        "print('Con Balanceo Train roc_auc: ', roc_auc_score(y_train, pred_train_rf_ros[:,1]), 'GINI Train ', 2*roc_auc_score(y_train, pred_train_rf_ros[:,1])-1)"
      ]
    },
    {
      "cell_type": "code",
      "execution_count": null,
      "metadata": {
        "id": "UkdKD7Og_SSW"
      },
      "outputs": [],
      "source": [
        "# Modelo con balanceo y sin balanceo\n",
        "pred_test_rf = rf.predict_proba(X_test_t3_p)\n",
        "pred_test_rf_ros = rf_ros.predict_proba(X_test_t3_p)\n",
        "print('Sin Balanceo Test roc_auc: ', roc_auc_score(y_test, pred_test_rf[:,1]), 'GINI Test ', 2*roc_auc_score(y_test, pred_test_rf[:,1])-1)\n",
        "print('Con Balanceo Test roc_auc: ', roc_auc_score(y_test, pred_test_rf_ros[:,1]), 'GINI Test ', 2*roc_auc_score(y_test, pred_test_rf_ros[:,1])-1)"
      ]
    },
    {
      "cell_type": "markdown",
      "metadata": {
        "id": "fjTAznrhTQjL"
      },
      "source": [
        "### Código Alternativo para generar un undersampling"
      ]
    },
    {
      "cell_type": "code",
      "execution_count": null,
      "metadata": {
        "id": "BoDWVCvw95gS"
      },
      "outputs": [],
      "source": [
        "#X_y_train = pd.concat([X_train_t2_p.reset_index(drop = True),\n",
        "#                       y_train.reset_index(drop = True)], axis = 1)\n",
        "#count_nondefault, count_default = X_y_train['FLG_DEFAULT_12M'].value_counts()\n",
        "#print(count_nondefault,count_default)\n",
        "#X_y_train.shape\n",
        "# Separamos la muestra en 2 partes: defaults y no defaults\n",
        "#nondefaults = X_y_train[X_y_train['FLG_DEFAULT_12M'] == 0]\n",
        "#defaults = X_y_train[X_y_train['FLG_DEFAULT_12M'] == 1]\n",
        "#print(nondefaults.shape)\n",
        "#print(defaults.shape)\n",
        "# Reducimos la muestra de nondefaults\n",
        "#nondefaults_under = nondefaults.sample(count_default)\n",
        "#print(nondefaults_under.shape)\n",
        "# Unimos la muestra de defaults y la de nondefaults reducida\n",
        "#X_y_train_under = pd.concat([nondefaults_under.reset_index(drop = True),\n",
        "#                             defaults.reset_index(drop = True)], axis = 0)\n",
        "#\n",
        "# Verificamos los nros de defaults y no defaults\n",
        "#print(X_y_train_under['FLG_DEFAULT_12M'].value_counts())\n",
        "#X_y_train_under.shape\n",
        "#X_train_rus=X_y_train_under.drop(columns='FLG_DEFAULT_12M')\n",
        "#X_train_rus.head()\n",
        "#y_train_rus=X_y_train_under['FLG_DEFAULT_12M']\n",
        "#y_train_rus.value_counts()"
      ]
    },
    {
      "cell_type": "markdown",
      "metadata": {
        "id": "pxrRe-Q5naph"
      },
      "source": [
        "## **8. Calibración del Modelo**\n",
        "En esta parte verificaremos, y de ser necesario, calibraremos el modelo revisando la relación entre los valores los ratios de default reales y las PDs promedios que arroja el modelo."
      ]
    },
    {
      "cell_type": "code",
      "execution_count": null,
      "metadata": {
        "id": "TU7o4x7A5zmM"
      },
      "outputs": [],
      "source": [
        "import statsmodels.api as sm\n",
        "from scipy.stats import chi2\n",
        "from statsmodels.api import add_constant\n",
        "from statsmodels.stats.proportion import proportions_chisquare"
      ]
    },
    {
      "cell_type": "code",
      "execution_count": null,
      "metadata": {
        "id": "qa8z6BS87QXf"
      },
      "outputs": [],
      "source": [
        "df = pd.DataFrame({'prob': pred_test_rf[:,1], 'observed': y_test})\n",
        "df = df.sort_values('prob')\n",
        "df['bin'] = pd.qcut(df['prob'], 10, duplicates='drop')\n",
        "df"
      ]
    },
    {
      "cell_type": "code",
      "execution_count": null,
      "metadata": {
        "id": "mhM3JWYw94TS"
      },
      "outputs": [],
      "source": [
        "grouped = df.groupby('bin').agg(\n",
        "    total_count=('observed', 'count'),\n",
        "    actual_default=('observed', 'sum'),\n",
        "    bad_rate=('prob', 'mean')).reset_index()\n",
        "grouped[\"expected_count\"] = grouped[\"total_count\"] * grouped[\"bad_rate\"]"
      ]
    },
    {
      "cell_type": "code",
      "execution_count": null,
      "metadata": {
        "id": "VKlU2hvI-BAD"
      },
      "outputs": [],
      "source": [
        "grouped"
      ]
    },
    {
      "cell_type": "code",
      "execution_count": null,
      "metadata": {
        "id": "MxzY6nUw4B0b"
      },
      "outputs": [],
      "source": [
        "# Test de Hosmer Lemeshow\n",
        "def hosmer_lemeshow_test(y_true, y_prob, n_bins=10):\n",
        "    \"\"\"\n",
        "    Realiza el test de Hosmer-Lemeshow para evaluar el ajuste de un modelo de regresión logística.\n",
        "\n",
        "    Parámetros:\n",
        "    - y_true: valores reales de la variable objetivo\n",
        "    - y_prob: probabilidades predichas por el modelo\n",
        "    - num_bins: número de grupos para la prueba\n",
        "\n",
        "    Retorna:\n",
        "    - chi2_stat: estadístico de Hosmer-Lemeshow\n",
        "    - p_value: valor p asociado\n",
        "    \"\"\"\n",
        "    df = pd.DataFrame({'prob': y_prob, 'observed': y_true})\n",
        "\n",
        "    df = df.sort_values('prob')\n",
        "\n",
        "    df['bin'] = pd.qcut(df['prob'], 10, duplicates='drop')\n",
        "\n",
        "    grouped = df.groupby('bin').agg(\n",
        "        total_count=('observed', 'count'),\n",
        "        actual_default=('observed', 'sum'),\n",
        "        bad_rate=('prob', 'mean')\n",
        "    ).reset_index()\n",
        "\n",
        "    grouped[\"expected_default\"] = grouped[\"total_count\"] * grouped[\"bad_rate\"]\n",
        "\n",
        "    chi2_stat = ((grouped['actual_default'] - grouped['expected_default']) ** 2 / grouped['expected_default']).sum()\n",
        "\n",
        "    from scipy.stats import chi2\n",
        "\n",
        "    dof = len(grouped) - 2\n",
        "    p_value = 1 - chi2.cdf(chi2_stat, df=8)\n",
        "\n",
        "    print(f'Estadístico de Hosmer-Lemeshow: {chi2_stat:.4f}')\n",
        "    print(f'Valor p: {p_value:.4f}')\n",
        "\n",
        "    if p_value < 0.05:\n",
        "        print(\"El modelo NO se ajusta bien a los datos (rechazamos H0).\")\n",
        "    else:\n",
        "        print(\"El modelo se ajusta bien a los datos.\")"
      ]
    },
    {
      "cell_type": "code",
      "execution_count": null,
      "metadata": {
        "id": "uInMKvI35PVm"
      },
      "outputs": [],
      "source": [
        "hosmer_lemeshow_test(y_test, pred_test_rf[:,1])"
      ]
    },
    {
      "cell_type": "code",
      "execution_count": null,
      "metadata": {
        "id": "wa6Id-KgnaJi"
      },
      "outputs": [],
      "source": [
        "from sklearn.calibration import calibration_curve"
      ]
    },
    {
      "cell_type": "code",
      "execution_count": null,
      "metadata": {
        "id": "utMFKX0as24t"
      },
      "outputs": [],
      "source": [
        "# Veamos los RDs y los promedios de PDs en cada bucket para el modelo original (sin balanceo)\n",
        "fraction_of_positives, mean_predicted_value = calibration_curve(\n",
        "    y_test, pred_test_rf[:, 1], n_bins=10, strategy='uniform')\n",
        "\n",
        "len(mean_predicted_value), len(fraction_of_positives)"
      ]
    },
    {
      "cell_type": "code",
      "execution_count": null,
      "metadata": {
        "id": "MANuM1ymu0lC"
      },
      "outputs": [],
      "source": [
        "mean_predicted_value"
      ]
    },
    {
      "cell_type": "code",
      "execution_count": null,
      "metadata": {
        "id": "4Qwn-A8Bs21D"
      },
      "outputs": [],
      "source": [
        "fraction_of_positives"
      ]
    },
    {
      "cell_type": "code",
      "execution_count": null,
      "metadata": {
        "id": "qmAMdI0Rwh20"
      },
      "outputs": [],
      "source": [
        "# Una función para consolidar lo anterior\n",
        "def plot_calibration_curve(y_true, probs, bins, strategy):\n",
        "\n",
        "    fraction_of_positives, mean_predicted_value = calibration_curve(\n",
        "        y_true, probs, n_bins=bins, strategy=strategy)\n",
        "\n",
        "    max_val = max(mean_predicted_value)\n",
        "\n",
        "    plt.figure(figsize=(8,10))\n",
        "    plt.subplot(2, 1, 1)\n",
        "    plt.plot(mean_predicted_value, fraction_of_positives, label='Random Forest')\n",
        "    plt.plot(np.linspace(0, max_val, bins), np.linspace(0, max_val, bins),\n",
        "         linestyle='--', color='red', label='Perfect calibration')\n",
        "\n",
        "    plt.xlabel('Probability Predictions')\n",
        "    plt.ylabel('Fraction of positive examples')\n",
        "    plt.title('Calibration Curve')\n",
        "    plt.legend(loc='upper left')\n",
        "\n",
        "\n",
        "    plt.subplot(2, 1, 2)\n",
        "    plt.hist(probs, range=(0, 1), bins=bins, density=True, stacked=True, alpha=0.3)\n",
        "    plt.xlabel('Probability Predictions')\n",
        "    plt.ylabel('Fraction of examples')\n",
        "    plt.title('Density')\n",
        "    plt.show()"
      ]
    },
    {
      "cell_type": "code",
      "execution_count": null,
      "metadata": {
        "id": "3jhHYABYwhzz"
      },
      "outputs": [],
      "source": [
        "# Modelo Original, sin balanceo\n",
        "plot_calibration_curve(y_test, pred_test_rf[:, 1], bins=10, strategy='uniform')"
      ]
    },
    {
      "cell_type": "code",
      "execution_count": null,
      "metadata": {
        "id": "XrgIfsXJJo9P"
      },
      "outputs": [],
      "source": [
        "from sklearn.metrics import brier_score_loss"
      ]
    },
    {
      "cell_type": "code",
      "execution_count": null,
      "metadata": {
        "id": "uhVNCbvLJsPS"
      },
      "outputs": [],
      "source": [
        "brier_score_loss(y_test, pred_test_rf[:, 1])"
      ]
    },
    {
      "cell_type": "code",
      "execution_count": null,
      "metadata": {
        "id": "oPguaKYkwhQ_"
      },
      "outputs": [],
      "source": [
        "# Modelo con Oversampling\n",
        "plot_calibration_curve(y_test, pred_test_rf_ros[:, 1], bins=10, strategy='uniform')"
      ]
    },
    {
      "cell_type": "code",
      "execution_count": null,
      "metadata": {
        "id": "QPSkn0aAKAN4"
      },
      "outputs": [],
      "source": [
        "brier_score_loss(y_test, pred_test_rf_ros[:, 1])"
      ]
    },
    {
      "cell_type": "markdown",
      "metadata": {
        "id": "rVF1LA1V7cOt"
      },
      "source": [
        "### Planteemos dos métodos, el ajuste por función sigmoide y el ajuste por función isotónica"
      ]
    },
    {
      "cell_type": "code",
      "execution_count": null,
      "metadata": {
        "id": "O0EnRNQG3wmf"
      },
      "outputs": [],
      "source": [
        "from sklearn.calibration import CalibratedClassifierCV"
      ]
    },
    {
      "cell_type": "code",
      "execution_count": null,
      "metadata": {
        "id": "Gbrkew2g3meZ"
      },
      "outputs": [],
      "source": [
        "# Sobre el modelo original\n",
        "# Calibración Sigmoide\n",
        "cal_sigmoid = CalibratedClassifierCV(rf, cv='prefit', method='sigmoid')\n",
        "cal_sigmoid.fit(X_test_t3_p, y_test)\n",
        "prob_sigmoid = cal_sigmoid.predict_proba(X_test_t3_p)[:, 1]\n",
        "\n",
        "# Calibración Isotónica\n",
        "cal_isotonic = CalibratedClassifierCV(rf, cv='prefit', method='isotonic')\n",
        "cal_isotonic.fit(X_test_t3_p, y_test)\n",
        "prob_isotonic = cal_isotonic.predict_proba(X_test_t3_p)[:, 1]"
      ]
    },
    {
      "cell_type": "markdown",
      "metadata": {
        "id": "6ehctH_5_PDk"
      },
      "source": [
        "#### Revisemos la calibración Sigmoide"
      ]
    },
    {
      "cell_type": "code",
      "execution_count": null,
      "metadata": {
        "id": "iflEyvUd5Bo7"
      },
      "outputs": [],
      "source": [
        "plot_calibration_curve(y_test, prob_sigmoid, bins=10, strategy='uniform')"
      ]
    },
    {
      "cell_type": "markdown",
      "metadata": {
        "id": "WDoa0YJU-UuI"
      },
      "source": [
        "### Acaso la calibración varía la discriminación del modelo?"
      ]
    },
    {
      "cell_type": "code",
      "execution_count": null,
      "metadata": {
        "id": "SD6UfuRT-TmJ"
      },
      "outputs": [],
      "source": [
        "print('Test set')\n",
        "print('GBC roc-auc: {}'.format(roc_auc_score(y_test, pred_test_rf[:,1])))\n",
        "print('Test set con Calibrado')\n",
        "print('GBC roc-auc: {}'.format(roc_auc_score(y_test, prob_sigmoid)))"
      ]
    },
    {
      "cell_type": "code",
      "execution_count": null,
      "metadata": {
        "id": "ORzXYRiMKOB2"
      },
      "outputs": [],
      "source": [
        "print('Test set')\n",
        "print('Brier Score: {}'.format(brier_score_loss(y_test, pred_test_rf[:, 1])))\n",
        "print('Test set con Calibrado')\n",
        "print('Brier Score: {}'.format(brier_score_loss(y_test, prob_sigmoid)))"
      ]
    },
    {
      "cell_type": "markdown",
      "metadata": {
        "id": "uiu6o_Q9_Wah"
      },
      "source": [
        "### Ahora revisemos la calibración isotónica"
      ]
    },
    {
      "cell_type": "code",
      "execution_count": null,
      "metadata": {
        "id": "679ku4_c4rvz"
      },
      "outputs": [],
      "source": [
        "plot_calibration_curve(y_test, prob_isotonic, bins=10, strategy='uniform')"
      ]
    },
    {
      "cell_type": "code",
      "execution_count": null,
      "metadata": {
        "id": "zkrtNaP-_L4j"
      },
      "outputs": [],
      "source": [
        "print('Test set')\n",
        "print('GBC roc-auc: {}'.format(roc_auc_score(y_test, pred_test_rf[:,1])))\n",
        "print('Test set con Calibrado')\n",
        "print('GBC roc-auc: {}'.format(roc_auc_score(y_test, prob_isotonic)))"
      ]
    },
    {
      "cell_type": "code",
      "execution_count": null,
      "metadata": {
        "id": "5lGHqbIlLCYf"
      },
      "outputs": [],
      "source": [
        "print('Test set')\n",
        "print('Brier Score: {}'.format(brier_score_loss(y_test, pred_test_rf[:, 1])))\n",
        "print('Test set con Calibrado')\n",
        "print('Brier Score: {}'.format(brier_score_loss(y_test, prob_isotonic)))"
      ]
    },
    {
      "cell_type": "code",
      "execution_count": null,
      "metadata": {
        "id": "uSU7rC1NEwos"
      },
      "outputs": [],
      "source": [
        "# Sobre el modelo balanceado por undersampling\n",
        "# Calibración Sigmoide\n",
        "cal_sigmoid2 = CalibratedClassifierCV(rf_ros, cv='prefit', method='sigmoid')\n",
        "cal_sigmoid2.fit(X_test_t3_p, y_test)\n",
        "prob_sigmoid2 = cal_sigmoid2.predict_proba(X_test_t3_p)[:, 1]\n",
        "\n",
        "# Calibración Isotónica\n",
        "cal_isotonic2 = CalibratedClassifierCV(rf_ros, cv='prefit', method='isotonic')\n",
        "cal_isotonic2.fit(X_test_t3_p, y_test)\n",
        "prob_isotonic2 = cal_isotonic2.predict_proba(X_test_t3_p)[:, 1]"
      ]
    },
    {
      "cell_type": "code",
      "execution_count": null,
      "metadata": {
        "id": "Tz5i64OWFQFe"
      },
      "outputs": [],
      "source": [
        "# Calibración sigmoidea\n",
        "plot_calibration_curve(y_test, prob_sigmoid2, bins=10, strategy='uniform')"
      ]
    },
    {
      "cell_type": "code",
      "execution_count": null,
      "metadata": {
        "id": "Ecba6vgaGkUM"
      },
      "outputs": [],
      "source": [
        "print('Test set')\n",
        "print('GBC roc-auc: {}'.format(roc_auc_score(y_test, pred_test_rf_ros[:,1])))\n",
        "print('Test set con Calibrado')\n",
        "print('GBC roc-auc: {}'.format(roc_auc_score(y_test, prob_sigmoid2)))"
      ]
    },
    {
      "cell_type": "code",
      "execution_count": null,
      "metadata": {
        "id": "8FsQHmrqLLvp"
      },
      "outputs": [],
      "source": [
        "print('Test set')\n",
        "print('Brier Score: {}'.format(brier_score_loss(y_test, pred_test_rf_ros[:, 1])))\n",
        "print('Test set con Calibrado')\n",
        "print('Brier Score: {}'.format(brier_score_loss(y_test, prob_sigmoid2)))"
      ]
    },
    {
      "cell_type": "code",
      "execution_count": null,
      "metadata": {
        "id": "89K134WnF1wy"
      },
      "outputs": [],
      "source": [
        "# Calibración isotónica\n",
        "plot_calibration_curve(y_test, prob_isotonic2, bins=10, strategy='uniform')"
      ]
    },
    {
      "cell_type": "code",
      "execution_count": null,
      "metadata": {
        "id": "BUEYh08HH6PF"
      },
      "outputs": [],
      "source": [
        "print('Test set')\n",
        "print('GBC roc-auc: {}'.format(roc_auc_score(y_test, pred_test_rf_ros[:,1])))\n",
        "print('Test set con Calibrado')\n",
        "print('GBC roc-auc: {}'.format(roc_auc_score(y_test, prob_isotonic2)))"
      ]
    },
    {
      "cell_type": "code",
      "execution_count": null,
      "metadata": {
        "id": "AFhvBdC5LnrG"
      },
      "outputs": [],
      "source": [
        "print('Test set')\n",
        "print('Brier Score: {}'.format(brier_score_loss(y_test, pred_test_rf_ros[:, 1])))\n",
        "print('Test set con Calibrado')\n",
        "print('Brier Score: {}'.format(brier_score_loss(y_test, prob_isotonic2)))"
      ]
    },
    {
      "cell_type": "markdown",
      "metadata": {
        "id": "kHAotKtYxM_Z"
      },
      "source": [
        "## **9. Unboxing de Modelos**\n",
        "\n",
        "---\n",
        "\n"
      ]
    },
    {
      "cell_type": "markdown",
      "metadata": {
        "id": "MYwOCWbNHM2X"
      },
      "source": [
        "#### Primero, entendamos la importancia de cada variable. Hagamos el ejercicio con cada tipo de algoritmo"
      ]
    },
    {
      "cell_type": "markdown",
      "metadata": {
        "id": "m2k-BDn-NJ_g"
      },
      "source": [
        "#### **Logit**"
      ]
    },
    {
      "cell_type": "code",
      "execution_count": null,
      "metadata": {
        "id": "F02TeRdnKazd"
      },
      "outputs": [],
      "source": [
        "fi=pd.Series(logit_skl.coef_[0],index=logit_skl.feature_names_in_)\n",
        "fi.sort_values(ascending=True, inplace=True)\n",
        "fi.plot.barh(color='blue')\n",
        "plt.xlabel(\"Importance\")\n",
        "plt.ylabel(\"Feature\")\n",
        "plt.title(\"Feature Importance\")\n",
        "plt.show ()"
      ]
    },
    {
      "cell_type": "markdown",
      "metadata": {
        "id": "RmMHGTLVNOhB"
      },
      "source": [
        "#### **Random Forest**"
      ]
    },
    {
      "cell_type": "code",
      "execution_count": null,
      "metadata": {
        "id": "2l9XnysNBivB"
      },
      "outputs": [],
      "source": [
        "fi=pd.Series(rf.feature_importances_,index=rf.feature_names_in_)\n",
        "fi.sort_values(ascending=True, inplace=True)\n",
        "fi.plot.barh(color='blue')\n",
        "plt.xlabel(\"Importance\")\n",
        "plt.ylabel(\"Feature\")\n",
        "plt.title(\"Feature Importance\")\n",
        "plt.show ()"
      ]
    },
    {
      "cell_type": "markdown",
      "metadata": {
        "id": "h1bqGOiJNc_g"
      },
      "source": [
        "#### **Gradient Boosting**"
      ]
    },
    {
      "cell_type": "code",
      "execution_count": null,
      "metadata": {
        "id": "QQVq6Na5Nd9T"
      },
      "outputs": [],
      "source": [
        "fi=pd.Series(gbc.feature_importances_, index=gbc.feature_names_in_)\n",
        "fi.sort_values(ascending=True, inplace=True)\n",
        "fi.plot.barh(color='blue')\n",
        "plt.xlabel(\"Importance\")\n",
        "plt.ylabel(\"Feature\")\n",
        "plt.title(\"Feature Importance\")\n",
        "plt.show ()"
      ]
    },
    {
      "cell_type": "markdown",
      "metadata": {
        "id": "MzNGhxXDNuMj"
      },
      "source": [
        "### Ahora realicemos un análisis de la importancia de las variables usando **SHAP**"
      ]
    },
    {
      "cell_type": "code",
      "execution_count": null,
      "metadata": {
        "id": "TFSNo_VNzrhs"
      },
      "outputs": [],
      "source": [
        "pip install shap"
      ]
    },
    {
      "cell_type": "code",
      "execution_count": null,
      "metadata": {
        "id": "AUCprGhY4N30"
      },
      "outputs": [],
      "source": [
        "import shap"
      ]
    },
    {
      "cell_type": "code",
      "execution_count": null,
      "metadata": {
        "id": "KG1sX7XkxZ9T"
      },
      "outputs": [],
      "source": [
        "explainer = shap.Explainer(gbc)\n",
        "shap_values_bin = explainer(X_test_t3_p)\n",
        "print(shap_values_bin.shape)"
      ]
    },
    {
      "cell_type": "code",
      "execution_count": null,
      "metadata": {
        "id": "didf3IpTPTOb"
      },
      "outputs": [],
      "source": [
        "shap.plots.waterfall(shap_values_bin[0], max_display=30)"
      ]
    },
    {
      "cell_type": "markdown",
      "metadata": {
        "id": "yBatBHtVlrfw"
      },
      "source": [
        "### En este punto hagamos la prueba de como se incrementa o reduce el riesgo según el aprote de cada variable"
      ]
    },
    {
      "cell_type": "code",
      "execution_count": null,
      "metadata": {
        "id": "w6tCnM4_dZ5M"
      },
      "outputs": [],
      "source": [
        "pred_test_gbc[0,1]"
      ]
    },
    {
      "cell_type": "code",
      "execution_count": null,
      "metadata": {
        "id": "vIw4bN50HG_0"
      },
      "outputs": [],
      "source": [
        "import math"
      ]
    },
    {
      "cell_type": "code",
      "execution_count": null,
      "metadata": {
        "id": "pNWa_OpMgg5q"
      },
      "outputs": [],
      "source": [
        "# el valor del log odds en la primera observación es\n",
        "x=-3.147\n",
        "# Por tanto su probabilidad es:\n",
        "1/(1+math.exp(-x))"
      ]
    },
    {
      "cell_type": "markdown",
      "metadata": {
        "id": "v-iZ1bJyngSc"
      },
      "source": [
        "#### Podemos graficar la relación entre los shap values (log odds) y los valores de una variable"
      ]
    },
    {
      "cell_type": "code",
      "execution_count": null,
      "metadata": {
        "id": "KvLRsxxkqNws"
      },
      "outputs": [],
      "source": [
        "shap.plots.scatter(shap_values_bin[:, \"EDAD_T\"])"
      ]
    },
    {
      "cell_type": "code",
      "execution_count": null,
      "metadata": {
        "id": "hgWGxpdZm5YA"
      },
      "outputs": [],
      "source": [
        "shap.plots.scatter(shap_values_bin[:, \"DEUDA_TOTAL_SISTEMA\"])"
      ]
    },
    {
      "cell_type": "code",
      "execution_count": null,
      "metadata": {
        "id": "Mn2IQsv3QMRZ"
      },
      "outputs": [],
      "source": [
        "# En este punto revisamos el valor en probabilidad y como se explica cada punto\n",
        "shap.initjs()\n",
        "shap.plots.force(shap_values_bin[0],link='logit')"
      ]
    },
    {
      "cell_type": "markdown",
      "metadata": {
        "id": "ufJEvB6ysBn3"
      },
      "source": [
        "### Con el gráfico de barras vamos a evaluar la importancia media de cada variable"
      ]
    },
    {
      "cell_type": "code",
      "execution_count": null,
      "metadata": {
        "id": "HOyiS_dbQMOp"
      },
      "outputs": [],
      "source": [
        "shap.plots.bar(shap_values_bin,max_display=30)"
      ]
    },
    {
      "cell_type": "markdown",
      "metadata": {
        "id": "m5xv9J12r-Xo"
      },
      "source": [
        "#### Podemos también construir un gráfico local, es decir, para una observación"
      ]
    },
    {
      "cell_type": "code",
      "execution_count": null,
      "metadata": {
        "id": "Gv9ihnysry3C"
      },
      "outputs": [],
      "source": [
        "shap.plots.bar(shap_values_bin[0],max_display=30)"
      ]
    },
    {
      "cell_type": "code",
      "execution_count": null,
      "metadata": {
        "id": "eRRJ0UBpQML2"
      },
      "outputs": [],
      "source": [
        "# Este tipo de gráfico evalua todo el conjunto\n",
        "shap.plots.beeswarm(shap_values_bin, max_display=30)"
      ]
    },
    {
      "cell_type": "markdown",
      "metadata": {
        "id": "uVXZ4EU8Wnqs"
      },
      "source": [
        "## **10. Uso de Algoritmos alternativos**"
      ]
    },
    {
      "cell_type": "code",
      "execution_count": null,
      "metadata": {
        "id": "DNADJSmSWnWp"
      },
      "outputs": [],
      "source": [
        "from sklearn.svm import SVC\n",
        "from sklearn.neighbors import KNeighborsClassifier"
      ]
    },
    {
      "cell_type": "markdown",
      "metadata": {
        "id": "Iv4y4LR5ZcB_"
      },
      "source": [
        "### **Support Vector Machine**"
      ]
    },
    {
      "cell_type": "code",
      "execution_count": null,
      "metadata": {
        "id": "jdu3Eb3vWnN2"
      },
      "outputs": [],
      "source": [
        "svm = SVC(random_state=0)\n",
        "param_svm = {\n",
        "    'C': [0.1, 1, 10],\n",
        "    'kernel': ['linear', 'rbf'],\n",
        "    'gamma': ['scale', 'auto']\n",
        "}\n",
        "grid_svm = GridSearchCV(svm, param_svm, scoring='roc_auc', return_train_score=True, cv=5,  n_jobs=-1)\n",
        "grid_svm.fit(X_train_t3_p, y_train)\n",
        "best_svm = grid_svm.best_estimator_\n",
        "print(f\"Mejores parámetros SVM: {grid_svm.best_params_}\")"
      ]
    },
    {
      "cell_type": "code",
      "execution_count": null,
      "metadata": {
        "id": "Vc9hXaEmdJwU"
      },
      "outputs": [],
      "source": [
        "#Mejores parámetros SVM: {'C': 10, 'gamma': 'scale', 'kernel': 'rbf'}"
      ]
    },
    {
      "cell_type": "code",
      "execution_count": null,
      "metadata": {
        "id": "A_eOh8Rzmm-c"
      },
      "outputs": [],
      "source": [
        "svm = SVC(C=10, gamma='scale', kernel='rbf', random_state=0, probability=True, class_weight='balanced')\n",
        "svm.fit(X_train_t3_p, y_train)\n",
        "pred_train_svm = svm.predict_proba(X_train_t3_p)\n",
        "pred_test_svm = svm.predict_proba(X_test_t3_p)\n",
        "print('Train roc_auc: ', roc_auc_score(y_train, pred_train_svm[:,1]))\n",
        "print('Test roc_auc: ', roc_auc_score(y_test, pred_test_svm[:,1]))"
      ]
    },
    {
      "cell_type": "markdown",
      "metadata": {
        "id": "ZNmNsadYZkr8"
      },
      "source": [
        "### **K Nearest Neighbor**"
      ]
    },
    {
      "cell_type": "code",
      "execution_count": null,
      "metadata": {
        "id": "PFY1sZrUWnLH"
      },
      "outputs": [],
      "source": [
        "knn = KNeighborsClassifier()\n",
        "param_knn = {\n",
        "    'n_neighbors': [3, 5, 7],\n",
        "    'weights': ['uniform', 'distance'],\n",
        "    'p': [1, 2]  # Distancia Manhattan y Euclidiana\n",
        "}\n",
        "grid_knn = GridSearchCV(knn, param_knn, scoring='roc_auc', return_train_score=True, cv=5,  n_jobs=-1)\n",
        "grid_knn.fit(X_train_t3_p, y_train)\n",
        "best_knn = grid_knn.best_estimator_\n",
        "print(f\"Mejores parámetros KNN: {grid_knn.best_params_}\")"
      ]
    },
    {
      "cell_type": "code",
      "execution_count": null,
      "metadata": {
        "id": "8vBmsPVVAwqs"
      },
      "outputs": [],
      "source": [
        "grid_knn.cv_results_"
      ]
    },
    {
      "cell_type": "code",
      "execution_count": null,
      "metadata": {
        "id": "VCF9h2tHjnXC"
      },
      "outputs": [],
      "source": [
        "#Mejores parámetros KNN: {'n_neighbors': 7, 'p': 2, 'weights': 'distance'}"
      ]
    },
    {
      "cell_type": "code",
      "execution_count": null,
      "metadata": {
        "id": "lvpUtzz1mnzE"
      },
      "outputs": [],
      "source": [
        "knn = KNeighborsClassifier(n_neighbors=7, p=2, weights='distance')\n",
        "knn.fit(X_train_t3_p, y_train)\n",
        "pred_train_knn = knn.predict_proba(X_train_t3_p)\n",
        "pred_test_knn = knn.predict_proba(X_test_t3_p)\n",
        "print('Train roc_auc: ', roc_auc_score(y_train, pred_train_knn[:,1]))\n",
        "print('Test roc_auc: ', roc_auc_score(y_test, pred_test_knn[:,1]))"
      ]
    },
    {
      "cell_type": "markdown",
      "metadata": {
        "id": "RljSZyowppaq"
      },
      "source": [
        "## **11. Pruebas de Validación**"
      ]
    },
    {
      "cell_type": "markdown",
      "metadata": {
        "id": "4jbVDg9SrY3Z"
      },
      "source": [
        "### **Boostrapping**"
      ]
    },
    {
      "cell_type": "code",
      "execution_count": null,
      "metadata": {
        "id": "QK0tvjVVpz1J"
      },
      "outputs": [],
      "source": [
        "from sklearn.model_selection  import KFold, StratifiedKFold, cross_val_score\n",
        "from sklearn.utils import resample\n",
        "from sklearn.metrics import roc_auc_score"
      ]
    },
    {
      "cell_type": "code",
      "execution_count": null,
      "metadata": {
        "id": "YbcCxAW6pzxt"
      },
      "outputs": [],
      "source": [
        "bootstrap_iter = 20"
      ]
    },
    {
      "cell_type": "code",
      "execution_count": null,
      "metadata": {
        "id": "6NEwxW-3qK7l"
      },
      "outputs": [],
      "source": [
        "rf = RandomForestClassifier(n_estimators=200, min_samples_split=0.01, min_samples_leaf=2, max_features='log2',\n",
        "                            max_depth=10, bootstrap=True, random_state=0)"
      ]
    },
    {
      "cell_type": "code",
      "execution_count": null,
      "metadata": {
        "id": "_5mYqoWmpzth"
      },
      "outputs": [],
      "source": [
        "roc_auc = []"
      ]
    },
    {
      "cell_type": "code",
      "execution_count": null,
      "metadata": {
        "id": "pSWKU1Lnp7Q3"
      },
      "outputs": [],
      "source": [
        "for i in range(bootstrap_iter):\n",
        "    X_, y_ = resample(X_train_t_p, y_train)\n",
        "    rf.fit(X_, y_)\n",
        "    y_pred = rf.predict_proba(X_test_t_p)\n",
        "    acc = roc_auc_score(y_test,y_pred[:,1])\n",
        "    roc_auc.append(acc)"
      ]
    },
    {
      "cell_type": "code",
      "execution_count": null,
      "metadata": {
        "id": "MmOZs7Vyp7KD"
      },
      "outputs": [],
      "source": [
        "roc_auc_final = np.array(roc_auc)"
      ]
    },
    {
      "cell_type": "code",
      "execution_count": null,
      "metadata": {
        "id": "a9fcv394nQoK"
      },
      "outputs": [],
      "source": [
        "gini_final=2*roc_auc_final-1"
      ]
    },
    {
      "cell_type": "code",
      "execution_count": null,
      "metadata": {
        "id": "E86_Gc97p7GP"
      },
      "outputs": [],
      "source": [
        "print('Gini')\n",
        "print('Average: ', gini_final.mean())\n",
        "print('Standard deviation: ', gini_final.std())"
      ]
    },
    {
      "cell_type": "code",
      "execution_count": null,
      "metadata": {
        "id": "vwC705HbsK4I"
      },
      "outputs": [],
      "source": [
        "sns.kdeplot(gini_final, shade=True, color='blue')\n",
        "plt.title('Gráfico de Gini')\n",
        "plt.xlabel('Valor')\n",
        "plt.ylabel('Densidad')\n",
        "plt.grid(True)\n",
        "plt.show()"
      ]
    },
    {
      "cell_type": "markdown",
      "metadata": {
        "id": "PtMBVqm2rVMC"
      },
      "source": [
        "### **K-Folds Cross Validation**"
      ]
    },
    {
      "cell_type": "code",
      "execution_count": null,
      "metadata": {
        "id": "BlnOr-sbrSVG"
      },
      "outputs": [],
      "source": [
        "k = 10"
      ]
    },
    {
      "cell_type": "code",
      "execution_count": null,
      "metadata": {
        "id": "__Hor8R9rSRA"
      },
      "outputs": [],
      "source": [
        "kfold = KFold(n_splits = k, random_state = 777, shuffle=True)"
      ]
    },
    {
      "cell_type": "code",
      "execution_count": null,
      "metadata": {
        "id": "hsNkIsZfrSNE"
      },
      "outputs": [],
      "source": [
        "results = cross_val_score(rf, X_train_t3_p, y_train, cv = kfold, scoring='roc_auc')"
      ]
    },
    {
      "cell_type": "code",
      "execution_count": null,
      "metadata": {
        "id": "PlgyMEusrvlr"
      },
      "outputs": [],
      "source": [
        "print('ROC AUC Score')\n",
        "print('Average: ', results.mean())\n",
        "print('Standard deviation: ', results.std())"
      ]
    },
    {
      "cell_type": "code",
      "execution_count": null,
      "metadata": {
        "id": "x9phWi_mscfu"
      },
      "outputs": [],
      "source": [
        "sns.kdeplot(results, shade=True, color='blue')\n",
        "plt.title('Gráfico de ROCs')\n",
        "plt.xlabel('Valor')\n",
        "plt.ylabel('Densidad')\n",
        "plt.grid(True)\n",
        "plt.show()"
      ]
    },
    {
      "cell_type": "markdown",
      "metadata": {
        "id": "hWaro-Sivfm4"
      },
      "source": [
        "## **12. Pickling y Unpickling el Modelo y del Pipeline del Feature Engineering**"
      ]
    },
    {
      "cell_type": "code",
      "execution_count": null,
      "metadata": {
        "id": "RMZ7QlSFvfI1"
      },
      "outputs": [],
      "source": [
        "import pickle"
      ]
    },
    {
      "cell_type": "code",
      "execution_count": null,
      "metadata": {
        "id": "QfCgCgOOijMP"
      },
      "outputs": [],
      "source": [
        "# Empaquetamos el pipeline del feature engineering\n",
        "with open('fe_pipeline.pkl','wb') as fe_data_file:\n",
        "     pickle.dump(pipe_6,fe_data_file)"
      ]
    },
    {
      "cell_type": "code",
      "execution_count": null,
      "metadata": {
        "id": "eHAimfYPxvSh"
      },
      "outputs": [],
      "source": [
        "# Empaquetamos el modelo obtenido\n",
        "with open('final_model.pkl','wb') as modelFile:\n",
        "     pickle.dump(rf,modelFile)"
      ]
    },
    {
      "cell_type": "code",
      "execution_count": null,
      "metadata": {
        "id": "Ji2-Ja2ejqsQ"
      },
      "outputs": [],
      "source": [
        "# Cargar el pipeline del feature engineering\n",
        "with open('fe_pipeline.pkl','rb') as fe_data_file:\n",
        "     fe_final = pickle.load(fe_data_file)"
      ]
    },
    {
      "cell_type": "code",
      "execution_count": null,
      "metadata": {
        "id": "SB9CdtZ2wQX8"
      },
      "outputs": [],
      "source": [
        "# Cargar el modelo\n",
        "with open('final_model.pkl','rb') as modelFile:\n",
        "     modelo_final = pickle.load(modelFile)"
      ]
    },
    {
      "cell_type": "code",
      "execution_count": null,
      "metadata": {
        "id": "11IMqVQ9kKCM"
      },
      "outputs": [],
      "source": [
        "#Probemos el pipeline\n",
        "X_train_t_p=fe_final.transform(X_train)\n",
        "X_test_t_p=fe_final.transform(X_test)"
      ]
    },
    {
      "cell_type": "code",
      "execution_count": null,
      "metadata": {
        "id": "YKXYaCvsyKqg"
      },
      "outputs": [],
      "source": [
        "# Probemos el modelo\n",
        "pred_train_prueba = modelo_final.predict_proba(X_train_t_p)\n",
        "pred_test_prueba = modelo_final.predict_proba(X_test_t_p)\n",
        "print('RF Train Prueba roc-auc: {}'.format(roc_auc_score(y_train, pred_train_prueba[:,1])))\n",
        "print('RF Test Prueba roc-auc: {}'.format(roc_auc_score(y_test, pred_test_prueba[:,1])))"
      ]
    },
    {
      "cell_type": "code",
      "execution_count": null,
      "metadata": {
        "id": "yY4Em4J1oz5Q"
      },
      "outputs": [],
      "source": [
        "pd.concat([X_test, y_test],axis=1).to_csv('Base_SolicitudesCreditoEfectivo_Test.csv', index = False)"
      ]
    },
    {
      "cell_type": "markdown",
      "metadata": {
        "id": "YZcw80JqgdZH"
      },
      "source": [
        "## **13. Inferencia de Rechazados**"
      ]
    },
    {
      "cell_type": "code",
      "execution_count": null,
      "metadata": {
        "id": "0mKfqB4rgm_U"
      },
      "outputs": [],
      "source": [
        "muestra_1 = df_clase[df_clase['FLG_DEFAULT_12M'] == 1].sample(n=1000, random_state=0)\n",
        "muestra_0 = df_clase[df_clase['FLG_DEFAULT_12M'] == 0].sample(n=1000, random_state=0)\n",
        "muestra_rech = pd.concat([muestra_1, muestra_0], axis=0)\n",
        "muestra_rech = muestra_rech.sample(frac=1, random_state=0).reset_index(drop=True)\n",
        "del muestra_rech['FLG_DEFAULT_12M']\n",
        "\n",
        "muestra_rech.shape\n",
        "muestra_rech.head()"
      ]
    },
    {
      "cell_type": "code",
      "source": [
        "muestra_rech.shape"
      ],
      "metadata": {
        "id": "m_sBzTEV8lFV"
      },
      "execution_count": null,
      "outputs": []
    },
    {
      "cell_type": "markdown",
      "source": [
        "### Apliquemos la técnica de CutOff Augmentation, partiendo de una base de casos rechazados"
      ],
      "metadata": {
        "id": "vhC0rEFg4DaF"
      }
    },
    {
      "cell_type": "code",
      "source": [
        "# Transformamos la base de rechazados\n",
        "muestra_rech_t=fe_final.transform(muestra_rech)"
      ],
      "metadata": {
        "id": "WZy3ww5PxIU3"
      },
      "execution_count": null,
      "outputs": []
    },
    {
      "cell_type": "code",
      "source": [
        "# Hacemos predicciones con el modelo ya construido, usando los pickles\n",
        "muestra_rech_pred = modelo_final.predict_proba(muestra_rech_t)[:, 1]"
      ],
      "metadata": {
        "id": "wIeY7NwMxVx1"
      },
      "execution_count": null,
      "outputs": []
    },
    {
      "cell_type": "code",
      "source": [
        "# Asignamos a partir de un corte quienes serian malos inferidos y buenos inferidos\n",
        "cutoff = 0.10\n",
        "muestra_rech_y = np.where(muestra_rech_pred >= cutoff, 1, 0)"
      ],
      "metadata": {
        "id": "XdOr0YOBySs2"
      },
      "execution_count": null,
      "outputs": []
    },
    {
      "cell_type": "code",
      "source": [
        "# Convertimos a dataframe el array obtenido\n",
        "df_rech_y=pd.DataFrame(muestra_rech_y, columns=['FLG_DEFAULT_12M'])"
      ],
      "metadata": {
        "id": "rx07riNW4WgQ"
      },
      "execution_count": null,
      "outputs": []
    },
    {
      "cell_type": "code",
      "source": [
        "# Generamos la muestra de rechazados con sus marcas finales de malos y buenos inferidos\n",
        "muestra_rech_final=pd.concat([muestra_rech, df_rech_y], axis=1)"
      ],
      "metadata": {
        "id": "8xrVezRJ2z-1"
      },
      "execution_count": null,
      "outputs": []
    },
    {
      "cell_type": "code",
      "source": [
        "# Agregamos esta muestra al dataframe inicial\n",
        "df_clase_nuevo=pd.concat([df_clase, muestra_rech_final], axis=0)"
      ],
      "metadata": {
        "id": "BIv1__M65jnp"
      },
      "execution_count": null,
      "outputs": []
    },
    {
      "cell_type": "code",
      "source": [
        "df_clase.shape, df_clase_nuevo.shape"
      ],
      "metadata": {
        "id": "Rsti2iHv6XRD"
      },
      "execution_count": null,
      "outputs": []
    },
    {
      "cell_type": "markdown",
      "source": [
        "### A partir de aqui solo repetimos lo anteriormente realizado, es decir, tratamos las variables, entrenamos el modelo, optimizamos el modelo, etc etc..."
      ],
      "metadata": {
        "id": "0g9v5ZBY6fJJ"
      }
    },
    {
      "cell_type": "markdown",
      "source": [
        "## **14. Tasas de Aceptación**"
      ],
      "metadata": {
        "id": "fe_M4v_UMMCB"
      }
    },
    {
      "cell_type": "code",
      "source": [
        "# Estadísticas de las probabilidades de incumplimiento\n",
        "true_list = pd.DataFrame(y_test, columns = ['FLG_DEFAULT_12M']).rename(columns={'FLG_DEFAULT_12M':'true_loan_status'}, inplace=False)"
      ],
      "metadata": {
        "id": "qI3SO7H3MQs8"
      },
      "execution_count": null,
      "outputs": []
    },
    {
      "cell_type": "code",
      "source": [
        "true_list.shape"
      ],
      "metadata": {
        "id": "7WHQNbXVMJDV"
      },
      "execution_count": null,
      "outputs": []
    },
    {
      "cell_type": "code",
      "source": [
        "test_pred_df = pd.concat([true_list.reset_index(drop=True), pd.DataFrame(pred_test_rf[:,1],columns=['prob_default'])], axis = 1)"
      ],
      "metadata": {
        "id": "6cMkxnsPMHoy"
      },
      "execution_count": null,
      "outputs": []
    },
    {
      "cell_type": "code",
      "source": [
        "test_pred_df"
      ],
      "metadata": {
        "id": "7jWYiwq-D7xS"
      },
      "execution_count": null,
      "outputs": []
    },
    {
      "cell_type": "code",
      "source": [
        "print(test_pred_df['prob_default'].describe())"
      ],
      "metadata": {
        "id": "OCWe_ZMKMrOK"
      },
      "execution_count": null,
      "outputs": []
    },
    {
      "cell_type": "code",
      "source": [
        "# Umbral para una tasa de aceptación del 20 %\n",
        "threshold_20 = np.quantile(test_pred_df['prob_default'], 0.20)\n",
        "\n",
        "# Umbral de tasa de aceptación\n",
        "test_pred_df['pred_loan_status'] = test_pred_df['prob_default'].apply(lambda x: 1 if x > threshold_20 else 0)\n",
        "\n",
        "# Recuentos del estado del préstamo después del umbral\n",
        "print(test_pred_df['pred_loan_status'].value_counts())"
      ],
      "metadata": {
        "id": "toZbAeHAMrLT"
      },
      "execution_count": null,
      "outputs": []
    },
    {
      "cell_type": "code",
      "source": [
        "threshold_20"
      ],
      "metadata": {
        "id": "4mdoyGotNL4H"
      },
      "execution_count": null,
      "outputs": []
    },
    {
      "cell_type": "code",
      "source": [
        "# Histograma de las probabilidades previstas de incumplimiento\n",
        "plt.hist(pred_test_rf[:,1], color = 'blue', bins = 40)\n",
        "\n",
        "# Línea de referencia al gráfico para el umbral\n",
        "plt.axvline(x = threshold_20, color = 'red')\n",
        "plt.show()"
      ],
      "metadata": {
        "id": "wYTj0OJzNLwL"
      },
      "execution_count": null,
      "outputs": []
    },
    {
      "cell_type": "code",
      "source": [
        "# Subconjunto de solo préstamos aceptados\n",
        "accepted_loans = test_pred_df[test_pred_df['pred_loan_status'] == 0]\n",
        "\n",
        "# Cálculo de la tasa de malos para la muestra de aceptados\n",
        "print(np.sum(accepted_loans['true_loan_status']) / accepted_loans['true_loan_status'].count())"
      ],
      "metadata": {
        "id": "av0NwD47MrIc"
      },
      "execution_count": null,
      "outputs": []
    },
    {
      "cell_type": "code",
      "source": [
        "# Matriz de tazas de aceptación\n",
        "accept_rates = [1.0, 0.95, 0.9, 0.85, 0.8, 0.75, 0.7, 0.65, 0.6, 0.55, 0.5, 0.45, 0.4, 0.35, 0.3, 0.25, 0.2, 0.15, 0.1, 0.05]"
      ],
      "metadata": {
        "id": "ifxbEuh0Na0P"
      },
      "execution_count": null,
      "outputs": []
    },
    {
      "cell_type": "code",
      "source": [
        "# Matriz de umbrales\n",
        "thresholds = []"
      ],
      "metadata": {
        "id": "KWA0v4nUNdeB"
      },
      "execution_count": null,
      "outputs": []
    },
    {
      "cell_type": "code",
      "source": [
        "# Matriz de bad rates\n",
        "bad_rates = []"
      ],
      "metadata": {
        "id": "lwnF2zp6NdbR"
      },
      "execution_count": null,
      "outputs": []
    },
    {
      "cell_type": "code",
      "source": [
        "# Prestamos aceptados\n",
        "accepted_loans = accepted_loans[0:0]"
      ],
      "metadata": {
        "id": "kDwRCvXNNdYi"
      },
      "execution_count": null,
      "outputs": []
    },
    {
      "cell_type": "code",
      "source": [
        "# Número de prestamos aceptados\n",
        "num_accepted_loans = []"
      ],
      "metadata": {
        "id": "OC0tMV_iNdVg"
      },
      "execution_count": null,
      "outputs": []
    },
    {
      "cell_type": "code",
      "source": [
        "# Matrices de la tabla de estrategia con un bucle for\n",
        "for rate in accept_rates:\n",
        "    # Umbral para la tasa de aceptación\n",
        "    thresh = np.quantile(test_pred_df['prob_default'], rate).round(3)\n",
        "    # Agregación del valor del umbral a la lista de umbrales\n",
        "    thresholds.append(np.quantile(test_pred_df['prob_default'], rate).round(3))\n",
        "    # Reasignación del valor del estado del préstamo usando el umbral\n",
        "    test_pred_df['pred_loan_status'] = \\\n",
        "        test_pred_df['prob_default'].apply(lambda x: 1 if x > thresh else 0)\n",
        "    # Conjunto de préstamos aceptados usando esta tasa de aceptación\n",
        "    accepted_loans = test_pred_df[test_pred_df['pred_loan_status'] == 0]\n",
        "    # Calculo y asignación de la tasa baja usando la tasa de aceptación\n",
        "    bad_rates.append(np.sum((accepted_loans['true_loan_status'])\n",
        "             / accepted_loans['true_loan_status'].count()).round(3))\n",
        "    # Numero de prestamos aceptados\n",
        "    num_accepted_loans.append(len(test_pred_df[test_pred_df['prob_default']<np.quantile(test_pred_df['prob_default'], rate).round(3)]))"
      ],
      "metadata": {
        "id": "kX7AYi5nNk53"
      },
      "execution_count": null,
      "outputs": []
    },
    {
      "cell_type": "code",
      "source": [
        "# Marco de datos de la tabla de estrategia comercial\n",
        "strat_df = pd.DataFrame(zip(accept_rates, thresholds, bad_rates), columns = ['Acceptance Rate','Threshold','Bad Rate'])\n",
        "strat_df"
      ],
      "metadata": {
        "id": "IsS6y0aRNk3E"
      },
      "execution_count": null,
      "outputs": []
    },
    {
      "cell_type": "code",
      "source": [
        "# Gráfico de la curva de aceptacion y tasa de malos\n",
        "plt.plot(strat_df['Acceptance Rate'], strat_df['Bad Rate'])\n",
        "plt.xlabel('Acceptance Rate')\n",
        "plt.ylabel('Bad Rate')\n",
        "plt.title('Acceptance and Bad Rates')\n",
        "plt.show()"
      ],
      "metadata": {
        "id": "2N0iLyYBNkz_"
      },
      "execution_count": null,
      "outputs": []
    },
    {
      "cell_type": "code",
      "source": [],
      "metadata": {
        "id": "vHw3gRM1fLrH"
      },
      "execution_count": null,
      "outputs": []
    },
    {
      "cell_type": "code",
      "source": [],
      "metadata": {
        "id": "VKY6mjZgfLny"
      },
      "execution_count": null,
      "outputs": []
    }
  ],
  "metadata": {
    "colab": {
      "gpuType": "T4",
      "provenance": [],
      "include_colab_link": true
    },
    "kernelspec": {
      "display_name": "Python 3",
      "name": "python3"
    },
    "language_info": {
      "name": "python"
    }
  },
  "nbformat": 4,
  "nbformat_minor": 0
}